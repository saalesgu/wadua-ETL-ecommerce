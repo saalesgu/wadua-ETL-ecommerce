{
 "cells": [
  {
   "cell_type": "markdown",
   "id": "37f1c35e",
   "metadata": {},
   "source": [
    "# ETL para datos de gestión de pedidos en e-commerce\n",
    "\n",
    "Presentado por: Samuel Escalante\n",
    "\n",
    "---"
   ]
  },
  {
   "cell_type": "code",
   "execution_count": 1,
   "id": "b43711be",
   "metadata": {},
   "outputs": [],
   "source": [
    "import pandas as pd\n",
    "import os\n",
    "import uuid"
   ]
  },
  {
   "cell_type": "code",
   "execution_count": 2,
   "id": "f6db3384",
   "metadata": {},
   "outputs": [],
   "source": [
    "def summary(df: pd.DataFrame, name=\"DataFrame\"):\n",
    "    df_summary = pd.DataFrame({\n",
    "        'dtypes': df.dtypes,\n",
    "        'null count': df.isnull().sum(),\n",
    "        'unique values': df.nunique(),\n",
    "        'duplicate count': df.apply(lambda col: col.duplicated().sum()),\n",
    "    })\n",
    "    print(f\"\\n=== Summary for {name} ===\")\n",
    "    print(df_summary)"
   ]
  },
  {
   "cell_type": "code",
   "execution_count": null,
   "id": "7c043754",
   "metadata": {},
   "outputs": [
    {
     "name": "stdout",
     "output_type": "stream",
     "text": [
      "\n",
      "=== Summary for Fecom Inc Customer List.csv ===\n",
      "                       dtypes  null count  unique values  duplicate count\n",
      "Customer_Trx_ID        object        3286          99441             3285\n",
      "Subscriber_ID          object           0          99382             3345\n",
      "Subscribe_Date         object           0           1349           101378\n",
      "First_Order_Date       object        3286            624           102102\n",
      "Customer_Postal_Code   object           0           1288           101439\n",
      "Customer_City          object           0            265           102462\n",
      "Customer_Country       object           0             27           102700\n",
      "Customer_Country_Code  object           0             27           102700\n",
      "Age                     int64           0             57           102670\n",
      "Gender                 object           0              2           102725\n"
     ]
    },
    {
     "name": "stderr",
     "output_type": "stream",
     "text": [
      "C:\\Users\\saale\\AppData\\Local\\Temp\\ipykernel_15624\\685232099.py:9: DtypeWarning: Columns (0,1,2,3,4) have mixed types. Specify dtype option on import or set low_memory=False.\n",
      "  df = pd.read_csv(file_path, sep=';')\n"
     ]
    },
    {
     "name": "stdout",
     "output_type": "stream",
     "text": [
      "\n",
      "=== Summary for Fecom Inc Geolocations.csv ===\n",
      "                  dtypes  null count  unique values  duplicate count\n",
      "Geo_Postal_Code   object      998478           1669           998493\n",
      "Geo_Lat           object      998478            333           999829\n",
      "Geo_Lon           object      998478            335           999827\n",
      "Geolocation_City  object      998478            337           999825\n",
      "Geo_Country       object      998478             27          1000135\n",
      "\n",
      "=== Summary for Fecom Inc Order Items.csv ===\n",
      "                      dtypes  null count  unique values  duplicate count\n",
      "Order_ID              object           0          98666            13984\n",
      "Order_Item_ID          int64           0             21           112629\n",
      "Product_ID            object           0          32951            79699\n",
      "Seller_ID             object           0           3095           109555\n",
      "Shipping_Limit_Date   object           0          54615            58035\n",
      "Price                float64           0           5968           106682\n",
      "Freight_Value        float64           0           6999           105651\n",
      "\n",
      "=== Summary for Fecom Inc Order Payments.csv ===\n",
      "                       dtypes  null count  unique values  duplicate count\n",
      "Order_ID               object           0          99440             4446\n",
      "Payment_Sequential      int64           0             29           103857\n",
      "Payment_Type           object           0              5           103881\n",
      "Payment_Installments    int64           0             23           103863\n",
      "Payment_Value         float64           0          29077            74809\n",
      "\n",
      "=== Summary for Fecom Inc Orders.csv ===\n",
      "                               dtypes  null count  unique values  \\\n",
      "Order_ID                       object           0          99441   \n",
      "Customer_Trx_ID                object           0          99441   \n",
      "Order_Status                   object           0              8   \n",
      "Order_Purchase_Timestamp       object           0          88789   \n",
      "Order_Approved_At              object         160          50462   \n",
      "Order_Delivered_Carrier_Date   object        1783          61544   \n",
      "Order_Delivered_Customer_Date  object        2965          75649   \n",
      "Order_Estimated_Delivery_Date  object           0            459   \n",
      "\n",
      "                               duplicate count  \n",
      "Order_ID                                     0  \n",
      "Customer_Trx_ID                              0  \n",
      "Order_Status                             99433  \n",
      "Order_Purchase_Timestamp                 10652  \n",
      "Order_Approved_At                        48978  \n",
      "Order_Delivered_Carrier_Date             37896  \n",
      "Order_Delivered_Customer_Date            23791  \n",
      "Order_Estimated_Delivery_Date            98982  \n",
      "\n",
      "=== Summary for Fecom Inc Products.csv ===\n",
      "                        dtypes  null count  unique values  duplicate count\n",
      "Product_ID              object           0          32951                0\n",
      "Product_Category_Name   object         623             71            32879\n",
      "Product_Weight_Gr      float64           2           2204            30746\n",
      "Product_Length_Cm      float64           2             99            32851\n",
      "Product_Height_Cm      float64           2            102            32848\n",
      "Product_Width_Cm       float64           2             95            32855\n",
      "\n",
      "=== Summary for Fecom Inc Sellers List.csv ===\n",
      "                    dtypes  null count  unique values  duplicate count\n",
      "Seller_ID           object           0           3095                0\n",
      "Seller_Name         object           0           2470              625\n",
      "Seller_Postal_Code  object           0            682             2413\n",
      "Seller_City         object           0            211             2884\n",
      "Country_Code        object           0             23             3072\n",
      "Seller_Country      object           0             23             3072\n",
      "\n",
      "=== Summary for Fecom_Inc_Order_Reviews_No_Emojis.csv ===\n",
      "                           dtypes  null count  unique values  duplicate count\n",
      "Review_ID                  object           0          98409              814\n",
      "Order_ID                   object           0          98672              551\n",
      "Review_Score                int64           0              5            99218\n",
      "Review_Comment_Title_En    object       87682           3913            95309\n",
      "Review_Comment_Message_En  object       58347          34979            64243\n",
      "Review_Creation_Date       object           0            637            98586\n",
      "Review_Answer_Timestamp    object           0          88866            10357\n"
     ]
    }
   ],
   "source": [
    "folder_path = \"../data\"\n",
    "\n",
    "for filename in os.listdir(folder_path):\n",
    "    if filename.endswith(\".csv\"):\n",
    "        file_path = os.path.join(folder_path, filename)\n",
    "        try:\n",
    "            df = pd.read_csv(file_path, sep=';')\n",
    "            summary(df, name=filename)\n",
    "        except Exception as e:\n",
    "            print(f\"Error leyendo {filename}: {e}\")"
   ]
  },
  {
   "cell_type": "markdown",
   "id": "78d3b14a",
   "metadata": {},
   "source": [
    "---\n",
    "\n",
    "# EDA\n",
    "\n",
    "### Customers"
   ]
  },
  {
   "cell_type": "code",
   "execution_count": 4,
   "id": "2b81ed04",
   "metadata": {},
   "outputs": [
    {
     "name": "stdout",
     "output_type": "stream",
     "text": [
      "Shape of customer DataFrame: \n",
      " - columnas:10 \n",
      " - filas:102727\n"
     ]
    },
    {
     "data": {
      "application/vnd.microsoft.datawrangler.viewer.v0+json": {
       "columns": [
        {
         "name": "index",
         "rawType": "int64",
         "type": "integer"
        },
        {
         "name": "Customer_Trx_ID",
         "rawType": "object",
         "type": "string"
        },
        {
         "name": "Subscriber_ID",
         "rawType": "object",
         "type": "string"
        },
        {
         "name": "Subscribe_Date",
         "rawType": "object",
         "type": "string"
        },
        {
         "name": "First_Order_Date",
         "rawType": "object",
         "type": "string"
        },
        {
         "name": "Customer_Postal_Code",
         "rawType": "object",
         "type": "string"
        },
        {
         "name": "Customer_City",
         "rawType": "object",
         "type": "string"
        },
        {
         "name": "Customer_Country",
         "rawType": "object",
         "type": "string"
        },
        {
         "name": "Customer_Country_Code",
         "rawType": "object",
         "type": "string"
        },
        {
         "name": "Age",
         "rawType": "int64",
         "type": "integer"
        },
        {
         "name": "Gender",
         "rawType": "object",
         "type": "string"
        }
       ],
       "ref": "d447afbd-2601-46b7-9dc8-63f914d76bcb",
       "rows": [
        [
         "0",
         "1e959e1f5920cba43823fa9f95673b83",
         "9765e039028279fd2e60bb620a451526",
         "2023-07-08",
         "2023-07-09",
         "FR-75005",
         "Paris",
         "France",
         "FR",
         "29",
         "Male"
        ],
        [
         "1",
         "9877437582f263da7d7e30a90c57b8bb",
         "a75e134e7eb6f96e2b0c716ac2a82efb",
         "2024-03-23",
         "2024-04-11",
         "PL-00-001",
         "Warsaw",
         "Poland",
         "PL",
         "38",
         "Male"
        ],
        [
         "2",
         "fa6fbbb2080646acae977bf2e44af98b",
         "2fdac27295500e820e43910e9a0aa8d8",
         "2023-05-12",
         "2023-06-01",
         "NL-1012",
         "Amsterdam",
         "Netherlands",
         "NL",
         "35",
         "Female"
        ],
        [
         "3",
         "a4c9ff14ae7620126461ca55f36a76ea",
         "e9ab8fd8ea96c85be2714c7f573fb7cd",
         "2023-04-16",
         "2023-04-26",
         "IT-00144",
         "Rome",
         "Italy",
         "IT",
         "62",
         "Male"
        ],
        [
         "4",
         "93d5e378ae2f72a07db704f1f6716a7e",
         "6384e6a7b021717616f25625b4bb0bf9",
         "2023-05-26",
         "2023-06-27",
         "NL-1011",
         "Amsterdam",
         "Netherlands",
         "NL",
         "19",
         "Male"
        ]
       ],
       "shape": {
        "columns": 10,
        "rows": 5
       }
      },
      "text/html": [
       "<div>\n",
       "<style scoped>\n",
       "    .dataframe tbody tr th:only-of-type {\n",
       "        vertical-align: middle;\n",
       "    }\n",
       "\n",
       "    .dataframe tbody tr th {\n",
       "        vertical-align: top;\n",
       "    }\n",
       "\n",
       "    .dataframe thead th {\n",
       "        text-align: right;\n",
       "    }\n",
       "</style>\n",
       "<table border=\"1\" class=\"dataframe\">\n",
       "  <thead>\n",
       "    <tr style=\"text-align: right;\">\n",
       "      <th></th>\n",
       "      <th>Customer_Trx_ID</th>\n",
       "      <th>Subscriber_ID</th>\n",
       "      <th>Subscribe_Date</th>\n",
       "      <th>First_Order_Date</th>\n",
       "      <th>Customer_Postal_Code</th>\n",
       "      <th>Customer_City</th>\n",
       "      <th>Customer_Country</th>\n",
       "      <th>Customer_Country_Code</th>\n",
       "      <th>Age</th>\n",
       "      <th>Gender</th>\n",
       "    </tr>\n",
       "  </thead>\n",
       "  <tbody>\n",
       "    <tr>\n",
       "      <th>0</th>\n",
       "      <td>1e959e1f5920cba43823fa9f95673b83</td>\n",
       "      <td>9765e039028279fd2e60bb620a451526</td>\n",
       "      <td>2023-07-08</td>\n",
       "      <td>2023-07-09</td>\n",
       "      <td>FR-75005</td>\n",
       "      <td>Paris</td>\n",
       "      <td>France</td>\n",
       "      <td>FR</td>\n",
       "      <td>29</td>\n",
       "      <td>Male</td>\n",
       "    </tr>\n",
       "    <tr>\n",
       "      <th>1</th>\n",
       "      <td>9877437582f263da7d7e30a90c57b8bb</td>\n",
       "      <td>a75e134e7eb6f96e2b0c716ac2a82efb</td>\n",
       "      <td>2024-03-23</td>\n",
       "      <td>2024-04-11</td>\n",
       "      <td>PL-00-001</td>\n",
       "      <td>Warsaw</td>\n",
       "      <td>Poland</td>\n",
       "      <td>PL</td>\n",
       "      <td>38</td>\n",
       "      <td>Male</td>\n",
       "    </tr>\n",
       "    <tr>\n",
       "      <th>2</th>\n",
       "      <td>fa6fbbb2080646acae977bf2e44af98b</td>\n",
       "      <td>2fdac27295500e820e43910e9a0aa8d8</td>\n",
       "      <td>2023-05-12</td>\n",
       "      <td>2023-06-01</td>\n",
       "      <td>NL-1012</td>\n",
       "      <td>Amsterdam</td>\n",
       "      <td>Netherlands</td>\n",
       "      <td>NL</td>\n",
       "      <td>35</td>\n",
       "      <td>Female</td>\n",
       "    </tr>\n",
       "    <tr>\n",
       "      <th>3</th>\n",
       "      <td>a4c9ff14ae7620126461ca55f36a76ea</td>\n",
       "      <td>e9ab8fd8ea96c85be2714c7f573fb7cd</td>\n",
       "      <td>2023-04-16</td>\n",
       "      <td>2023-04-26</td>\n",
       "      <td>IT-00144</td>\n",
       "      <td>Rome</td>\n",
       "      <td>Italy</td>\n",
       "      <td>IT</td>\n",
       "      <td>62</td>\n",
       "      <td>Male</td>\n",
       "    </tr>\n",
       "    <tr>\n",
       "      <th>4</th>\n",
       "      <td>93d5e378ae2f72a07db704f1f6716a7e</td>\n",
       "      <td>6384e6a7b021717616f25625b4bb0bf9</td>\n",
       "      <td>2023-05-26</td>\n",
       "      <td>2023-06-27</td>\n",
       "      <td>NL-1011</td>\n",
       "      <td>Amsterdam</td>\n",
       "      <td>Netherlands</td>\n",
       "      <td>NL</td>\n",
       "      <td>19</td>\n",
       "      <td>Male</td>\n",
       "    </tr>\n",
       "  </tbody>\n",
       "</table>\n",
       "</div>"
      ],
      "text/plain": [
       "                    Customer_Trx_ID                     Subscriber_ID  \\\n",
       "0  1e959e1f5920cba43823fa9f95673b83  9765e039028279fd2e60bb620a451526   \n",
       "1  9877437582f263da7d7e30a90c57b8bb  a75e134e7eb6f96e2b0c716ac2a82efb   \n",
       "2  fa6fbbb2080646acae977bf2e44af98b  2fdac27295500e820e43910e9a0aa8d8   \n",
       "3  a4c9ff14ae7620126461ca55f36a76ea  e9ab8fd8ea96c85be2714c7f573fb7cd   \n",
       "4  93d5e378ae2f72a07db704f1f6716a7e  6384e6a7b021717616f25625b4bb0bf9   \n",
       "\n",
       "  Subscribe_Date First_Order_Date Customer_Postal_Code Customer_City  \\\n",
       "0     2023-07-08       2023-07-09             FR-75005         Paris   \n",
       "1     2024-03-23       2024-04-11            PL-00-001        Warsaw   \n",
       "2     2023-05-12       2023-06-01              NL-1012     Amsterdam   \n",
       "3     2023-04-16       2023-04-26             IT-00144          Rome   \n",
       "4     2023-05-26       2023-06-27              NL-1011     Amsterdam   \n",
       "\n",
       "  Customer_Country Customer_Country_Code  Age  Gender  \n",
       "0           France                    FR   29    Male  \n",
       "1           Poland                    PL   38    Male  \n",
       "2      Netherlands                    NL   35  Female  \n",
       "3            Italy                    IT   62    Male  \n",
       "4      Netherlands                    NL   19    Male  "
      ]
     },
     "execution_count": 4,
     "metadata": {},
     "output_type": "execute_result"
    }
   ],
   "source": [
    "customer = pd.read_csv(\"../data/Fecom Inc Customer List.csv\", sep=';')\n",
    "print(f\"Shape of customer DataFrame: \\n - columnas:{customer.shape[1]} \\n - filas:{customer.shape[0]}\")\n",
    "customer.head(5)"
   ]
  },
  {
   "cell_type": "code",
   "execution_count": 5,
   "id": "99d5e6b6",
   "metadata": {},
   "outputs": [
    {
     "data": {
      "application/vnd.microsoft.datawrangler.viewer.v0+json": {
       "columns": [
        {
         "name": "index",
         "rawType": "object",
         "type": "string"
        },
        {
         "name": "0",
         "rawType": "int64",
         "type": "integer"
        }
       ],
       "ref": "eb96d25a-c28f-43d4-9eb9-ed727ff62960",
       "rows": [
        [
         "Customer_Trx_ID",
         "3286"
        ],
        [
         "Subscriber_ID",
         "0"
        ],
        [
         "Subscribe_Date",
         "0"
        ],
        [
         "First_Order_Date",
         "3286"
        ],
        [
         "Customer_Postal_Code",
         "0"
        ],
        [
         "Customer_City",
         "0"
        ],
        [
         "Customer_Country",
         "0"
        ],
        [
         "Customer_Country_Code",
         "0"
        ],
        [
         "Age",
         "0"
        ],
        [
         "Gender",
         "0"
        ]
       ],
       "shape": {
        "columns": 1,
        "rows": 10
       }
      },
      "text/plain": [
       "Customer_Trx_ID          3286\n",
       "Subscriber_ID               0\n",
       "Subscribe_Date              0\n",
       "First_Order_Date         3286\n",
       "Customer_Postal_Code        0\n",
       "Customer_City               0\n",
       "Customer_Country            0\n",
       "Customer_Country_Code       0\n",
       "Age                         0\n",
       "Gender                      0\n",
       "dtype: int64"
      ]
     },
     "execution_count": 5,
     "metadata": {},
     "output_type": "execute_result"
    }
   ],
   "source": [
    "customer.isnull().sum()"
   ]
  },
  {
   "cell_type": "code",
   "execution_count": 6,
   "id": "3067593f",
   "metadata": {},
   "outputs": [
    {
     "name": "stdout",
     "output_type": "stream",
     "text": [
      "Customer IDs with null values:        Customer_Trx_ID                     Subscriber_ID Subscribe_Date  \\\n",
      "99441              NaN  0e0c08e088ec486e8784aefba35e17bc     2022-11-13   \n",
      "99442              NaN  3ef786f65f114a27880ecdde737c638f     2023-06-12   \n",
      "99443              NaN  2999799cc1a846b08098320f5aa3d8ad     2023-02-01   \n",
      "99444              NaN  ed86c09317f34e209d497d04e3f84504     2024-08-22   \n",
      "99445              NaN  a76544aba7844c7db3b1ab9bdcd7954e     2023-10-22   \n",
      "...                ...                               ...            ...   \n",
      "102722             NaN  fb53848e076b4863a0e3ce0750bde66e     2024-09-14   \n",
      "102723             NaN  40ed38022bce40ad9f79dd1b53a2499b     2023-03-27   \n",
      "102724             NaN  ef33bf0a9b1742a3a0944fb603e81c06     2024-09-17   \n",
      "102725             NaN  abb296dcaa8f4961a6ea6681eff35e2c     2024-09-02   \n",
      "102726             NaN  c2c686d021ed446cb0bb13552b85052f     2023-11-17   \n",
      "\n",
      "       First_Order_Date Customer_Postal_Code Customer_City Customer_Country  \\\n",
      "99441               NaN             DE-10178        Berlin          Germany   \n",
      "99442               NaN              NL-3012     Rotterdam      Netherlands   \n",
      "99443               NaN             DE-30159       Hanover          Germany   \n",
      "99444               NaN             RS-11030      Belgrade           Serbia   \n",
      "99445               NaN             FR-75002         Paris           France   \n",
      "...                 ...                  ...           ...              ...   \n",
      "102722              NaN                GB-W1        London   United Kingdom   \n",
      "102723              NaN             DE-10115        Berlin          Germany   \n",
      "102724              NaN             IT-20125         Milan            Italy   \n",
      "102725              NaN                GB-S2     Sheffield   United Kingdom   \n",
      "102726              NaN             FR-31200      Toulouse           France   \n",
      "\n",
      "       Customer_Country_Code  Age  Gender  \n",
      "99441                     DE   34    Male  \n",
      "99442                     NL   34  Female  \n",
      "99443                     DE   70  Female  \n",
      "99444                     RS   39  Female  \n",
      "99445                     FR   26  Female  \n",
      "...                      ...  ...     ...  \n",
      "102722                    GB   34    Male  \n",
      "102723                    DE   34  Female  \n",
      "102724                    IT   42  Female  \n",
      "102725                    GB   27  Female  \n",
      "102726                    FR   52  Female  \n",
      "\n",
      "[3286 rows x 10 columns]\n"
     ]
    }
   ],
   "source": [
    "customer_id_null = customer[customer['Customer_Trx_ID'].isnull()]\n",
    "print(f\"Customer IDs with null values: {customer_id_null}\")"
   ]
  },
  {
   "cell_type": "code",
   "execution_count": 7,
   "id": "13b5e9d5",
   "metadata": {},
   "outputs": [],
   "source": [
    "# Conjunto de IDs ya usados (para no repetir)\n",
    "existing_ids = set(customer['Customer_Trx_ID'].dropna())\n",
    "\n",
    "# Función para generar un ID único\n",
    "def generate_unique_id(existing_ids):\n",
    "    while True:\n",
    "        new_id = uuid.uuid4().hex  # genera un id hexadecimal único\n",
    "        if new_id not in existing_ids:\n",
    "            existing_ids.add(new_id)\n",
    "            return new_id\n",
    "\n",
    "# Reemplazar NaN con nuevos IDs\n",
    "customer['Customer_Trx_ID'] = customer['Customer_Trx_ID'].apply(\n",
    "    lambda x: generate_unique_id(existing_ids) if pd.isna(x) or x.lower() == 'nan' else x\n",
    ")"
   ]
  },
  {
   "cell_type": "code",
   "execution_count": 70,
   "id": "57086192",
   "metadata": {},
   "outputs": [
    {
     "data": {
      "application/vnd.microsoft.datawrangler.viewer.v0+json": {
       "columns": [
        {
         "name": "index",
         "rawType": "int64",
         "type": "integer"
        },
        {
         "name": "Customer_Trx_ID",
         "rawType": "object",
         "type": "string"
        },
        {
         "name": "Subscriber_ID",
         "rawType": "object",
         "type": "string"
        },
        {
         "name": "Subscribe_Date",
         "rawType": "object",
         "type": "string"
        },
        {
         "name": "First_Order_Date",
         "rawType": "object",
         "type": "string"
        },
        {
         "name": "Customer_Postal_Code",
         "rawType": "object",
         "type": "string"
        },
        {
         "name": "Customer_City",
         "rawType": "object",
         "type": "string"
        },
        {
         "name": "Customer_Country",
         "rawType": "object",
         "type": "string"
        },
        {
         "name": "Customer_Country_Code",
         "rawType": "object",
         "type": "string"
        },
        {
         "name": "Age",
         "rawType": "int64",
         "type": "integer"
        },
        {
         "name": "Gender",
         "rawType": "object",
         "type": "string"
        }
       ],
       "ref": "19d3fe85-44a0-4328-af47-a66eee55b0fb",
       "rows": [],
       "shape": {
        "columns": 10,
        "rows": 0
       }
      },
      "text/html": [
       "<div>\n",
       "<style scoped>\n",
       "    .dataframe tbody tr th:only-of-type {\n",
       "        vertical-align: middle;\n",
       "    }\n",
       "\n",
       "    .dataframe tbody tr th {\n",
       "        vertical-align: top;\n",
       "    }\n",
       "\n",
       "    .dataframe thead th {\n",
       "        text-align: right;\n",
       "    }\n",
       "</style>\n",
       "<table border=\"1\" class=\"dataframe\">\n",
       "  <thead>\n",
       "    <tr style=\"text-align: right;\">\n",
       "      <th></th>\n",
       "      <th>Customer_Trx_ID</th>\n",
       "      <th>Subscriber_ID</th>\n",
       "      <th>Subscribe_Date</th>\n",
       "      <th>First_Order_Date</th>\n",
       "      <th>Customer_Postal_Code</th>\n",
       "      <th>Customer_City</th>\n",
       "      <th>Customer_Country</th>\n",
       "      <th>Customer_Country_Code</th>\n",
       "      <th>Age</th>\n",
       "      <th>Gender</th>\n",
       "    </tr>\n",
       "  </thead>\n",
       "  <tbody>\n",
       "  </tbody>\n",
       "</table>\n",
       "</div>"
      ],
      "text/plain": [
       "Empty DataFrame\n",
       "Columns: [Customer_Trx_ID, Subscriber_ID, Subscribe_Date, First_Order_Date, Customer_Postal_Code, Customer_City, Customer_Country, Customer_Country_Code, Age, Gender]\n",
       "Index: []"
      ]
     },
     "execution_count": 70,
     "metadata": {},
     "output_type": "execute_result"
    }
   ],
   "source": [
    "customer[customer['Customer_Trx_ID'] == '9ef432eb6251297304e76186b10a928d']"
   ]
  },
  {
   "cell_type": "code",
   "execution_count": 8,
   "id": "15ba93f9",
   "metadata": {},
   "outputs": [
    {
     "data": {
      "application/vnd.microsoft.datawrangler.viewer.v0+json": {
       "columns": [
        {
         "name": "index",
         "rawType": "object",
         "type": "string"
        },
        {
         "name": "0",
         "rawType": "int64",
         "type": "integer"
        }
       ],
       "ref": "368b726e-904b-497d-8095-855ce14d02f9",
       "rows": [
        [
         "Customer_Trx_ID",
         "0"
        ],
        [
         "Subscriber_ID",
         "0"
        ],
        [
         "Subscribe_Date",
         "0"
        ],
        [
         "First_Order_Date",
         "3286"
        ],
        [
         "Customer_Postal_Code",
         "0"
        ],
        [
         "Customer_City",
         "0"
        ],
        [
         "Customer_Country",
         "0"
        ],
        [
         "Customer_Country_Code",
         "0"
        ],
        [
         "Age",
         "0"
        ],
        [
         "Gender",
         "0"
        ]
       ],
       "shape": {
        "columns": 1,
        "rows": 10
       }
      },
      "text/plain": [
       "Customer_Trx_ID             0\n",
       "Subscriber_ID               0\n",
       "Subscribe_Date              0\n",
       "First_Order_Date         3286\n",
       "Customer_Postal_Code        0\n",
       "Customer_City               0\n",
       "Customer_Country            0\n",
       "Customer_Country_Code       0\n",
       "Age                         0\n",
       "Gender                      0\n",
       "dtype: int64"
      ]
     },
     "execution_count": 8,
     "metadata": {},
     "output_type": "execute_result"
    }
   ],
   "source": [
    "customer.isnull().sum()\n"
   ]
  },
  {
   "cell_type": "code",
   "execution_count": 9,
   "id": "b6523169",
   "metadata": {},
   "outputs": [
    {
     "data": {
      "application/vnd.microsoft.datawrangler.viewer.v0+json": {
       "columns": [
        {
         "name": "index",
         "rawType": "int64",
         "type": "integer"
        },
        {
         "name": "Customer_Trx_ID",
         "rawType": "object",
         "type": "string"
        },
        {
         "name": "Subscriber_ID",
         "rawType": "object",
         "type": "string"
        },
        {
         "name": "Subscribe_Date",
         "rawType": "object",
         "type": "string"
        },
        {
         "name": "First_Order_Date",
         "rawType": "object",
         "type": "string"
        },
        {
         "name": "Customer_Postal_Code",
         "rawType": "object",
         "type": "string"
        },
        {
         "name": "Customer_City",
         "rawType": "object",
         "type": "string"
        },
        {
         "name": "Customer_Country",
         "rawType": "object",
         "type": "string"
        },
        {
         "name": "Customer_Country_Code",
         "rawType": "object",
         "type": "string"
        },
        {
         "name": "Age",
         "rawType": "int64",
         "type": "integer"
        },
        {
         "name": "Gender",
         "rawType": "object",
         "type": "string"
        }
       ],
       "ref": "2abbd5aa-fce7-4494-b578-5e67ba8433dc",
       "rows": [
        [
         "13",
         "dc11c734af06298550995bb5ff673dce",
         "a7f45c1961dbd98e7a14f3d38ea11c06",
         "2024-05-20",
         "2024-07-18",
         "DE-50674",
         "Cologne",
         "Germany",
         "DE",
         "35",
         "Female"
        ],
        [
         "19",
         "02625456293ab29f0b11a84835a8c0ab",
         "570eb70ff97166b85ea96be3bfb65fef",
         "2023-10-10",
         "2023-10-24",
         "NL-1015",
         "Amsterdam",
         "Netherlands",
         "NL",
         "50",
         "Male"
        ],
        [
         "28",
         "6a6c433159ff775ba7f5ff8ec38b5b6f",
         "b0bc6de4a99007470bbdbbf5cc502ea9",
         "2022-11-09",
         "2023-01-14",
         "DE-10117",
         "Berlin",
         "Germany",
         "DE",
         "53",
         "Male"
        ],
        [
         "40",
         "0e24c20739fc582fda3306fc43683aa1",
         "8cfc5350efe3bce6a0d6f96fbaf2c3b4",
         "2021-10-03",
         "2023-05-14",
         "NL-2514",
         "The Hague (Den Haag)",
         "Netherlands",
         "NL",
         "20",
         "Female"
        ],
        [
         "59",
         "4280fa78d7c43abc5e98a8a3b44d9350",
         "4cfa5155cf7cff8eb15e0b12041d058e",
         "2023-07-22",
         "2023-08-04",
         "DE-80331",
         "Munich",
         "Germany",
         "DE",
         "55",
         "Female"
        ],
        [
         "66",
         "f60c95ed2b10ddd5ce8c6a25240edda9",
         "d451891847b64bb4cf9a40e9cfe1c7a2",
         "2022-10-04",
         "2023-02-05",
         "AT-1050",
         "Vienna",
         "Austria",
         "AT",
         "42",
         "Female"
        ],
        [
         "110",
         "c3fca3a8fb26d630358f6efa310f5cd0",
         "ee9d97a7d28183a3d93aefb807e48524",
         "2023-08-01",
         "2023-08-14",
         "DE-4129",
         "Leipzig",
         "Germany",
         "DE",
         "52",
         "Male"
        ],
        [
         "154",
         "ffb352544f1296ee263ecd1b69726e43",
         "8bab3162259edfaadd1ea2e1fe7f58dc",
         "2023-10-13",
         "2023-10-29",
         "NL-1015",
         "Amsterdam",
         "Netherlands",
         "NL",
         "35",
         "Female"
        ],
        [
         "170",
         "a91184a3664b61bc9731ae1c76a4f2f6",
         "2b775b75afa0be08220fb73a7e68df3b",
         "2023-06-08",
         "2023-06-23",
         "CZ-10100",
         "Prague",
         "Czechia",
         "CZ",
         "27",
         "Female"
        ],
        [
         "184",
         "e9e5ffc30dcb7794bf60f1bd35d999b7",
         "c297bb9230dc3152522d0c2b4caa7a1a",
         "2023-05-10",
         "2023-12-04",
         "DE-30165",
         "Hanover",
         "Germany",
         "DE",
         "29",
         "Male"
        ],
        [
         "188",
         "4d545e854893ff8e7bed40e22bd55ab0",
         "28c7e3fb75d7ce1e496dc539443b71da",
         "2023-07-21",
         "2023-07-28",
         "FR-13003",
         "Marseille",
         "France",
         "FR",
         "32",
         "Male"
        ],
        [
         "218",
         "f7b249c9618f84a66a70a8c127d06105",
         "954456f376f79dfa36460750500f7dc6",
         "2023-04-04",
         "2023-05-01",
         "CH-8005",
         "Zurich",
         "Switzerland",
         "CH",
         "28",
         "Male"
        ],
        [
         "219",
         "4b0dbdea9ec36d6a05622ae783368715",
         "9475b70c3d9add279a65672fca348944",
         "2023-08-31",
         "2023-10-05",
         "DE-10178",
         "Berlin",
         "Germany",
         "DE",
         "50",
         "Female"
        ],
        [
         "221",
         "e7936bc511477310739929f93589b2f7",
         "e374f0ed9ec35b9af339460a75c4d096",
         "2023-04-23",
         "2023-04-27",
         "IT-80123",
         "Naples",
         "Italy",
         "IT",
         "35",
         "Male"
        ],
        [
         "242",
         "98af4dc8bbae5bd1e334d1188985a12a",
         "efd22f5f8fc7e5035a4f48bd92c0c69c",
         "2021-03-03",
         "2023-03-25",
         "NL-5611",
         "Eindhoven",
         "Netherlands",
         "NL",
         "57",
         "Male"
        ],
        [
         "246",
         "a2bedbeca6072d658c7a3a0fd0c5b845",
         "681405a99faf3ac8afc2dc018a3f67bb",
         "2024-02-24",
         "2024-03-01",
         "NL-2513",
         "The Hague (Den Haag)",
         "Netherlands",
         "NL",
         "58",
         "Male"
        ],
        [
         "247",
         "a70cdc7161618ecbfff0bc3de4e09f0b",
         "12ab9334b1240d6d037f2b0102a49571",
         "2023-11-27",
         "2023-12-13",
         "NL-9712",
         "Groningen",
         "Netherlands",
         "NL",
         "69",
         "Female"
        ],
        [
         "267",
         "e91d82bbb0f6fd7e6e30511456357ce1",
         "6bb535b0906b43e0041916897667aeed",
         "2023-04-29",
         "2023-06-08",
         "CH-4005",
         "Basel",
         "Switzerland",
         "CH",
         "39",
         "Female"
        ],
        [
         "273",
         "0b240c246a1a3eceb71f40a707cc23c9",
         "b2bd387fdc3cf05931f0f897d607dc88",
         "2024-02-13",
         "2024-02-27",
         "DE-28197",
         "Bremen",
         "Germany",
         "DE",
         "39",
         "Female"
        ],
        [
         "276",
         "1cf7b72c52c53a47f871764a9b092860",
         "87315ceb47e77d03a1c90474e228db6c",
         "2022-02-10",
         "2023-04-23",
         "SE-40030",
         "Gothenburg",
         "Sweden",
         "SE",
         "62",
         "Male"
        ],
        [
         "292",
         "cb48d9ebf68a3d1e44c8e084b097b196",
         "fd8ccc89be43894d2553494c71a61fd8",
         "2024-02-27",
         "2024-03-11",
         "FR-13002",
         "Marseille",
         "France",
         "FR",
         "22",
         "Male"
        ],
        [
         "301",
         "9d47cabccbbfc9e98cde0402fae92cb3",
         "c0118e2c0a037c31aeca71d0b81f66a1",
         "2021-08-25",
         "2023-08-07",
         "DE-45881",
         "Gelsenkirchen",
         "Germany",
         "DE",
         "26",
         "Male"
        ],
        [
         "310",
         "cf33500c8660f369fe867416807d8a6c",
         "88055311adcee315a7c05930e3849363",
         "2023-08-10",
         "2023-09-04",
         "DE-80339",
         "Munich",
         "Germany",
         "DE",
         "38",
         "Female"
        ],
        [
         "317",
         "79984707b6d7059f01e633f935b6f352",
         "3d740e7cbf7e5b18027f204bd01b0be4",
         "2023-08-10",
         "2023-08-12",
         "FR-49000",
         "Angers",
         "France",
         "FR",
         "22",
         "Male"
        ],
        [
         "324",
         "e621a673a410de599ca8ee99a6910973",
         "80e00a7b9ead7590bf05116f0237c896",
         "2023-07-21",
         "2023-08-14",
         "DE-40210",
         "Düsseldorf",
         "Germany",
         "DE",
         "73",
         "Male"
        ],
        [
         "326",
         "1c62b48fb34ee043310dcb233caabd2e",
         "8d50f5eadf50201ccdcedfb9e2ac8455",
         "2023-05-13",
         "2023-05-15",
         "DE-10115",
         "Berlin",
         "Germany",
         "DE",
         "24",
         "Female"
        ],
        [
         "328",
         "36ae33f8b0c9cd10fbb63163756e7714",
         "432aa6200ee9673be90863a912dc91dc",
         "2023-08-31",
         "2023-09-29",
         "DE-10119",
         "Berlin",
         "Germany",
         "DE",
         "39",
         "Male"
        ],
        [
         "337",
         "12339325d85b18d50a3e1cdb7e422ebc",
         "efb164704e9f4fc3867f6f59f5f6dbd6",
         "2023-01-09",
         "2023-02-23",
         "AT-1030",
         "Vienna",
         "Austria",
         "AT",
         "52",
         "Male"
        ],
        [
         "344",
         "4dd75dedc640410dc4490732a2165c33",
         "56f77ee91e06fb36402afa524deee676",
         "2024-01-11",
         "2024-02-01",
         "BE-9060",
         "Ghent",
         "Belgium",
         "BE",
         "41",
         "Male"
        ],
        [
         "350",
         "44ae1844515695a6e2c642c586a27e10",
         "429de3d8004cbe46652a0e069fc545e3",
         "2024-01-12",
         "2024-01-25",
         "FR-75005",
         "Paris",
         "France",
         "FR",
         "40",
         "Female"
        ],
        [
         "367",
         "9fa56e6eb804eb7f8c2d80a133c84546",
         "f80c7e4cf2fa8ff3532323f19bf603ba",
         "2024-01-09",
         "2024-01-23",
         "DE-10119",
         "Berlin",
         "Germany",
         "DE",
         "59",
         "Male"
        ],
        [
         "391",
         "422b9136bcee509400f7e79feeb2df3c",
         "51378a8908cdc12c6545fdf842383c97",
         "2023-02-13",
         "2023-03-05",
         "DE-10115",
         "Berlin",
         "Germany",
         "DE",
         "31",
         "Female"
        ],
        [
         "425",
         "019b7b400189d67c8b75754edd1919f7",
         "b25a21b56a2d74da49e04cadbc9e0dd8",
         "2023-07-12",
         "2023-07-19",
         "GB-PR4",
         "Preston",
         "United Kingdom",
         "GB",
         "32",
         "Female"
        ],
        [
         "466",
         "312f2600c780ef11495b2747d324451c",
         "45cfc55a4d5073c50be858369454fc0e",
         "2023-06-02",
         "2023-06-28",
         "DE-10178",
         "Berlin",
         "Germany",
         "DE",
         "35",
         "Male"
        ],
        [
         "501",
         "44e8a890084067f1ccc9689987c6d001",
         "5f435bbe57e905e19378fa56b60e9d16",
         "2023-11-14",
         "2023-11-29",
         "FR-69004",
         "Lyon",
         "France",
         "FR",
         "30",
         "Male"
        ],
        [
         "532",
         "bf16ebb1ed47bce228a5b9f57fd4ff82",
         "f121995493925a5ef0b46a13f594e0ab",
         "2023-08-02",
         "2023-08-14",
         "DE-10178",
         "Berlin",
         "Germany",
         "DE",
         "26",
         "Male"
        ],
        [
         "534",
         "b59da7bd516b6a609dfce4cbd3077f5d",
         "911be3f21248d465d1e6d9993bca60a8",
         "2023-08-24",
         "2023-09-18",
         "NL-1012",
         "Amsterdam",
         "Netherlands",
         "NL",
         "30",
         "Female"
        ],
        [
         "539",
         "84cc013dd1790fdafb0fa598695cf3c3",
         "90c205b0bed658a20ba141d2960d6811",
         "2023-03-27",
         "2023-04-24",
         "CH-9001",
         "St. Gallen",
         "Switzerland",
         "CH",
         "24",
         "Female"
        ],
        [
         "545",
         "19885b25f450a981e4c9a3e2df120d41",
         "cd11a0920c498edb1da9ecd2d31aa599",
         "2023-09-27",
         "2023-10-22",
         "DE-10119",
         "Berlin",
         "Germany",
         "DE",
         "19",
         "Female"
        ],
        [
         "572",
         "928194af995122dd13f29b05cedc6a68",
         "b9badb100ff8ecc16a403111209e3a06",
         "2023-04-04",
         "2023-04-10",
         "DE-10179",
         "Berlin",
         "Germany",
         "DE",
         "23",
         "Male"
        ],
        [
         "574",
         "d19c3418d4f7e139dc545de1ff45f41d",
         "acea6bd29b8c1e3c6a8b266a8fb4475e",
         "2022-04-29",
         "2023-08-30",
         "HR-10000",
         "Zagreb",
         "Croatia",
         "HR",
         "32",
         "Male"
        ],
        [
         "586",
         "89a7fcf7fc62e96cd8a92de58f8d035c",
         "3d740e7cbf7e5b18027f204bd01b0be4",
         "2023-08-10",
         "2023-08-12",
         "FR-49300",
         "Angers",
         "France",
         "FR",
         "22",
         "Male"
        ],
        [
         "597",
         "dbd01710a8d1ac22396873369d7ccf40",
         "82c173abf4679049bd8628bfe89a9f2c",
         "2023-08-03",
         "2023-08-11",
         "FR-13004",
         "Marseille",
         "France",
         "FR",
         "63",
         "Male"
        ],
        [
         "598",
         "ec2d96d8dd0823d489423155370a247e",
         "e8663abca66edfe7b18d03a921637578",
         "2024-01-25",
         "2024-01-25",
         "FR-35400",
         "Rennes",
         "France",
         "FR",
         "48",
         "Male"
        ],
        [
         "605",
         "e0e03fe00173d2b18a04139a45acce13",
         "549a24530925587e2faddb35f667e458",
         "2023-06-03",
         "2023-06-18",
         "DE-50668",
         "Cologne",
         "Germany",
         "DE",
         "31",
         "Male"
        ],
        [
         "610",
         "df405fe9da5c36c37d10ca087ef51ecd",
         "186e4b97d2704e8b76235b8d7c5d38ab",
         "2023-04-07",
         "2023-06-15",
         "DE-53115",
         "Bonn",
         "Germany",
         "DE",
         "18",
         "Female"
        ],
        [
         "626",
         "bbda0e5e83ba89d0dedc459cb1181670",
         "7e91ec540af718ab375b1d13271e9543",
         "2023-05-12",
         "2023-05-12",
         "IT-90123",
         "Palermo",
         "Italy",
         "IT",
         "67",
         "Male"
        ],
        [
         "627",
         "3ba092709645951ce8c3607ab0ba6505",
         "f99fa0c7b369bde9c53edc9e6f6c4a58",
         "2023-10-31",
         "2023-11-24",
         "DE-10115",
         "Berlin",
         "Germany",
         "DE",
         "22",
         "Female"
        ],
        [
         "644",
         "e52322c9ddf5421508cb543d91829c85",
         "4f8e0cd35c770318d9e8874c2956345a",
         "2024-02-15",
         "2024-03-06",
         "NL-2134",
         "Hoofddorp",
         "Netherlands",
         "NL",
         "23",
         "Male"
        ],
        [
         "695",
         "594ac4b8f0fcbfbcf382ab0da137d00d",
         "e2492e4188991b6276a4a62a287a5451",
         "2024-01-18",
         "2024-02-01",
         "DE-30165",
         "Hanover",
         "Germany",
         "DE",
         "44",
         "Female"
        ]
       ],
       "shape": {
        "columns": 10,
        "rows": 6342
       }
      },
      "text/html": [
       "<div>\n",
       "<style scoped>\n",
       "    .dataframe tbody tr th:only-of-type {\n",
       "        vertical-align: middle;\n",
       "    }\n",
       "\n",
       "    .dataframe tbody tr th {\n",
       "        vertical-align: top;\n",
       "    }\n",
       "\n",
       "    .dataframe thead th {\n",
       "        text-align: right;\n",
       "    }\n",
       "</style>\n",
       "<table border=\"1\" class=\"dataframe\">\n",
       "  <thead>\n",
       "    <tr style=\"text-align: right;\">\n",
       "      <th></th>\n",
       "      <th>Customer_Trx_ID</th>\n",
       "      <th>Subscriber_ID</th>\n",
       "      <th>Subscribe_Date</th>\n",
       "      <th>First_Order_Date</th>\n",
       "      <th>Customer_Postal_Code</th>\n",
       "      <th>Customer_City</th>\n",
       "      <th>Customer_Country</th>\n",
       "      <th>Customer_Country_Code</th>\n",
       "      <th>Age</th>\n",
       "      <th>Gender</th>\n",
       "    </tr>\n",
       "  </thead>\n",
       "  <tbody>\n",
       "    <tr>\n",
       "      <th>13</th>\n",
       "      <td>dc11c734af06298550995bb5ff673dce</td>\n",
       "      <td>a7f45c1961dbd98e7a14f3d38ea11c06</td>\n",
       "      <td>2024-05-20</td>\n",
       "      <td>2024-07-18</td>\n",
       "      <td>DE-50674</td>\n",
       "      <td>Cologne</td>\n",
       "      <td>Germany</td>\n",
       "      <td>DE</td>\n",
       "      <td>35</td>\n",
       "      <td>Female</td>\n",
       "    </tr>\n",
       "    <tr>\n",
       "      <th>19</th>\n",
       "      <td>02625456293ab29f0b11a84835a8c0ab</td>\n",
       "      <td>570eb70ff97166b85ea96be3bfb65fef</td>\n",
       "      <td>2023-10-10</td>\n",
       "      <td>2023-10-24</td>\n",
       "      <td>NL-1015</td>\n",
       "      <td>Amsterdam</td>\n",
       "      <td>Netherlands</td>\n",
       "      <td>NL</td>\n",
       "      <td>50</td>\n",
       "      <td>Male</td>\n",
       "    </tr>\n",
       "    <tr>\n",
       "      <th>28</th>\n",
       "      <td>6a6c433159ff775ba7f5ff8ec38b5b6f</td>\n",
       "      <td>b0bc6de4a99007470bbdbbf5cc502ea9</td>\n",
       "      <td>2022-11-09</td>\n",
       "      <td>2023-01-14</td>\n",
       "      <td>DE-10117</td>\n",
       "      <td>Berlin</td>\n",
       "      <td>Germany</td>\n",
       "      <td>DE</td>\n",
       "      <td>53</td>\n",
       "      <td>Male</td>\n",
       "    </tr>\n",
       "    <tr>\n",
       "      <th>40</th>\n",
       "      <td>0e24c20739fc582fda3306fc43683aa1</td>\n",
       "      <td>8cfc5350efe3bce6a0d6f96fbaf2c3b4</td>\n",
       "      <td>2021-10-03</td>\n",
       "      <td>2023-05-14</td>\n",
       "      <td>NL-2514</td>\n",
       "      <td>The Hague (Den Haag)</td>\n",
       "      <td>Netherlands</td>\n",
       "      <td>NL</td>\n",
       "      <td>20</td>\n",
       "      <td>Female</td>\n",
       "    </tr>\n",
       "    <tr>\n",
       "      <th>59</th>\n",
       "      <td>4280fa78d7c43abc5e98a8a3b44d9350</td>\n",
       "      <td>4cfa5155cf7cff8eb15e0b12041d058e</td>\n",
       "      <td>2023-07-22</td>\n",
       "      <td>2023-08-04</td>\n",
       "      <td>DE-80331</td>\n",
       "      <td>Munich</td>\n",
       "      <td>Germany</td>\n",
       "      <td>DE</td>\n",
       "      <td>55</td>\n",
       "      <td>Female</td>\n",
       "    </tr>\n",
       "    <tr>\n",
       "      <th>...</th>\n",
       "      <td>...</td>\n",
       "      <td>...</td>\n",
       "      <td>...</td>\n",
       "      <td>...</td>\n",
       "      <td>...</td>\n",
       "      <td>...</td>\n",
       "      <td>...</td>\n",
       "      <td>...</td>\n",
       "      <td>...</td>\n",
       "      <td>...</td>\n",
       "    </tr>\n",
       "    <tr>\n",
       "      <th>99295</th>\n",
       "      <td>38a207eb1095e45ba5d6a3fae5112be2</td>\n",
       "      <td>1af3dcbc89998031651925e3994eab18</td>\n",
       "      <td>2023-05-11</td>\n",
       "      <td>2023-06-25</td>\n",
       "      <td>DE-10117</td>\n",
       "      <td>Berlin</td>\n",
       "      <td>Germany</td>\n",
       "      <td>DE</td>\n",
       "      <td>25</td>\n",
       "      <td>Male</td>\n",
       "    </tr>\n",
       "    <tr>\n",
       "      <th>99305</th>\n",
       "      <td>149ac0fdc3fc6ed91440c95c1a92736b</td>\n",
       "      <td>f1bee02ceae8a430506b798786f766b4</td>\n",
       "      <td>2024-03-25</td>\n",
       "      <td>2024-03-27</td>\n",
       "      <td>PT-1067</td>\n",
       "      <td>Lisbon</td>\n",
       "      <td>Portugal</td>\n",
       "      <td>PT</td>\n",
       "      <td>37</td>\n",
       "      <td>Male</td>\n",
       "    </tr>\n",
       "    <tr>\n",
       "      <th>99351</th>\n",
       "      <td>3059fc651e9f8e3a5701575e62f1ed1e</td>\n",
       "      <td>6f302f15a62c56b3100b67a81bfef328</td>\n",
       "      <td>2023-07-11</td>\n",
       "      <td>2023-07-18</td>\n",
       "      <td>DE-10115</td>\n",
       "      <td>Berlin</td>\n",
       "      <td>Germany</td>\n",
       "      <td>DE</td>\n",
       "      <td>34</td>\n",
       "      <td>Female</td>\n",
       "    </tr>\n",
       "    <tr>\n",
       "      <th>99391</th>\n",
       "      <td>aba4b03424668feae599fff4122142c8</td>\n",
       "      <td>16c8e42089546fde55ed3caa46478e7a</td>\n",
       "      <td>2023-10-23</td>\n",
       "      <td>2023-11-11</td>\n",
       "      <td>SE-40020</td>\n",
       "      <td>Gothenburg</td>\n",
       "      <td>Sweden</td>\n",
       "      <td>SE</td>\n",
       "      <td>48</td>\n",
       "      <td>Male</td>\n",
       "    </tr>\n",
       "    <tr>\n",
       "      <th>99407</th>\n",
       "      <td>9d31491a1bcaf9849aaf5459d56971d6</td>\n",
       "      <td>407a6773db6e845737d04a6e27e653b4</td>\n",
       "      <td>2022-04-11</td>\n",
       "      <td>2023-09-13</td>\n",
       "      <td>DE-80335</td>\n",
       "      <td>Munich</td>\n",
       "      <td>Germany</td>\n",
       "      <td>DE</td>\n",
       "      <td>38</td>\n",
       "      <td>Male</td>\n",
       "    </tr>\n",
       "  </tbody>\n",
       "</table>\n",
       "<p>6342 rows × 10 columns</p>\n",
       "</div>"
      ],
      "text/plain": [
       "                        Customer_Trx_ID                     Subscriber_ID  \\\n",
       "13     dc11c734af06298550995bb5ff673dce  a7f45c1961dbd98e7a14f3d38ea11c06   \n",
       "19     02625456293ab29f0b11a84835a8c0ab  570eb70ff97166b85ea96be3bfb65fef   \n",
       "28     6a6c433159ff775ba7f5ff8ec38b5b6f  b0bc6de4a99007470bbdbbf5cc502ea9   \n",
       "40     0e24c20739fc582fda3306fc43683aa1  8cfc5350efe3bce6a0d6f96fbaf2c3b4   \n",
       "59     4280fa78d7c43abc5e98a8a3b44d9350  4cfa5155cf7cff8eb15e0b12041d058e   \n",
       "...                                 ...                               ...   \n",
       "99295  38a207eb1095e45ba5d6a3fae5112be2  1af3dcbc89998031651925e3994eab18   \n",
       "99305  149ac0fdc3fc6ed91440c95c1a92736b  f1bee02ceae8a430506b798786f766b4   \n",
       "99351  3059fc651e9f8e3a5701575e62f1ed1e  6f302f15a62c56b3100b67a81bfef328   \n",
       "99391  aba4b03424668feae599fff4122142c8  16c8e42089546fde55ed3caa46478e7a   \n",
       "99407  9d31491a1bcaf9849aaf5459d56971d6  407a6773db6e845737d04a6e27e653b4   \n",
       "\n",
       "      Subscribe_Date First_Order_Date Customer_Postal_Code  \\\n",
       "13        2024-05-20       2024-07-18             DE-50674   \n",
       "19        2023-10-10       2023-10-24              NL-1015   \n",
       "28        2022-11-09       2023-01-14             DE-10117   \n",
       "40        2021-10-03       2023-05-14              NL-2514   \n",
       "59        2023-07-22       2023-08-04             DE-80331   \n",
       "...              ...              ...                  ...   \n",
       "99295     2023-05-11       2023-06-25             DE-10117   \n",
       "99305     2024-03-25       2024-03-27              PT-1067   \n",
       "99351     2023-07-11       2023-07-18             DE-10115   \n",
       "99391     2023-10-23       2023-11-11             SE-40020   \n",
       "99407     2022-04-11       2023-09-13             DE-80335   \n",
       "\n",
       "              Customer_City Customer_Country Customer_Country_Code  Age  \\\n",
       "13                  Cologne          Germany                    DE   35   \n",
       "19                Amsterdam      Netherlands                    NL   50   \n",
       "28                   Berlin          Germany                    DE   53   \n",
       "40     The Hague (Den Haag)      Netherlands                    NL   20   \n",
       "59                   Munich          Germany                    DE   55   \n",
       "...                     ...              ...                   ...  ...   \n",
       "99295                Berlin          Germany                    DE   25   \n",
       "99305                Lisbon         Portugal                    PT   37   \n",
       "99351                Berlin          Germany                    DE   34   \n",
       "99391            Gothenburg           Sweden                    SE   48   \n",
       "99407                Munich          Germany                    DE   38   \n",
       "\n",
       "       Gender  \n",
       "13     Female  \n",
       "19       Male  \n",
       "28       Male  \n",
       "40     Female  \n",
       "59     Female  \n",
       "...       ...  \n",
       "99295    Male  \n",
       "99305    Male  \n",
       "99351  Female  \n",
       "99391    Male  \n",
       "99407    Male  \n",
       "\n",
       "[6342 rows x 10 columns]"
      ]
     },
     "execution_count": 9,
     "metadata": {},
     "output_type": "execute_result"
    }
   ],
   "source": [
    "duplicates = customer[customer.duplicated(subset=['Subscriber_ID'], keep=False)]\n",
    "duplicates"
   ]
  },
  {
   "cell_type": "code",
   "execution_count": 10,
   "id": "ad0d340b",
   "metadata": {},
   "outputs": [
    {
     "data": {
      "application/vnd.microsoft.datawrangler.viewer.v0+json": {
       "columns": [
        {
         "name": "index",
         "rawType": "int64",
         "type": "integer"
        },
        {
         "name": "Customer_Trx_ID",
         "rawType": "object",
         "type": "string"
        },
        {
         "name": "Subscriber_ID",
         "rawType": "object",
         "type": "string"
        },
        {
         "name": "Subscribe_Date",
         "rawType": "object",
         "type": "string"
        },
        {
         "name": "First_Order_Date",
         "rawType": "object",
         "type": "string"
        },
        {
         "name": "Customer_Postal_Code",
         "rawType": "object",
         "type": "string"
        },
        {
         "name": "Customer_City",
         "rawType": "object",
         "type": "string"
        },
        {
         "name": "Customer_Country",
         "rawType": "object",
         "type": "string"
        },
        {
         "name": "Customer_Country_Code",
         "rawType": "object",
         "type": "string"
        },
        {
         "name": "Age",
         "rawType": "int64",
         "type": "integer"
        },
        {
         "name": "Gender",
         "rawType": "object",
         "type": "string"
        }
       ],
       "ref": "21fcd6b6-1798-4985-b987-8fbf5dd6b547",
       "rows": [
        [
         "19",
         "02625456293ab29f0b11a84835a8c0ab",
         "570eb70ff97166b85ea96be3bfb65fef",
         "2023-10-10",
         "2023-10-24",
         "NL-1015",
         "Amsterdam",
         "Netherlands",
         "NL",
         "50",
         "Male"
        ],
        [
         "56751",
         "00796be07bfc87dad2e31ef15490a718",
         "570eb70ff97166b85ea96be3bfb65fef",
         "2023-10-10",
         "2023-10-24",
         "NL-1011",
         "Amsterdam",
         "Netherlands",
         "NL",
         "50",
         "Male"
        ]
       ],
       "shape": {
        "columns": 10,
        "rows": 2
       }
      },
      "text/html": [
       "<div>\n",
       "<style scoped>\n",
       "    .dataframe tbody tr th:only-of-type {\n",
       "        vertical-align: middle;\n",
       "    }\n",
       "\n",
       "    .dataframe tbody tr th {\n",
       "        vertical-align: top;\n",
       "    }\n",
       "\n",
       "    .dataframe thead th {\n",
       "        text-align: right;\n",
       "    }\n",
       "</style>\n",
       "<table border=\"1\" class=\"dataframe\">\n",
       "  <thead>\n",
       "    <tr style=\"text-align: right;\">\n",
       "      <th></th>\n",
       "      <th>Customer_Trx_ID</th>\n",
       "      <th>Subscriber_ID</th>\n",
       "      <th>Subscribe_Date</th>\n",
       "      <th>First_Order_Date</th>\n",
       "      <th>Customer_Postal_Code</th>\n",
       "      <th>Customer_City</th>\n",
       "      <th>Customer_Country</th>\n",
       "      <th>Customer_Country_Code</th>\n",
       "      <th>Age</th>\n",
       "      <th>Gender</th>\n",
       "    </tr>\n",
       "  </thead>\n",
       "  <tbody>\n",
       "    <tr>\n",
       "      <th>19</th>\n",
       "      <td>02625456293ab29f0b11a84835a8c0ab</td>\n",
       "      <td>570eb70ff97166b85ea96be3bfb65fef</td>\n",
       "      <td>2023-10-10</td>\n",
       "      <td>2023-10-24</td>\n",
       "      <td>NL-1015</td>\n",
       "      <td>Amsterdam</td>\n",
       "      <td>Netherlands</td>\n",
       "      <td>NL</td>\n",
       "      <td>50</td>\n",
       "      <td>Male</td>\n",
       "    </tr>\n",
       "    <tr>\n",
       "      <th>56751</th>\n",
       "      <td>00796be07bfc87dad2e31ef15490a718</td>\n",
       "      <td>570eb70ff97166b85ea96be3bfb65fef</td>\n",
       "      <td>2023-10-10</td>\n",
       "      <td>2023-10-24</td>\n",
       "      <td>NL-1011</td>\n",
       "      <td>Amsterdam</td>\n",
       "      <td>Netherlands</td>\n",
       "      <td>NL</td>\n",
       "      <td>50</td>\n",
       "      <td>Male</td>\n",
       "    </tr>\n",
       "  </tbody>\n",
       "</table>\n",
       "</div>"
      ],
      "text/plain": [
       "                        Customer_Trx_ID                     Subscriber_ID  \\\n",
       "19     02625456293ab29f0b11a84835a8c0ab  570eb70ff97166b85ea96be3bfb65fef   \n",
       "56751  00796be07bfc87dad2e31ef15490a718  570eb70ff97166b85ea96be3bfb65fef   \n",
       "\n",
       "      Subscribe_Date First_Order_Date Customer_Postal_Code Customer_City  \\\n",
       "19        2023-10-10       2023-10-24              NL-1015     Amsterdam   \n",
       "56751     2023-10-10       2023-10-24              NL-1011     Amsterdam   \n",
       "\n",
       "      Customer_Country Customer_Country_Code  Age Gender  \n",
       "19         Netherlands                    NL   50   Male  \n",
       "56751      Netherlands                    NL   50   Male  "
      ]
     },
     "execution_count": 10,
     "metadata": {},
     "output_type": "execute_result"
    }
   ],
   "source": [
    "filtered_duplicates = duplicates[duplicates['Subscriber_ID'] == '570eb70ff97166b85ea96be3bfb65fef']\n",
    "filtered_duplicates"
   ]
  },
  {
   "cell_type": "code",
   "execution_count": 11,
   "id": "27cd4172",
   "metadata": {},
   "outputs": [],
   "source": [
    "customer = customer.drop_duplicates(subset=['Subscriber_ID'], keep='first')"
   ]
  },
  {
   "cell_type": "code",
   "execution_count": 12,
   "id": "30b0d576",
   "metadata": {},
   "outputs": [
    {
     "data": {
      "application/vnd.microsoft.datawrangler.viewer.v0+json": {
       "columns": [
        {
         "name": "index",
         "rawType": "int64",
         "type": "integer"
        },
        {
         "name": "Customer_Trx_ID",
         "rawType": "object",
         "type": "string"
        },
        {
         "name": "Subscriber_ID",
         "rawType": "object",
         "type": "string"
        },
        {
         "name": "Subscribe_Date",
         "rawType": "object",
         "type": "string"
        },
        {
         "name": "First_Order_Date",
         "rawType": "object",
         "type": "string"
        },
        {
         "name": "Customer_Postal_Code",
         "rawType": "object",
         "type": "string"
        },
        {
         "name": "Customer_City",
         "rawType": "object",
         "type": "string"
        },
        {
         "name": "Customer_Country",
         "rawType": "object",
         "type": "string"
        },
        {
         "name": "Customer_Country_Code",
         "rawType": "object",
         "type": "string"
        },
        {
         "name": "Age",
         "rawType": "int64",
         "type": "integer"
        },
        {
         "name": "Gender",
         "rawType": "object",
         "type": "string"
        }
       ],
       "ref": "aa82ba7b-463a-46d3-9ad0-dcc0ecc4975c",
       "rows": [],
       "shape": {
        "columns": 10,
        "rows": 0
       }
      },
      "text/html": [
       "<div>\n",
       "<style scoped>\n",
       "    .dataframe tbody tr th:only-of-type {\n",
       "        vertical-align: middle;\n",
       "    }\n",
       "\n",
       "    .dataframe tbody tr th {\n",
       "        vertical-align: top;\n",
       "    }\n",
       "\n",
       "    .dataframe thead th {\n",
       "        text-align: right;\n",
       "    }\n",
       "</style>\n",
       "<table border=\"1\" class=\"dataframe\">\n",
       "  <thead>\n",
       "    <tr style=\"text-align: right;\">\n",
       "      <th></th>\n",
       "      <th>Customer_Trx_ID</th>\n",
       "      <th>Subscriber_ID</th>\n",
       "      <th>Subscribe_Date</th>\n",
       "      <th>First_Order_Date</th>\n",
       "      <th>Customer_Postal_Code</th>\n",
       "      <th>Customer_City</th>\n",
       "      <th>Customer_Country</th>\n",
       "      <th>Customer_Country_Code</th>\n",
       "      <th>Age</th>\n",
       "      <th>Gender</th>\n",
       "    </tr>\n",
       "  </thead>\n",
       "  <tbody>\n",
       "  </tbody>\n",
       "</table>\n",
       "</div>"
      ],
      "text/plain": [
       "Empty DataFrame\n",
       "Columns: [Customer_Trx_ID, Subscriber_ID, Subscribe_Date, First_Order_Date, Customer_Postal_Code, Customer_City, Customer_Country, Customer_Country_Code, Age, Gender]\n",
       "Index: []"
      ]
     },
     "execution_count": 12,
     "metadata": {},
     "output_type": "execute_result"
    }
   ],
   "source": [
    "duplicates = customer[customer.duplicated(subset=['Subscriber_ID'], keep=False)]\n",
    "duplicates"
   ]
  },
  {
   "cell_type": "code",
   "execution_count": 13,
   "id": "cc051306",
   "metadata": {},
   "outputs": [
    {
     "data": {
      "application/vnd.microsoft.datawrangler.viewer.v0+json": {
       "columns": [
        {
         "name": "index",
         "rawType": "object",
         "type": "string"
        },
        {
         "name": "0",
         "rawType": "int64",
         "type": "integer"
        }
       ],
       "ref": "2d583625-0fe5-4731-a941-2631f35d8604",
       "rows": [
        [
         "Customer_Trx_ID",
         "0"
        ],
        [
         "Subscriber_ID",
         "0"
        ],
        [
         "Subscribe_Date",
         "0"
        ],
        [
         "First_Order_Date",
         "3286"
        ],
        [
         "Customer_Postal_Code",
         "0"
        ],
        [
         "Customer_City",
         "0"
        ],
        [
         "Customer_Country",
         "0"
        ],
        [
         "Customer_Country_Code",
         "0"
        ],
        [
         "Age",
         "0"
        ],
        [
         "Gender",
         "0"
        ]
       ],
       "shape": {
        "columns": 1,
        "rows": 10
       }
      },
      "text/plain": [
       "Customer_Trx_ID             0\n",
       "Subscriber_ID               0\n",
       "Subscribe_Date              0\n",
       "First_Order_Date         3286\n",
       "Customer_Postal_Code        0\n",
       "Customer_City               0\n",
       "Customer_Country            0\n",
       "Customer_Country_Code       0\n",
       "Age                         0\n",
       "Gender                      0\n",
       "dtype: int64"
      ]
     },
     "execution_count": 13,
     "metadata": {},
     "output_type": "execute_result"
    }
   ],
   "source": [
    "customer.isnull().sum()"
   ]
  },
  {
   "cell_type": "code",
   "execution_count": 14,
   "id": "31534396",
   "metadata": {},
   "outputs": [
    {
     "data": {
      "application/vnd.microsoft.datawrangler.viewer.v0+json": {
       "columns": [
        {
         "name": "index",
         "rawType": "int64",
         "type": "integer"
        },
        {
         "name": "Customer_Trx_ID",
         "rawType": "object",
         "type": "string"
        },
        {
         "name": "Subscriber_ID",
         "rawType": "object",
         "type": "string"
        },
        {
         "name": "Subscribe_Date",
         "rawType": "object",
         "type": "string"
        },
        {
         "name": "First_Order_Date",
         "rawType": "object",
         "type": "string"
        },
        {
         "name": "Customer_Postal_Code",
         "rawType": "object",
         "type": "string"
        },
        {
         "name": "Customer_City",
         "rawType": "object",
         "type": "string"
        },
        {
         "name": "Customer_Country",
         "rawType": "object",
         "type": "string"
        },
        {
         "name": "Customer_Country_Code",
         "rawType": "object",
         "type": "string"
        },
        {
         "name": "Age",
         "rawType": "int64",
         "type": "integer"
        },
        {
         "name": "Gender",
         "rawType": "object",
         "type": "string"
        }
       ],
       "ref": "acf6a6de-35a4-4001-8333-6ef2dfc0d15d",
       "rows": [
        [
         "18",
         "ff24c0250b3f882f90d87942fb7583a9",
         "5950105d5f3a678d89a7e0d2a54b5eaa",
         "2023-06-27",
         "2023-06-27",
         "FR-83400",
         "Toulon",
         "France",
         "FR",
         "25",
         "Male"
        ],
        [
         "65",
         "fc4864717c28d7c6f7c77ba6fffca526",
         "f43a0abc09ca9be20e26630515a8a623",
         "2024-03-17",
         "2024-03-17",
         "AT-1050",
         "Vienna",
         "Austria",
         "AT",
         "30",
         "Male"
        ],
        [
         "82",
         "eb9a02ebb55bcfc0516d56555290bfa4",
         "f6c7e1a95cb61fd044a33c6a38f2dad8",
         "2023-02-27",
         "2023-02-27",
         "NL-7313",
         "Apeldoorn",
         "Netherlands",
         "NL",
         "36",
         "Male"
        ],
        [
         "98",
         "accdad8ab1a62db957ffcefa272667a0",
         "339f4ca769f8240ea30f88c25c5c5f11",
         "2023-11-16",
         "2023-11-16",
         "GB-W1",
         "London",
         "United Kingdom",
         "GB",
         "32",
         "Male"
        ],
        [
         "120",
         "bbf249561e84f966c88f8d70e9c714fc",
         "76888ec0e2d5b7de57da85ce2babccac",
         "2023-08-21",
         "2023-08-21",
         "DE-10117",
         "Berlin",
         "Germany",
         "DE",
         "38",
         "Male"
        ],
        [
         "128",
         "147aa7e2c6dd09dd20994c8c78bc1ef1",
         "8d941c860e622a47cfa62116bbbb2e31",
         "2023-05-29",
         "2023-05-29",
         "FR-75005",
         "Paris",
         "France",
         "FR",
         "24",
         "Male"
        ],
        [
         "160",
         "ced61c5cb8db0e02a11af8e5a2f3deea",
         "cbe7e09084e800bb56a35a586a4272e8",
         "2023-11-12",
         "2023-11-12",
         "FR-75015",
         "Paris",
         "France",
         "FR",
         "59",
         "Male"
        ],
        [
         "177",
         "5a968869bd6a16f0a56d22cdd8b40435",
         "65037427c770e4cfac3181e3ab9cf5ff",
         "2024-05-23",
         "2024-05-23",
         "GB-SW1",
         "London",
         "United Kingdom",
         "GB",
         "59",
         "Female"
        ],
        [
         "178",
         "27cc322bb85700e18e5797045540d347",
         "8e4febd4468fd3dbfb6527e9982fb3b8",
         "2024-05-15",
         "2024-05-15",
         "CH-8004",
         "Zurich",
         "Switzerland",
         "CH",
         "30",
         "Male"
        ],
        [
         "189",
         "46019e471f972abfa236b1dcc2b46ce2",
         "0d7e4240a925c32ecec1ae02ec6afd4d",
         "2023-11-11",
         "2023-11-11",
         "DE-45133",
         "Essen",
         "Germany",
         "DE",
         "67",
         "Male"
        ],
        [
         "208",
         "c3d92a27cd6ea267a7b86042bbcc9681",
         "906eb84c793b1dfca2424d233f098692",
         "2024-03-22",
         "2024-03-22",
         "BE-1033",
         "Schaerbeek",
         "Belgium",
         "BE",
         "41",
         "Female"
        ],
        [
         "256",
         "d84d2c8f4e9116c3265621f8a196d93f",
         "b34b19f2e95ee44588f6fc8211e9e73d",
         "2024-01-29",
         "2024-01-29",
         "ES-33203",
         "Gijón",
         "Spain",
         "ES",
         "26",
         "Male"
        ],
        [
         "283",
         "18f9d57ab19248ecf1fe195bde575380",
         "5bca215da9b5206f88f2be0051d57d6e",
         "2024-02-06",
         "2024-02-06",
         "DE-42111",
         "Wuppertal",
         "Germany",
         "DE",
         "33",
         "Male"
        ],
        [
         "318",
         "95200d2b14a993f488affb398652a2a2",
         "05db15e48c7ed44cff9dfaa4f374f3dc",
         "2024-04-15",
         "2024-04-15",
         "GB-W1",
         "London",
         "United Kingdom",
         "GB",
         "48",
         "Male"
        ],
        [
         "398",
         "8c1c6531da36aa724b50271c55a29ecf",
         "231a0b20227b9d5b4967016e775415d6",
         "2023-08-17",
         "2023-08-17",
         "BE-4050",
         "Liège",
         "Belgium",
         "BE",
         "34",
         "Female"
        ],
        [
         "404",
         "d9cb5362ceac64faee7d4ccbe948f925",
         "3e96f7cfd9c043c89aecca562c25b303",
         "2024-06-11",
         "2024-06-11",
         "NL-1013",
         "Amsterdam",
         "Netherlands",
         "NL",
         "27",
         "Male"
        ],
        [
         "429",
         "afae0f1fa6b82eaa634f9cf041e73814",
         "393a728a1c9ecd68f0ea0c56a3bc482f",
         "2024-07-23",
         "2024-07-23",
         "FR-75001",
         "Paris",
         "France",
         "FR",
         "36",
         "Male"
        ],
        [
         "431",
         "6668327c4285ae69687ecc0b3cd7c888",
         "a012ae83a5e3214d951efa46b8e190fc",
         "2023-05-20",
         "2023-05-20",
         "NL-1014",
         "Amsterdam",
         "Netherlands",
         "NL",
         "34",
         "Male"
        ],
        [
         "449",
         "d48c7551c86480a54488115cbe7385d1",
         "e2e837f34a7452e60dfe4473b226ee63",
         "2024-07-24",
         "2024-07-24",
         "GB-SE1",
         "London",
         "United Kingdom",
         "GB",
         "26",
         "Male"
        ],
        [
         "537",
         "d80baef8077ebca9d3545ac893887d4e",
         "bcff9061a0e61f1564c2274bf0c2772f",
         "2024-02-03",
         "2024-02-03",
         "DE-41067",
         "Mönchengladbach",
         "Germany",
         "DE",
         "30",
         "Male"
        ],
        [
         "538",
         "b0c44ccb9fdb79c54e8eff3217f23202",
         "db5681fc8369b65dedae0d34f550535c",
         "2024-01-19",
         "2024-01-19",
         "DE-10115",
         "Berlin",
         "Germany",
         "DE",
         "31",
         "Male"
        ],
        [
         "557",
         "7089bc699da551ead2aca09f75273371",
         "99c3f1be69344f1fe33b96f66288b8a4",
         "2024-05-08",
         "2024-05-08",
         "DE-53117",
         "Bonn",
         "Germany",
         "DE",
         "53",
         "Female"
        ],
        [
         "596",
         "4e798bde1c7399fbb0763d0f35d9af07",
         "ebbf4018130a768f1d9e632f8d5541b9",
         "2023-02-18",
         "2023-02-18",
         "DE-10179",
         "Berlin",
         "Germany",
         "DE",
         "27",
         "Female"
        ],
        [
         "598",
         "ec2d96d8dd0823d489423155370a247e",
         "e8663abca66edfe7b18d03a921637578",
         "2024-01-25",
         "2024-01-25",
         "FR-35400",
         "Rennes",
         "France",
         "FR",
         "48",
         "Male"
        ],
        [
         "609",
         "5e5b442d4eb29101eaee6a9efe25c840",
         "a6b905ecdd6cb0eabfb3e8f780e9c733",
         "2024-08-19",
         "2024-08-19",
         "DE-45133",
         "Essen",
         "Germany",
         "DE",
         "27",
         "Female"
        ],
        [
         "618",
         "c41577db6be598c85be04a2d94c3a8eb",
         "72f53729755c1d79da47eb9041f5f4b6",
         "2024-02-28",
         "2024-02-28",
         "DE-80337",
         "Munich",
         "Germany",
         "DE",
         "52",
         "Female"
        ],
        [
         "622",
         "77ab80500d906d9fc81caaf623090c80",
         "18a96282a43739cad398f66152230450",
         "2024-01-13",
         "2024-01-13",
         "DE-10179",
         "Berlin",
         "Germany",
         "DE",
         "31",
         "Male"
        ],
        [
         "626",
         "bbda0e5e83ba89d0dedc459cb1181670",
         "7e91ec540af718ab375b1d13271e9543",
         "2023-05-12",
         "2023-05-12",
         "IT-90123",
         "Palermo",
         "Italy",
         "IT",
         "67",
         "Male"
        ],
        [
         "692",
         "15af9668596b9358f3c13ece3af9aba1",
         "92fbc23be50aff0204899b5516522eee",
         "2024-06-08",
         "2024-06-08",
         "DE-10117",
         "Berlin",
         "Germany",
         "DE",
         "53",
         "Female"
        ],
        [
         "701",
         "998804bef4876b662cbcd7ab71d79229",
         "b139eaa6ed9367bde92f3eaf2528390c",
         "2024-02-08",
         "2024-02-08",
         "DE-20097",
         "Hamburg",
         "Germany",
         "DE",
         "18",
         "Male"
        ],
        [
         "719",
         "987d8779977d437c9cd0a258b4ed9c90",
         "d268e6ccd6cf16a4b2715a699f1a2e31",
         "2023-06-20",
         "2023-06-20",
         "DE-10178",
         "Berlin",
         "Germany",
         "DE",
         "64",
         "Male"
        ],
        [
         "744",
         "d2fe2102c4560f79710d7bb7f61d555c",
         "0da4c5d9c90af79ecfdfae7a989378a6",
         "2024-08-12",
         "2024-08-12",
         "DE-10178",
         "Berlin",
         "Germany",
         "DE",
         "32",
         "Male"
        ],
        [
         "785",
         "48b7b0d91f71342eb16eb2598fbec30d",
         "99e3b6f2d15ecbb5d63eeb710e3409fd",
         "2024-07-03",
         "2024-07-03",
         "PL-00-004",
         "Warsaw",
         "Poland",
         "PL",
         "36",
         "Male"
        ],
        [
         "818",
         "a49ae7843fa7b392f6e13a14e5e18c16",
         "136807606cbecd946fbe8cb0d8e66537",
         "2024-03-04",
         "2024-03-04",
         "NL-7312",
         "Apeldoorn",
         "Netherlands",
         "NL",
         "62",
         "Female"
        ],
        [
         "839",
         "d47f91614f1a37b1a64a53e39024a5bd",
         "544e3762126f38f6e8d5d7da856c13db",
         "2024-05-01",
         "2024-05-01",
         "FR-31000",
         "Toulouse",
         "France",
         "FR",
         "39",
         "Male"
        ],
        [
         "844",
         "1cc9cdbf6072b4b59de7b37081dfcdf2",
         "793492938abb20e09139e8000e6ecd16",
         "2024-08-10",
         "2024-08-10",
         "BE-1020",
         "Brussels",
         "Belgium",
         "BE",
         "20",
         "Female"
        ],
        [
         "848",
         "a67c8e21742969a51553124864de7632",
         "46c8be21c8054a3997428b1bd1e2ff0d",
         "2024-08-27",
         "2024-08-27",
         "DE-10178",
         "Berlin",
         "Germany",
         "DE",
         "37",
         "Male"
        ],
        [
         "897",
         "6f8c09c3f8d2a8985268d3134d993c58",
         "dbf7903cdc1228888574516f5ef04cbe",
         "2023-05-24",
         "2023-05-24",
         "DE-38106",
         "Braunschweig",
         "Germany",
         "DE",
         "67",
         "Male"
        ],
        [
         "1028",
         "57a5790d63d19ab68c8eb882a24cff8e",
         "2dc7f51f05ba1b1a92608e45e55d1fe1",
         "2023-03-01",
         "2023-03-01",
         "DE-10178",
         "Berlin",
         "Germany",
         "DE",
         "28",
         "Male"
        ],
        [
         "1059",
         "ad812ff30018174233b1f32d8f12349a",
         "a0e913a3db2eee9d3dde90b2807fcaf8",
         "2024-07-23",
         "2024-07-23",
         "NL-7313",
         "Apeldoorn",
         "Netherlands",
         "NL",
         "45",
         "Male"
        ],
        [
         "1103",
         "fa689a2e5dd5f3a3745cf1158e586c18",
         "08f041f800243ff79ecdea1d75f58519",
         "2024-03-07",
         "2024-03-07",
         "DE-38108",
         "Braunschweig",
         "Germany",
         "DE",
         "48",
         "Male"
        ],
        [
         "1245",
         "c9edf82d38888fa613f3d9486a582b2d",
         "4835837b30a566930f3c0227935d622a",
         "2023-09-01",
         "2023-09-01",
         "AT-9530",
         "Villach",
         "Austria",
         "AT",
         "43",
         "Female"
        ],
        [
         "1249",
         "ef1daa31903ff74a9c78b083b006b249",
         "75b22b823e3373d5599d16b8f7c5e742",
         "2023-12-11",
         "2023-12-11",
         "DE-10115",
         "Berlin",
         "Germany",
         "DE",
         "49",
         "Male"
        ],
        [
         "1274",
         "6f0e037423a31f6b624f905700044d26",
         "b896655e2083a1d76b7b85df8fc86e40",
         "2023-09-25",
         "2023-09-25",
         "DE-80337",
         "Munich",
         "Germany",
         "DE",
         "31",
         "Female"
        ],
        [
         "1279",
         "10a2fbde93ea4041295f9f209c016734",
         "11fd2a13f102a155e2742ae7bfcbdb03",
         "2024-02-06",
         "2024-02-06",
         "PL-00-003",
         "Warsaw",
         "Poland",
         "PL",
         "55",
         "Female"
        ],
        [
         "1289",
         "b9c7a79a20537b1e943044225f0b0113",
         "0451ef5a31cea3e14ce02d768d7c9943",
         "2023-04-14",
         "2023-04-14",
         "GB-W1",
         "London",
         "United Kingdom",
         "GB",
         "31",
         "Female"
        ],
        [
         "1376",
         "1d815f3ad9b2017b6da2c4f1cbb1180b",
         "9739e5179f34b3e3ad589f4b4694ed76",
         "2023-11-28",
         "2023-11-28",
         "CZ-77903",
         "Olomouc",
         "Czechia",
         "CZ",
         "35",
         "Male"
        ],
        [
         "1377",
         "00146ad30454993879adaa91c518f68c",
         "5616f75d22507069b5383854a1d8c414",
         "2024-01-08",
         "2024-01-08",
         "NL-1015",
         "Amsterdam",
         "Netherlands",
         "NL",
         "29",
         "Male"
        ],
        [
         "1380",
         "27862af84c148e9a656de216a213fd12",
         "767bea758a58d2b420ffbf1eef7f5751",
         "2024-08-19",
         "2024-08-19",
         "DE-40215",
         "Düsseldorf",
         "Germany",
         "DE",
         "54",
         "Male"
        ],
        [
         "1420",
         "e7a5a238f60bebe0efe9ccbda1042ed5",
         "15a4554642b5fe5a003bb9a7a2ec4893",
         "2023-05-18",
         "2023-05-18",
         "FR-75005",
         "Paris",
         "France",
         "FR",
         "29",
         "Male"
        ]
       ],
       "shape": {
        "columns": 10,
        "rows": 3382
       }
      },
      "text/html": [
       "<div>\n",
       "<style scoped>\n",
       "    .dataframe tbody tr th:only-of-type {\n",
       "        vertical-align: middle;\n",
       "    }\n",
       "\n",
       "    .dataframe tbody tr th {\n",
       "        vertical-align: top;\n",
       "    }\n",
       "\n",
       "    .dataframe thead th {\n",
       "        text-align: right;\n",
       "    }\n",
       "</style>\n",
       "<table border=\"1\" class=\"dataframe\">\n",
       "  <thead>\n",
       "    <tr style=\"text-align: right;\">\n",
       "      <th></th>\n",
       "      <th>Customer_Trx_ID</th>\n",
       "      <th>Subscriber_ID</th>\n",
       "      <th>Subscribe_Date</th>\n",
       "      <th>First_Order_Date</th>\n",
       "      <th>Customer_Postal_Code</th>\n",
       "      <th>Customer_City</th>\n",
       "      <th>Customer_Country</th>\n",
       "      <th>Customer_Country_Code</th>\n",
       "      <th>Age</th>\n",
       "      <th>Gender</th>\n",
       "    </tr>\n",
       "  </thead>\n",
       "  <tbody>\n",
       "    <tr>\n",
       "      <th>18</th>\n",
       "      <td>ff24c0250b3f882f90d87942fb7583a9</td>\n",
       "      <td>5950105d5f3a678d89a7e0d2a54b5eaa</td>\n",
       "      <td>2023-06-27</td>\n",
       "      <td>2023-06-27</td>\n",
       "      <td>FR-83400</td>\n",
       "      <td>Toulon</td>\n",
       "      <td>France</td>\n",
       "      <td>FR</td>\n",
       "      <td>25</td>\n",
       "      <td>Male</td>\n",
       "    </tr>\n",
       "    <tr>\n",
       "      <th>65</th>\n",
       "      <td>fc4864717c28d7c6f7c77ba6fffca526</td>\n",
       "      <td>f43a0abc09ca9be20e26630515a8a623</td>\n",
       "      <td>2024-03-17</td>\n",
       "      <td>2024-03-17</td>\n",
       "      <td>AT-1050</td>\n",
       "      <td>Vienna</td>\n",
       "      <td>Austria</td>\n",
       "      <td>AT</td>\n",
       "      <td>30</td>\n",
       "      <td>Male</td>\n",
       "    </tr>\n",
       "    <tr>\n",
       "      <th>82</th>\n",
       "      <td>eb9a02ebb55bcfc0516d56555290bfa4</td>\n",
       "      <td>f6c7e1a95cb61fd044a33c6a38f2dad8</td>\n",
       "      <td>2023-02-27</td>\n",
       "      <td>2023-02-27</td>\n",
       "      <td>NL-7313</td>\n",
       "      <td>Apeldoorn</td>\n",
       "      <td>Netherlands</td>\n",
       "      <td>NL</td>\n",
       "      <td>36</td>\n",
       "      <td>Male</td>\n",
       "    </tr>\n",
       "    <tr>\n",
       "      <th>98</th>\n",
       "      <td>accdad8ab1a62db957ffcefa272667a0</td>\n",
       "      <td>339f4ca769f8240ea30f88c25c5c5f11</td>\n",
       "      <td>2023-11-16</td>\n",
       "      <td>2023-11-16</td>\n",
       "      <td>GB-W1</td>\n",
       "      <td>London</td>\n",
       "      <td>United Kingdom</td>\n",
       "      <td>GB</td>\n",
       "      <td>32</td>\n",
       "      <td>Male</td>\n",
       "    </tr>\n",
       "    <tr>\n",
       "      <th>120</th>\n",
       "      <td>bbf249561e84f966c88f8d70e9c714fc</td>\n",
       "      <td>76888ec0e2d5b7de57da85ce2babccac</td>\n",
       "      <td>2023-08-21</td>\n",
       "      <td>2023-08-21</td>\n",
       "      <td>DE-10117</td>\n",
       "      <td>Berlin</td>\n",
       "      <td>Germany</td>\n",
       "      <td>DE</td>\n",
       "      <td>38</td>\n",
       "      <td>Male</td>\n",
       "    </tr>\n",
       "    <tr>\n",
       "      <th>...</th>\n",
       "      <td>...</td>\n",
       "      <td>...</td>\n",
       "      <td>...</td>\n",
       "      <td>...</td>\n",
       "      <td>...</td>\n",
       "      <td>...</td>\n",
       "      <td>...</td>\n",
       "      <td>...</td>\n",
       "      <td>...</td>\n",
       "      <td>...</td>\n",
       "    </tr>\n",
       "    <tr>\n",
       "      <th>99253</th>\n",
       "      <td>c8db401ec63a5cf4fcc9e331cc626c96</td>\n",
       "      <td>f120fc6d61289eefb3f39aac12abb022</td>\n",
       "      <td>2024-07-28</td>\n",
       "      <td>2024-07-28</td>\n",
       "      <td>DE-33607</td>\n",
       "      <td>Bielefeld</td>\n",
       "      <td>Germany</td>\n",
       "      <td>DE</td>\n",
       "      <td>59</td>\n",
       "      <td>Male</td>\n",
       "    </tr>\n",
       "    <tr>\n",
       "      <th>99304</th>\n",
       "      <td>0f3a6d2c22bbdb61d02eb98f4a1e0dfb</td>\n",
       "      <td>c5cc879614b6acdf5b62db3edd062e81</td>\n",
       "      <td>2023-12-30</td>\n",
       "      <td>2023-12-30</td>\n",
       "      <td>FR-75003</td>\n",
       "      <td>Paris</td>\n",
       "      <td>France</td>\n",
       "      <td>FR</td>\n",
       "      <td>26</td>\n",
       "      <td>Female</td>\n",
       "    </tr>\n",
       "    <tr>\n",
       "      <th>99347</th>\n",
       "      <td>3610566c1bd35ade63452acf27133f22</td>\n",
       "      <td>51ff8247356916c4e62abd8ec002e0c9</td>\n",
       "      <td>2023-02-20</td>\n",
       "      <td>2023-02-20</td>\n",
       "      <td>DE-20146</td>\n",
       "      <td>Hamburg</td>\n",
       "      <td>Germany</td>\n",
       "      <td>DE</td>\n",
       "      <td>35</td>\n",
       "      <td>Male</td>\n",
       "    </tr>\n",
       "    <tr>\n",
       "      <th>99367</th>\n",
       "      <td>bb5ecb070b1cabb71470e74ccabb9ad5</td>\n",
       "      <td>f92f6ab3c62a0ea894141b1f06b3f160</td>\n",
       "      <td>2024-02-11</td>\n",
       "      <td>2024-02-11</td>\n",
       "      <td>DK-6730</td>\n",
       "      <td>Esbjerg</td>\n",
       "      <td>Denmark</td>\n",
       "      <td>DK</td>\n",
       "      <td>18</td>\n",
       "      <td>Female</td>\n",
       "    </tr>\n",
       "    <tr>\n",
       "      <th>99437</th>\n",
       "      <td>f4a2e155eff15f4fd20947ab24b86cc1</td>\n",
       "      <td>30260bec6bfe6eacffa19e1ae6b7adbd</td>\n",
       "      <td>2023-03-29</td>\n",
       "      <td>2023-03-29</td>\n",
       "      <td>NL-7514</td>\n",
       "      <td>Enschede</td>\n",
       "      <td>Netherlands</td>\n",
       "      <td>NL</td>\n",
       "      <td>45</td>\n",
       "      <td>Female</td>\n",
       "    </tr>\n",
       "  </tbody>\n",
       "</table>\n",
       "<p>3382 rows × 10 columns</p>\n",
       "</div>"
      ],
      "text/plain": [
       "                        Customer_Trx_ID                     Subscriber_ID  \\\n",
       "18     ff24c0250b3f882f90d87942fb7583a9  5950105d5f3a678d89a7e0d2a54b5eaa   \n",
       "65     fc4864717c28d7c6f7c77ba6fffca526  f43a0abc09ca9be20e26630515a8a623   \n",
       "82     eb9a02ebb55bcfc0516d56555290bfa4  f6c7e1a95cb61fd044a33c6a38f2dad8   \n",
       "98     accdad8ab1a62db957ffcefa272667a0  339f4ca769f8240ea30f88c25c5c5f11   \n",
       "120    bbf249561e84f966c88f8d70e9c714fc  76888ec0e2d5b7de57da85ce2babccac   \n",
       "...                                 ...                               ...   \n",
       "99253  c8db401ec63a5cf4fcc9e331cc626c96  f120fc6d61289eefb3f39aac12abb022   \n",
       "99304  0f3a6d2c22bbdb61d02eb98f4a1e0dfb  c5cc879614b6acdf5b62db3edd062e81   \n",
       "99347  3610566c1bd35ade63452acf27133f22  51ff8247356916c4e62abd8ec002e0c9   \n",
       "99367  bb5ecb070b1cabb71470e74ccabb9ad5  f92f6ab3c62a0ea894141b1f06b3f160   \n",
       "99437  f4a2e155eff15f4fd20947ab24b86cc1  30260bec6bfe6eacffa19e1ae6b7adbd   \n",
       "\n",
       "      Subscribe_Date First_Order_Date Customer_Postal_Code Customer_City  \\\n",
       "18        2023-06-27       2023-06-27             FR-83400        Toulon   \n",
       "65        2024-03-17       2024-03-17              AT-1050        Vienna   \n",
       "82        2023-02-27       2023-02-27              NL-7313     Apeldoorn   \n",
       "98        2023-11-16       2023-11-16                GB-W1        London   \n",
       "120       2023-08-21       2023-08-21             DE-10117        Berlin   \n",
       "...              ...              ...                  ...           ...   \n",
       "99253     2024-07-28       2024-07-28             DE-33607     Bielefeld   \n",
       "99304     2023-12-30       2023-12-30             FR-75003         Paris   \n",
       "99347     2023-02-20       2023-02-20             DE-20146       Hamburg   \n",
       "99367     2024-02-11       2024-02-11              DK-6730       Esbjerg   \n",
       "99437     2023-03-29       2023-03-29              NL-7514      Enschede   \n",
       "\n",
       "      Customer_Country Customer_Country_Code  Age  Gender  \n",
       "18              France                    FR   25    Male  \n",
       "65             Austria                    AT   30    Male  \n",
       "82         Netherlands                    NL   36    Male  \n",
       "98      United Kingdom                    GB   32    Male  \n",
       "120            Germany                    DE   38    Male  \n",
       "...                ...                   ...  ...     ...  \n",
       "99253          Germany                    DE   59    Male  \n",
       "99304           France                    FR   26  Female  \n",
       "99347          Germany                    DE   35    Male  \n",
       "99367          Denmark                    DK   18  Female  \n",
       "99437      Netherlands                    NL   45  Female  \n",
       "\n",
       "[3382 rows x 10 columns]"
      ]
     },
     "execution_count": 14,
     "metadata": {},
     "output_type": "execute_result"
    }
   ],
   "source": [
    "same_date = customer[customer['First_Order_Date'] == customer['Subscribe_Date']]\n",
    "same_date"
   ]
  },
  {
   "cell_type": "code",
   "execution_count": 15,
   "id": "cc96a861",
   "metadata": {},
   "outputs": [],
   "source": [
    "customer['First_Order_Date'] = customer['First_Order_Date'].fillna(customer['Subscribe_Date'])\n"
   ]
  },
  {
   "cell_type": "code",
   "execution_count": 16,
   "id": "89e9a5f1",
   "metadata": {},
   "outputs": [
    {
     "data": {
      "application/vnd.microsoft.datawrangler.viewer.v0+json": {
       "columns": [
        {
         "name": "index",
         "rawType": "object",
         "type": "string"
        },
        {
         "name": "0",
         "rawType": "int64",
         "type": "integer"
        }
       ],
       "ref": "f8beff4f-5706-42e4-874d-f3c9f404eceb",
       "rows": [
        [
         "Customer_Trx_ID",
         "0"
        ],
        [
         "Subscriber_ID",
         "0"
        ],
        [
         "Subscribe_Date",
         "0"
        ],
        [
         "First_Order_Date",
         "0"
        ],
        [
         "Customer_Postal_Code",
         "0"
        ],
        [
         "Customer_City",
         "0"
        ],
        [
         "Customer_Country",
         "0"
        ],
        [
         "Customer_Country_Code",
         "0"
        ],
        [
         "Age",
         "0"
        ],
        [
         "Gender",
         "0"
        ]
       ],
       "shape": {
        "columns": 1,
        "rows": 10
       }
      },
      "text/plain": [
       "Customer_Trx_ID          0\n",
       "Subscriber_ID            0\n",
       "Subscribe_Date           0\n",
       "First_Order_Date         0\n",
       "Customer_Postal_Code     0\n",
       "Customer_City            0\n",
       "Customer_Country         0\n",
       "Customer_Country_Code    0\n",
       "Age                      0\n",
       "Gender                   0\n",
       "dtype: int64"
      ]
     },
     "execution_count": 16,
     "metadata": {},
     "output_type": "execute_result"
    }
   ],
   "source": [
    "customer.isnull().sum()"
   ]
  },
  {
   "cell_type": "markdown",
   "id": "f7d57243",
   "metadata": {},
   "source": [
    "### Descubrimientos clave:\n",
    "- El dataset cuenta con 2 columnas con valores faltantes: `Customer_Trx_ID` y `First_Order_Date`.\n",
    "\n",
    "### Transformaciones aplicadas:\n",
    "- **Imputación de IDs faltantes en `Customer_Trx_ID`:**  \n",
    "  Se generaron identificadores únicos con `uuid.uuid4()` para aquellos registros donde el valor estaba nulo o era inválido (`NaN`). Esto asegura que cada cliente tenga un identificador único.\n",
    "  \n",
    "- **Eliminación de duplicados en `Subscriber_ID`:**  \n",
    "  Se conservaron únicamente los registros únicos por `Subscriber_ID`, manteniendo el primer registro y eliminando los duplicados posteriores.\n",
    "  \n",
    "- **Imputación de fechas faltantes en `First_Order_Date`:**  \n",
    "  Cuando `First_Order_Date` estaba vacío, se reemplazó por la fecha de `Subscribe_Date`, garantizando consistencia temporal en el historial del cliente."
   ]
  },
  {
   "cell_type": "markdown",
   "id": "c1482b9c",
   "metadata": {},
   "source": [
    "---\n",
    "\n",
    "## Geolocations"
   ]
  },
  {
   "cell_type": "code",
   "execution_count": 17,
   "id": "23742432",
   "metadata": {},
   "outputs": [
    {
     "name": "stdout",
     "output_type": "stream",
     "text": [
      "Shape of geolocations DataFrame: \n",
      " - columnas:5 \n",
      " - filas:1000163\n"
     ]
    },
    {
     "name": "stderr",
     "output_type": "stream",
     "text": [
      "C:\\Users\\saale\\AppData\\Local\\Temp\\ipykernel_15624\\3515723160.py:1: DtypeWarning: Columns (0,1,2,3,4) have mixed types. Specify dtype option on import or set low_memory=False.\n",
      "  geolocations = pd.read_csv(\"../data/Fecom Inc Geolocations.csv\", sep=';')\n"
     ]
    }
   ],
   "source": [
    "geolocations = pd.read_csv(\"../data/Fecom Inc Geolocations.csv\", sep=';')\n",
    "print(f\"Shape of geolocations DataFrame: \\n - columnas:{geolocations.shape[1]} \\n - filas:{geolocations.shape[0]}\")"
   ]
  },
  {
   "cell_type": "code",
   "execution_count": 18,
   "id": "0612f674",
   "metadata": {},
   "outputs": [
    {
     "data": {
      "application/vnd.microsoft.datawrangler.viewer.v0+json": {
       "columns": [
        {
         "name": "index",
         "rawType": "int64",
         "type": "integer"
        },
        {
         "name": "Geo_Postal_Code",
         "rawType": "object",
         "type": "string"
        },
        {
         "name": "Geo_Lat",
         "rawType": "object",
         "type": "string"
        },
        {
         "name": "Geo_Lon",
         "rawType": "object",
         "type": "string"
        },
        {
         "name": "Geolocation_City",
         "rawType": "object",
         "type": "string"
        },
        {
         "name": "Geo_Country",
         "rawType": "object",
         "type": "string"
        }
       ],
       "ref": "605a0a21-3b79-4295-97b1-fa1782ab3965",
       "rows": [
        [
         "0",
         "NL-5211",
         "51,7000",
         "5,3167",
         "'s-Hertogenbosch",
         "Netherlands"
        ],
        [
         "1",
         "NL-5212",
         "51,7000",
         "5,3167",
         "'s-Hertogenbosch",
         "Netherlands"
        ],
        [
         "2",
         "NL-5213",
         "51,7000",
         "5,3167",
         "'s-Hertogenbosch",
         "Netherlands"
        ],
        [
         "3",
         "NL-5214",
         "51,7000",
         "5,3167",
         "'s-Hertogenbosch",
         "Netherlands"
        ],
        [
         "4",
         "NL-5215",
         "51,7000",
         "5,3167",
         "'s-Hertogenbosch",
         "Netherlands"
        ]
       ],
       "shape": {
        "columns": 5,
        "rows": 5
       }
      },
      "text/html": [
       "<div>\n",
       "<style scoped>\n",
       "    .dataframe tbody tr th:only-of-type {\n",
       "        vertical-align: middle;\n",
       "    }\n",
       "\n",
       "    .dataframe tbody tr th {\n",
       "        vertical-align: top;\n",
       "    }\n",
       "\n",
       "    .dataframe thead th {\n",
       "        text-align: right;\n",
       "    }\n",
       "</style>\n",
       "<table border=\"1\" class=\"dataframe\">\n",
       "  <thead>\n",
       "    <tr style=\"text-align: right;\">\n",
       "      <th></th>\n",
       "      <th>Geo_Postal_Code</th>\n",
       "      <th>Geo_Lat</th>\n",
       "      <th>Geo_Lon</th>\n",
       "      <th>Geolocation_City</th>\n",
       "      <th>Geo_Country</th>\n",
       "    </tr>\n",
       "  </thead>\n",
       "  <tbody>\n",
       "    <tr>\n",
       "      <th>0</th>\n",
       "      <td>NL-5211</td>\n",
       "      <td>51,7000</td>\n",
       "      <td>5,3167</td>\n",
       "      <td>'s-Hertogenbosch</td>\n",
       "      <td>Netherlands</td>\n",
       "    </tr>\n",
       "    <tr>\n",
       "      <th>1</th>\n",
       "      <td>NL-5212</td>\n",
       "      <td>51,7000</td>\n",
       "      <td>5,3167</td>\n",
       "      <td>'s-Hertogenbosch</td>\n",
       "      <td>Netherlands</td>\n",
       "    </tr>\n",
       "    <tr>\n",
       "      <th>2</th>\n",
       "      <td>NL-5213</td>\n",
       "      <td>51,7000</td>\n",
       "      <td>5,3167</td>\n",
       "      <td>'s-Hertogenbosch</td>\n",
       "      <td>Netherlands</td>\n",
       "    </tr>\n",
       "    <tr>\n",
       "      <th>3</th>\n",
       "      <td>NL-5214</td>\n",
       "      <td>51,7000</td>\n",
       "      <td>5,3167</td>\n",
       "      <td>'s-Hertogenbosch</td>\n",
       "      <td>Netherlands</td>\n",
       "    </tr>\n",
       "    <tr>\n",
       "      <th>4</th>\n",
       "      <td>NL-5215</td>\n",
       "      <td>51,7000</td>\n",
       "      <td>5,3167</td>\n",
       "      <td>'s-Hertogenbosch</td>\n",
       "      <td>Netherlands</td>\n",
       "    </tr>\n",
       "  </tbody>\n",
       "</table>\n",
       "</div>"
      ],
      "text/plain": [
       "  Geo_Postal_Code  Geo_Lat Geo_Lon  Geolocation_City  Geo_Country\n",
       "0         NL-5211  51,7000  5,3167  's-Hertogenbosch  Netherlands\n",
       "1         NL-5212  51,7000  5,3167  's-Hertogenbosch  Netherlands\n",
       "2         NL-5213  51,7000  5,3167  's-Hertogenbosch  Netherlands\n",
       "3         NL-5214  51,7000  5,3167  's-Hertogenbosch  Netherlands\n",
       "4         NL-5215  51,7000  5,3167  's-Hertogenbosch  Netherlands"
      ]
     },
     "execution_count": 18,
     "metadata": {},
     "output_type": "execute_result"
    }
   ],
   "source": [
    "geolocations.head(5)"
   ]
  },
  {
   "cell_type": "code",
   "execution_count": 19,
   "id": "7c0a3c02",
   "metadata": {},
   "outputs": [
    {
     "data": {
      "application/vnd.microsoft.datawrangler.viewer.v0+json": {
       "columns": [
        {
         "name": "index",
         "rawType": "object",
         "type": "string"
        },
        {
         "name": "0",
         "rawType": "int64",
         "type": "integer"
        }
       ],
       "ref": "e5f974e5-00d1-498b-b97d-600c3960fd71",
       "rows": [
        [
         "Geo_Postal_Code",
         "998478"
        ],
        [
         "Geo_Lat",
         "998478"
        ],
        [
         "Geo_Lon",
         "998478"
        ],
        [
         "Geolocation_City",
         "998478"
        ],
        [
         "Geo_Country",
         "998478"
        ]
       ],
       "shape": {
        "columns": 1,
        "rows": 5
       }
      },
      "text/plain": [
       "Geo_Postal_Code     998478\n",
       "Geo_Lat             998478\n",
       "Geo_Lon             998478\n",
       "Geolocation_City    998478\n",
       "Geo_Country         998478\n",
       "dtype: int64"
      ]
     },
     "execution_count": 19,
     "metadata": {},
     "output_type": "execute_result"
    }
   ],
   "source": [
    "geolocations.isnull().sum()"
   ]
  },
  {
   "cell_type": "code",
   "execution_count": 20,
   "id": "4488f19a",
   "metadata": {},
   "outputs": [
    {
     "name": "stdout",
     "output_type": "stream",
     "text": [
      "Customer IDs with null values:         Geo_Postal_Code Geo_Lat Geo_Lon Geolocation_City Geo_Country\n",
      "0                   NaN     NaN     NaN              NaN         NaN\n",
      "1                   NaN     NaN     NaN              NaN         NaN\n",
      "2                   NaN     NaN     NaN              NaN         NaN\n",
      "3                   NaN     NaN     NaN              NaN         NaN\n",
      "4                   NaN     NaN     NaN              NaN         NaN\n",
      "...                 ...     ...     ...              ...         ...\n",
      "1000158             NaN     NaN     NaN              NaN         NaN\n",
      "1000159             NaN     NaN     NaN              NaN         NaN\n",
      "1000160             NaN     NaN     NaN              NaN         NaN\n",
      "1000161             NaN     NaN     NaN              NaN         NaN\n",
      "1000162             NaN     NaN     NaN              NaN         NaN\n",
      "\n",
      "[1000163 rows x 5 columns]\n"
     ]
    }
   ],
   "source": [
    "geolocations_null = geolocations[geolocations.isnull()]\n",
    "print(f\"Customer IDs with null values: {geolocations_null}\")"
   ]
  },
  {
   "cell_type": "code",
   "execution_count": 21,
   "id": "45b0a9f5",
   "metadata": {},
   "outputs": [
    {
     "data": {
      "application/vnd.microsoft.datawrangler.viewer.v0+json": {
       "columns": [
        {
         "name": "index",
         "rawType": "object",
         "type": "string"
        },
        {
         "name": "0",
         "rawType": "int64",
         "type": "integer"
        }
       ],
       "ref": "d178b671-8fee-4c8f-9cbc-72b9b8ccc292",
       "rows": [
        [
         "Geo_Postal_Code",
         "0"
        ],
        [
         "Geo_Lat",
         "0"
        ],
        [
         "Geo_Lon",
         "0"
        ],
        [
         "Geolocation_City",
         "0"
        ],
        [
         "Geo_Country",
         "0"
        ]
       ],
       "shape": {
        "columns": 1,
        "rows": 5
       }
      },
      "text/plain": [
       "Geo_Postal_Code     0\n",
       "Geo_Lat             0\n",
       "Geo_Lon             0\n",
       "Geolocation_City    0\n",
       "Geo_Country         0\n",
       "dtype: int64"
      ]
     },
     "execution_count": 21,
     "metadata": {},
     "output_type": "execute_result"
    }
   ],
   "source": [
    "geolocations = geolocations.dropna()\n",
    "geolocations.isnull().sum()"
   ]
  },
  {
   "cell_type": "code",
   "execution_count": 22,
   "id": "526afc8b",
   "metadata": {},
   "outputs": [
    {
     "data": {
      "text/plain": [
       "(1685, 5)"
      ]
     },
     "execution_count": 22,
     "metadata": {},
     "output_type": "execute_result"
    }
   ],
   "source": [
    "geolocations.shape"
   ]
  },
  {
   "cell_type": "code",
   "execution_count": 23,
   "id": "0bafbb5f",
   "metadata": {},
   "outputs": [
    {
     "data": {
      "application/vnd.microsoft.datawrangler.viewer.v0+json": {
       "columns": [
        {
         "name": "index",
         "rawType": "int64",
         "type": "integer"
        },
        {
         "name": "Geo_Postal_Code",
         "rawType": "object",
         "type": "string"
        },
        {
         "name": "Geo_Lat",
         "rawType": "object",
         "type": "string"
        },
        {
         "name": "Geo_Lon",
         "rawType": "object",
         "type": "string"
        },
        {
         "name": "Geolocation_City",
         "rawType": "object",
         "type": "string"
        },
        {
         "name": "Geo_Country",
         "rawType": "object",
         "type": "string"
        }
       ],
       "ref": "b822ce27-6d86-489a-b730-3b7a4ed4b071",
       "rows": [
        [
         "40",
         "PT-2800",
         "38,6760",
         "-9,1650",
         "Almada",
         "Portugal"
        ],
        [
         "44",
         "PT-2840",
         "38,6760",
         "-9,1650",
         "Almada",
         "Portugal"
        ],
        [
         "51",
         "PT-2705",
         "38,7500",
         "-9,2333",
         "Amadora",
         "Portugal"
        ],
        [
         "52",
         "PT-2710",
         "38,7500",
         "-9,2333",
         "Amadora",
         "Portugal"
        ],
        [
         "247",
         "BE-1030",
         "50,8467",
         "4,3525",
         "Brussels",
         "Belgium"
        ],
        [
         "249",
         "BE-1050",
         "50,8467",
         "4,3525",
         "Brussels",
         "Belgium"
        ],
        [
         "269",
         "PT-2785",
         "38,6970",
         "-9,4215",
         "Cascais",
         "Portugal"
        ],
        [
         "451",
         "PT-4430",
         "41,1440",
         "-8,5322",
         "Gondomar",
         "Portugal"
        ],
        [
         "453",
         "PT-4450",
         "41,1440",
         "-8,5322",
         "Gondomar",
         "Portugal"
        ],
        [
         "454",
         "PT-4460",
         "41,1440",
         "-8,5322",
         "Gondomar",
         "Portugal"
        ],
        [
         "540",
         "BE-1050",
         "50,8331",
         "4,3669",
         "Ixelles",
         "Belgium"
        ],
        [
         "693",
         "AT-4050",
         "48,3058",
         "14,2864",
         "Linz",
         "Austria"
        ],
        [
         "694",
         "AT-4060",
         "48,3058",
         "14,2864",
         "Linz",
         "Austria"
        ],
        [
         "721",
         "PT-2675",
         "38,8309",
         "-9,1685",
         "Loures",
         "Portugal"
        ],
        [
         "723",
         "PT-2685",
         "38,8309",
         "-9,1685",
         "Loures",
         "Portugal"
        ],
        [
         "790",
         "PT-4450",
         "41,1867",
         "-8,6844",
         "Matosinhos",
         "Portugal"
        ],
        [
         "791",
         "PT-4460",
         "41,1867",
         "-8,6844",
         "Matosinhos",
         "Portugal"
        ],
        [
         "905",
         "PT-2675",
         "38,7926",
         "-9,1836",
         "Odivelas",
         "Portugal"
        ],
        [
         "906",
         "PT-2685",
         "38,7926",
         "-9,1836",
         "Odivelas",
         "Portugal"
        ],
        [
         "908",
         "PT-2705",
         "38,7926",
         "-9,1836",
         "Odivelas",
         "Portugal"
        ],
        [
         "909",
         "PT-2715",
         "38,7926",
         "-9,1836",
         "Odivelas",
         "Portugal"
        ],
        [
         "911",
         "PT-2785",
         "38,6979",
         "-9,3017",
         "Oeiras",
         "Portugal"
        ],
        [
         "914",
         "PT-2800",
         "38,6979",
         "-9,3017",
         "Oeiras",
         "Portugal"
        ],
        [
         "1080",
         "BE-1030",
         "50,8675",
         "4,3736",
         "Schaerbeek",
         "Belgium"
        ],
        [
         "1085",
         "PT-2840",
         "38,6404",
         "-9,0972",
         "Seixal",
         "Portugal"
        ],
        [
         "1107",
         "BE-9120",
         "51,1644",
         "4,1392",
         "Sint-Niklaas",
         "Belgium"
        ],
        [
         "1110",
         "PT-2710",
         "38,8029",
         "-9,3817",
         "Sintra",
         "Portugal"
        ],
        [
         "1111",
         "PT-2715",
         "38,8029",
         "-9,3817",
         "Sintra",
         "Portugal"
        ],
        [
         "1297",
         "PT-4430",
         "41,1333",
         "-8,6167",
         "Vila Nova de Gaia",
         "Portugal"
        ],
        [
         "1390",
         "BE-9120",
         "51,2000",
         "4,2500",
         "Beveren",
         "Belgium"
        ],
        [
         "1505",
         "AT-4060",
         "48,2792",
         "14,2528",
         "Leonding",
         "Austria"
        ],
        [
         "1640",
         "AT-4050",
         "48,2217",
         "14,2397",
         "Traun",
         "Austria"
        ]
       ],
       "shape": {
        "columns": 5,
        "rows": 32
       }
      },
      "text/html": [
       "<div>\n",
       "<style scoped>\n",
       "    .dataframe tbody tr th:only-of-type {\n",
       "        vertical-align: middle;\n",
       "    }\n",
       "\n",
       "    .dataframe tbody tr th {\n",
       "        vertical-align: top;\n",
       "    }\n",
       "\n",
       "    .dataframe thead th {\n",
       "        text-align: right;\n",
       "    }\n",
       "</style>\n",
       "<table border=\"1\" class=\"dataframe\">\n",
       "  <thead>\n",
       "    <tr style=\"text-align: right;\">\n",
       "      <th></th>\n",
       "      <th>Geo_Postal_Code</th>\n",
       "      <th>Geo_Lat</th>\n",
       "      <th>Geo_Lon</th>\n",
       "      <th>Geolocation_City</th>\n",
       "      <th>Geo_Country</th>\n",
       "    </tr>\n",
       "  </thead>\n",
       "  <tbody>\n",
       "    <tr>\n",
       "      <th>40</th>\n",
       "      <td>PT-2800</td>\n",
       "      <td>38,6760</td>\n",
       "      <td>-9,1650</td>\n",
       "      <td>Almada</td>\n",
       "      <td>Portugal</td>\n",
       "    </tr>\n",
       "    <tr>\n",
       "      <th>44</th>\n",
       "      <td>PT-2840</td>\n",
       "      <td>38,6760</td>\n",
       "      <td>-9,1650</td>\n",
       "      <td>Almada</td>\n",
       "      <td>Portugal</td>\n",
       "    </tr>\n",
       "    <tr>\n",
       "      <th>51</th>\n",
       "      <td>PT-2705</td>\n",
       "      <td>38,7500</td>\n",
       "      <td>-9,2333</td>\n",
       "      <td>Amadora</td>\n",
       "      <td>Portugal</td>\n",
       "    </tr>\n",
       "    <tr>\n",
       "      <th>52</th>\n",
       "      <td>PT-2710</td>\n",
       "      <td>38,7500</td>\n",
       "      <td>-9,2333</td>\n",
       "      <td>Amadora</td>\n",
       "      <td>Portugal</td>\n",
       "    </tr>\n",
       "    <tr>\n",
       "      <th>247</th>\n",
       "      <td>BE-1030</td>\n",
       "      <td>50,8467</td>\n",
       "      <td>4,3525</td>\n",
       "      <td>Brussels</td>\n",
       "      <td>Belgium</td>\n",
       "    </tr>\n",
       "    <tr>\n",
       "      <th>249</th>\n",
       "      <td>BE-1050</td>\n",
       "      <td>50,8467</td>\n",
       "      <td>4,3525</td>\n",
       "      <td>Brussels</td>\n",
       "      <td>Belgium</td>\n",
       "    </tr>\n",
       "    <tr>\n",
       "      <th>269</th>\n",
       "      <td>PT-2785</td>\n",
       "      <td>38,6970</td>\n",
       "      <td>-9,4215</td>\n",
       "      <td>Cascais</td>\n",
       "      <td>Portugal</td>\n",
       "    </tr>\n",
       "    <tr>\n",
       "      <th>451</th>\n",
       "      <td>PT-4430</td>\n",
       "      <td>41,1440</td>\n",
       "      <td>-8,5322</td>\n",
       "      <td>Gondomar</td>\n",
       "      <td>Portugal</td>\n",
       "    </tr>\n",
       "    <tr>\n",
       "      <th>453</th>\n",
       "      <td>PT-4450</td>\n",
       "      <td>41,1440</td>\n",
       "      <td>-8,5322</td>\n",
       "      <td>Gondomar</td>\n",
       "      <td>Portugal</td>\n",
       "    </tr>\n",
       "    <tr>\n",
       "      <th>454</th>\n",
       "      <td>PT-4460</td>\n",
       "      <td>41,1440</td>\n",
       "      <td>-8,5322</td>\n",
       "      <td>Gondomar</td>\n",
       "      <td>Portugal</td>\n",
       "    </tr>\n",
       "    <tr>\n",
       "      <th>540</th>\n",
       "      <td>BE-1050</td>\n",
       "      <td>50,8331</td>\n",
       "      <td>4,3669</td>\n",
       "      <td>Ixelles</td>\n",
       "      <td>Belgium</td>\n",
       "    </tr>\n",
       "    <tr>\n",
       "      <th>693</th>\n",
       "      <td>AT-4050</td>\n",
       "      <td>48,3058</td>\n",
       "      <td>14,2864</td>\n",
       "      <td>Linz</td>\n",
       "      <td>Austria</td>\n",
       "    </tr>\n",
       "    <tr>\n",
       "      <th>694</th>\n",
       "      <td>AT-4060</td>\n",
       "      <td>48,3058</td>\n",
       "      <td>14,2864</td>\n",
       "      <td>Linz</td>\n",
       "      <td>Austria</td>\n",
       "    </tr>\n",
       "    <tr>\n",
       "      <th>721</th>\n",
       "      <td>PT-2675</td>\n",
       "      <td>38,8309</td>\n",
       "      <td>-9,1685</td>\n",
       "      <td>Loures</td>\n",
       "      <td>Portugal</td>\n",
       "    </tr>\n",
       "    <tr>\n",
       "      <th>723</th>\n",
       "      <td>PT-2685</td>\n",
       "      <td>38,8309</td>\n",
       "      <td>-9,1685</td>\n",
       "      <td>Loures</td>\n",
       "      <td>Portugal</td>\n",
       "    </tr>\n",
       "    <tr>\n",
       "      <th>790</th>\n",
       "      <td>PT-4450</td>\n",
       "      <td>41,1867</td>\n",
       "      <td>-8,6844</td>\n",
       "      <td>Matosinhos</td>\n",
       "      <td>Portugal</td>\n",
       "    </tr>\n",
       "    <tr>\n",
       "      <th>791</th>\n",
       "      <td>PT-4460</td>\n",
       "      <td>41,1867</td>\n",
       "      <td>-8,6844</td>\n",
       "      <td>Matosinhos</td>\n",
       "      <td>Portugal</td>\n",
       "    </tr>\n",
       "    <tr>\n",
       "      <th>905</th>\n",
       "      <td>PT-2675</td>\n",
       "      <td>38,7926</td>\n",
       "      <td>-9,1836</td>\n",
       "      <td>Odivelas</td>\n",
       "      <td>Portugal</td>\n",
       "    </tr>\n",
       "    <tr>\n",
       "      <th>906</th>\n",
       "      <td>PT-2685</td>\n",
       "      <td>38,7926</td>\n",
       "      <td>-9,1836</td>\n",
       "      <td>Odivelas</td>\n",
       "      <td>Portugal</td>\n",
       "    </tr>\n",
       "    <tr>\n",
       "      <th>908</th>\n",
       "      <td>PT-2705</td>\n",
       "      <td>38,7926</td>\n",
       "      <td>-9,1836</td>\n",
       "      <td>Odivelas</td>\n",
       "      <td>Portugal</td>\n",
       "    </tr>\n",
       "    <tr>\n",
       "      <th>909</th>\n",
       "      <td>PT-2715</td>\n",
       "      <td>38,7926</td>\n",
       "      <td>-9,1836</td>\n",
       "      <td>Odivelas</td>\n",
       "      <td>Portugal</td>\n",
       "    </tr>\n",
       "    <tr>\n",
       "      <th>911</th>\n",
       "      <td>PT-2785</td>\n",
       "      <td>38,6979</td>\n",
       "      <td>-9,3017</td>\n",
       "      <td>Oeiras</td>\n",
       "      <td>Portugal</td>\n",
       "    </tr>\n",
       "    <tr>\n",
       "      <th>914</th>\n",
       "      <td>PT-2800</td>\n",
       "      <td>38,6979</td>\n",
       "      <td>-9,3017</td>\n",
       "      <td>Oeiras</td>\n",
       "      <td>Portugal</td>\n",
       "    </tr>\n",
       "    <tr>\n",
       "      <th>1080</th>\n",
       "      <td>BE-1030</td>\n",
       "      <td>50,8675</td>\n",
       "      <td>4,3736</td>\n",
       "      <td>Schaerbeek</td>\n",
       "      <td>Belgium</td>\n",
       "    </tr>\n",
       "    <tr>\n",
       "      <th>1085</th>\n",
       "      <td>PT-2840</td>\n",
       "      <td>38,6404</td>\n",
       "      <td>-9,0972</td>\n",
       "      <td>Seixal</td>\n",
       "      <td>Portugal</td>\n",
       "    </tr>\n",
       "    <tr>\n",
       "      <th>1107</th>\n",
       "      <td>BE-9120</td>\n",
       "      <td>51,1644</td>\n",
       "      <td>4,1392</td>\n",
       "      <td>Sint-Niklaas</td>\n",
       "      <td>Belgium</td>\n",
       "    </tr>\n",
       "    <tr>\n",
       "      <th>1110</th>\n",
       "      <td>PT-2710</td>\n",
       "      <td>38,8029</td>\n",
       "      <td>-9,3817</td>\n",
       "      <td>Sintra</td>\n",
       "      <td>Portugal</td>\n",
       "    </tr>\n",
       "    <tr>\n",
       "      <th>1111</th>\n",
       "      <td>PT-2715</td>\n",
       "      <td>38,8029</td>\n",
       "      <td>-9,3817</td>\n",
       "      <td>Sintra</td>\n",
       "      <td>Portugal</td>\n",
       "    </tr>\n",
       "    <tr>\n",
       "      <th>1297</th>\n",
       "      <td>PT-4430</td>\n",
       "      <td>41,1333</td>\n",
       "      <td>-8,6167</td>\n",
       "      <td>Vila Nova de Gaia</td>\n",
       "      <td>Portugal</td>\n",
       "    </tr>\n",
       "    <tr>\n",
       "      <th>1390</th>\n",
       "      <td>BE-9120</td>\n",
       "      <td>51,2000</td>\n",
       "      <td>4,2500</td>\n",
       "      <td>Beveren</td>\n",
       "      <td>Belgium</td>\n",
       "    </tr>\n",
       "    <tr>\n",
       "      <th>1505</th>\n",
       "      <td>AT-4060</td>\n",
       "      <td>48,2792</td>\n",
       "      <td>14,2528</td>\n",
       "      <td>Leonding</td>\n",
       "      <td>Austria</td>\n",
       "    </tr>\n",
       "    <tr>\n",
       "      <th>1640</th>\n",
       "      <td>AT-4050</td>\n",
       "      <td>48,2217</td>\n",
       "      <td>14,2397</td>\n",
       "      <td>Traun</td>\n",
       "      <td>Austria</td>\n",
       "    </tr>\n",
       "  </tbody>\n",
       "</table>\n",
       "</div>"
      ],
      "text/plain": [
       "     Geo_Postal_Code  Geo_Lat  Geo_Lon   Geolocation_City Geo_Country\n",
       "40           PT-2800  38,6760  -9,1650             Almada    Portugal\n",
       "44           PT-2840  38,6760  -9,1650             Almada    Portugal\n",
       "51           PT-2705  38,7500  -9,2333            Amadora    Portugal\n",
       "52           PT-2710  38,7500  -9,2333            Amadora    Portugal\n",
       "247          BE-1030  50,8467   4,3525           Brussels     Belgium\n",
       "249          BE-1050  50,8467   4,3525           Brussels     Belgium\n",
       "269          PT-2785  38,6970  -9,4215            Cascais    Portugal\n",
       "451          PT-4430  41,1440  -8,5322           Gondomar    Portugal\n",
       "453          PT-4450  41,1440  -8,5322           Gondomar    Portugal\n",
       "454          PT-4460  41,1440  -8,5322           Gondomar    Portugal\n",
       "540          BE-1050  50,8331   4,3669            Ixelles     Belgium\n",
       "693          AT-4050  48,3058  14,2864               Linz     Austria\n",
       "694          AT-4060  48,3058  14,2864               Linz     Austria\n",
       "721          PT-2675  38,8309  -9,1685             Loures    Portugal\n",
       "723          PT-2685  38,8309  -9,1685             Loures    Portugal\n",
       "790          PT-4450  41,1867  -8,6844         Matosinhos    Portugal\n",
       "791          PT-4460  41,1867  -8,6844         Matosinhos    Portugal\n",
       "905          PT-2675  38,7926  -9,1836           Odivelas    Portugal\n",
       "906          PT-2685  38,7926  -9,1836           Odivelas    Portugal\n",
       "908          PT-2705  38,7926  -9,1836           Odivelas    Portugal\n",
       "909          PT-2715  38,7926  -9,1836           Odivelas    Portugal\n",
       "911          PT-2785  38,6979  -9,3017             Oeiras    Portugal\n",
       "914          PT-2800  38,6979  -9,3017             Oeiras    Portugal\n",
       "1080         BE-1030  50,8675   4,3736         Schaerbeek     Belgium\n",
       "1085         PT-2840  38,6404  -9,0972             Seixal    Portugal\n",
       "1107         BE-9120  51,1644   4,1392       Sint-Niklaas     Belgium\n",
       "1110         PT-2710  38,8029  -9,3817             Sintra    Portugal\n",
       "1111         PT-2715  38,8029  -9,3817             Sintra    Portugal\n",
       "1297         PT-4430  41,1333  -8,6167  Vila Nova de Gaia    Portugal\n",
       "1390         BE-9120  51,2000   4,2500            Beveren     Belgium\n",
       "1505         AT-4060  48,2792  14,2528           Leonding     Austria\n",
       "1640         AT-4050  48,2217  14,2397              Traun     Austria"
      ]
     },
     "execution_count": 23,
     "metadata": {},
     "output_type": "execute_result"
    }
   ],
   "source": [
    "geolocations_duplicates = geolocations[geolocations.duplicated(subset=['Geo_Postal_Code'], keep=False)]\n",
    "geolocations_duplicates"
   ]
  },
  {
   "cell_type": "code",
   "execution_count": 24,
   "id": "db008c36",
   "metadata": {},
   "outputs": [
    {
     "data": {
      "text/plain": [
       "(32, 5)"
      ]
     },
     "execution_count": 24,
     "metadata": {},
     "output_type": "execute_result"
    }
   ],
   "source": [
    "geolocations_duplicates.shape"
   ]
  },
  {
   "cell_type": "code",
   "execution_count": 25,
   "id": "5496ba5c",
   "metadata": {},
   "outputs": [
    {
     "data": {
      "application/vnd.microsoft.datawrangler.viewer.v0+json": {
       "columns": [
        {
         "name": "index",
         "rawType": "int64",
         "type": "integer"
        },
        {
         "name": "Geo_Postal_Code",
         "rawType": "object",
         "type": "string"
        },
        {
         "name": "Geo_Lat",
         "rawType": "object",
         "type": "string"
        },
        {
         "name": "Geo_Lon",
         "rawType": "object",
         "type": "string"
        },
        {
         "name": "Geolocation_City",
         "rawType": "object",
         "type": "string"
        },
        {
         "name": "Geo_Country",
         "rawType": "object",
         "type": "string"
        }
       ],
       "ref": "fa381302-9037-431c-b7f3-565d2f3e9d7d",
       "rows": [
        [
         "693",
         "AT-4050",
         "48,3058",
         "14,2864",
         "Linz",
         "Austria"
        ],
        [
         "1640",
         "AT-4050",
         "48,2217",
         "14,2397",
         "Traun",
         "Austria"
        ]
       ],
       "shape": {
        "columns": 5,
        "rows": 2
       }
      },
      "text/html": [
       "<div>\n",
       "<style scoped>\n",
       "    .dataframe tbody tr th:only-of-type {\n",
       "        vertical-align: middle;\n",
       "    }\n",
       "\n",
       "    .dataframe tbody tr th {\n",
       "        vertical-align: top;\n",
       "    }\n",
       "\n",
       "    .dataframe thead th {\n",
       "        text-align: right;\n",
       "    }\n",
       "</style>\n",
       "<table border=\"1\" class=\"dataframe\">\n",
       "  <thead>\n",
       "    <tr style=\"text-align: right;\">\n",
       "      <th></th>\n",
       "      <th>Geo_Postal_Code</th>\n",
       "      <th>Geo_Lat</th>\n",
       "      <th>Geo_Lon</th>\n",
       "      <th>Geolocation_City</th>\n",
       "      <th>Geo_Country</th>\n",
       "    </tr>\n",
       "  </thead>\n",
       "  <tbody>\n",
       "    <tr>\n",
       "      <th>693</th>\n",
       "      <td>AT-4050</td>\n",
       "      <td>48,3058</td>\n",
       "      <td>14,2864</td>\n",
       "      <td>Linz</td>\n",
       "      <td>Austria</td>\n",
       "    </tr>\n",
       "    <tr>\n",
       "      <th>1640</th>\n",
       "      <td>AT-4050</td>\n",
       "      <td>48,2217</td>\n",
       "      <td>14,2397</td>\n",
       "      <td>Traun</td>\n",
       "      <td>Austria</td>\n",
       "    </tr>\n",
       "  </tbody>\n",
       "</table>\n",
       "</div>"
      ],
      "text/plain": [
       "     Geo_Postal_Code  Geo_Lat  Geo_Lon Geolocation_City Geo_Country\n",
       "693          AT-4050  48,3058  14,2864             Linz     Austria\n",
       "1640         AT-4050  48,2217  14,2397            Traun     Austria"
      ]
     },
     "execution_count": 25,
     "metadata": {},
     "output_type": "execute_result"
    }
   ],
   "source": [
    "geolocations_duplicates_filtered = geolocations_duplicates[geolocations_duplicates['Geo_Postal_Code'] == 'AT-4050']\n",
    "geolocations_duplicates_filtered"
   ]
  },
  {
   "cell_type": "code",
   "execution_count": 26,
   "id": "f98bb23d",
   "metadata": {},
   "outputs": [
    {
     "data": {
      "application/vnd.microsoft.datawrangler.viewer.v0+json": {
       "columns": [
        {
         "name": "index",
         "rawType": "int64",
         "type": "integer"
        },
        {
         "name": "Geo_Postal_Code",
         "rawType": "object",
         "type": "string"
        },
        {
         "name": "Geo_Lat",
         "rawType": "object",
         "type": "string"
        },
        {
         "name": "Geo_Lon",
         "rawType": "object",
         "type": "string"
        },
        {
         "name": "Geolocation_City",
         "rawType": "object",
         "type": "string"
        },
        {
         "name": "Geo_Country",
         "rawType": "object",
         "type": "string"
        }
       ],
       "ref": "6ec64989-8553-4611-b033-d846e2522dad",
       "rows": [
        [
         "959",
         "FR-75005",
         "48,8567",
         "2,3522",
         "Paris",
         "France"
        ]
       ],
       "shape": {
        "columns": 5,
        "rows": 1
       }
      },
      "text/html": [
       "<div>\n",
       "<style scoped>\n",
       "    .dataframe tbody tr th:only-of-type {\n",
       "        vertical-align: middle;\n",
       "    }\n",
       "\n",
       "    .dataframe tbody tr th {\n",
       "        vertical-align: top;\n",
       "    }\n",
       "\n",
       "    .dataframe thead th {\n",
       "        text-align: right;\n",
       "    }\n",
       "</style>\n",
       "<table border=\"1\" class=\"dataframe\">\n",
       "  <thead>\n",
       "    <tr style=\"text-align: right;\">\n",
       "      <th></th>\n",
       "      <th>Geo_Postal_Code</th>\n",
       "      <th>Geo_Lat</th>\n",
       "      <th>Geo_Lon</th>\n",
       "      <th>Geolocation_City</th>\n",
       "      <th>Geo_Country</th>\n",
       "    </tr>\n",
       "  </thead>\n",
       "  <tbody>\n",
       "    <tr>\n",
       "      <th>959</th>\n",
       "      <td>FR-75005</td>\n",
       "      <td>48,8567</td>\n",
       "      <td>2,3522</td>\n",
       "      <td>Paris</td>\n",
       "      <td>France</td>\n",
       "    </tr>\n",
       "  </tbody>\n",
       "</table>\n",
       "</div>"
      ],
      "text/plain": [
       "    Geo_Postal_Code  Geo_Lat Geo_Lon Geolocation_City Geo_Country\n",
       "959        FR-75005  48,8567  2,3522            Paris      France"
      ]
     },
     "execution_count": 26,
     "metadata": {},
     "output_type": "execute_result"
    }
   ],
   "source": [
    "geolocations[geolocations['Geo_Postal_Code'] == 'FR-75005']"
   ]
  },
  {
   "cell_type": "code",
   "execution_count": 27,
   "id": "5564ef56",
   "metadata": {},
   "outputs": [],
   "source": [
    "# Si las columnas tienen comas en lugar de puntos (en lat/lon), corrígelo antes (opcional)\n",
    "geolocations['Geo_Lat'] = geolocations['Geo_Lat'].astype(str).str.replace(',', '.').astype(float)\n",
    "geolocations['Geo_Lon'] = geolocations['Geo_Lon'].astype(str).str.replace(',', '.').astype(float)\n",
    "\n",
    "# Aplicar el código postal representativo a cada fila según la ciudad\n",
    "postal_by_city = geolocations.groupby(\"Geolocation_City\")[\"Geo_Postal_Code\"].agg(lambda x: x.mode().iloc[0])\n",
    "geolocations[\"Geo_Postal_Code_Mode\"] = geolocations[\"Geolocation_City\"].map(postal_by_city)\n",
    "\n",
    "# (Opcional) Eliminar duplicados exactos ahora que los códigos son únicos por ciudad\n",
    "geolocations = geolocations.drop_duplicates()"
   ]
  },
  {
   "cell_type": "code",
   "execution_count": 28,
   "id": "567952f0",
   "metadata": {},
   "outputs": [
    {
     "data": {
      "application/vnd.microsoft.datawrangler.viewer.v0+json": {
       "columns": [
        {
         "name": "index",
         "rawType": "int64",
         "type": "integer"
        },
        {
         "name": "Geo_Postal_Code",
         "rawType": "object",
         "type": "string"
        },
        {
         "name": "Geo_Lat",
         "rawType": "float64",
         "type": "float"
        },
        {
         "name": "Geo_Lon",
         "rawType": "float64",
         "type": "float"
        },
        {
         "name": "Geolocation_City",
         "rawType": "object",
         "type": "string"
        },
        {
         "name": "Geo_Country",
         "rawType": "object",
         "type": "string"
        },
        {
         "name": "Geo_Postal_Code_Mode",
         "rawType": "object",
         "type": "string"
        }
       ],
       "ref": "531d4d5f-77d5-42d8-8e49-3f5748d3328f",
       "rows": [
        [
         "959",
         "FR-75005",
         "48.8567",
         "2.3522",
         "Paris",
         "France",
         "FR-75001"
        ]
       ],
       "shape": {
        "columns": 6,
        "rows": 1
       }
      },
      "text/html": [
       "<div>\n",
       "<style scoped>\n",
       "    .dataframe tbody tr th:only-of-type {\n",
       "        vertical-align: middle;\n",
       "    }\n",
       "\n",
       "    .dataframe tbody tr th {\n",
       "        vertical-align: top;\n",
       "    }\n",
       "\n",
       "    .dataframe thead th {\n",
       "        text-align: right;\n",
       "    }\n",
       "</style>\n",
       "<table border=\"1\" class=\"dataframe\">\n",
       "  <thead>\n",
       "    <tr style=\"text-align: right;\">\n",
       "      <th></th>\n",
       "      <th>Geo_Postal_Code</th>\n",
       "      <th>Geo_Lat</th>\n",
       "      <th>Geo_Lon</th>\n",
       "      <th>Geolocation_City</th>\n",
       "      <th>Geo_Country</th>\n",
       "      <th>Geo_Postal_Code_Mode</th>\n",
       "    </tr>\n",
       "  </thead>\n",
       "  <tbody>\n",
       "    <tr>\n",
       "      <th>959</th>\n",
       "      <td>FR-75005</td>\n",
       "      <td>48.8567</td>\n",
       "      <td>2.3522</td>\n",
       "      <td>Paris</td>\n",
       "      <td>France</td>\n",
       "      <td>FR-75001</td>\n",
       "    </tr>\n",
       "  </tbody>\n",
       "</table>\n",
       "</div>"
      ],
      "text/plain": [
       "    Geo_Postal_Code  Geo_Lat  Geo_Lon Geolocation_City Geo_Country  \\\n",
       "959        FR-75005  48.8567   2.3522            Paris      France   \n",
       "\n",
       "    Geo_Postal_Code_Mode  \n",
       "959             FR-75001  "
      ]
     },
     "execution_count": 28,
     "metadata": {},
     "output_type": "execute_result"
    }
   ],
   "source": [
    "geolocations[geolocations['Geo_Postal_Code'] == 'FR-75005']"
   ]
  },
  {
   "cell_type": "code",
   "execution_count": 29,
   "id": "5fc40134",
   "metadata": {},
   "outputs": [
    {
     "data": {
      "application/vnd.microsoft.datawrangler.viewer.v0+json": {
       "columns": [
        {
         "name": "index",
         "rawType": "int64",
         "type": "integer"
        },
        {
         "name": "Geo_Postal_Code",
         "rawType": "object",
         "type": "string"
        },
        {
         "name": "Geo_Lat",
         "rawType": "float64",
         "type": "float"
        },
        {
         "name": "Geo_Lon",
         "rawType": "float64",
         "type": "float"
        },
        {
         "name": "Geolocation_City",
         "rawType": "object",
         "type": "string"
        },
        {
         "name": "Geo_Country",
         "rawType": "object",
         "type": "string"
        },
        {
         "name": "Geo_Postal_Code_Mode",
         "rawType": "object",
         "type": "string"
        }
       ],
       "ref": "5f2e664a-8119-4cd4-a8ae-a02404b0e067",
       "rows": [
        [
         "40",
         "PT-2800",
         "38.676",
         "-9.165",
         "Almada",
         "Portugal",
         "PT-2800"
        ],
        [
         "44",
         "PT-2840",
         "38.676",
         "-9.165",
         "Almada",
         "Portugal",
         "PT-2800"
        ],
        [
         "51",
         "PT-2705",
         "38.75",
         "-9.2333",
         "Amadora",
         "Portugal",
         "PT-2700"
        ],
        [
         "52",
         "PT-2710",
         "38.75",
         "-9.2333",
         "Amadora",
         "Portugal",
         "PT-2700"
        ],
        [
         "247",
         "BE-1030",
         "50.8467",
         "4.3525",
         "Brussels",
         "Belgium",
         "BE-1000"
        ],
        [
         "249",
         "BE-1050",
         "50.8467",
         "4.3525",
         "Brussels",
         "Belgium",
         "BE-1000"
        ],
        [
         "269",
         "PT-2785",
         "38.697",
         "-9.4215",
         "Cascais",
         "Portugal",
         "PT-2750"
        ],
        [
         "451",
         "PT-4430",
         "41.144",
         "-8.5322",
         "Gondomar",
         "Portugal",
         "PT-4420"
        ],
        [
         "453",
         "PT-4450",
         "41.144",
         "-8.5322",
         "Gondomar",
         "Portugal",
         "PT-4420"
        ],
        [
         "454",
         "PT-4460",
         "41.144",
         "-8.5322",
         "Gondomar",
         "Portugal",
         "PT-4420"
        ],
        [
         "540",
         "BE-1050",
         "50.8331",
         "4.3669",
         "Ixelles",
         "Belgium",
         "BE-1050"
        ],
        [
         "693",
         "AT-4050",
         "48.3058",
         "14.2864",
         "Linz",
         "Austria",
         "AT-4020"
        ],
        [
         "694",
         "AT-4060",
         "48.3058",
         "14.2864",
         "Linz",
         "Austria",
         "AT-4020"
        ],
        [
         "721",
         "PT-2675",
         "38.8309",
         "-9.1685",
         "Loures",
         "Portugal",
         "PT-2670"
        ],
        [
         "723",
         "PT-2685",
         "38.8309",
         "-9.1685",
         "Loures",
         "Portugal",
         "PT-2670"
        ],
        [
         "790",
         "PT-4450",
         "41.1867",
         "-8.6844",
         "Matosinhos",
         "Portugal",
         "PT-4450"
        ],
        [
         "791",
         "PT-4460",
         "41.1867",
         "-8.6844",
         "Matosinhos",
         "Portugal",
         "PT-4450"
        ],
        [
         "905",
         "PT-2675",
         "38.7926",
         "-9.1836",
         "Odivelas",
         "Portugal",
         "PT-2675"
        ],
        [
         "906",
         "PT-2685",
         "38.7926",
         "-9.1836",
         "Odivelas",
         "Portugal",
         "PT-2675"
        ],
        [
         "908",
         "PT-2705",
         "38.7926",
         "-9.1836",
         "Odivelas",
         "Portugal",
         "PT-2675"
        ],
        [
         "909",
         "PT-2715",
         "38.7926",
         "-9.1836",
         "Odivelas",
         "Portugal",
         "PT-2675"
        ],
        [
         "911",
         "PT-2785",
         "38.6979",
         "-9.3017",
         "Oeiras",
         "Portugal",
         "PT-2780"
        ],
        [
         "914",
         "PT-2800",
         "38.6979",
         "-9.3017",
         "Oeiras",
         "Portugal",
         "PT-2780"
        ],
        [
         "1080",
         "BE-1030",
         "50.8675",
         "4.3736",
         "Schaerbeek",
         "Belgium",
         "BE-1030"
        ],
        [
         "1085",
         "PT-2840",
         "38.6404",
         "-9.0972",
         "Seixal",
         "Portugal",
         "PT-2840"
        ],
        [
         "1107",
         "BE-9120",
         "51.1644",
         "4.1392",
         "Sint-Niklaas",
         "Belgium",
         "BE-9100"
        ],
        [
         "1110",
         "PT-2710",
         "38.8029",
         "-9.3817",
         "Sintra",
         "Portugal",
         "PT-2710"
        ],
        [
         "1111",
         "PT-2715",
         "38.8029",
         "-9.3817",
         "Sintra",
         "Portugal",
         "PT-2710"
        ],
        [
         "1297",
         "PT-4430",
         "41.1333",
         "-8.6167",
         "Vila Nova de Gaia",
         "Portugal",
         "PT-4400"
        ],
        [
         "1390",
         "BE-9120",
         "51.2",
         "4.25",
         "Beveren",
         "Belgium",
         "BE-9120"
        ],
        [
         "1505",
         "AT-4060",
         "48.2792",
         "14.2528",
         "Leonding",
         "Austria",
         "AT-4060"
        ],
        [
         "1640",
         "AT-4050",
         "48.2217",
         "14.2397",
         "Traun",
         "Austria",
         "AT-4050"
        ]
       ],
       "shape": {
        "columns": 6,
        "rows": 32
       }
      },
      "text/html": [
       "<div>\n",
       "<style scoped>\n",
       "    .dataframe tbody tr th:only-of-type {\n",
       "        vertical-align: middle;\n",
       "    }\n",
       "\n",
       "    .dataframe tbody tr th {\n",
       "        vertical-align: top;\n",
       "    }\n",
       "\n",
       "    .dataframe thead th {\n",
       "        text-align: right;\n",
       "    }\n",
       "</style>\n",
       "<table border=\"1\" class=\"dataframe\">\n",
       "  <thead>\n",
       "    <tr style=\"text-align: right;\">\n",
       "      <th></th>\n",
       "      <th>Geo_Postal_Code</th>\n",
       "      <th>Geo_Lat</th>\n",
       "      <th>Geo_Lon</th>\n",
       "      <th>Geolocation_City</th>\n",
       "      <th>Geo_Country</th>\n",
       "      <th>Geo_Postal_Code_Mode</th>\n",
       "    </tr>\n",
       "  </thead>\n",
       "  <tbody>\n",
       "    <tr>\n",
       "      <th>40</th>\n",
       "      <td>PT-2800</td>\n",
       "      <td>38.6760</td>\n",
       "      <td>-9.1650</td>\n",
       "      <td>Almada</td>\n",
       "      <td>Portugal</td>\n",
       "      <td>PT-2800</td>\n",
       "    </tr>\n",
       "    <tr>\n",
       "      <th>44</th>\n",
       "      <td>PT-2840</td>\n",
       "      <td>38.6760</td>\n",
       "      <td>-9.1650</td>\n",
       "      <td>Almada</td>\n",
       "      <td>Portugal</td>\n",
       "      <td>PT-2800</td>\n",
       "    </tr>\n",
       "    <tr>\n",
       "      <th>51</th>\n",
       "      <td>PT-2705</td>\n",
       "      <td>38.7500</td>\n",
       "      <td>-9.2333</td>\n",
       "      <td>Amadora</td>\n",
       "      <td>Portugal</td>\n",
       "      <td>PT-2700</td>\n",
       "    </tr>\n",
       "    <tr>\n",
       "      <th>52</th>\n",
       "      <td>PT-2710</td>\n",
       "      <td>38.7500</td>\n",
       "      <td>-9.2333</td>\n",
       "      <td>Amadora</td>\n",
       "      <td>Portugal</td>\n",
       "      <td>PT-2700</td>\n",
       "    </tr>\n",
       "    <tr>\n",
       "      <th>247</th>\n",
       "      <td>BE-1030</td>\n",
       "      <td>50.8467</td>\n",
       "      <td>4.3525</td>\n",
       "      <td>Brussels</td>\n",
       "      <td>Belgium</td>\n",
       "      <td>BE-1000</td>\n",
       "    </tr>\n",
       "    <tr>\n",
       "      <th>249</th>\n",
       "      <td>BE-1050</td>\n",
       "      <td>50.8467</td>\n",
       "      <td>4.3525</td>\n",
       "      <td>Brussels</td>\n",
       "      <td>Belgium</td>\n",
       "      <td>BE-1000</td>\n",
       "    </tr>\n",
       "    <tr>\n",
       "      <th>269</th>\n",
       "      <td>PT-2785</td>\n",
       "      <td>38.6970</td>\n",
       "      <td>-9.4215</td>\n",
       "      <td>Cascais</td>\n",
       "      <td>Portugal</td>\n",
       "      <td>PT-2750</td>\n",
       "    </tr>\n",
       "    <tr>\n",
       "      <th>451</th>\n",
       "      <td>PT-4430</td>\n",
       "      <td>41.1440</td>\n",
       "      <td>-8.5322</td>\n",
       "      <td>Gondomar</td>\n",
       "      <td>Portugal</td>\n",
       "      <td>PT-4420</td>\n",
       "    </tr>\n",
       "    <tr>\n",
       "      <th>453</th>\n",
       "      <td>PT-4450</td>\n",
       "      <td>41.1440</td>\n",
       "      <td>-8.5322</td>\n",
       "      <td>Gondomar</td>\n",
       "      <td>Portugal</td>\n",
       "      <td>PT-4420</td>\n",
       "    </tr>\n",
       "    <tr>\n",
       "      <th>454</th>\n",
       "      <td>PT-4460</td>\n",
       "      <td>41.1440</td>\n",
       "      <td>-8.5322</td>\n",
       "      <td>Gondomar</td>\n",
       "      <td>Portugal</td>\n",
       "      <td>PT-4420</td>\n",
       "    </tr>\n",
       "    <tr>\n",
       "      <th>540</th>\n",
       "      <td>BE-1050</td>\n",
       "      <td>50.8331</td>\n",
       "      <td>4.3669</td>\n",
       "      <td>Ixelles</td>\n",
       "      <td>Belgium</td>\n",
       "      <td>BE-1050</td>\n",
       "    </tr>\n",
       "    <tr>\n",
       "      <th>693</th>\n",
       "      <td>AT-4050</td>\n",
       "      <td>48.3058</td>\n",
       "      <td>14.2864</td>\n",
       "      <td>Linz</td>\n",
       "      <td>Austria</td>\n",
       "      <td>AT-4020</td>\n",
       "    </tr>\n",
       "    <tr>\n",
       "      <th>694</th>\n",
       "      <td>AT-4060</td>\n",
       "      <td>48.3058</td>\n",
       "      <td>14.2864</td>\n",
       "      <td>Linz</td>\n",
       "      <td>Austria</td>\n",
       "      <td>AT-4020</td>\n",
       "    </tr>\n",
       "    <tr>\n",
       "      <th>721</th>\n",
       "      <td>PT-2675</td>\n",
       "      <td>38.8309</td>\n",
       "      <td>-9.1685</td>\n",
       "      <td>Loures</td>\n",
       "      <td>Portugal</td>\n",
       "      <td>PT-2670</td>\n",
       "    </tr>\n",
       "    <tr>\n",
       "      <th>723</th>\n",
       "      <td>PT-2685</td>\n",
       "      <td>38.8309</td>\n",
       "      <td>-9.1685</td>\n",
       "      <td>Loures</td>\n",
       "      <td>Portugal</td>\n",
       "      <td>PT-2670</td>\n",
       "    </tr>\n",
       "    <tr>\n",
       "      <th>790</th>\n",
       "      <td>PT-4450</td>\n",
       "      <td>41.1867</td>\n",
       "      <td>-8.6844</td>\n",
       "      <td>Matosinhos</td>\n",
       "      <td>Portugal</td>\n",
       "      <td>PT-4450</td>\n",
       "    </tr>\n",
       "    <tr>\n",
       "      <th>791</th>\n",
       "      <td>PT-4460</td>\n",
       "      <td>41.1867</td>\n",
       "      <td>-8.6844</td>\n",
       "      <td>Matosinhos</td>\n",
       "      <td>Portugal</td>\n",
       "      <td>PT-4450</td>\n",
       "    </tr>\n",
       "    <tr>\n",
       "      <th>905</th>\n",
       "      <td>PT-2675</td>\n",
       "      <td>38.7926</td>\n",
       "      <td>-9.1836</td>\n",
       "      <td>Odivelas</td>\n",
       "      <td>Portugal</td>\n",
       "      <td>PT-2675</td>\n",
       "    </tr>\n",
       "    <tr>\n",
       "      <th>906</th>\n",
       "      <td>PT-2685</td>\n",
       "      <td>38.7926</td>\n",
       "      <td>-9.1836</td>\n",
       "      <td>Odivelas</td>\n",
       "      <td>Portugal</td>\n",
       "      <td>PT-2675</td>\n",
       "    </tr>\n",
       "    <tr>\n",
       "      <th>908</th>\n",
       "      <td>PT-2705</td>\n",
       "      <td>38.7926</td>\n",
       "      <td>-9.1836</td>\n",
       "      <td>Odivelas</td>\n",
       "      <td>Portugal</td>\n",
       "      <td>PT-2675</td>\n",
       "    </tr>\n",
       "    <tr>\n",
       "      <th>909</th>\n",
       "      <td>PT-2715</td>\n",
       "      <td>38.7926</td>\n",
       "      <td>-9.1836</td>\n",
       "      <td>Odivelas</td>\n",
       "      <td>Portugal</td>\n",
       "      <td>PT-2675</td>\n",
       "    </tr>\n",
       "    <tr>\n",
       "      <th>911</th>\n",
       "      <td>PT-2785</td>\n",
       "      <td>38.6979</td>\n",
       "      <td>-9.3017</td>\n",
       "      <td>Oeiras</td>\n",
       "      <td>Portugal</td>\n",
       "      <td>PT-2780</td>\n",
       "    </tr>\n",
       "    <tr>\n",
       "      <th>914</th>\n",
       "      <td>PT-2800</td>\n",
       "      <td>38.6979</td>\n",
       "      <td>-9.3017</td>\n",
       "      <td>Oeiras</td>\n",
       "      <td>Portugal</td>\n",
       "      <td>PT-2780</td>\n",
       "    </tr>\n",
       "    <tr>\n",
       "      <th>1080</th>\n",
       "      <td>BE-1030</td>\n",
       "      <td>50.8675</td>\n",
       "      <td>4.3736</td>\n",
       "      <td>Schaerbeek</td>\n",
       "      <td>Belgium</td>\n",
       "      <td>BE-1030</td>\n",
       "    </tr>\n",
       "    <tr>\n",
       "      <th>1085</th>\n",
       "      <td>PT-2840</td>\n",
       "      <td>38.6404</td>\n",
       "      <td>-9.0972</td>\n",
       "      <td>Seixal</td>\n",
       "      <td>Portugal</td>\n",
       "      <td>PT-2840</td>\n",
       "    </tr>\n",
       "    <tr>\n",
       "      <th>1107</th>\n",
       "      <td>BE-9120</td>\n",
       "      <td>51.1644</td>\n",
       "      <td>4.1392</td>\n",
       "      <td>Sint-Niklaas</td>\n",
       "      <td>Belgium</td>\n",
       "      <td>BE-9100</td>\n",
       "    </tr>\n",
       "    <tr>\n",
       "      <th>1110</th>\n",
       "      <td>PT-2710</td>\n",
       "      <td>38.8029</td>\n",
       "      <td>-9.3817</td>\n",
       "      <td>Sintra</td>\n",
       "      <td>Portugal</td>\n",
       "      <td>PT-2710</td>\n",
       "    </tr>\n",
       "    <tr>\n",
       "      <th>1111</th>\n",
       "      <td>PT-2715</td>\n",
       "      <td>38.8029</td>\n",
       "      <td>-9.3817</td>\n",
       "      <td>Sintra</td>\n",
       "      <td>Portugal</td>\n",
       "      <td>PT-2710</td>\n",
       "    </tr>\n",
       "    <tr>\n",
       "      <th>1297</th>\n",
       "      <td>PT-4430</td>\n",
       "      <td>41.1333</td>\n",
       "      <td>-8.6167</td>\n",
       "      <td>Vila Nova de Gaia</td>\n",
       "      <td>Portugal</td>\n",
       "      <td>PT-4400</td>\n",
       "    </tr>\n",
       "    <tr>\n",
       "      <th>1390</th>\n",
       "      <td>BE-9120</td>\n",
       "      <td>51.2000</td>\n",
       "      <td>4.2500</td>\n",
       "      <td>Beveren</td>\n",
       "      <td>Belgium</td>\n",
       "      <td>BE-9120</td>\n",
       "    </tr>\n",
       "    <tr>\n",
       "      <th>1505</th>\n",
       "      <td>AT-4060</td>\n",
       "      <td>48.2792</td>\n",
       "      <td>14.2528</td>\n",
       "      <td>Leonding</td>\n",
       "      <td>Austria</td>\n",
       "      <td>AT-4060</td>\n",
       "    </tr>\n",
       "    <tr>\n",
       "      <th>1640</th>\n",
       "      <td>AT-4050</td>\n",
       "      <td>48.2217</td>\n",
       "      <td>14.2397</td>\n",
       "      <td>Traun</td>\n",
       "      <td>Austria</td>\n",
       "      <td>AT-4050</td>\n",
       "    </tr>\n",
       "  </tbody>\n",
       "</table>\n",
       "</div>"
      ],
      "text/plain": [
       "     Geo_Postal_Code  Geo_Lat  Geo_Lon   Geolocation_City Geo_Country  \\\n",
       "40           PT-2800  38.6760  -9.1650             Almada    Portugal   \n",
       "44           PT-2840  38.6760  -9.1650             Almada    Portugal   \n",
       "51           PT-2705  38.7500  -9.2333            Amadora    Portugal   \n",
       "52           PT-2710  38.7500  -9.2333            Amadora    Portugal   \n",
       "247          BE-1030  50.8467   4.3525           Brussels     Belgium   \n",
       "249          BE-1050  50.8467   4.3525           Brussels     Belgium   \n",
       "269          PT-2785  38.6970  -9.4215            Cascais    Portugal   \n",
       "451          PT-4430  41.1440  -8.5322           Gondomar    Portugal   \n",
       "453          PT-4450  41.1440  -8.5322           Gondomar    Portugal   \n",
       "454          PT-4460  41.1440  -8.5322           Gondomar    Portugal   \n",
       "540          BE-1050  50.8331   4.3669            Ixelles     Belgium   \n",
       "693          AT-4050  48.3058  14.2864               Linz     Austria   \n",
       "694          AT-4060  48.3058  14.2864               Linz     Austria   \n",
       "721          PT-2675  38.8309  -9.1685             Loures    Portugal   \n",
       "723          PT-2685  38.8309  -9.1685             Loures    Portugal   \n",
       "790          PT-4450  41.1867  -8.6844         Matosinhos    Portugal   \n",
       "791          PT-4460  41.1867  -8.6844         Matosinhos    Portugal   \n",
       "905          PT-2675  38.7926  -9.1836           Odivelas    Portugal   \n",
       "906          PT-2685  38.7926  -9.1836           Odivelas    Portugal   \n",
       "908          PT-2705  38.7926  -9.1836           Odivelas    Portugal   \n",
       "909          PT-2715  38.7926  -9.1836           Odivelas    Portugal   \n",
       "911          PT-2785  38.6979  -9.3017             Oeiras    Portugal   \n",
       "914          PT-2800  38.6979  -9.3017             Oeiras    Portugal   \n",
       "1080         BE-1030  50.8675   4.3736         Schaerbeek     Belgium   \n",
       "1085         PT-2840  38.6404  -9.0972             Seixal    Portugal   \n",
       "1107         BE-9120  51.1644   4.1392       Sint-Niklaas     Belgium   \n",
       "1110         PT-2710  38.8029  -9.3817             Sintra    Portugal   \n",
       "1111         PT-2715  38.8029  -9.3817             Sintra    Portugal   \n",
       "1297         PT-4430  41.1333  -8.6167  Vila Nova de Gaia    Portugal   \n",
       "1390         BE-9120  51.2000   4.2500            Beveren     Belgium   \n",
       "1505         AT-4060  48.2792  14.2528           Leonding     Austria   \n",
       "1640         AT-4050  48.2217  14.2397              Traun     Austria   \n",
       "\n",
       "     Geo_Postal_Code_Mode  \n",
       "40                PT-2800  \n",
       "44                PT-2800  \n",
       "51                PT-2700  \n",
       "52                PT-2700  \n",
       "247               BE-1000  \n",
       "249               BE-1000  \n",
       "269               PT-2750  \n",
       "451               PT-4420  \n",
       "453               PT-4420  \n",
       "454               PT-4420  \n",
       "540               BE-1050  \n",
       "693               AT-4020  \n",
       "694               AT-4020  \n",
       "721               PT-2670  \n",
       "723               PT-2670  \n",
       "790               PT-4450  \n",
       "791               PT-4450  \n",
       "905               PT-2675  \n",
       "906               PT-2675  \n",
       "908               PT-2675  \n",
       "909               PT-2675  \n",
       "911               PT-2780  \n",
       "914               PT-2780  \n",
       "1080              BE-1030  \n",
       "1085              PT-2840  \n",
       "1107              BE-9100  \n",
       "1110              PT-2710  \n",
       "1111              PT-2710  \n",
       "1297              PT-4400  \n",
       "1390              BE-9120  \n",
       "1505              AT-4060  \n",
       "1640              AT-4050  "
      ]
     },
     "execution_count": 29,
     "metadata": {},
     "output_type": "execute_result"
    }
   ],
   "source": [
    "geolocations_duplicates = geolocations[geolocations.duplicated(subset=['Geo_Postal_Code'], keep=False)]\n",
    "geolocations_duplicates"
   ]
  },
  {
   "cell_type": "code",
   "execution_count": 30,
   "id": "a865645a",
   "metadata": {},
   "outputs": [
    {
     "data": {
      "application/vnd.microsoft.datawrangler.viewer.v0+json": {
       "columns": [
        {
         "name": "index",
         "rawType": "object",
         "type": "string"
        },
        {
         "name": "0",
         "rawType": "int64",
         "type": "integer"
        }
       ],
       "ref": "c810205f-4200-4b6c-b80a-a85a83679d47",
       "rows": [
        [
         "Geo_Postal_Code",
         "0"
        ],
        [
         "Geo_Lat",
         "0"
        ],
        [
         "Geo_Lon",
         "0"
        ],
        [
         "Geolocation_City",
         "0"
        ],
        [
         "Geo_Country",
         "0"
        ],
        [
         "Geo_Postal_Code_Mode",
         "0"
        ]
       ],
       "shape": {
        "columns": 1,
        "rows": 6
       }
      },
      "text/plain": [
       "Geo_Postal_Code         0\n",
       "Geo_Lat                 0\n",
       "Geo_Lon                 0\n",
       "Geolocation_City        0\n",
       "Geo_Country             0\n",
       "Geo_Postal_Code_Mode    0\n",
       "dtype: int64"
      ]
     },
     "execution_count": 30,
     "metadata": {},
     "output_type": "execute_result"
    }
   ],
   "source": [
    "geolocations.isnull().sum()"
   ]
  },
  {
   "cell_type": "code",
   "execution_count": 31,
   "id": "56124a04",
   "metadata": {},
   "outputs": [
    {
     "data": {
      "application/vnd.microsoft.datawrangler.viewer.v0+json": {
       "columns": [
        {
         "name": "index",
         "rawType": "int64",
         "type": "integer"
        },
        {
         "name": "Geo_Postal_Code",
         "rawType": "object",
         "type": "string"
        },
        {
         "name": "Geo_Lat",
         "rawType": "float64",
         "type": "float"
        },
        {
         "name": "Geo_Lon",
         "rawType": "float64",
         "type": "float"
        },
        {
         "name": "Geolocation_City",
         "rawType": "object",
         "type": "string"
        },
        {
         "name": "Geo_Country",
         "rawType": "object",
         "type": "string"
        },
        {
         "name": "Geo_Postal_Code_Mode",
         "rawType": "object",
         "type": "string"
        }
       ],
       "ref": "f29f5e79-e0d2-4a3f-88d6-86313b1db699",
       "rows": [
        [
         "0",
         "NL-5211",
         "51.7",
         "5.3167",
         "'s-Hertogenbosch",
         "Netherlands",
         "NL-5211"
        ],
        [
         "1",
         "NL-5212",
         "51.7",
         "5.3167",
         "'s-Hertogenbosch",
         "Netherlands",
         "NL-5211"
        ],
        [
         "2",
         "NL-5213",
         "51.7",
         "5.3167",
         "'s-Hertogenbosch",
         "Netherlands",
         "NL-5211"
        ],
        [
         "3",
         "NL-5214",
         "51.7",
         "5.3167",
         "'s-Hertogenbosch",
         "Netherlands",
         "NL-5211"
        ],
        [
         "4",
         "NL-5215",
         "51.7",
         "5.3167",
         "'s-Hertogenbosch",
         "Netherlands",
         "NL-5211"
        ],
        [
         "5",
         "ES-15001",
         "43.3667",
         "-8.3833",
         "A Coruña",
         "Spain",
         "ES-15001"
        ],
        [
         "6",
         "ES-15002",
         "43.3667",
         "-8.3833",
         "A Coruña",
         "Spain",
         "ES-15001"
        ],
        [
         "7",
         "ES-15003",
         "43.3667",
         "-8.3833",
         "A Coruña",
         "Spain",
         "ES-15001"
        ],
        [
         "8",
         "ES-15004",
         "43.3667",
         "-8.3833",
         "A Coruña",
         "Spain",
         "ES-15001"
        ],
        [
         "9",
         "ES-15005",
         "43.3667",
         "-8.3833",
         "A Coruña",
         "Spain",
         "ES-15001"
        ],
        [
         "10",
         "DE-52062",
         "50.7762",
         "6.0838",
         "Aachen",
         "Germany",
         "DE-52062"
        ],
        [
         "11",
         "DE-52064",
         "50.7762",
         "6.0838",
         "Aachen",
         "Germany",
         "DE-52062"
        ],
        [
         "12",
         "DE-52066",
         "50.7762",
         "6.0838",
         "Aachen",
         "Germany",
         "DE-52062"
        ],
        [
         "13",
         "DE-52068",
         "50.7762",
         "6.0838",
         "Aachen",
         "Germany",
         "DE-52062"
        ],
        [
         "14",
         "DE-52070",
         "50.7762",
         "6.0838",
         "Aachen",
         "Germany",
         "DE-52062"
        ],
        [
         "15",
         "DK-9000",
         "57.05",
         "9.9167",
         "Aalborg",
         "Denmark",
         "DK-9000"
        ],
        [
         "16",
         "DK-9100",
         "57.05",
         "9.9167",
         "Aalborg",
         "Denmark",
         "DK-9000"
        ],
        [
         "17",
         "DK-9200",
         "57.05",
         "9.9167",
         "Aalborg",
         "Denmark",
         "DK-9000"
        ],
        [
         "18",
         "DK-9210",
         "57.05",
         "9.9167",
         "Aalborg",
         "Denmark",
         "DK-9000"
        ],
        [
         "19",
         "DK-9220",
         "57.05",
         "9.9167",
         "Aalborg",
         "Denmark",
         "DK-9000"
        ],
        [
         "20",
         "BE-9300",
         "50.9383",
         "4.0392",
         "Aalst",
         "Belgium",
         "BE-9300"
        ],
        [
         "21",
         "BE-9308",
         "50.9383",
         "4.0392",
         "Aalst",
         "Belgium",
         "BE-9300"
        ],
        [
         "22",
         "BE-9310",
         "50.9383",
         "4.0392",
         "Aalst",
         "Belgium",
         "BE-9300"
        ],
        [
         "23",
         "BE-9320",
         "50.9383",
         "4.0392",
         "Aalst",
         "Belgium",
         "BE-9300"
        ],
        [
         "24",
         "BE-9330",
         "50.9383",
         "4.0392",
         "Aalst",
         "Belgium",
         "BE-9300"
        ],
        [
         "25",
         "DK-8000",
         "56.1564",
         "10.2097",
         "Aarhus",
         "Denmark",
         "DK-8000"
        ],
        [
         "26",
         "DK-8200",
         "56.1564",
         "10.2097",
         "Aarhus",
         "Denmark",
         "DK-8000"
        ],
        [
         "27",
         "DK-8210",
         "56.1564",
         "10.2097",
         "Aarhus",
         "Denmark",
         "DK-8000"
        ],
        [
         "28",
         "DK-8220",
         "56.1564",
         "10.2097",
         "Aarhus",
         "Denmark",
         "DK-8000"
        ],
        [
         "29",
         "DK-8230",
         "56.1564",
         "10.2097",
         "Aarhus",
         "Denmark",
         "DK-8000"
        ],
        [
         "30",
         "FR-13080",
         "43.5278",
         "5.4456",
         "Aix-en-Provence",
         "France",
         "FR-13080"
        ],
        [
         "31",
         "FR-13081",
         "43.5278",
         "5.4456",
         "Aix-en-Provence",
         "France",
         "FR-13080"
        ],
        [
         "32",
         "FR-13082",
         "43.5278",
         "5.4456",
         "Aix-en-Provence",
         "France",
         "FR-13080"
        ],
        [
         "33",
         "FR-13083",
         "43.5278",
         "5.4456",
         "Aix-en-Provence",
         "France",
         "FR-13080"
        ],
        [
         "34",
         "FR-13084",
         "43.5278",
         "5.4456",
         "Aix-en-Provence",
         "France",
         "FR-13080"
        ],
        [
         "35",
         "ES-3001",
         "38.3453",
         "-0.4831",
         "Alicante",
         "Spain",
         "ES-3001"
        ],
        [
         "36",
         "ES-3002",
         "38.3453",
         "-0.4831",
         "Alicante",
         "Spain",
         "ES-3001"
        ],
        [
         "37",
         "ES-3003",
         "38.3453",
         "-0.4831",
         "Alicante",
         "Spain",
         "ES-3001"
        ],
        [
         "38",
         "ES-3004",
         "38.3453",
         "-0.4831",
         "Alicante",
         "Spain",
         "ES-3001"
        ],
        [
         "39",
         "ES-3005",
         "38.3453",
         "-0.4831",
         "Alicante",
         "Spain",
         "ES-3001"
        ],
        [
         "40",
         "PT-2800",
         "38.676",
         "-9.165",
         "Almada",
         "Portugal",
         "PT-2800"
        ],
        [
         "41",
         "PT-2810",
         "38.676",
         "-9.165",
         "Almada",
         "Portugal",
         "PT-2800"
        ],
        [
         "42",
         "PT-2820",
         "38.676",
         "-9.165",
         "Almada",
         "Portugal",
         "PT-2800"
        ],
        [
         "43",
         "PT-2830",
         "38.676",
         "-9.165",
         "Almada",
         "Portugal",
         "PT-2800"
        ],
        [
         "44",
         "PT-2840",
         "38.676",
         "-9.165",
         "Almada",
         "Portugal",
         "PT-2800"
        ],
        [
         "45",
         "NL-1311",
         "52.3758",
         "5.2256",
         "Almere",
         "Netherlands",
         "NL-1311"
        ],
        [
         "46",
         "NL-1312",
         "52.3758",
         "5.2256",
         "Almere",
         "Netherlands",
         "NL-1311"
        ],
        [
         "47",
         "NL-1313",
         "52.3758",
         "5.2256",
         "Almere",
         "Netherlands",
         "NL-1311"
        ],
        [
         "48",
         "NL-1314",
         "52.3758",
         "5.2256",
         "Almere",
         "Netherlands",
         "NL-1311"
        ],
        [
         "49",
         "NL-1315",
         "52.3758",
         "5.2256",
         "Almere",
         "Netherlands",
         "NL-1311"
        ]
       ],
       "shape": {
        "columns": 6,
        "rows": 1685
       }
      },
      "text/html": [
       "<div>\n",
       "<style scoped>\n",
       "    .dataframe tbody tr th:only-of-type {\n",
       "        vertical-align: middle;\n",
       "    }\n",
       "\n",
       "    .dataframe tbody tr th {\n",
       "        vertical-align: top;\n",
       "    }\n",
       "\n",
       "    .dataframe thead th {\n",
       "        text-align: right;\n",
       "    }\n",
       "</style>\n",
       "<table border=\"1\" class=\"dataframe\">\n",
       "  <thead>\n",
       "    <tr style=\"text-align: right;\">\n",
       "      <th></th>\n",
       "      <th>Geo_Postal_Code</th>\n",
       "      <th>Geo_Lat</th>\n",
       "      <th>Geo_Lon</th>\n",
       "      <th>Geolocation_City</th>\n",
       "      <th>Geo_Country</th>\n",
       "      <th>Geo_Postal_Code_Mode</th>\n",
       "    </tr>\n",
       "  </thead>\n",
       "  <tbody>\n",
       "    <tr>\n",
       "      <th>0</th>\n",
       "      <td>NL-5211</td>\n",
       "      <td>51.7000</td>\n",
       "      <td>5.3167</td>\n",
       "      <td>'s-Hertogenbosch</td>\n",
       "      <td>Netherlands</td>\n",
       "      <td>NL-5211</td>\n",
       "    </tr>\n",
       "    <tr>\n",
       "      <th>1</th>\n",
       "      <td>NL-5212</td>\n",
       "      <td>51.7000</td>\n",
       "      <td>5.3167</td>\n",
       "      <td>'s-Hertogenbosch</td>\n",
       "      <td>Netherlands</td>\n",
       "      <td>NL-5211</td>\n",
       "    </tr>\n",
       "    <tr>\n",
       "      <th>2</th>\n",
       "      <td>NL-5213</td>\n",
       "      <td>51.7000</td>\n",
       "      <td>5.3167</td>\n",
       "      <td>'s-Hertogenbosch</td>\n",
       "      <td>Netherlands</td>\n",
       "      <td>NL-5211</td>\n",
       "    </tr>\n",
       "    <tr>\n",
       "      <th>3</th>\n",
       "      <td>NL-5214</td>\n",
       "      <td>51.7000</td>\n",
       "      <td>5.3167</td>\n",
       "      <td>'s-Hertogenbosch</td>\n",
       "      <td>Netherlands</td>\n",
       "      <td>NL-5211</td>\n",
       "    </tr>\n",
       "    <tr>\n",
       "      <th>4</th>\n",
       "      <td>NL-5215</td>\n",
       "      <td>51.7000</td>\n",
       "      <td>5.3167</td>\n",
       "      <td>'s-Hertogenbosch</td>\n",
       "      <td>Netherlands</td>\n",
       "      <td>NL-5211</td>\n",
       "    </tr>\n",
       "    <tr>\n",
       "      <th>...</th>\n",
       "      <td>...</td>\n",
       "      <td>...</td>\n",
       "      <td>...</td>\n",
       "      <td>...</td>\n",
       "      <td>...</td>\n",
       "      <td>...</td>\n",
       "    </tr>\n",
       "    <tr>\n",
       "      <th>1680</th>\n",
       "      <td>NL-8011</td>\n",
       "      <td>52.5167</td>\n",
       "      <td>6.1000</td>\n",
       "      <td>Zwolle</td>\n",
       "      <td>Netherlands</td>\n",
       "      <td>NL-8011</td>\n",
       "    </tr>\n",
       "    <tr>\n",
       "      <th>1681</th>\n",
       "      <td>NL-8012</td>\n",
       "      <td>52.5167</td>\n",
       "      <td>6.1000</td>\n",
       "      <td>Zwolle</td>\n",
       "      <td>Netherlands</td>\n",
       "      <td>NL-8011</td>\n",
       "    </tr>\n",
       "    <tr>\n",
       "      <th>1682</th>\n",
       "      <td>NL-8013</td>\n",
       "      <td>52.5167</td>\n",
       "      <td>6.1000</td>\n",
       "      <td>Zwolle</td>\n",
       "      <td>Netherlands</td>\n",
       "      <td>NL-8011</td>\n",
       "    </tr>\n",
       "    <tr>\n",
       "      <th>1683</th>\n",
       "      <td>NL-8014</td>\n",
       "      <td>52.5167</td>\n",
       "      <td>6.1000</td>\n",
       "      <td>Zwolle</td>\n",
       "      <td>Netherlands</td>\n",
       "      <td>NL-8011</td>\n",
       "    </tr>\n",
       "    <tr>\n",
       "      <th>1684</th>\n",
       "      <td>NL-8015</td>\n",
       "      <td>52.5167</td>\n",
       "      <td>6.1000</td>\n",
       "      <td>Zwolle</td>\n",
       "      <td>Netherlands</td>\n",
       "      <td>NL-8011</td>\n",
       "    </tr>\n",
       "  </tbody>\n",
       "</table>\n",
       "<p>1685 rows × 6 columns</p>\n",
       "</div>"
      ],
      "text/plain": [
       "     Geo_Postal_Code  Geo_Lat  Geo_Lon  Geolocation_City  Geo_Country  \\\n",
       "0            NL-5211  51.7000   5.3167  's-Hertogenbosch  Netherlands   \n",
       "1            NL-5212  51.7000   5.3167  's-Hertogenbosch  Netherlands   \n",
       "2            NL-5213  51.7000   5.3167  's-Hertogenbosch  Netherlands   \n",
       "3            NL-5214  51.7000   5.3167  's-Hertogenbosch  Netherlands   \n",
       "4            NL-5215  51.7000   5.3167  's-Hertogenbosch  Netherlands   \n",
       "...              ...      ...      ...               ...          ...   \n",
       "1680         NL-8011  52.5167   6.1000            Zwolle  Netherlands   \n",
       "1681         NL-8012  52.5167   6.1000            Zwolle  Netherlands   \n",
       "1682         NL-8013  52.5167   6.1000            Zwolle  Netherlands   \n",
       "1683         NL-8014  52.5167   6.1000            Zwolle  Netherlands   \n",
       "1684         NL-8015  52.5167   6.1000            Zwolle  Netherlands   \n",
       "\n",
       "     Geo_Postal_Code_Mode  \n",
       "0                 NL-5211  \n",
       "1                 NL-5211  \n",
       "2                 NL-5211  \n",
       "3                 NL-5211  \n",
       "4                 NL-5211  \n",
       "...                   ...  \n",
       "1680              NL-8011  \n",
       "1681              NL-8011  \n",
       "1682              NL-8011  \n",
       "1683              NL-8011  \n",
       "1684              NL-8011  \n",
       "\n",
       "[1685 rows x 6 columns]"
      ]
     },
     "execution_count": 31,
     "metadata": {},
     "output_type": "execute_result"
    }
   ],
   "source": [
    "geolocations"
   ]
  },
  {
   "cell_type": "code",
   "execution_count": 32,
   "id": "ab15c5c3",
   "metadata": {},
   "outputs": [
    {
     "data": {
      "application/vnd.microsoft.datawrangler.viewer.v0+json": {
       "columns": [
        {
         "name": "index",
         "rawType": "int64",
         "type": "integer"
        },
        {
         "name": "Geo_Postal_Code",
         "rawType": "object",
         "type": "string"
        },
        {
         "name": "Geo_Lat",
         "rawType": "float64",
         "type": "float"
        },
        {
         "name": "Geo_Lon",
         "rawType": "float64",
         "type": "float"
        },
        {
         "name": "Geolocation_City",
         "rawType": "object",
         "type": "string"
        },
        {
         "name": "Geo_Country",
         "rawType": "object",
         "type": "string"
        },
        {
         "name": "Geo_Postal_Code_Mode",
         "rawType": "object",
         "type": "string"
        }
       ],
       "ref": "773bd199-05b5-4643-b182-90bb2df25194",
       "rows": [
        [
         "955",
         "FR-75001",
         "48.8567",
         "2.3522",
         "Paris",
         "France",
         "FR-75001"
        ]
       ],
       "shape": {
        "columns": 6,
        "rows": 1
       }
      },
      "text/html": [
       "<div>\n",
       "<style scoped>\n",
       "    .dataframe tbody tr th:only-of-type {\n",
       "        vertical-align: middle;\n",
       "    }\n",
       "\n",
       "    .dataframe tbody tr th {\n",
       "        vertical-align: top;\n",
       "    }\n",
       "\n",
       "    .dataframe thead th {\n",
       "        text-align: right;\n",
       "    }\n",
       "</style>\n",
       "<table border=\"1\" class=\"dataframe\">\n",
       "  <thead>\n",
       "    <tr style=\"text-align: right;\">\n",
       "      <th></th>\n",
       "      <th>Geo_Postal_Code</th>\n",
       "      <th>Geo_Lat</th>\n",
       "      <th>Geo_Lon</th>\n",
       "      <th>Geolocation_City</th>\n",
       "      <th>Geo_Country</th>\n",
       "      <th>Geo_Postal_Code_Mode</th>\n",
       "    </tr>\n",
       "  </thead>\n",
       "  <tbody>\n",
       "    <tr>\n",
       "      <th>955</th>\n",
       "      <td>FR-75001</td>\n",
       "      <td>48.8567</td>\n",
       "      <td>2.3522</td>\n",
       "      <td>Paris</td>\n",
       "      <td>France</td>\n",
       "      <td>FR-75001</td>\n",
       "    </tr>\n",
       "  </tbody>\n",
       "</table>\n",
       "</div>"
      ],
      "text/plain": [
       "    Geo_Postal_Code  Geo_Lat  Geo_Lon Geolocation_City Geo_Country  \\\n",
       "955        FR-75001  48.8567   2.3522            Paris      France   \n",
       "\n",
       "    Geo_Postal_Code_Mode  \n",
       "955             FR-75001  "
      ]
     },
     "execution_count": 32,
     "metadata": {},
     "output_type": "execute_result"
    }
   ],
   "source": [
    "geolocations[geolocations['Geo_Postal_Code'] == 'FR-75001']"
   ]
  },
  {
   "cell_type": "markdown",
   "id": "35884775",
   "metadata": {},
   "source": [
    "### Descubrimientos clave:\n",
    "- El dataset contenía valores faltantes en varias filas.  \n",
    "- Las coordenadas (`Geo_Lat` y `Geo_Lon`) tenían algunos registros con comas en lugar de puntos decimales.  \n",
    "- Existían múltiples códigos postales por ciudad, generando inconsistencia en los datos.  \n",
    "\n",
    "### Transformaciones aplicadas:\n",
    "- **Eliminación de valores faltantes:**  \n",
    "  Se removieron todas las filas que contenían valores nulos.  \n",
    "\n",
    "- **Corrección de formato en coordenadas:**  \n",
    "  Se reemplazaron las comas por puntos en las columnas `Geo_Lat` y `Geo_Lon`, y luego se transformaron a tipo numérico (`float`).  \n",
    "\n",
    "- **Imputación de códigos postales por ciudad:**  \n",
    "  Se calculó el **código postal representativo** por ciudad utilizando la moda de `Geo_Postal_Code`.  \n",
    "  Posteriormente, se asignó este valor a cada registro en la columna `Geo_Postal_Code_Mode`.  \n",
    "\n",
    "- **Eliminación de duplicados:**  \n",
    "  Una vez corregidos los códigos postales, se eliminaron las filas duplicadas para garantizar que cada combinación de ubicación sea única.  \n",
    "\n",
    "---\n",
    "\n",
    "## Orders Item"
   ]
  },
  {
   "cell_type": "code",
   "execution_count": 33,
   "id": "6204c6c6",
   "metadata": {},
   "outputs": [
    {
     "data": {
      "text/plain": [
       "(112650, 7)"
      ]
     },
     "execution_count": 33,
     "metadata": {},
     "output_type": "execute_result"
    }
   ],
   "source": [
    "orders_items = pd.read_csv(\"../data/Fecom Inc Order Items.csv\", sep=';')\n",
    "orders_items.shape"
   ]
  },
  {
   "cell_type": "code",
   "execution_count": 34,
   "id": "960d6989",
   "metadata": {},
   "outputs": [
    {
     "data": {
      "application/vnd.microsoft.datawrangler.viewer.v0+json": {
       "columns": [
        {
         "name": "index",
         "rawType": "int64",
         "type": "integer"
        },
        {
         "name": "Order_ID",
         "rawType": "object",
         "type": "string"
        },
        {
         "name": "Order_Item_ID",
         "rawType": "int64",
         "type": "integer"
        },
        {
         "name": "Product_ID",
         "rawType": "object",
         "type": "string"
        },
        {
         "name": "Seller_ID",
         "rawType": "object",
         "type": "string"
        },
        {
         "name": "Shipping_Limit_Date",
         "rawType": "object",
         "type": "string"
        },
        {
         "name": "Price",
         "rawType": "float64",
         "type": "float"
        },
        {
         "name": "Freight_Value",
         "rawType": "float64",
         "type": "float"
        }
       ],
       "ref": "ba8842a6-8f97-4736-b057-f15355067268",
       "rows": [
        [
         "0",
         "00010242fe8c5a6d1ba2dd792cb16214",
         "1",
         "4244733e06e7ecb4970a6e2683c13e61",
         "48436dade18ac8b2bce089ec2a041202",
         "2023-09-19 09:45",
         "58.9",
         "13.29"
        ],
        [
         "1",
         "00018f77f2f0320c557190d7a144bdd3",
         "1",
         "e5f2d52b802189ee658865ca93d83a8f",
         "dd7ddc04e1b6c2c614352b383efe2d36",
         "2023-05-03 11:05",
         "239.9",
         "19.93"
        ],
        [
         "2",
         "000229ec398224ef6ca0657da4fc703e",
         "1",
         "c777355d18b72b67abbeef9df44fd0fd",
         "5b51032eddd242adc84c38acab88f23d",
         "2024-01-18 14:48",
         "199.0",
         "17.87"
        ],
        [
         "3",
         "00024acbcdf0a6daa1e931b038114c75",
         "1",
         "7634da152a4610f1595efa32f14722fc",
         "9d7a1d34a5052409006425275ba1c2b4",
         "2024-08-15 10:10",
         "12.99",
         "12.79"
        ],
        [
         "4",
         "00042b26cf59d7ce69dfabb4e55b4fd9",
         "1",
         "ac6c3623068f30de03045865e4e10089",
         "df560393f3a51e74553ab94004ba5c87",
         "2023-02-13 13:57",
         "199.9",
         "18.14"
        ]
       ],
       "shape": {
        "columns": 7,
        "rows": 5
       }
      },
      "text/html": [
       "<div>\n",
       "<style scoped>\n",
       "    .dataframe tbody tr th:only-of-type {\n",
       "        vertical-align: middle;\n",
       "    }\n",
       "\n",
       "    .dataframe tbody tr th {\n",
       "        vertical-align: top;\n",
       "    }\n",
       "\n",
       "    .dataframe thead th {\n",
       "        text-align: right;\n",
       "    }\n",
       "</style>\n",
       "<table border=\"1\" class=\"dataframe\">\n",
       "  <thead>\n",
       "    <tr style=\"text-align: right;\">\n",
       "      <th></th>\n",
       "      <th>Order_ID</th>\n",
       "      <th>Order_Item_ID</th>\n",
       "      <th>Product_ID</th>\n",
       "      <th>Seller_ID</th>\n",
       "      <th>Shipping_Limit_Date</th>\n",
       "      <th>Price</th>\n",
       "      <th>Freight_Value</th>\n",
       "    </tr>\n",
       "  </thead>\n",
       "  <tbody>\n",
       "    <tr>\n",
       "      <th>0</th>\n",
       "      <td>00010242fe8c5a6d1ba2dd792cb16214</td>\n",
       "      <td>1</td>\n",
       "      <td>4244733e06e7ecb4970a6e2683c13e61</td>\n",
       "      <td>48436dade18ac8b2bce089ec2a041202</td>\n",
       "      <td>2023-09-19 09:45</td>\n",
       "      <td>58.90</td>\n",
       "      <td>13.29</td>\n",
       "    </tr>\n",
       "    <tr>\n",
       "      <th>1</th>\n",
       "      <td>00018f77f2f0320c557190d7a144bdd3</td>\n",
       "      <td>1</td>\n",
       "      <td>e5f2d52b802189ee658865ca93d83a8f</td>\n",
       "      <td>dd7ddc04e1b6c2c614352b383efe2d36</td>\n",
       "      <td>2023-05-03 11:05</td>\n",
       "      <td>239.90</td>\n",
       "      <td>19.93</td>\n",
       "    </tr>\n",
       "    <tr>\n",
       "      <th>2</th>\n",
       "      <td>000229ec398224ef6ca0657da4fc703e</td>\n",
       "      <td>1</td>\n",
       "      <td>c777355d18b72b67abbeef9df44fd0fd</td>\n",
       "      <td>5b51032eddd242adc84c38acab88f23d</td>\n",
       "      <td>2024-01-18 14:48</td>\n",
       "      <td>199.00</td>\n",
       "      <td>17.87</td>\n",
       "    </tr>\n",
       "    <tr>\n",
       "      <th>3</th>\n",
       "      <td>00024acbcdf0a6daa1e931b038114c75</td>\n",
       "      <td>1</td>\n",
       "      <td>7634da152a4610f1595efa32f14722fc</td>\n",
       "      <td>9d7a1d34a5052409006425275ba1c2b4</td>\n",
       "      <td>2024-08-15 10:10</td>\n",
       "      <td>12.99</td>\n",
       "      <td>12.79</td>\n",
       "    </tr>\n",
       "    <tr>\n",
       "      <th>4</th>\n",
       "      <td>00042b26cf59d7ce69dfabb4e55b4fd9</td>\n",
       "      <td>1</td>\n",
       "      <td>ac6c3623068f30de03045865e4e10089</td>\n",
       "      <td>df560393f3a51e74553ab94004ba5c87</td>\n",
       "      <td>2023-02-13 13:57</td>\n",
       "      <td>199.90</td>\n",
       "      <td>18.14</td>\n",
       "    </tr>\n",
       "  </tbody>\n",
       "</table>\n",
       "</div>"
      ],
      "text/plain": [
       "                           Order_ID  Order_Item_ID  \\\n",
       "0  00010242fe8c5a6d1ba2dd792cb16214              1   \n",
       "1  00018f77f2f0320c557190d7a144bdd3              1   \n",
       "2  000229ec398224ef6ca0657da4fc703e              1   \n",
       "3  00024acbcdf0a6daa1e931b038114c75              1   \n",
       "4  00042b26cf59d7ce69dfabb4e55b4fd9              1   \n",
       "\n",
       "                         Product_ID                         Seller_ID  \\\n",
       "0  4244733e06e7ecb4970a6e2683c13e61  48436dade18ac8b2bce089ec2a041202   \n",
       "1  e5f2d52b802189ee658865ca93d83a8f  dd7ddc04e1b6c2c614352b383efe2d36   \n",
       "2  c777355d18b72b67abbeef9df44fd0fd  5b51032eddd242adc84c38acab88f23d   \n",
       "3  7634da152a4610f1595efa32f14722fc  9d7a1d34a5052409006425275ba1c2b4   \n",
       "4  ac6c3623068f30de03045865e4e10089  df560393f3a51e74553ab94004ba5c87   \n",
       "\n",
       "  Shipping_Limit_Date   Price  Freight_Value  \n",
       "0    2023-09-19 09:45   58.90          13.29  \n",
       "1    2023-05-03 11:05  239.90          19.93  \n",
       "2    2024-01-18 14:48  199.00          17.87  \n",
       "3    2024-08-15 10:10   12.99          12.79  \n",
       "4    2023-02-13 13:57  199.90          18.14  "
      ]
     },
     "execution_count": 34,
     "metadata": {},
     "output_type": "execute_result"
    }
   ],
   "source": [
    "orders_items.head(5)"
   ]
  },
  {
   "cell_type": "code",
   "execution_count": 35,
   "id": "6888cb4b",
   "metadata": {},
   "outputs": [
    {
     "data": {
      "application/vnd.microsoft.datawrangler.viewer.v0+json": {
       "columns": [
        {
         "name": "index",
         "rawType": "object",
         "type": "string"
        },
        {
         "name": "0",
         "rawType": "int64",
         "type": "integer"
        }
       ],
       "ref": "6461920e-b6c5-4a14-9595-8374d044251b",
       "rows": [
        [
         "Order_ID",
         "0"
        ],
        [
         "Order_Item_ID",
         "0"
        ],
        [
         "Product_ID",
         "0"
        ],
        [
         "Seller_ID",
         "0"
        ],
        [
         "Shipping_Limit_Date",
         "0"
        ],
        [
         "Price",
         "0"
        ],
        [
         "Freight_Value",
         "0"
        ]
       ],
       "shape": {
        "columns": 1,
        "rows": 7
       }
      },
      "text/plain": [
       "Order_ID               0\n",
       "Order_Item_ID          0\n",
       "Product_ID             0\n",
       "Seller_ID              0\n",
       "Shipping_Limit_Date    0\n",
       "Price                  0\n",
       "Freight_Value          0\n",
       "dtype: int64"
      ]
     },
     "execution_count": 35,
     "metadata": {},
     "output_type": "execute_result"
    }
   ],
   "source": [
    "orders_items.isnull().sum()"
   ]
  },
  {
   "cell_type": "code",
   "execution_count": 36,
   "id": "a7d032f7",
   "metadata": {},
   "outputs": [
    {
     "data": {
      "application/vnd.microsoft.datawrangler.viewer.v0+json": {
       "columns": [
        {
         "name": "index",
         "rawType": "int64",
         "type": "integer"
        },
        {
         "name": "Order_ID",
         "rawType": "object",
         "type": "string"
        },
        {
         "name": "Order_Item_ID",
         "rawType": "int64",
         "type": "integer"
        },
        {
         "name": "Product_ID",
         "rawType": "object",
         "type": "string"
        },
        {
         "name": "Seller_ID",
         "rawType": "object",
         "type": "string"
        },
        {
         "name": "Shipping_Limit_Date",
         "rawType": "object",
         "type": "string"
        },
        {
         "name": "Price",
         "rawType": "float64",
         "type": "float"
        },
        {
         "name": "Freight_Value",
         "rawType": "float64",
         "type": "float"
        }
       ],
       "ref": "64104513-d6eb-48ca-b7e6-223b7c35651c",
       "rows": [
        [
         "13",
         "0008288aa423d2a3f00fcb17cd7d8719",
         "1",
         "368c6c730842d78016ad823897a372db",
         "1f50f920176fa81dab994f9023523100",
         "2024-02-21 02:55",
         "49.9",
         "13.37"
        ],
        [
         "14",
         "0008288aa423d2a3f00fcb17cd7d8719",
         "2",
         "368c6c730842d78016ad823897a372db",
         "1f50f920176fa81dab994f9023523100",
         "2024-02-21 02:55",
         "49.9",
         "13.37"
        ],
        [
         "32",
         "00143d0f86d6fbd9f9b38ab440ac16f5",
         "1",
         "e95ee6822b66ac6058e2e4aff656071a",
         "a17f621c590ea0fab3d5d883e1630ec6",
         "2023-10-20 16:07",
         "21.33",
         "15.1"
        ],
        [
         "33",
         "00143d0f86d6fbd9f9b38ab440ac16f5",
         "2",
         "e95ee6822b66ac6058e2e4aff656071a",
         "a17f621c590ea0fab3d5d883e1630ec6",
         "2023-10-20 16:07",
         "21.33",
         "15.1"
        ],
        [
         "34",
         "00143d0f86d6fbd9f9b38ab440ac16f5",
         "3",
         "e95ee6822b66ac6058e2e4aff656071a",
         "a17f621c590ea0fab3d5d883e1630ec6",
         "2023-10-20 16:07",
         "21.33",
         "15.1"
        ],
        [
         "42",
         "001ab0a7578dd66cd4b0a71f5b6e1e41",
         "1",
         "0b0172eb0fd18479d29c3bc122c058c2",
         "5656537e588803a555b8eb41f07a944b",
         "2024-01-04 02:33",
         "24.89",
         "17.63"
        ],
        [
         "43",
         "001ab0a7578dd66cd4b0a71f5b6e1e41",
         "2",
         "0b0172eb0fd18479d29c3bc122c058c2",
         "5656537e588803a555b8eb41f07a944b",
         "2024-01-04 02:33",
         "24.89",
         "17.63"
        ],
        [
         "44",
         "001ab0a7578dd66cd4b0a71f5b6e1e41",
         "3",
         "0b0172eb0fd18479d29c3bc122c058c2",
         "5656537e588803a555b8eb41f07a944b",
         "2024-01-04 02:33",
         "24.89",
         "17.63"
        ],
        [
         "48",
         "001d8f0e34a38c37f7dba2a37d4eba8b",
         "1",
         "e67307ff0f15ade43fcb6e670be7a74c",
         "f4aba7c0bca51484c30ab7bdc34bcdd1",
         "2023-05-18 17:35",
         "18.99",
         "7.78"
        ],
        [
         "49",
         "001d8f0e34a38c37f7dba2a37d4eba8b",
         "2",
         "e67307ff0f15ade43fcb6e670be7a74c",
         "f4aba7c0bca51484c30ab7bdc34bcdd1",
         "2023-05-18 17:35",
         "18.99",
         "7.78"
        ],
        [
         "75",
         "002c9def9c9b951b1bec6d50753c9891",
         "1",
         "2d9ff06c8870a518f5f6909774e140fb",
         "00720abe85ba0859807595bbf045a33b",
         "2024-05-21 17:32",
         "78.0",
         "8.9"
        ],
        [
         "76",
         "002c9def9c9b951b1bec6d50753c9891",
         "2",
         "2d9ff06c8870a518f5f6909774e140fb",
         "00720abe85ba0859807595bbf045a33b",
         "2024-05-21 17:32",
         "78.0",
         "8.9"
        ],
        [
         "80",
         "002f98c0f7efd42638ed6100ca699b42",
         "1",
         "d41dc2f2979f52d75d78714b378d4068",
         "7299e27ed73d2ad986de7f7c77d919fa",
         "2023-08-10 09:30",
         "8.99",
         "32.57"
        ],
        [
         "81",
         "002f98c0f7efd42638ed6100ca699b42",
         "2",
         "880be32f4db1d9f6e2bec38fb6ac23ab",
         "fa40cc5b934574b62717c68f3d678b6d",
         "2023-08-10 09:30",
         "44.9",
         "7.16"
        ],
        [
         "87",
         "003324c70b19a16798817b2b3640e721",
         "1",
         "2b939dc9b176d7fa21594d588815d4a4",
         "dbc22125167c298ef99da25668e1011f",
         "2023-05-24 19:22",
         "102.9",
         "14.45"
        ],
        [
         "88",
         "003324c70b19a16798817b2b3640e721",
         "2",
         "2b939dc9b176d7fa21594d588815d4a4",
         "dbc22125167c298ef99da25668e1011f",
         "2023-05-24 19:22",
         "102.9",
         "14.45"
        ],
        [
         "91",
         "00337fe25a3780b3424d9ad7c5a4b35e",
         "1",
         "1f9799a175f50c9fa725984775cac5c5",
         "cfb1a033743668a192316f3c6d1d2671",
         "2023-09-29 17:50",
         "59.9",
         "9.94"
        ],
        [
         "92",
         "00337fe25a3780b3424d9ad7c5a4b35e",
         "2",
         "13944d17b257432717fd260e69853140",
         "cfb1a033743668a192316f3c6d1d2671",
         "2023-09-29 17:50",
         "59.9",
         "9.94"
        ],
        [
         "101",
         "003822434f91204da0a51fe4cf2aba18",
         "1",
         "99e71b776debf2f01a69dce207e3e4f8",
         "c54679b132454625907c773d273d4126",
         "2024-06-21 02:30",
         "69.0",
         "18.58"
        ],
        [
         "102",
         "003822434f91204da0a51fe4cf2aba18",
         "2",
         "99e71b776debf2f01a69dce207e3e4f8",
         "c54679b132454625907c773d273d4126",
         "2024-06-21 02:30",
         "69.0",
         "18.58"
        ],
        [
         "111",
         "003f201cdd39cdd59b6447cff2195456",
         "1",
         "656e0eca68dcecf6a31b8ececfabe3e8",
         "0b90b6df587eb83608a64ea8b390cf07",
         "2024-03-05 17:10",
         "85.0",
         "17.03"
        ],
        [
         "112",
         "003f201cdd39cdd59b6447cff2195456",
         "2",
         "656e0eca68dcecf6a31b8ececfabe3e8",
         "0b90b6df587eb83608a64ea8b390cf07",
         "2024-03-05 17:10",
         "85.0",
         "17.03"
        ],
        [
         "135",
         "005059edee63c8c708ba61910793b31b",
         "1",
         "84f456958365164420cfc80fbe4c7fab",
         "4a3ca9315b744ce9f8e9374361493884",
         "2024-02-12 18:30",
         "92.0",
         "17.89"
        ],
        [
         "136",
         "005059edee63c8c708ba61910793b31b",
         "2",
         "84f456958365164420cfc80fbe4c7fab",
         "4a3ca9315b744ce9f8e9374361493884",
         "2024-02-12 18:30",
         "92.0",
         "17.89"
        ],
        [
         "137",
         "00526a9d4ebde463baee25f386963ddc",
         "1",
         "0c4a0f8ab44f9acd2d04e7024f9ba362",
         "7210cd29727d674c00741e5e387b3ccd",
         "2024-08-14 22:15",
         "33.89",
         "8.4"
        ],
        [
         "138",
         "00526a9d4ebde463baee25f386963ddc",
         "2",
         "0c4a0f8ab44f9acd2d04e7024f9ba362",
         "7210cd29727d674c00741e5e387b3ccd",
         "2024-08-14 22:15",
         "33.89",
         "8.4"
        ],
        [
         "139",
         "00526a9d4ebde463baee25f386963ddc",
         "3",
         "0c4a0f8ab44f9acd2d04e7024f9ba362",
         "7210cd29727d674c00741e5e387b3ccd",
         "2024-08-14 22:15",
         "33.89",
         "8.4"
        ],
        [
         "140",
         "00526a9d4ebde463baee25f386963ddc",
         "4",
         "0c4a0f8ab44f9acd2d04e7024f9ba362",
         "7210cd29727d674c00741e5e387b3ccd",
         "2024-08-14 22:15",
         "33.89",
         "8.4"
        ],
        [
         "143",
         "00571ded73b3c061925584feab0db425",
         "1",
         "8695c431b31927efef5343e675f279e7",
         "fe2032dab1a61af8794248c8196565c9",
         "2023-05-25 21:10",
         "179.9",
         "15.01"
        ],
        [
         "144",
         "00571ded73b3c061925584feab0db425",
         "2",
         "8695c431b31927efef5343e675f279e7",
         "fe2032dab1a61af8794248c8196565c9",
         "2023-05-25 21:10",
         "179.9",
         "15.01"
        ],
        [
         "151",
         "005d9a5423d47281ac463a968b3936fb",
         "1",
         "fb7a100ec8c7b34f60cec22b1a9a10e0",
         "d98eec89afa3380e14463da2aabaea72",
         "2023-10-24 12:28",
         "49.99",
         "18.12"
        ],
        [
         "152",
         "005d9a5423d47281ac463a968b3936fb",
         "2",
         "4c3ae5db49258df0784827bdacf3b396",
         "d98eec89afa3380e14463da2aabaea72",
         "2023-10-24 12:28",
         "24.99",
         "13.58"
        ],
        [
         "153",
         "005d9a5423d47281ac463a968b3936fb",
         "3",
         "4c3ae5db49258df0784827bdacf3b396",
         "d98eec89afa3380e14463da2aabaea72",
         "2023-10-24 12:28",
         "24.99",
         "13.58"
        ],
        [
         "166",
         "0068c109948b9a1dfb8530d1978acef3",
         "1",
         "525f8fbde09c9bf777025c3141fbbc6e",
         "8b321bb669392f5163d04c59e235e066",
         "2024-01-30 02:53",
         "35.9",
         "15.79"
        ],
        [
         "167",
         "0068c109948b9a1dfb8530d1978acef3",
         "2",
         "525f8fbde09c9bf777025c3141fbbc6e",
         "8b321bb669392f5163d04c59e235e066",
         "2024-01-30 02:53",
         "35.9",
         "15.79"
        ],
        [
         "209",
         "008d9bf350ff02ed444b3452cf3f57e0",
         "1",
         "efec0b0b076ce3f164b80145743ebc02",
         "1da3aeb70d7989d1e6d9b0e887f97c23",
         "2024-06-12 09:11",
         "9.99",
         "15.23"
        ],
        [
         "210",
         "008d9bf350ff02ed444b3452cf3f57e0",
         "2",
         "efec0b0b076ce3f164b80145743ebc02",
         "1da3aeb70d7989d1e6d9b0e887f97c23",
         "2024-06-12 09:11",
         "9.99",
         "15.23"
        ],
        [
         "219",
         "00946f674d880be1f188abc10ad7cf46",
         "1",
         "4dcb49b9ca7e48d2f108d40caa77caa2",
         "5cf13accae3222c70a9cac40818ae839",
         "2023-12-14 19:30",
         "99.9",
         "18.57"
        ],
        [
         "220",
         "00946f674d880be1f188abc10ad7cf46",
         "2",
         "9bb2d066e4b33b624cbdfec7d50b3dcb",
         "5cf13accae3222c70a9cac40818ae839",
         "2023-12-14 19:30",
         "99.9",
         "14.35"
        ],
        [
         "230",
         "0097f0545a302aafa32782f1734ff71c",
         "1",
         "b6397895a17ce86decd60b898b459796",
         "7901646fdd36a55f564ffaf2dbccaaf7",
         "2024-03-09 18:30",
         "158.0",
         "10.68"
        ],
        [
         "231",
         "0097f0545a302aafa32782f1734ff71c",
         "2",
         "636598095d69a5718e67d2c9a3c7dde6",
         "7901646fdd36a55f564ffaf2dbccaaf7",
         "2024-03-09 18:30",
         "308.0",
         "31.16"
        ],
        [
         "234",
         "009905140e9f8cc35d5be897937381db",
         "1",
         "06edb72f1e0c64b14c5b79353f7abea3",
         "391fc6631aebcf3004804e51b40bcf1e",
         "2024-03-26 12:49",
         "39.99",
         "18.23"
        ],
        [
         "235",
         "009905140e9f8cc35d5be897937381db",
         "2",
         "06edb72f1e0c64b14c5b79353f7abea3",
         "391fc6631aebcf3004804e51b40bcf1e",
         "2024-03-26 12:49",
         "39.99",
         "18.23"
        ],
        [
         "252",
         "00a57dfbb049fbaae10763e2cf15f797",
         "1",
         "56cdfe67fbda57c1dcc752f5f361f981",
         "1c68394e931a64f90ea236c5ea590300",
         "2024-07-26 03:25",
         "89.9",
         "22.56"
        ],
        [
         "253",
         "00a57dfbb049fbaae10763e2cf15f797",
         "2",
         "56cdfe67fbda57c1dcc752f5f361f981",
         "1c68394e931a64f90ea236c5ea590300",
         "2024-07-26 03:25",
         "89.9",
         "22.56"
        ],
        [
         "254",
         "00a57dfbb049fbaae10763e2cf15f797",
         "3",
         "56cdfe67fbda57c1dcc752f5f361f981",
         "1c68394e931a64f90ea236c5ea590300",
         "2024-07-26 03:25",
         "89.9",
         "22.56"
        ],
        [
         "274",
         "00b1861aeb89afa498404c684148a619",
         "1",
         "7e8067e7e5ce7aec0e2cb7c1a456d112",
         "0691148aee60ca47977c187804f935ae",
         "2024-08-14 08:30",
         "25.79",
         "23.33"
        ],
        [
         "275",
         "00b1861aeb89afa498404c684148a619",
         "2",
         "7e8067e7e5ce7aec0e2cb7c1a456d112",
         "0691148aee60ca47977c187804f935ae",
         "2024-08-14 08:30",
         "25.79",
         "23.33"
        ],
        [
         "287",
         "00b6e66f005a657a6b13eedcacdf9342",
         "1",
         "e7cc48a9daff5436f63d3aad9426f28b",
         "53243585a1d6dc2643021fd1853d8905",
         "2024-08-16 11:04",
         "199.0",
         "39.66"
        ],
        [
         "288",
         "00b6e66f005a657a6b13eedcacdf9342",
         "2",
         "e7cc48a9daff5436f63d3aad9426f28b",
         "53243585a1d6dc2643021fd1853d8905",
         "2024-08-16 11:04",
         "199.0",
         "39.66"
        ]
       ],
       "shape": {
        "columns": 7,
        "rows": 23787
       }
      },
      "text/html": [
       "<div>\n",
       "<style scoped>\n",
       "    .dataframe tbody tr th:only-of-type {\n",
       "        vertical-align: middle;\n",
       "    }\n",
       "\n",
       "    .dataframe tbody tr th {\n",
       "        vertical-align: top;\n",
       "    }\n",
       "\n",
       "    .dataframe thead th {\n",
       "        text-align: right;\n",
       "    }\n",
       "</style>\n",
       "<table border=\"1\" class=\"dataframe\">\n",
       "  <thead>\n",
       "    <tr style=\"text-align: right;\">\n",
       "      <th></th>\n",
       "      <th>Order_ID</th>\n",
       "      <th>Order_Item_ID</th>\n",
       "      <th>Product_ID</th>\n",
       "      <th>Seller_ID</th>\n",
       "      <th>Shipping_Limit_Date</th>\n",
       "      <th>Price</th>\n",
       "      <th>Freight_Value</th>\n",
       "    </tr>\n",
       "  </thead>\n",
       "  <tbody>\n",
       "    <tr>\n",
       "      <th>13</th>\n",
       "      <td>0008288aa423d2a3f00fcb17cd7d8719</td>\n",
       "      <td>1</td>\n",
       "      <td>368c6c730842d78016ad823897a372db</td>\n",
       "      <td>1f50f920176fa81dab994f9023523100</td>\n",
       "      <td>2024-02-21 02:55</td>\n",
       "      <td>49.90</td>\n",
       "      <td>13.37</td>\n",
       "    </tr>\n",
       "    <tr>\n",
       "      <th>14</th>\n",
       "      <td>0008288aa423d2a3f00fcb17cd7d8719</td>\n",
       "      <td>2</td>\n",
       "      <td>368c6c730842d78016ad823897a372db</td>\n",
       "      <td>1f50f920176fa81dab994f9023523100</td>\n",
       "      <td>2024-02-21 02:55</td>\n",
       "      <td>49.90</td>\n",
       "      <td>13.37</td>\n",
       "    </tr>\n",
       "    <tr>\n",
       "      <th>32</th>\n",
       "      <td>00143d0f86d6fbd9f9b38ab440ac16f5</td>\n",
       "      <td>1</td>\n",
       "      <td>e95ee6822b66ac6058e2e4aff656071a</td>\n",
       "      <td>a17f621c590ea0fab3d5d883e1630ec6</td>\n",
       "      <td>2023-10-20 16:07</td>\n",
       "      <td>21.33</td>\n",
       "      <td>15.10</td>\n",
       "    </tr>\n",
       "    <tr>\n",
       "      <th>33</th>\n",
       "      <td>00143d0f86d6fbd9f9b38ab440ac16f5</td>\n",
       "      <td>2</td>\n",
       "      <td>e95ee6822b66ac6058e2e4aff656071a</td>\n",
       "      <td>a17f621c590ea0fab3d5d883e1630ec6</td>\n",
       "      <td>2023-10-20 16:07</td>\n",
       "      <td>21.33</td>\n",
       "      <td>15.10</td>\n",
       "    </tr>\n",
       "    <tr>\n",
       "      <th>34</th>\n",
       "      <td>00143d0f86d6fbd9f9b38ab440ac16f5</td>\n",
       "      <td>3</td>\n",
       "      <td>e95ee6822b66ac6058e2e4aff656071a</td>\n",
       "      <td>a17f621c590ea0fab3d5d883e1630ec6</td>\n",
       "      <td>2023-10-20 16:07</td>\n",
       "      <td>21.33</td>\n",
       "      <td>15.10</td>\n",
       "    </tr>\n",
       "    <tr>\n",
       "      <th>...</th>\n",
       "      <td>...</td>\n",
       "      <td>...</td>\n",
       "      <td>...</td>\n",
       "      <td>...</td>\n",
       "      <td>...</td>\n",
       "      <td>...</td>\n",
       "      <td>...</td>\n",
       "    </tr>\n",
       "    <tr>\n",
       "      <th>112635</th>\n",
       "      <td>fff8287bbae429a99bb7e8c21d151c41</td>\n",
       "      <td>2</td>\n",
       "      <td>bee2e070c39f3dd2f6883a17a5f0da45</td>\n",
       "      <td>4e922959ae960d389249c378d1c939f5</td>\n",
       "      <td>2024-03-27 12:29</td>\n",
       "      <td>180.00</td>\n",
       "      <td>48.14</td>\n",
       "    </tr>\n",
       "    <tr>\n",
       "      <th>112640</th>\n",
       "      <td>fffb9224b6fc7c43ebb0904318b10b5f</td>\n",
       "      <td>1</td>\n",
       "      <td>43423cdffde7fda63d0414ed38c11a73</td>\n",
       "      <td>b1fc4f64df5a0e8b6913ab38803c57a9</td>\n",
       "      <td>2023-11-03 02:55</td>\n",
       "      <td>55.00</td>\n",
       "      <td>34.19</td>\n",
       "    </tr>\n",
       "    <tr>\n",
       "      <th>112641</th>\n",
       "      <td>fffb9224b6fc7c43ebb0904318b10b5f</td>\n",
       "      <td>2</td>\n",
       "      <td>43423cdffde7fda63d0414ed38c11a73</td>\n",
       "      <td>b1fc4f64df5a0e8b6913ab38803c57a9</td>\n",
       "      <td>2023-11-03 02:55</td>\n",
       "      <td>55.00</td>\n",
       "      <td>34.19</td>\n",
       "    </tr>\n",
       "    <tr>\n",
       "      <th>112642</th>\n",
       "      <td>fffb9224b6fc7c43ebb0904318b10b5f</td>\n",
       "      <td>3</td>\n",
       "      <td>43423cdffde7fda63d0414ed38c11a73</td>\n",
       "      <td>b1fc4f64df5a0e8b6913ab38803c57a9</td>\n",
       "      <td>2023-11-03 02:55</td>\n",
       "      <td>55.00</td>\n",
       "      <td>34.19</td>\n",
       "    </tr>\n",
       "    <tr>\n",
       "      <th>112643</th>\n",
       "      <td>fffb9224b6fc7c43ebb0904318b10b5f</td>\n",
       "      <td>4</td>\n",
       "      <td>43423cdffde7fda63d0414ed38c11a73</td>\n",
       "      <td>b1fc4f64df5a0e8b6913ab38803c57a9</td>\n",
       "      <td>2023-11-03 02:55</td>\n",
       "      <td>55.00</td>\n",
       "      <td>34.19</td>\n",
       "    </tr>\n",
       "  </tbody>\n",
       "</table>\n",
       "<p>23787 rows × 7 columns</p>\n",
       "</div>"
      ],
      "text/plain": [
       "                                Order_ID  Order_Item_ID  \\\n",
       "13      0008288aa423d2a3f00fcb17cd7d8719              1   \n",
       "14      0008288aa423d2a3f00fcb17cd7d8719              2   \n",
       "32      00143d0f86d6fbd9f9b38ab440ac16f5              1   \n",
       "33      00143d0f86d6fbd9f9b38ab440ac16f5              2   \n",
       "34      00143d0f86d6fbd9f9b38ab440ac16f5              3   \n",
       "...                                  ...            ...   \n",
       "112635  fff8287bbae429a99bb7e8c21d151c41              2   \n",
       "112640  fffb9224b6fc7c43ebb0904318b10b5f              1   \n",
       "112641  fffb9224b6fc7c43ebb0904318b10b5f              2   \n",
       "112642  fffb9224b6fc7c43ebb0904318b10b5f              3   \n",
       "112643  fffb9224b6fc7c43ebb0904318b10b5f              4   \n",
       "\n",
       "                              Product_ID                         Seller_ID  \\\n",
       "13      368c6c730842d78016ad823897a372db  1f50f920176fa81dab994f9023523100   \n",
       "14      368c6c730842d78016ad823897a372db  1f50f920176fa81dab994f9023523100   \n",
       "32      e95ee6822b66ac6058e2e4aff656071a  a17f621c590ea0fab3d5d883e1630ec6   \n",
       "33      e95ee6822b66ac6058e2e4aff656071a  a17f621c590ea0fab3d5d883e1630ec6   \n",
       "34      e95ee6822b66ac6058e2e4aff656071a  a17f621c590ea0fab3d5d883e1630ec6   \n",
       "...                                  ...                               ...   \n",
       "112635  bee2e070c39f3dd2f6883a17a5f0da45  4e922959ae960d389249c378d1c939f5   \n",
       "112640  43423cdffde7fda63d0414ed38c11a73  b1fc4f64df5a0e8b6913ab38803c57a9   \n",
       "112641  43423cdffde7fda63d0414ed38c11a73  b1fc4f64df5a0e8b6913ab38803c57a9   \n",
       "112642  43423cdffde7fda63d0414ed38c11a73  b1fc4f64df5a0e8b6913ab38803c57a9   \n",
       "112643  43423cdffde7fda63d0414ed38c11a73  b1fc4f64df5a0e8b6913ab38803c57a9   \n",
       "\n",
       "       Shipping_Limit_Date   Price  Freight_Value  \n",
       "13        2024-02-21 02:55   49.90          13.37  \n",
       "14        2024-02-21 02:55   49.90          13.37  \n",
       "32        2023-10-20 16:07   21.33          15.10  \n",
       "33        2023-10-20 16:07   21.33          15.10  \n",
       "34        2023-10-20 16:07   21.33          15.10  \n",
       "...                    ...     ...            ...  \n",
       "112635    2024-03-27 12:29  180.00          48.14  \n",
       "112640    2023-11-03 02:55   55.00          34.19  \n",
       "112641    2023-11-03 02:55   55.00          34.19  \n",
       "112642    2023-11-03 02:55   55.00          34.19  \n",
       "112643    2023-11-03 02:55   55.00          34.19  \n",
       "\n",
       "[23787 rows x 7 columns]"
      ]
     },
     "execution_count": 36,
     "metadata": {},
     "output_type": "execute_result"
    }
   ],
   "source": [
    "orders_items_duplicates = orders_items[orders_items.duplicated(subset=['Order_ID'], keep=False)]\n",
    "orders_items_duplicates"
   ]
  },
  {
   "cell_type": "markdown",
   "id": "576f942f",
   "metadata": {},
   "source": [
    "### Descubrimientos clave:\n",
    "- El dataset `orders_items` no presentó valores faltantes, inconsistencias ni duplicados relevantes.  \n",
    "- La estructura y calidad de los datos fue adecuada desde el inicio.  \n",
    "\n",
    "### Transformaciones aplicadas:\n",
    "- No se realizaron transformaciones, ya que el dataset se encontraba **limpio y consistente**.  \n",
    "\n",
    "---\n",
    "\n",
    "## Orders Payments"
   ]
  },
  {
   "cell_type": "code",
   "execution_count": 37,
   "id": "4063458f",
   "metadata": {},
   "outputs": [
    {
     "data": {
      "application/vnd.microsoft.datawrangler.viewer.v0+json": {
       "columns": [
        {
         "name": "index",
         "rawType": "int64",
         "type": "integer"
        },
        {
         "name": "Order_ID",
         "rawType": "object",
         "type": "string"
        },
        {
         "name": "Payment_Sequential",
         "rawType": "int64",
         "type": "integer"
        },
        {
         "name": "Payment_Type",
         "rawType": "object",
         "type": "string"
        },
        {
         "name": "Payment_Installments",
         "rawType": "int64",
         "type": "integer"
        },
        {
         "name": "Payment_Value",
         "rawType": "float64",
         "type": "float"
        }
       ],
       "ref": "7c8641d7-2686-4f93-afbd-8bd833e7ba45",
       "rows": [
        [
         "0",
         "b81ef226f3fe1789b1e8b2acac839d17",
         "1",
         "credit_card",
         "8",
         "99.33"
        ],
        [
         "1",
         "a9810da82917af2d9aefd1278f1dcfa0",
         "1",
         "credit_card",
         "1",
         "24.39"
        ],
        [
         "2",
         "25e8ea4e93396b6fa0d3dd708e76c1bd",
         "1",
         "credit_card",
         "1",
         "65.71"
        ],
        [
         "3",
         "ba78997921bbcdc1373bb41e913ab953",
         "1",
         "credit_card",
         "8",
         "107.78"
        ],
        [
         "4",
         "42fdf880ba16b47b59251dd489d4441a",
         "1",
         "credit_card",
         "2",
         "128.45"
        ]
       ],
       "shape": {
        "columns": 5,
        "rows": 5
       }
      },
      "text/html": [
       "<div>\n",
       "<style scoped>\n",
       "    .dataframe tbody tr th:only-of-type {\n",
       "        vertical-align: middle;\n",
       "    }\n",
       "\n",
       "    .dataframe tbody tr th {\n",
       "        vertical-align: top;\n",
       "    }\n",
       "\n",
       "    .dataframe thead th {\n",
       "        text-align: right;\n",
       "    }\n",
       "</style>\n",
       "<table border=\"1\" class=\"dataframe\">\n",
       "  <thead>\n",
       "    <tr style=\"text-align: right;\">\n",
       "      <th></th>\n",
       "      <th>Order_ID</th>\n",
       "      <th>Payment_Sequential</th>\n",
       "      <th>Payment_Type</th>\n",
       "      <th>Payment_Installments</th>\n",
       "      <th>Payment_Value</th>\n",
       "    </tr>\n",
       "  </thead>\n",
       "  <tbody>\n",
       "    <tr>\n",
       "      <th>0</th>\n",
       "      <td>b81ef226f3fe1789b1e8b2acac839d17</td>\n",
       "      <td>1</td>\n",
       "      <td>credit_card</td>\n",
       "      <td>8</td>\n",
       "      <td>99.33</td>\n",
       "    </tr>\n",
       "    <tr>\n",
       "      <th>1</th>\n",
       "      <td>a9810da82917af2d9aefd1278f1dcfa0</td>\n",
       "      <td>1</td>\n",
       "      <td>credit_card</td>\n",
       "      <td>1</td>\n",
       "      <td>24.39</td>\n",
       "    </tr>\n",
       "    <tr>\n",
       "      <th>2</th>\n",
       "      <td>25e8ea4e93396b6fa0d3dd708e76c1bd</td>\n",
       "      <td>1</td>\n",
       "      <td>credit_card</td>\n",
       "      <td>1</td>\n",
       "      <td>65.71</td>\n",
       "    </tr>\n",
       "    <tr>\n",
       "      <th>3</th>\n",
       "      <td>ba78997921bbcdc1373bb41e913ab953</td>\n",
       "      <td>1</td>\n",
       "      <td>credit_card</td>\n",
       "      <td>8</td>\n",
       "      <td>107.78</td>\n",
       "    </tr>\n",
       "    <tr>\n",
       "      <th>4</th>\n",
       "      <td>42fdf880ba16b47b59251dd489d4441a</td>\n",
       "      <td>1</td>\n",
       "      <td>credit_card</td>\n",
       "      <td>2</td>\n",
       "      <td>128.45</td>\n",
       "    </tr>\n",
       "  </tbody>\n",
       "</table>\n",
       "</div>"
      ],
      "text/plain": [
       "                           Order_ID  Payment_Sequential Payment_Type  \\\n",
       "0  b81ef226f3fe1789b1e8b2acac839d17                   1  credit_card   \n",
       "1  a9810da82917af2d9aefd1278f1dcfa0                   1  credit_card   \n",
       "2  25e8ea4e93396b6fa0d3dd708e76c1bd                   1  credit_card   \n",
       "3  ba78997921bbcdc1373bb41e913ab953                   1  credit_card   \n",
       "4  42fdf880ba16b47b59251dd489d4441a                   1  credit_card   \n",
       "\n",
       "   Payment_Installments  Payment_Value  \n",
       "0                     8          99.33  \n",
       "1                     1          24.39  \n",
       "2                     1          65.71  \n",
       "3                     8         107.78  \n",
       "4                     2         128.45  "
      ]
     },
     "execution_count": 37,
     "metadata": {},
     "output_type": "execute_result"
    }
   ],
   "source": [
    "orders_payments = pd.read_csv(\"../data/Fecom Inc Order Payments.csv\", sep=';')\n",
    "orders_payments.head(5)"
   ]
  },
  {
   "cell_type": "code",
   "execution_count": 38,
   "id": "c9275523",
   "metadata": {},
   "outputs": [
    {
     "data": {
      "text/plain": [
       "(103886, 5)"
      ]
     },
     "execution_count": 38,
     "metadata": {},
     "output_type": "execute_result"
    }
   ],
   "source": [
    "orders_payments.shape"
   ]
  },
  {
   "cell_type": "code",
   "execution_count": 39,
   "id": "2a2333b9",
   "metadata": {},
   "outputs": [
    {
     "data": {
      "application/vnd.microsoft.datawrangler.viewer.v0+json": {
       "columns": [
        {
         "name": "index",
         "rawType": "object",
         "type": "string"
        },
        {
         "name": "0",
         "rawType": "int64",
         "type": "integer"
        }
       ],
       "ref": "28e7b3b4-2b01-4374-9064-922d478d72c7",
       "rows": [
        [
         "Order_ID",
         "0"
        ],
        [
         "Payment_Sequential",
         "0"
        ],
        [
         "Payment_Type",
         "0"
        ],
        [
         "Payment_Installments",
         "0"
        ],
        [
         "Payment_Value",
         "0"
        ]
       ],
       "shape": {
        "columns": 1,
        "rows": 5
       }
      },
      "text/plain": [
       "Order_ID                0\n",
       "Payment_Sequential      0\n",
       "Payment_Type            0\n",
       "Payment_Installments    0\n",
       "Payment_Value           0\n",
       "dtype: int64"
      ]
     },
     "execution_count": 39,
     "metadata": {},
     "output_type": "execute_result"
    }
   ],
   "source": [
    "orders_payments.isnull().sum()"
   ]
  },
  {
   "cell_type": "code",
   "execution_count": 40,
   "id": "1dbfcdff",
   "metadata": {},
   "outputs": [
    {
     "data": {
      "application/vnd.microsoft.datawrangler.viewer.v0+json": {
       "columns": [
        {
         "name": "index",
         "rawType": "int64",
         "type": "integer"
        },
        {
         "name": "Order_ID",
         "rawType": "object",
         "type": "string"
        },
        {
         "name": "Payment_Sequential",
         "rawType": "int64",
         "type": "integer"
        },
        {
         "name": "Payment_Type",
         "rawType": "object",
         "type": "string"
        },
        {
         "name": "Payment_Installments",
         "rawType": "int64",
         "type": "integer"
        },
        {
         "name": "Payment_Value",
         "rawType": "float64",
         "type": "float"
        }
       ],
       "ref": "837f5e6b-1671-4efd-9298-153b216e979b",
       "rows": [
        [
         "25",
         "5cfd514482e22bc992e7693f0e3e8df7",
         "2",
         "voucher",
         "1",
         "45.17"
        ],
        [
         "35",
         "b2bb080b6bc860118a246fd9b6fad6da",
         "1",
         "credit_card",
         "1",
         "173.84"
        ],
        [
         "75",
         "3689194c14ad4e2e7361ebd1df0e77b0",
         "2",
         "voucher",
         "1",
         "57.53"
        ],
        [
         "84",
         "723e462ce1ee50e024887c0b403130f3",
         "1",
         "credit_card",
         "1",
         "13.8"
        ],
        [
         "102",
         "21b8b46679ea6482cbf911d960490048",
         "2",
         "voucher",
         "1",
         "43.12"
        ],
        [
         "121",
         "ea9184ad433a404df1d72fa0a8764232",
         "4",
         "voucher",
         "1",
         "22.49"
        ],
        [
         "139",
         "82ffe097d8ddbf319a523b9bbe7725d5",
         "2",
         "voucher",
         "1",
         "30.0"
        ],
        [
         "161",
         "c61e3efc183db6b89f5556efb5aa8797",
         "1",
         "credit_card",
         "1",
         "45.5"
        ],
        [
         "164",
         "487c1451b8fd7347d0e80e5aca887e91",
         "2",
         "voucher",
         "1",
         "30.0"
        ],
        [
         "166",
         "65c863d90026e9dd4888e28d2135c983",
         "2",
         "voucher",
         "1",
         "50.0"
        ],
        [
         "181",
         "591083bc42b589c7052118aa83118e76",
         "5",
         "voucher",
         "1",
         "20.0"
        ],
        [
         "182",
         "79b63d1f9cf0257b33b04fbfb0847cba",
         "2",
         "voucher",
         "1",
         "76.9"
        ],
        [
         "199",
         "332c6742772f2df936696b6512b10edb",
         "2",
         "credit_card",
         "6",
         "134.55"
        ],
        [
         "202",
         "5262eaeb971616ffef822379ed91896f",
         "1",
         "credit_card",
         "1",
         "0.67"
        ],
        [
         "209",
         "85e710051891004eca4f527adcadd0c3",
         "2",
         "voucher",
         "1",
         "69.8"
        ],
        [
         "210",
         "11978d520d85578c9f024b99ac1a87ef",
         "2",
         "voucher",
         "1",
         "20.09"
        ],
        [
         "220",
         "d56564f21e612a588607e9ffb39b9d21",
         "2",
         "voucher",
         "1",
         "1.23"
        ],
        [
         "227",
         "dc400373e624e9b0435847a79813c658",
         "2",
         "voucher",
         "1",
         "48.91"
        ],
        [
         "245",
         "d24e8541128cea179a11a65176e0a96f",
         "1",
         "voucher",
         "1",
         "50.0"
        ],
        [
         "261",
         "97e8d3eb8f48e3610beed991e5f32296",
         "1",
         "credit_card",
         "4",
         "205.44"
        ],
        [
         "262",
         "7cb79316d2abe37e16ec83a07afb2895",
         "1",
         "credit_card",
         "1",
         "13.55"
        ],
        [
         "267",
         "bedff73fa5a137527ba9314cac93b7b3",
         "2",
         "voucher",
         "1",
         "35.0"
        ],
        [
         "275",
         "b80ba0f0c3d2a63feac0116f533cc6a9",
         "3",
         "voucher",
         "1",
         "2.99"
        ],
        [
         "285",
         "009ac365164f8e06f59d18a08045f6c4",
         "5",
         "voucher",
         "1",
         "8.75"
        ],
        [
         "308",
         "621b8e90f6fd06a792af8bdbbaf64a92",
         "2",
         "voucher",
         "1",
         "72.42"
        ],
        [
         "354",
         "d3f44296d90a42d3ec4b52b18654e87a",
         "8",
         "voucher",
         "1",
         "3.98"
        ],
        [
         "385",
         "683bf306149bb869980b68d48a1bd6ab",
         "2",
         "voucher",
         "1",
         "30.0"
        ],
        [
         "389",
         "adc2f0c9fd838d820339f8220c1adf08",
         "2",
         "voucher",
         "1",
         "30.0"
        ],
        [
         "433",
         "20aa4f85b1ed8d98e5c742c1a003db9c",
         "2",
         "voucher",
         "1",
         "50.0"
        ],
        [
         "475",
         "3d7fb1dd6ff6f0eedb9976eda81e4a95",
         "2",
         "voucher",
         "1",
         "20.0"
        ],
        [
         "489",
         "34dedd5cb5e0f12df565171392540a8f",
         "1",
         "credit_card",
         "1",
         "22.29"
        ],
        [
         "497",
         "93de8241002c099c87029b0362e5c0c9",
         "2",
         "voucher",
         "1",
         "25.9"
        ],
        [
         "507",
         "88a82da4cb2eb4723c9965285fe826c9",
         "2",
         "voucher",
         "1",
         "25.0"
        ],
        [
         "521",
         "c1219b88f5d48e3d0dd3229cbd88a722",
         "1",
         "credit_card",
         "1",
         "0.52"
        ],
        [
         "534",
         "ac14a1a3d8c2b071a150eb2990b5ecd8",
         "1",
         "credit_card",
         "2",
         "49.77"
        ],
        [
         "611",
         "fbbc0a864330509c41ca4b4f0ff9b780",
         "2",
         "voucher",
         "1",
         "140.08"
        ],
        [
         "639",
         "0fa927b252421189a0e0d5725fb3832d",
         "2",
         "voucher",
         "1",
         "103.79"
        ],
        [
         "676",
         "9c54a1816e487456bb7eb5082b9823ff",
         "1",
         "credit_card",
         "1",
         "2.01"
        ],
        [
         "679",
         "68986e4324f6a21481df4e6e89abcf01",
         "5",
         "voucher",
         "1",
         "16.54"
        ],
        [
         "701",
         "3bfd863aeb764ee13e7a3909ca8be2a5",
         "2",
         "voucher",
         "1",
         "50.0"
        ],
        [
         "719",
         "d289934bddf878e1cac62c95c8ee5402",
         "1",
         "credit_card",
         "3",
         "49.02"
        ],
        [
         "729",
         "cf014dc8804713618176fc95af41b221",
         "2",
         "voucher",
         "1",
         "81.93"
        ],
        [
         "748",
         "9e8d7ab8137bcd3cfeac577dddf35592",
         "2",
         "voucher",
         "1",
         "100.0"
        ],
        [
         "752",
         "8ca5bdac5ebe8f2d6fc9171d5ebc906a",
         "3",
         "voucher",
         "1",
         "15.0"
        ],
        [
         "783",
         "4a686b47e7eecbd136617bf8ae7c9af4",
         "2",
         "voucher",
         "1",
         "20.0"
        ],
        [
         "789",
         "0b365bbd59e2f75bea276c81bb916dcb",
         "1",
         "credit_card",
         "1",
         "2.78"
        ],
        [
         "810",
         "7db5f2eb8f5f54db9f9e71ba4296bcbf",
         "2",
         "voucher",
         "1",
         "0.01"
        ],
        [
         "815",
         "816ccd9d21435796e8ffa9802b2a782f",
         "5",
         "voucher",
         "1",
         "27.91"
        ],
        [
         "822",
         "54066aeaaf3ac32e7bb6e45aa3bf65e4",
         "1",
         "credit_card",
         "2",
         "61.19"
        ],
        [
         "826",
         "e6a66a8350bb88497954d37688ab123e",
         "4",
         "voucher",
         "1",
         "8.24"
        ]
       ],
       "shape": {
        "columns": 5,
        "rows": 7407
       }
      },
      "text/html": [
       "<div>\n",
       "<style scoped>\n",
       "    .dataframe tbody tr th:only-of-type {\n",
       "        vertical-align: middle;\n",
       "    }\n",
       "\n",
       "    .dataframe tbody tr th {\n",
       "        vertical-align: top;\n",
       "    }\n",
       "\n",
       "    .dataframe thead th {\n",
       "        text-align: right;\n",
       "    }\n",
       "</style>\n",
       "<table border=\"1\" class=\"dataframe\">\n",
       "  <thead>\n",
       "    <tr style=\"text-align: right;\">\n",
       "      <th></th>\n",
       "      <th>Order_ID</th>\n",
       "      <th>Payment_Sequential</th>\n",
       "      <th>Payment_Type</th>\n",
       "      <th>Payment_Installments</th>\n",
       "      <th>Payment_Value</th>\n",
       "    </tr>\n",
       "  </thead>\n",
       "  <tbody>\n",
       "    <tr>\n",
       "      <th>25</th>\n",
       "      <td>5cfd514482e22bc992e7693f0e3e8df7</td>\n",
       "      <td>2</td>\n",
       "      <td>voucher</td>\n",
       "      <td>1</td>\n",
       "      <td>45.17</td>\n",
       "    </tr>\n",
       "    <tr>\n",
       "      <th>35</th>\n",
       "      <td>b2bb080b6bc860118a246fd9b6fad6da</td>\n",
       "      <td>1</td>\n",
       "      <td>credit_card</td>\n",
       "      <td>1</td>\n",
       "      <td>173.84</td>\n",
       "    </tr>\n",
       "    <tr>\n",
       "      <th>75</th>\n",
       "      <td>3689194c14ad4e2e7361ebd1df0e77b0</td>\n",
       "      <td>2</td>\n",
       "      <td>voucher</td>\n",
       "      <td>1</td>\n",
       "      <td>57.53</td>\n",
       "    </tr>\n",
       "    <tr>\n",
       "      <th>84</th>\n",
       "      <td>723e462ce1ee50e024887c0b403130f3</td>\n",
       "      <td>1</td>\n",
       "      <td>credit_card</td>\n",
       "      <td>1</td>\n",
       "      <td>13.80</td>\n",
       "    </tr>\n",
       "    <tr>\n",
       "      <th>102</th>\n",
       "      <td>21b8b46679ea6482cbf911d960490048</td>\n",
       "      <td>2</td>\n",
       "      <td>voucher</td>\n",
       "      <td>1</td>\n",
       "      <td>43.12</td>\n",
       "    </tr>\n",
       "    <tr>\n",
       "      <th>...</th>\n",
       "      <td>...</td>\n",
       "      <td>...</td>\n",
       "      <td>...</td>\n",
       "      <td>...</td>\n",
       "      <td>...</td>\n",
       "    </tr>\n",
       "    <tr>\n",
       "      <th>103778</th>\n",
       "      <td>fd86c80924b4be8fb7f58c4ecc680dae</td>\n",
       "      <td>1</td>\n",
       "      <td>credit_card</td>\n",
       "      <td>1</td>\n",
       "      <td>76.10</td>\n",
       "    </tr>\n",
       "    <tr>\n",
       "      <th>103817</th>\n",
       "      <td>6d4616de4341417e17978fe57aec1c46</td>\n",
       "      <td>1</td>\n",
       "      <td>credit_card</td>\n",
       "      <td>1</td>\n",
       "      <td>19.18</td>\n",
       "    </tr>\n",
       "    <tr>\n",
       "      <th>103860</th>\n",
       "      <td>31bc09fdbd701a7a4f9b55b5955b8687</td>\n",
       "      <td>6</td>\n",
       "      <td>voucher</td>\n",
       "      <td>1</td>\n",
       "      <td>77.99</td>\n",
       "    </tr>\n",
       "    <tr>\n",
       "      <th>103869</th>\n",
       "      <td>c9b01bef18eb84888f0fd071b8413b38</td>\n",
       "      <td>1</td>\n",
       "      <td>credit_card</td>\n",
       "      <td>6</td>\n",
       "      <td>238.16</td>\n",
       "    </tr>\n",
       "    <tr>\n",
       "      <th>103874</th>\n",
       "      <td>d41f1036712e18ee525939d08b7a1c98</td>\n",
       "      <td>1</td>\n",
       "      <td>credit_card</td>\n",
       "      <td>1</td>\n",
       "      <td>3.57</td>\n",
       "    </tr>\n",
       "  </tbody>\n",
       "</table>\n",
       "<p>7407 rows × 5 columns</p>\n",
       "</div>"
      ],
      "text/plain": [
       "                                Order_ID  Payment_Sequential Payment_Type  \\\n",
       "25      5cfd514482e22bc992e7693f0e3e8df7                   2      voucher   \n",
       "35      b2bb080b6bc860118a246fd9b6fad6da                   1  credit_card   \n",
       "75      3689194c14ad4e2e7361ebd1df0e77b0                   2      voucher   \n",
       "84      723e462ce1ee50e024887c0b403130f3                   1  credit_card   \n",
       "102     21b8b46679ea6482cbf911d960490048                   2      voucher   \n",
       "...                                  ...                 ...          ...   \n",
       "103778  fd86c80924b4be8fb7f58c4ecc680dae                   1  credit_card   \n",
       "103817  6d4616de4341417e17978fe57aec1c46                   1  credit_card   \n",
       "103860  31bc09fdbd701a7a4f9b55b5955b8687                   6      voucher   \n",
       "103869  c9b01bef18eb84888f0fd071b8413b38                   1  credit_card   \n",
       "103874  d41f1036712e18ee525939d08b7a1c98                   1  credit_card   \n",
       "\n",
       "        Payment_Installments  Payment_Value  \n",
       "25                         1          45.17  \n",
       "35                         1         173.84  \n",
       "75                         1          57.53  \n",
       "84                         1          13.80  \n",
       "102                        1          43.12  \n",
       "...                      ...            ...  \n",
       "103778                     1          76.10  \n",
       "103817                     1          19.18  \n",
       "103860                     1          77.99  \n",
       "103869                     6         238.16  \n",
       "103874                     1           3.57  \n",
       "\n",
       "[7407 rows x 5 columns]"
      ]
     },
     "execution_count": 40,
     "metadata": {},
     "output_type": "execute_result"
    }
   ],
   "source": [
    "orders_payments_duplicates = orders_payments[orders_payments.duplicated(subset=['Order_ID'], keep=False)]\n",
    "orders_payments_duplicates"
   ]
  },
  {
   "cell_type": "code",
   "execution_count": 41,
   "id": "e87c69d7",
   "metadata": {},
   "outputs": [
    {
     "data": {
      "application/vnd.microsoft.datawrangler.viewer.v0+json": {
       "columns": [
        {
         "name": "index",
         "rawType": "int64",
         "type": "integer"
        },
        {
         "name": "Order_ID",
         "rawType": "object",
         "type": "string"
        },
        {
         "name": "Payment_Sequential",
         "rawType": "int64",
         "type": "integer"
        },
        {
         "name": "Payment_Type",
         "rawType": "object",
         "type": "string"
        },
        {
         "name": "Payment_Installments",
         "rawType": "int64",
         "type": "integer"
        },
        {
         "name": "Payment_Value",
         "rawType": "float64",
         "type": "float"
        }
       ],
       "ref": "662ddb98-4a75-4c04-9712-6272f976cd82",
       "rows": [
        [
         "0",
         "b81ef226f3fe1789b1e8b2acac839d17",
         "1",
         "credit_card",
         "8",
         "99.33"
        ],
        [
         "1",
         "a9810da82917af2d9aefd1278f1dcfa0",
         "1",
         "credit_card",
         "1",
         "24.39"
        ],
        [
         "2",
         "25e8ea4e93396b6fa0d3dd708e76c1bd",
         "1",
         "credit_card",
         "1",
         "65.71"
        ],
        [
         "3",
         "ba78997921bbcdc1373bb41e913ab953",
         "1",
         "credit_card",
         "8",
         "107.78"
        ],
        [
         "4",
         "42fdf880ba16b47b59251dd489d4441a",
         "1",
         "credit_card",
         "2",
         "128.45"
        ],
        [
         "5",
         "298fcdf1f73eb413e4d26d01b25bc1cd",
         "1",
         "credit_card",
         "2",
         "96.12"
        ],
        [
         "6",
         "771ee386b001f06208a7419e4fc1bbd7",
         "1",
         "credit_card",
         "1",
         "81.16"
        ],
        [
         "7",
         "3d7239c394a212faae122962df514ac7",
         "1",
         "credit_card",
         "3",
         "51.84"
        ],
        [
         "8",
         "1f78449c87a54faf9e96e88ba1491fa9",
         "1",
         "credit_card",
         "6",
         "341.09"
        ],
        [
         "9",
         "0573b5e23cbd798006520e1d5b4c6714",
         "1",
         "debit_card",
         "1",
         "51.95"
        ],
        [
         "10",
         "d88e0d5fa41661ce03cf6cf336527646",
         "1",
         "credit_card",
         "8",
         "188.73"
        ],
        [
         "11",
         "2480f727e869fdeb397244a21b721b67",
         "1",
         "credit_card",
         "1",
         "141.9"
        ],
        [
         "12",
         "616105c9352a9668c38303ad44e056cd",
         "1",
         "credit_card",
         "1",
         "75.78"
        ],
        [
         "13",
         "cf95215a722f3ebf29e6bbab87a29e61",
         "1",
         "credit_card",
         "5",
         "102.66"
        ],
        [
         "14",
         "769214176682788a92801d8907fa1b40",
         "1",
         "credit_card",
         "4",
         "105.28"
        ],
        [
         "15",
         "12e5cfe0e4716b59afb0e0f4a3bd6570",
         "1",
         "credit_card",
         "10",
         "157.45"
        ],
        [
         "16",
         "61059985a6fc0ad64e95d9944caacdad",
         "1",
         "credit_card",
         "1",
         "132.04"
        ],
        [
         "17",
         "79da3f5fe31ad1e454f06f95dc032ad5",
         "1",
         "credit_card",
         "1",
         "98.94"
        ],
        [
         "18",
         "8ac09207f415d55acff302df7d6a895c",
         "1",
         "credit_card",
         "4",
         "244.15"
        ],
        [
         "19",
         "b2349a3f20dfbeef62e7b31baa22f84b",
         "1",
         "credit_card",
         "3",
         "136.71"
        ],
        [
         "20",
         "5a1f6d22f7dfb061ef29216b9af687a1",
         "1",
         "credit_card",
         "4",
         "47.69"
        ],
        [
         "21",
         "4214cda550ece8ee66441f459dc33a8c",
         "1",
         "credit_card",
         "2",
         "170.57"
        ],
        [
         "22",
         "adfbf6c2a620196f9a3ec747491c72b7",
         "1",
         "credit_card",
         "4",
         "67.5"
        ],
        [
         "23",
         "4d680edbaa7d3d9bed69532957368a03",
         "1",
         "credit_card",
         "10",
         "353.09"
        ],
        [
         "24",
         "8cd68144cdb62dc0d60848cf8616d2a4",
         "1",
         "debit_card",
         "1",
         "330.66"
        ],
        [
         "25",
         "5cfd514482e22bc992e7693f0e3e8df7",
         "2",
         "voucher",
         "1",
         "45.17"
        ],
        [
         "26",
         "d0a945f85ba1074b60aac97ade7e240e",
         "1",
         "credit_card",
         "2",
         "541.0"
        ],
        [
         "27",
         "c39414c195d0f94c9d9c35e7c6ed4f1a",
         "1",
         "credit_card",
         "2",
         "139.22"
        ],
        [
         "28",
         "5d9c5817e278892b7498d90bfa28ade8",
         "1",
         "credit_card",
         "2",
         "290.16"
        ],
        [
         "29",
         "b69b9260e79a0da00e15f48de1bd2524",
         "1",
         "debit_card",
         "1",
         "283.34"
        ],
        [
         "30",
         "f45074ae38f2e01d9b854ec8d40362ff",
         "1",
         "credit_card",
         "1",
         "13.78"
        ],
        [
         "31",
         "81cedc4d2132eb6f512354166e51b187",
         "1",
         "credit_card",
         "1",
         "30.28"
        ],
        [
         "32",
         "595f598849d89203c28d05d0fbf3f92e",
         "1",
         "credit_card",
         "1",
         "26.58"
        ],
        [
         "33",
         "f9d0ec2fa088ac583e1ccd15b6686073",
         "1",
         "credit_card",
         "1",
         "89.68"
        ],
        [
         "34",
         "e647bf617de735448a4ba54f8910393c",
         "1",
         "credit_card",
         "1",
         "65.09"
        ],
        [
         "35",
         "b2bb080b6bc860118a246fd9b6fad6da",
         "1",
         "credit_card",
         "1",
         "173.84"
        ],
        [
         "36",
         "23f10f509600c30cf2852f9dbdf28fc3",
         "1",
         "credit_card",
         "1",
         "103.49"
        ],
        [
         "37",
         "f86f6472fa9f395d8d9a6751ca118afb",
         "1",
         "credit_card",
         "1",
         "64.03"
        ],
        [
         "38",
         "1dcf0c8cd36ffaf57784fbdc90079310",
         "1",
         "credit_card",
         "3",
         "157.15"
        ],
        [
         "39",
         "00d8d65b666158b633f96054d31af43b",
         "1",
         "debit_card",
         "1",
         "130.88"
        ],
        [
         "40",
         "cf30fe76d1505192acee1c6dccb15545",
         "1",
         "credit_card",
         "2",
         "47.72"
        ],
        [
         "41",
         "d3e774a185c0b1b2286ffd6c70abe2e6",
         "1",
         "credit_card",
         "8",
         "117.74"
        ],
        [
         "42",
         "32b1d8f3789a57f1f752e20ac7404b4c",
         "1",
         "debit_card",
         "1",
         "56.6"
        ],
        [
         "43",
         "c10d412026c4077b8e83acf0fea04eee",
         "1",
         "credit_card",
         "1",
         "266.16"
        ],
        [
         "44",
         "56c3277583e16009c925fdf116df420f",
         "1",
         "debit_card",
         "1",
         "31.38"
        ],
        [
         "45",
         "0e0441786430b7cfcd0d91f822ea4c99",
         "1",
         "credit_card",
         "1",
         "121.49"
        ],
        [
         "46",
         "6ffb3f1686bceae3466facf7e02ce3fb",
         "1",
         "credit_card",
         "1",
         "32.0"
        ],
        [
         "47",
         "afef48d3c8a0b1b7c9b7f8f922fb5674",
         "1",
         "credit_card",
         "5",
         "153.41"
        ],
        [
         "48",
         "c0db7d31ace61fc360a3eaa34dd3457c",
         "1",
         "credit_card",
         "5",
         "65.71"
        ],
        [
         "49",
         "d574338f566ca28dd67820f48ec1f1d8",
         "1",
         "credit_card",
         "4",
         "278.22"
        ]
       ],
       "shape": {
        "columns": 5,
        "rows": 103886
       }
      },
      "text/html": [
       "<div>\n",
       "<style scoped>\n",
       "    .dataframe tbody tr th:only-of-type {\n",
       "        vertical-align: middle;\n",
       "    }\n",
       "\n",
       "    .dataframe tbody tr th {\n",
       "        vertical-align: top;\n",
       "    }\n",
       "\n",
       "    .dataframe thead th {\n",
       "        text-align: right;\n",
       "    }\n",
       "</style>\n",
       "<table border=\"1\" class=\"dataframe\">\n",
       "  <thead>\n",
       "    <tr style=\"text-align: right;\">\n",
       "      <th></th>\n",
       "      <th>Order_ID</th>\n",
       "      <th>Payment_Sequential</th>\n",
       "      <th>Payment_Type</th>\n",
       "      <th>Payment_Installments</th>\n",
       "      <th>Payment_Value</th>\n",
       "    </tr>\n",
       "  </thead>\n",
       "  <tbody>\n",
       "    <tr>\n",
       "      <th>0</th>\n",
       "      <td>b81ef226f3fe1789b1e8b2acac839d17</td>\n",
       "      <td>1</td>\n",
       "      <td>credit_card</td>\n",
       "      <td>8</td>\n",
       "      <td>99.33</td>\n",
       "    </tr>\n",
       "    <tr>\n",
       "      <th>1</th>\n",
       "      <td>a9810da82917af2d9aefd1278f1dcfa0</td>\n",
       "      <td>1</td>\n",
       "      <td>credit_card</td>\n",
       "      <td>1</td>\n",
       "      <td>24.39</td>\n",
       "    </tr>\n",
       "    <tr>\n",
       "      <th>2</th>\n",
       "      <td>25e8ea4e93396b6fa0d3dd708e76c1bd</td>\n",
       "      <td>1</td>\n",
       "      <td>credit_card</td>\n",
       "      <td>1</td>\n",
       "      <td>65.71</td>\n",
       "    </tr>\n",
       "    <tr>\n",
       "      <th>3</th>\n",
       "      <td>ba78997921bbcdc1373bb41e913ab953</td>\n",
       "      <td>1</td>\n",
       "      <td>credit_card</td>\n",
       "      <td>8</td>\n",
       "      <td>107.78</td>\n",
       "    </tr>\n",
       "    <tr>\n",
       "      <th>4</th>\n",
       "      <td>42fdf880ba16b47b59251dd489d4441a</td>\n",
       "      <td>1</td>\n",
       "      <td>credit_card</td>\n",
       "      <td>2</td>\n",
       "      <td>128.45</td>\n",
       "    </tr>\n",
       "    <tr>\n",
       "      <th>...</th>\n",
       "      <td>...</td>\n",
       "      <td>...</td>\n",
       "      <td>...</td>\n",
       "      <td>...</td>\n",
       "      <td>...</td>\n",
       "    </tr>\n",
       "    <tr>\n",
       "      <th>103881</th>\n",
       "      <td>0406037ad97740d563a178ecc7a2075c</td>\n",
       "      <td>1</td>\n",
       "      <td>debit_card</td>\n",
       "      <td>1</td>\n",
       "      <td>363.31</td>\n",
       "    </tr>\n",
       "    <tr>\n",
       "      <th>103882</th>\n",
       "      <td>7b905861d7c825891d6347454ea7863f</td>\n",
       "      <td>1</td>\n",
       "      <td>credit_card</td>\n",
       "      <td>2</td>\n",
       "      <td>96.80</td>\n",
       "    </tr>\n",
       "    <tr>\n",
       "      <th>103883</th>\n",
       "      <td>32609bbb3dd69b3c066a6860554a77bf</td>\n",
       "      <td>1</td>\n",
       "      <td>credit_card</td>\n",
       "      <td>1</td>\n",
       "      <td>47.77</td>\n",
       "    </tr>\n",
       "    <tr>\n",
       "      <th>103884</th>\n",
       "      <td>b8b61059626efa996a60be9bb9320e10</td>\n",
       "      <td>1</td>\n",
       "      <td>credit_card</td>\n",
       "      <td>5</td>\n",
       "      <td>369.54</td>\n",
       "    </tr>\n",
       "    <tr>\n",
       "      <th>103885</th>\n",
       "      <td>28bbae6599b09d39ca406b747b6632b1</td>\n",
       "      <td>1</td>\n",
       "      <td>debit_card</td>\n",
       "      <td>1</td>\n",
       "      <td>191.58</td>\n",
       "    </tr>\n",
       "  </tbody>\n",
       "</table>\n",
       "<p>103886 rows × 5 columns</p>\n",
       "</div>"
      ],
      "text/plain": [
       "                                Order_ID  Payment_Sequential Payment_Type  \\\n",
       "0       b81ef226f3fe1789b1e8b2acac839d17                   1  credit_card   \n",
       "1       a9810da82917af2d9aefd1278f1dcfa0                   1  credit_card   \n",
       "2       25e8ea4e93396b6fa0d3dd708e76c1bd                   1  credit_card   \n",
       "3       ba78997921bbcdc1373bb41e913ab953                   1  credit_card   \n",
       "4       42fdf880ba16b47b59251dd489d4441a                   1  credit_card   \n",
       "...                                  ...                 ...          ...   \n",
       "103881  0406037ad97740d563a178ecc7a2075c                   1   debit_card   \n",
       "103882  7b905861d7c825891d6347454ea7863f                   1  credit_card   \n",
       "103883  32609bbb3dd69b3c066a6860554a77bf                   1  credit_card   \n",
       "103884  b8b61059626efa996a60be9bb9320e10                   1  credit_card   \n",
       "103885  28bbae6599b09d39ca406b747b6632b1                   1   debit_card   \n",
       "\n",
       "        Payment_Installments  Payment_Value  \n",
       "0                          8          99.33  \n",
       "1                          1          24.39  \n",
       "2                          1          65.71  \n",
       "3                          8         107.78  \n",
       "4                          2         128.45  \n",
       "...                      ...            ...  \n",
       "103881                     1         363.31  \n",
       "103882                     2          96.80  \n",
       "103883                     1          47.77  \n",
       "103884                     5         369.54  \n",
       "103885                     1         191.58  \n",
       "\n",
       "[103886 rows x 5 columns]"
      ]
     },
     "execution_count": 41,
     "metadata": {},
     "output_type": "execute_result"
    }
   ],
   "source": [
    "# Filtrar\n",
    "orders_payments_filtered = orders_payments[\n",
    "    (orders_payments['Order_ID'].duplicated(keep=False) & \n",
    "     orders_payments.groupby('Order_ID')['Payment_Sequential']\n",
    "       .transform('nunique')\n",
    "       .gt(1))  \n",
    "    |\n",
    "    (~orders_payments['Order_ID'].duplicated(keep=False))  \n",
    "]\n",
    "\n",
    "orders_payments_filtered"
   ]
  },
  {
   "cell_type": "markdown",
   "id": "f0792dc0",
   "metadata": {},
   "source": [
    "### Descubrimientos clave:\n",
    "- El dataset `orders_payments` no presentó valores faltantes, inconsistencias ni duplicados relevantes.  \n",
    "- Los registros ya tenían una buena consistencia en su estructura y calidad.  \n",
    "\n",
    "### Transformaciones aplicadas:\n",
    "- No se realizaron transformaciones, ya que el dataset se encontraba **limpio y consistente**.  \n",
    "\n",
    "\n",
    "---\n",
    "\n",
    "## Orders"
   ]
  },
  {
   "cell_type": "code",
   "execution_count": 42,
   "id": "028e853e",
   "metadata": {},
   "outputs": [
    {
     "data": {
      "application/vnd.microsoft.datawrangler.viewer.v0+json": {
       "columns": [
        {
         "name": "index",
         "rawType": "int64",
         "type": "integer"
        },
        {
         "name": "Order_ID",
         "rawType": "object",
         "type": "string"
        },
        {
         "name": "Customer_Trx_ID",
         "rawType": "object",
         "type": "string"
        },
        {
         "name": "Order_Status",
         "rawType": "object",
         "type": "string"
        },
        {
         "name": "Order_Purchase_Timestamp",
         "rawType": "object",
         "type": "string"
        },
        {
         "name": "Order_Approved_At",
         "rawType": "object",
         "type": "string"
        },
        {
         "name": "Order_Delivered_Carrier_Date",
         "rawType": "object",
         "type": "string"
        },
        {
         "name": "Order_Delivered_Customer_Date",
         "rawType": "object",
         "type": "string"
        },
        {
         "name": "Order_Estimated_Delivery_Date",
         "rawType": "object",
         "type": "string"
        }
       ],
       "ref": "f2c97605-2403-4b8e-a6f5-0c2405149641",
       "rows": [
        [
         "0",
         "e481f51cbdc54678b7cc49136f2d6af7",
         "9ef432eb6251297304e76186b10a928d",
         "delivered",
         "2023-10-02 10:56",
         "2023-10-02 11:07",
         "2023-10-04 19:55",
         "2023-10-10 21:25",
         "2023-10-18 00:00"
        ],
        [
         "1",
         "53cdb2fc8bc7dce0b6741e2150273451",
         "b0830fb4747a6c6d20dea0b8c802d7ef",
         "delivered",
         "2024-07-24 20:41",
         "2024-07-26 03:24",
         "2024-07-26 14:31",
         "2024-08-07 15:27",
         "2024-08-13 00:00"
        ],
        [
         "2",
         "47770eb9100c2d0c44946d9cf07ec65d",
         "41ce2a54c0b03bf3443c3d931a367089",
         "delivered",
         "2024-08-08 08:38",
         "2024-08-08 08:55",
         "2024-08-08 13:50",
         "2024-08-17 18:06",
         "2024-09-04 00:00"
        ],
        [
         "3",
         "949d5b44dbf5de918fe9c16f97b45f8a",
         "f88197465ea7920adcdbec7375364d82",
         "delivered",
         "2023-11-18 19:28",
         "2023-11-18 19:45",
         "2023-11-22 13:39",
         "2023-12-02 00:28",
         "2023-12-15 00:00"
        ],
        [
         "4",
         "ad21c59c0840e6cb83a9ceb5573f8159",
         "8ab97904e6daea8866dbdbc4fb7aad2c",
         "delivered",
         "2024-02-13 21:18",
         "2024-02-13 22:20",
         "2024-02-14 19:46",
         "2024-02-16 18:17",
         "2024-02-26 00:00"
        ]
       ],
       "shape": {
        "columns": 8,
        "rows": 5
       }
      },
      "text/html": [
       "<div>\n",
       "<style scoped>\n",
       "    .dataframe tbody tr th:only-of-type {\n",
       "        vertical-align: middle;\n",
       "    }\n",
       "\n",
       "    .dataframe tbody tr th {\n",
       "        vertical-align: top;\n",
       "    }\n",
       "\n",
       "    .dataframe thead th {\n",
       "        text-align: right;\n",
       "    }\n",
       "</style>\n",
       "<table border=\"1\" class=\"dataframe\">\n",
       "  <thead>\n",
       "    <tr style=\"text-align: right;\">\n",
       "      <th></th>\n",
       "      <th>Order_ID</th>\n",
       "      <th>Customer_Trx_ID</th>\n",
       "      <th>Order_Status</th>\n",
       "      <th>Order_Purchase_Timestamp</th>\n",
       "      <th>Order_Approved_At</th>\n",
       "      <th>Order_Delivered_Carrier_Date</th>\n",
       "      <th>Order_Delivered_Customer_Date</th>\n",
       "      <th>Order_Estimated_Delivery_Date</th>\n",
       "    </tr>\n",
       "  </thead>\n",
       "  <tbody>\n",
       "    <tr>\n",
       "      <th>0</th>\n",
       "      <td>e481f51cbdc54678b7cc49136f2d6af7</td>\n",
       "      <td>9ef432eb6251297304e76186b10a928d</td>\n",
       "      <td>delivered</td>\n",
       "      <td>2023-10-02 10:56</td>\n",
       "      <td>2023-10-02 11:07</td>\n",
       "      <td>2023-10-04 19:55</td>\n",
       "      <td>2023-10-10 21:25</td>\n",
       "      <td>2023-10-18 00:00</td>\n",
       "    </tr>\n",
       "    <tr>\n",
       "      <th>1</th>\n",
       "      <td>53cdb2fc8bc7dce0b6741e2150273451</td>\n",
       "      <td>b0830fb4747a6c6d20dea0b8c802d7ef</td>\n",
       "      <td>delivered</td>\n",
       "      <td>2024-07-24 20:41</td>\n",
       "      <td>2024-07-26 03:24</td>\n",
       "      <td>2024-07-26 14:31</td>\n",
       "      <td>2024-08-07 15:27</td>\n",
       "      <td>2024-08-13 00:00</td>\n",
       "    </tr>\n",
       "    <tr>\n",
       "      <th>2</th>\n",
       "      <td>47770eb9100c2d0c44946d9cf07ec65d</td>\n",
       "      <td>41ce2a54c0b03bf3443c3d931a367089</td>\n",
       "      <td>delivered</td>\n",
       "      <td>2024-08-08 08:38</td>\n",
       "      <td>2024-08-08 08:55</td>\n",
       "      <td>2024-08-08 13:50</td>\n",
       "      <td>2024-08-17 18:06</td>\n",
       "      <td>2024-09-04 00:00</td>\n",
       "    </tr>\n",
       "    <tr>\n",
       "      <th>3</th>\n",
       "      <td>949d5b44dbf5de918fe9c16f97b45f8a</td>\n",
       "      <td>f88197465ea7920adcdbec7375364d82</td>\n",
       "      <td>delivered</td>\n",
       "      <td>2023-11-18 19:28</td>\n",
       "      <td>2023-11-18 19:45</td>\n",
       "      <td>2023-11-22 13:39</td>\n",
       "      <td>2023-12-02 00:28</td>\n",
       "      <td>2023-12-15 00:00</td>\n",
       "    </tr>\n",
       "    <tr>\n",
       "      <th>4</th>\n",
       "      <td>ad21c59c0840e6cb83a9ceb5573f8159</td>\n",
       "      <td>8ab97904e6daea8866dbdbc4fb7aad2c</td>\n",
       "      <td>delivered</td>\n",
       "      <td>2024-02-13 21:18</td>\n",
       "      <td>2024-02-13 22:20</td>\n",
       "      <td>2024-02-14 19:46</td>\n",
       "      <td>2024-02-16 18:17</td>\n",
       "      <td>2024-02-26 00:00</td>\n",
       "    </tr>\n",
       "  </tbody>\n",
       "</table>\n",
       "</div>"
      ],
      "text/plain": [
       "                           Order_ID                   Customer_Trx_ID  \\\n",
       "0  e481f51cbdc54678b7cc49136f2d6af7  9ef432eb6251297304e76186b10a928d   \n",
       "1  53cdb2fc8bc7dce0b6741e2150273451  b0830fb4747a6c6d20dea0b8c802d7ef   \n",
       "2  47770eb9100c2d0c44946d9cf07ec65d  41ce2a54c0b03bf3443c3d931a367089   \n",
       "3  949d5b44dbf5de918fe9c16f97b45f8a  f88197465ea7920adcdbec7375364d82   \n",
       "4  ad21c59c0840e6cb83a9ceb5573f8159  8ab97904e6daea8866dbdbc4fb7aad2c   \n",
       "\n",
       "  Order_Status Order_Purchase_Timestamp Order_Approved_At  \\\n",
       "0    delivered         2023-10-02 10:56  2023-10-02 11:07   \n",
       "1    delivered         2024-07-24 20:41  2024-07-26 03:24   \n",
       "2    delivered         2024-08-08 08:38  2024-08-08 08:55   \n",
       "3    delivered         2023-11-18 19:28  2023-11-18 19:45   \n",
       "4    delivered         2024-02-13 21:18  2024-02-13 22:20   \n",
       "\n",
       "  Order_Delivered_Carrier_Date Order_Delivered_Customer_Date  \\\n",
       "0             2023-10-04 19:55              2023-10-10 21:25   \n",
       "1             2024-07-26 14:31              2024-08-07 15:27   \n",
       "2             2024-08-08 13:50              2024-08-17 18:06   \n",
       "3             2023-11-22 13:39              2023-12-02 00:28   \n",
       "4             2024-02-14 19:46              2024-02-16 18:17   \n",
       "\n",
       "  Order_Estimated_Delivery_Date  \n",
       "0              2023-10-18 00:00  \n",
       "1              2024-08-13 00:00  \n",
       "2              2024-09-04 00:00  \n",
       "3              2023-12-15 00:00  \n",
       "4              2024-02-26 00:00  "
      ]
     },
     "execution_count": 42,
     "metadata": {},
     "output_type": "execute_result"
    }
   ],
   "source": [
    "orders = pd.read_csv(\"../data/Fecom Inc Orders.csv\", sep=';')\n",
    "orders.head(5)"
   ]
  },
  {
   "cell_type": "code",
   "execution_count": 43,
   "id": "ac11b9c6",
   "metadata": {},
   "outputs": [
    {
     "data": {
      "application/vnd.microsoft.datawrangler.viewer.v0+json": {
       "columns": [
        {
         "name": "index",
         "rawType": "object",
         "type": "string"
        },
        {
         "name": "0",
         "rawType": "int64",
         "type": "integer"
        }
       ],
       "ref": "1ede5b71-777f-4dbf-9b87-037609c76168",
       "rows": [
        [
         "Order_ID",
         "0"
        ],
        [
         "Customer_Trx_ID",
         "0"
        ],
        [
         "Order_Status",
         "0"
        ],
        [
         "Order_Purchase_Timestamp",
         "0"
        ],
        [
         "Order_Approved_At",
         "160"
        ],
        [
         "Order_Delivered_Carrier_Date",
         "1783"
        ],
        [
         "Order_Delivered_Customer_Date",
         "2965"
        ],
        [
         "Order_Estimated_Delivery_Date",
         "0"
        ]
       ],
       "shape": {
        "columns": 1,
        "rows": 8
       }
      },
      "text/plain": [
       "Order_ID                            0\n",
       "Customer_Trx_ID                     0\n",
       "Order_Status                        0\n",
       "Order_Purchase_Timestamp            0\n",
       "Order_Approved_At                 160\n",
       "Order_Delivered_Carrier_Date     1783\n",
       "Order_Delivered_Customer_Date    2965\n",
       "Order_Estimated_Delivery_Date       0\n",
       "dtype: int64"
      ]
     },
     "execution_count": 43,
     "metadata": {},
     "output_type": "execute_result"
    }
   ],
   "source": [
    "orders.isnull().sum()"
   ]
  },
  {
   "cell_type": "code",
   "execution_count": 44,
   "id": "63a3a1de",
   "metadata": {},
   "outputs": [
    {
     "data": {
      "application/vnd.microsoft.datawrangler.viewer.v0+json": {
       "columns": [
        {
         "name": "index",
         "rawType": "int64",
         "type": "integer"
        },
        {
         "name": "Order_ID",
         "rawType": "object",
         "type": "string"
        },
        {
         "name": "Customer_Trx_ID",
         "rawType": "object",
         "type": "string"
        },
        {
         "name": "Order_Status",
         "rawType": "object",
         "type": "string"
        },
        {
         "name": "Order_Purchase_Timestamp",
         "rawType": "object",
         "type": "string"
        },
        {
         "name": "Order_Approved_At",
         "rawType": "object",
         "type": "string"
        },
        {
         "name": "Order_Delivered_Carrier_Date",
         "rawType": "object",
         "type": "string"
        },
        {
         "name": "Order_Delivered_Customer_Date",
         "rawType": "object",
         "type": "string"
        },
        {
         "name": "Order_Estimated_Delivery_Date",
         "rawType": "object",
         "type": "string"
        }
       ],
       "ref": "3c16b31b-70fb-4083-9131-12c4996842c5",
       "rows": [],
       "shape": {
        "columns": 8,
        "rows": 0
       }
      },
      "text/html": [
       "<div>\n",
       "<style scoped>\n",
       "    .dataframe tbody tr th:only-of-type {\n",
       "        vertical-align: middle;\n",
       "    }\n",
       "\n",
       "    .dataframe tbody tr th {\n",
       "        vertical-align: top;\n",
       "    }\n",
       "\n",
       "    .dataframe thead th {\n",
       "        text-align: right;\n",
       "    }\n",
       "</style>\n",
       "<table border=\"1\" class=\"dataframe\">\n",
       "  <thead>\n",
       "    <tr style=\"text-align: right;\">\n",
       "      <th></th>\n",
       "      <th>Order_ID</th>\n",
       "      <th>Customer_Trx_ID</th>\n",
       "      <th>Order_Status</th>\n",
       "      <th>Order_Purchase_Timestamp</th>\n",
       "      <th>Order_Approved_At</th>\n",
       "      <th>Order_Delivered_Carrier_Date</th>\n",
       "      <th>Order_Delivered_Customer_Date</th>\n",
       "      <th>Order_Estimated_Delivery_Date</th>\n",
       "    </tr>\n",
       "  </thead>\n",
       "  <tbody>\n",
       "  </tbody>\n",
       "</table>\n",
       "</div>"
      ],
      "text/plain": [
       "Empty DataFrame\n",
       "Columns: [Order_ID, Customer_Trx_ID, Order_Status, Order_Purchase_Timestamp, Order_Approved_At, Order_Delivered_Carrier_Date, Order_Delivered_Customer_Date, Order_Estimated_Delivery_Date]\n",
       "Index: []"
      ]
     },
     "execution_count": 44,
     "metadata": {},
     "output_type": "execute_result"
    }
   ],
   "source": [
    "orders_duplicates = orders[orders.duplicated(subset=['Order_ID'], keep=False)]\n",
    "orders_duplicates"
   ]
  },
  {
   "cell_type": "code",
   "execution_count": 45,
   "id": "62fe7256",
   "metadata": {},
   "outputs": [
    {
     "data": {
      "application/vnd.microsoft.datawrangler.viewer.v0+json": {
       "columns": [
        {
         "name": "index",
         "rawType": "int64",
         "type": "integer"
        },
        {
         "name": "Order_ID",
         "rawType": "object",
         "type": "string"
        },
        {
         "name": "Customer_Trx_ID",
         "rawType": "object",
         "type": "string"
        },
        {
         "name": "Order_Status",
         "rawType": "object",
         "type": "string"
        },
        {
         "name": "Order_Purchase_Timestamp",
         "rawType": "object",
         "type": "string"
        },
        {
         "name": "Order_Approved_At",
         "rawType": "object",
         "type": "unknown"
        },
        {
         "name": "Order_Delivered_Carrier_Date",
         "rawType": "object",
         "type": "unknown"
        },
        {
         "name": "Order_Delivered_Customer_Date",
         "rawType": "object",
         "type": "unknown"
        },
        {
         "name": "Order_Estimated_Delivery_Date",
         "rawType": "object",
         "type": "string"
        }
       ],
       "ref": "bb25464a-b6ef-45f1-a548-33e7b52139c5",
       "rows": [
        [
         "1130",
         "00b1cb0320190ca0daa2c88b35206009",
         "3532ba38a3fd242259a514ac2b6ae6b6",
         "canceled",
         "2024-08-28 15:26",
         null,
         null,
         null,
         "2024-09-12 00:00"
        ],
        [
         "1801",
         "ed3efbd3a87bea76c2812c66a0b32219",
         "191984a8ba4cbb2145acb4fe35b69664",
         "canceled",
         "2024-09-20 13:54",
         null,
         null,
         null,
         "2024-10-17 00:00"
        ],
        [
         "1868",
         "df8282afe61008dc26c6c31011474d02",
         "aa797b187b5466bc6925aaaa4bb3bed1",
         "canceled",
         "2023-03-04 12:14",
         null,
         null,
         null,
         "2023-04-10 00:00"
        ],
        [
         "2029",
         "8d4c637f1accf7a88a4555f02741e606",
         "b1dd715db389a2077f43174e7a675d07",
         "canceled",
         "2024-08-29 16:27",
         null,
         null,
         null,
         "2024-09-13 00:00"
        ],
        [
         "2161",
         "7a9d4c7f9b068337875b95465330f2fc",
         "7f71ae48074c0cfec9195f88fcbfac55",
         "canceled",
         "2023-05-01 16:12",
         null,
         null,
         null,
         "2023-05-30 00:00"
        ],
        [
         "3056",
         "ddaec6fff982b13e7e048b627a11d6da",
         "68f4ad79cc0c2ad06e19088f5c00e9fa",
         "canceled",
         "2022-10-04 19:41",
         null,
         null,
         null,
         "2022-11-16 00:00"
        ],
        [
         "3094",
         "5290c34bd38a8a095b885f13958db1e1",
         "92af427e290117f39d9ff908566072e0",
         "canceled",
         "2024-08-21 10:25",
         null,
         null,
         null,
         "2024-09-06 00:00"
        ],
        [
         "3684",
         "03310aa823a66056268a3bab36e827fb",
         "25dbbf0c477fd4ae0880aaffbb12e8b3",
         "canceled",
         "2024-08-07 16:33",
         null,
         null,
         null,
         "2024-09-04 00:00"
        ],
        [
         "4373",
         "4c8b9947280829d0a8b7e81cc249b875",
         "403c35c4d8813bf67b3d396b91ca1619",
         "canceled",
         "2024-08-09 14:54",
         null,
         null,
         null,
         "2024-08-21 00:00"
        ],
        [
         "4939",
         "b13ea375fe9c728832688264638f84cf",
         "0dc5884bc5ffba283678229f27e07ff9",
         "canceled",
         "2024-08-22 18:52",
         null,
         null,
         null,
         "2024-09-19 00:00"
        ],
        [
         "5149",
         "ea844c92cf978ea23321fa7fe5871761",
         "6ddc45ad08e6a2c885ca2255fc52d6df",
         "canceled",
         "2024-09-13 09:56",
         null,
         null,
         null,
         "2024-09-27 00:00"
        ],
        [
         "5323",
         "e04abd8149ef81b95221e88f6ed9ab6a",
         "2127dc6603ac33544953ef05ec155771",
         "delivered",
         "2023-02-18 14:40",
         null,
         "2023-02-23 12:04",
         "2023-03-01 13:25",
         "2023-03-17 00:00"
        ],
        [
         "5432",
         "85e05c3c9aa9834518f35d4f286014be",
         "1d07a80a15700b40cb15ff5870ee8b48",
         "canceled",
         "2024-08-28 08:18",
         null,
         null,
         null,
         "2024-10-10 00:00"
        ],
        [
         "5518",
         "38a86eb53c2309d6234fc9bad96331ac",
         "82d98198f7fb1687858e03a5322e1621",
         "canceled",
         "2024-08-18 12:39",
         null,
         null,
         null,
         "2024-08-29 00:00"
        ],
        [
         "5642",
         "c5a468ae781ffb0ec6d36ae89fe512b0",
         "ed7ef682569428c1afaf73b39a2f602b",
         "canceled",
         "2023-01-13 11:06",
         null,
         null,
         null,
         "2023-02-13 00:00"
        ],
        [
         "6356",
         "2bb02fdf5637a68cd5d13c78c37c3376",
         "8c468917b274857623298a1627369866",
         "canceled",
         "2024-08-09 10:55",
         null,
         null,
         null,
         "2024-08-17 00:00"
        ],
        [
         "7434",
         "b5359909123fa03c50bdb0cfed07f098",
         "438449d4af8980d107bf04571413a8e7",
         "created",
         "2023-12-05 01:07",
         null,
         null,
         null,
         "2024-01-11 00:00"
        ],
        [
         "7457",
         "9380c59012c11f49c549ef8dffef1367",
         "07838708499d3eb9da748cb10b8ddf0a",
         "canceled",
         "2024-08-15 11:05",
         null,
         null,
         null,
         "2024-09-21 00:00"
        ],
        [
         "8289",
         "672ab3776d5b25e586521469609ae774",
         "8c8b3a28c07f67148f86f297604b9875",
         "canceled",
         "2023-05-10 11:52",
         null,
         null,
         null,
         "2023-05-26 00:00"
        ],
        [
         "9238",
         "dba5062fbda3af4fb6c33b1e040ca38f",
         "964a6df3d9bdf60fe3e7b8bb69ed893a",
         "created",
         "2024-02-09 17:21",
         null,
         null,
         null,
         "2024-03-07 00:00"
        ],
        [
         "9976",
         "87ae60ef8b08ae0e5f903cacb53a6904",
         "fea4d57ed3a45455f89c25ef3dae8ee8",
         "canceled",
         "2024-09-11 16:45",
         null,
         null,
         null,
         "2024-09-26 00:00"
        ],
        [
         "10183",
         "651a89e11653d8df43a624a903fe0f5e",
         "e536e3de6a1ac1c527acb004f4120d81",
         "canceled",
         "2023-06-06 20:31",
         null,
         null,
         null,
         "2023-06-29 00:00"
        ],
        [
         "10456",
         "947e9c6bfd83a06953c420ef92d3da6e",
         "2737211835d5ea370af15ee145f7840c",
         "canceled",
         "2024-08-15 15:13",
         null,
         null,
         null,
         "2024-08-28 00:00"
        ],
        [
         "11079",
         "0e6dbbc7484dc1ee0392c9ca801035c2",
         "90f65e1539426f18ab1941841d728c72",
         "canceled",
         "2024-03-01 22:40",
         null,
         null,
         null,
         "2024-03-23 00:00"
        ],
        [
         "13103",
         "186d3cd768be1890d832106f914ba37c",
         "07b0857255ede98368d11c60ae263bfa",
         "canceled",
         "2023-06-09 10:16",
         null,
         null,
         null,
         "2023-07-05 00:00"
        ],
        [
         "14460",
         "2e9d8db9e132a9b5e1236618b7e8ef4a",
         "51c6f517f4492a9c2ab4153e998b018e",
         "canceled",
         "2024-08-09 18:42",
         null,
         null,
         null,
         "2024-09-04 00:00"
        ],
        [
         "14586",
         "5d9e1e0e7084f2f9e90a7069e64cba61",
         "5a0e3721a8ca7e273f07af1ead76605e",
         "canceled",
         "2023-11-05 13:58",
         null,
         null,
         null,
         "2023-11-17 00:00"
        ],
        [
         "15882",
         "252788350f9dad30b31847845fe119fe",
         "43c2e0c2bffdba58e569a9cf02d9b508",
         "canceled",
         "2023-04-23 14:58",
         null,
         null,
         null,
         "2023-05-23 00:00"
        ],
        [
         "16366",
         "bd35b677fd239386e9861d11ae98ab56",
         "ad2eb5d02c0808bcd8743117f6383cf6",
         "canceled",
         "2024-09-17 17:21",
         null,
         null,
         null,
         "2024-10-01 00:00"
        ],
        [
         "16449",
         "b642a3e08bfd10119c9b7e948c936e93",
         "f623e071624706724ec88fbb991b6833",
         "canceled",
         "2023-02-03 01:03",
         null,
         null,
         null,
         "2023-03-06 00:00"
        ],
        [
         "16536",
         "00d0ffd14774da775ac832ba8520510f",
         "a2f3de2a0a84803cef018776a2e76c9b",
         "canceled",
         "2023-12-23 22:25",
         null,
         null,
         null,
         "2024-01-19 00:00"
        ],
        [
         "16567",
         "8a9adc69528e1001fc68dd0aaebbb54a",
         "4c1ccc74e00993733742a3c786dc3c1f",
         "delivered",
         "2023-02-18 12:45",
         null,
         "2023-02-23 09:01",
         "2023-03-02 10:05",
         "2023-03-21 00:00"
        ],
        [
         "17046",
         "63802c52ced9ff923c962ecbf4b3a2a2",
         "8424f98d9254ad85c24141f3cd2fe8c5",
         "canceled",
         "2023-12-03 11:32",
         null,
         null,
         null,
         "2023-12-26 00:00"
        ],
        [
         "17983",
         "0a472c47d928bf4cd8b6a7a30345eeb7",
         "8762d94c493b70216cd453ea2320234e",
         "canceled",
         "2024-08-30 10:14",
         null,
         null,
         null,
         "2024-10-02 00:00"
        ],
        [
         "18638",
         "ccd4eb95e68cb64e666ddcb84f8dfb1e",
         "daac514ffdd2cc0cda0e9686c63a9cad",
         "canceled",
         "2024-03-05 22:57",
         null,
         null,
         null,
         "2024-03-21 00:00"
        ],
        [
         "19031",
         "7013bcfc1c97fe719a7b5e05e61c12db",
         "2941af76d38100e0f8740a374f1a5dc3",
         "delivered",
         "2023-02-18 13:29",
         null,
         "2023-02-22 16:25",
         "2023-03-01 08:07",
         "2023-03-17 00:00"
        ],
        [
         "20778",
         "4d59cc2a2e7bb6c0a851725f5888a9b5",
         "ead83a4f8f7be8c3034b2e98754a6147",
         "canceled",
         "2024-09-06 14:50",
         null,
         null,
         null,
         "2024-09-21 00:00"
        ],
        [
         "21441",
         "7a4df5d8cff4090e541401a20a22bb80",
         "725e9c75605414b21fd8c8d5a1c2f1d6",
         "created",
         "2023-11-25 11:10",
         null,
         null,
         null,
         "2023-12-12 00:00"
        ],
        [
         "22231",
         "81b7c7bbc8ec003eeb67d87441a6a148",
         "75c6e03e7206bd1dd59f427c9f75142a",
         "canceled",
         "2024-08-20 09:03",
         null,
         null,
         null,
         "2024-09-03 00:00"
        ],
        [
         "22663",
         "5cf925b116421afa85ee25e99b4c34fb",
         "29c35fc91fc13fb5073c8f30505d860d",
         "delivered",
         "2023-02-18 16:48",
         null,
         "2023-02-22 11:23",
         "2023-03-09 07:28",
         "2023-03-31 00:00"
        ],
        [
         "23156",
         "12a95a3c06dbaec84bcfb0e2da5d228a",
         "1e101e0daffaddce8159d25a8e53f2b2",
         "delivered",
         "2023-02-17 13:05",
         null,
         "2023-02-22 11:23",
         "2023-03-02 11:09",
         "2023-03-20 00:00"
        ],
        [
         "23526",
         "15ec3d48383c58c0dc96cd66f8884630",
         "fc768a2275c44d9383cc6926adac469d",
         "canceled",
         "2024-08-23 15:17",
         null,
         null,
         null,
         "2024-09-20 00:00"
        ],
        [
         "24115",
         "33fe1cb532ac16a48902980e00c26da6",
         "e0669fc658288e9aea6d958ea90fb9b7",
         "canceled",
         "2023-07-25 19:26",
         null,
         null,
         null,
         "2023-08-28 00:00"
        ],
        [
         "24410",
         "0d3adebce4bebc1f80a7f36e9833f497",
         "a7c87c25dbdded68c26c640582cb5ddb",
         "canceled",
         "2024-09-03 18:40",
         null,
         null,
         null,
         "2024-10-02 00:00"
        ],
        [
         "25651",
         "1857e77a4bad8abb2db929f107430663",
         "616833eaef04d25b67207119cd6936dc",
         "canceled",
         "2023-08-31 23:55",
         null,
         null,
         null,
         "2023-09-28 00:00"
        ],
        [
         "25953",
         "bb8edfe0742a6a0279b7dff848289568",
         "c2a1740e781cc978dbab71735cf3ce84",
         "canceled",
         "2024-08-30 10:24",
         null,
         null,
         null,
         "2024-09-18 00:00"
        ],
        [
         "26618",
         "02e723e8edb4a123d414f56cc9c4665e",
         "6e9f7d9e943f9c0bdea278d9d7a1c9b9",
         "canceled",
         "2023-08-18 14:30",
         null,
         null,
         null,
         "2023-09-21 00:00"
        ],
        [
         "26800",
         "c1d4211b3dae76144deccd6c74144a88",
         "684cb238dc5b5d6366244e0e0776b450",
         "delivered",
         "2023-01-19 12:48",
         null,
         "2023-01-25 14:56",
         "2023-01-30 18:16",
         "2023-03-01 00:00"
        ],
        [
         "28768",
         "670e3b20191d3198a76069c8f9b12355",
         "f76bd438480c183ffb510bad040f3bd9",
         "canceled",
         "2023-02-03 00:55",
         null,
         null,
         null,
         "2023-03-09 00:00"
        ],
        [
         "28837",
         "ba2821b49c92e278db491d3e19fa0556",
         "159ca8ee3ba03b17c749a3bc8e099e87",
         "canceled",
         "2023-05-02 17:51",
         null,
         null,
         null,
         "2023-05-26 00:00"
        ]
       ],
       "shape": {
        "columns": 8,
        "rows": 160
       }
      },
      "text/html": [
       "<div>\n",
       "<style scoped>\n",
       "    .dataframe tbody tr th:only-of-type {\n",
       "        vertical-align: middle;\n",
       "    }\n",
       "\n",
       "    .dataframe tbody tr th {\n",
       "        vertical-align: top;\n",
       "    }\n",
       "\n",
       "    .dataframe thead th {\n",
       "        text-align: right;\n",
       "    }\n",
       "</style>\n",
       "<table border=\"1\" class=\"dataframe\">\n",
       "  <thead>\n",
       "    <tr style=\"text-align: right;\">\n",
       "      <th></th>\n",
       "      <th>Order_ID</th>\n",
       "      <th>Customer_Trx_ID</th>\n",
       "      <th>Order_Status</th>\n",
       "      <th>Order_Purchase_Timestamp</th>\n",
       "      <th>Order_Approved_At</th>\n",
       "      <th>Order_Delivered_Carrier_Date</th>\n",
       "      <th>Order_Delivered_Customer_Date</th>\n",
       "      <th>Order_Estimated_Delivery_Date</th>\n",
       "    </tr>\n",
       "  </thead>\n",
       "  <tbody>\n",
       "    <tr>\n",
       "      <th>1130</th>\n",
       "      <td>00b1cb0320190ca0daa2c88b35206009</td>\n",
       "      <td>3532ba38a3fd242259a514ac2b6ae6b6</td>\n",
       "      <td>canceled</td>\n",
       "      <td>2024-08-28 15:26</td>\n",
       "      <td>NaN</td>\n",
       "      <td>NaN</td>\n",
       "      <td>NaN</td>\n",
       "      <td>2024-09-12 00:00</td>\n",
       "    </tr>\n",
       "    <tr>\n",
       "      <th>1801</th>\n",
       "      <td>ed3efbd3a87bea76c2812c66a0b32219</td>\n",
       "      <td>191984a8ba4cbb2145acb4fe35b69664</td>\n",
       "      <td>canceled</td>\n",
       "      <td>2024-09-20 13:54</td>\n",
       "      <td>NaN</td>\n",
       "      <td>NaN</td>\n",
       "      <td>NaN</td>\n",
       "      <td>2024-10-17 00:00</td>\n",
       "    </tr>\n",
       "    <tr>\n",
       "      <th>1868</th>\n",
       "      <td>df8282afe61008dc26c6c31011474d02</td>\n",
       "      <td>aa797b187b5466bc6925aaaa4bb3bed1</td>\n",
       "      <td>canceled</td>\n",
       "      <td>2023-03-04 12:14</td>\n",
       "      <td>NaN</td>\n",
       "      <td>NaN</td>\n",
       "      <td>NaN</td>\n",
       "      <td>2023-04-10 00:00</td>\n",
       "    </tr>\n",
       "    <tr>\n",
       "      <th>2029</th>\n",
       "      <td>8d4c637f1accf7a88a4555f02741e606</td>\n",
       "      <td>b1dd715db389a2077f43174e7a675d07</td>\n",
       "      <td>canceled</td>\n",
       "      <td>2024-08-29 16:27</td>\n",
       "      <td>NaN</td>\n",
       "      <td>NaN</td>\n",
       "      <td>NaN</td>\n",
       "      <td>2024-09-13 00:00</td>\n",
       "    </tr>\n",
       "    <tr>\n",
       "      <th>2161</th>\n",
       "      <td>7a9d4c7f9b068337875b95465330f2fc</td>\n",
       "      <td>7f71ae48074c0cfec9195f88fcbfac55</td>\n",
       "      <td>canceled</td>\n",
       "      <td>2023-05-01 16:12</td>\n",
       "      <td>NaN</td>\n",
       "      <td>NaN</td>\n",
       "      <td>NaN</td>\n",
       "      <td>2023-05-30 00:00</td>\n",
       "    </tr>\n",
       "    <tr>\n",
       "      <th>...</th>\n",
       "      <td>...</td>\n",
       "      <td>...</td>\n",
       "      <td>...</td>\n",
       "      <td>...</td>\n",
       "      <td>...</td>\n",
       "      <td>...</td>\n",
       "      <td>...</td>\n",
       "      <td>...</td>\n",
       "    </tr>\n",
       "    <tr>\n",
       "      <th>97696</th>\n",
       "      <td>5a00b4d35edffc56b825c3646a99ba9d</td>\n",
       "      <td>6a3bdf004ca96338fb5fad1b8d93c2e6</td>\n",
       "      <td>canceled</td>\n",
       "      <td>2023-07-02 15:38</td>\n",
       "      <td>NaN</td>\n",
       "      <td>NaN</td>\n",
       "      <td>NaN</td>\n",
       "      <td>2023-07-25 00:00</td>\n",
       "    </tr>\n",
       "    <tr>\n",
       "      <th>98415</th>\n",
       "      <td>227c804e2a44760671a6a5697ea549e4</td>\n",
       "      <td>62e7477e75e542243ee62a0ba73f410f</td>\n",
       "      <td>canceled</td>\n",
       "      <td>2023-09-28 15:02</td>\n",
       "      <td>NaN</td>\n",
       "      <td>NaN</td>\n",
       "      <td>NaN</td>\n",
       "      <td>2023-10-16 00:00</td>\n",
       "    </tr>\n",
       "    <tr>\n",
       "      <th>98909</th>\n",
       "      <td>e49e7ce1471b4693482d40c2bd3ad196</td>\n",
       "      <td>e4e7ab3f449aeb401f0216f86c2104db</td>\n",
       "      <td>canceled</td>\n",
       "      <td>2024-08-07 11:16</td>\n",
       "      <td>NaN</td>\n",
       "      <td>NaN</td>\n",
       "      <td>NaN</td>\n",
       "      <td>2024-08-10 00:00</td>\n",
       "    </tr>\n",
       "    <tr>\n",
       "      <th>99283</th>\n",
       "      <td>3a3cddda5a7c27851bd96c3313412840</td>\n",
       "      <td>0b0d6095c5555fe083844281f6b093bb</td>\n",
       "      <td>canceled</td>\n",
       "      <td>2024-08-31 16:13</td>\n",
       "      <td>NaN</td>\n",
       "      <td>NaN</td>\n",
       "      <td>NaN</td>\n",
       "      <td>2024-10-01 00:00</td>\n",
       "    </tr>\n",
       "    <tr>\n",
       "      <th>99347</th>\n",
       "      <td>a89abace0dcc01eeb267a9660b5ac126</td>\n",
       "      <td>2f0524a7b1b3845a1a57fcf3910c4333</td>\n",
       "      <td>canceled</td>\n",
       "      <td>2024-09-06 18:45</td>\n",
       "      <td>NaN</td>\n",
       "      <td>NaN</td>\n",
       "      <td>NaN</td>\n",
       "      <td>2024-09-27 00:00</td>\n",
       "    </tr>\n",
       "  </tbody>\n",
       "</table>\n",
       "<p>160 rows × 8 columns</p>\n",
       "</div>"
      ],
      "text/plain": [
       "                               Order_ID                   Customer_Trx_ID  \\\n",
       "1130   00b1cb0320190ca0daa2c88b35206009  3532ba38a3fd242259a514ac2b6ae6b6   \n",
       "1801   ed3efbd3a87bea76c2812c66a0b32219  191984a8ba4cbb2145acb4fe35b69664   \n",
       "1868   df8282afe61008dc26c6c31011474d02  aa797b187b5466bc6925aaaa4bb3bed1   \n",
       "2029   8d4c637f1accf7a88a4555f02741e606  b1dd715db389a2077f43174e7a675d07   \n",
       "2161   7a9d4c7f9b068337875b95465330f2fc  7f71ae48074c0cfec9195f88fcbfac55   \n",
       "...                                 ...                               ...   \n",
       "97696  5a00b4d35edffc56b825c3646a99ba9d  6a3bdf004ca96338fb5fad1b8d93c2e6   \n",
       "98415  227c804e2a44760671a6a5697ea549e4  62e7477e75e542243ee62a0ba73f410f   \n",
       "98909  e49e7ce1471b4693482d40c2bd3ad196  e4e7ab3f449aeb401f0216f86c2104db   \n",
       "99283  3a3cddda5a7c27851bd96c3313412840  0b0d6095c5555fe083844281f6b093bb   \n",
       "99347  a89abace0dcc01eeb267a9660b5ac126  2f0524a7b1b3845a1a57fcf3910c4333   \n",
       "\n",
       "      Order_Status Order_Purchase_Timestamp Order_Approved_At  \\\n",
       "1130      canceled         2024-08-28 15:26               NaN   \n",
       "1801      canceled         2024-09-20 13:54               NaN   \n",
       "1868      canceled         2023-03-04 12:14               NaN   \n",
       "2029      canceled         2024-08-29 16:27               NaN   \n",
       "2161      canceled         2023-05-01 16:12               NaN   \n",
       "...            ...                      ...               ...   \n",
       "97696     canceled         2023-07-02 15:38               NaN   \n",
       "98415     canceled         2023-09-28 15:02               NaN   \n",
       "98909     canceled         2024-08-07 11:16               NaN   \n",
       "99283     canceled         2024-08-31 16:13               NaN   \n",
       "99347     canceled         2024-09-06 18:45               NaN   \n",
       "\n",
       "      Order_Delivered_Carrier_Date Order_Delivered_Customer_Date  \\\n",
       "1130                           NaN                           NaN   \n",
       "1801                           NaN                           NaN   \n",
       "1868                           NaN                           NaN   \n",
       "2029                           NaN                           NaN   \n",
       "2161                           NaN                           NaN   \n",
       "...                            ...                           ...   \n",
       "97696                          NaN                           NaN   \n",
       "98415                          NaN                           NaN   \n",
       "98909                          NaN                           NaN   \n",
       "99283                          NaN                           NaN   \n",
       "99347                          NaN                           NaN   \n",
       "\n",
       "      Order_Estimated_Delivery_Date  \n",
       "1130               2024-09-12 00:00  \n",
       "1801               2024-10-17 00:00  \n",
       "1868               2023-04-10 00:00  \n",
       "2029               2024-09-13 00:00  \n",
       "2161               2023-05-30 00:00  \n",
       "...                             ...  \n",
       "97696              2023-07-25 00:00  \n",
       "98415              2023-10-16 00:00  \n",
       "98909              2024-08-10 00:00  \n",
       "99283              2024-10-01 00:00  \n",
       "99347              2024-09-27 00:00  \n",
       "\n",
       "[160 rows x 8 columns]"
      ]
     },
     "execution_count": 45,
     "metadata": {},
     "output_type": "execute_result"
    }
   ],
   "source": [
    "orders_date_null = orders[orders['Order_Approved_At'].isnull()]\n",
    "orders_date_null"
   ]
  },
  {
   "cell_type": "markdown",
   "id": "94a0a382",
   "metadata": {},
   "source": [
    "missing not at random"
   ]
  },
  {
   "cell_type": "code",
   "execution_count": 46,
   "id": "d346bbc8",
   "metadata": {},
   "outputs": [
    {
     "data": {
      "application/vnd.microsoft.datawrangler.viewer.v0+json": {
       "columns": [
        {
         "name": "index",
         "rawType": "int64",
         "type": "integer"
        },
        {
         "name": "Order_ID",
         "rawType": "object",
         "type": "string"
        },
        {
         "name": "Customer_Trx_ID",
         "rawType": "object",
         "type": "string"
        },
        {
         "name": "Order_Status",
         "rawType": "object",
         "type": "string"
        },
        {
         "name": "Order_Purchase_Timestamp",
         "rawType": "object",
         "type": "string"
        },
        {
         "name": "Order_Approved_At",
         "rawType": "object",
         "type": "unknown"
        },
        {
         "name": "Order_Delivered_Carrier_Date",
         "rawType": "object",
         "type": "unknown"
        },
        {
         "name": "Order_Delivered_Customer_Date",
         "rawType": "object",
         "type": "unknown"
        },
        {
         "name": "Order_Estimated_Delivery_Date",
         "rawType": "object",
         "type": "string"
        }
       ],
       "ref": "6db77fe0-954e-43f0-ad45-1d106a8935c7",
       "rows": [
        [
         "397",
         "1b9ecfe83cdc259250e1a8aca174f0ad",
         "6d6b50b66d79f80827b6d96751528d30",
         "canceled",
         "2024-08-04 14:29",
         "2024-08-07 04:10",
         null,
         null,
         "2024-08-14 00:00"
        ],
        [
         "613",
         "714fb133a6730ab81fa1d3c1b2007291",
         "e3fe72696c4713d64d3c10afe71e75ed",
         "canceled",
         "2024-01-26 21:34",
         "2024-01-26 21:58",
         "2024-01-29 22:33",
         null,
         "2024-02-22 00:00"
        ],
        [
         "1058",
         "3a129877493c8189c59c60eb71d97c29",
         "0913cdce793684e52bbfac69d87e91fd",
         "canceled",
         "2024-01-25 13:34",
         "2024-01-25 13:50",
         "2024-01-26 21:42",
         null,
         "2024-02-23 00:00"
        ],
        [
         "1130",
         "00b1cb0320190ca0daa2c88b35206009",
         "3532ba38a3fd242259a514ac2b6ae6b6",
         "canceled",
         "2024-08-28 15:26",
         null,
         null,
         null,
         "2024-09-12 00:00"
        ],
        [
         "1801",
         "ed3efbd3a87bea76c2812c66a0b32219",
         "191984a8ba4cbb2145acb4fe35b69664",
         "canceled",
         "2024-09-20 13:54",
         null,
         null,
         null,
         "2024-10-17 00:00"
        ],
        [
         "1811",
         "0966b61e30c4a07edbd7523f59b3f3e4",
         "2fcc597b8934d99715dbfff7909dd27f",
         "canceled",
         "2024-05-22 18:50",
         "2024-05-22 19:17",
         null,
         null,
         "2024-07-03 00:00"
        ],
        [
         "1819",
         "9021cf1919f615a121410790dcce848f",
         "7acf55df0298e1d2c31200fb4f6fb93b",
         "canceled",
         "2024-07-04 16:05",
         "2024-07-06 02:55",
         null,
         null,
         "2024-08-22 00:00"
        ],
        [
         "1868",
         "df8282afe61008dc26c6c31011474d02",
         "aa797b187b5466bc6925aaaa4bb3bed1",
         "canceled",
         "2023-03-04 12:14",
         null,
         null,
         null,
         "2023-04-10 00:00"
        ],
        [
         "1971",
         "a39d3db795a5cf4c8b6c9dd050f0d326",
         "ec66df2cb66dfda07c03050470e21f69",
         "canceled",
         "2023-03-13 16:12",
         "2023-03-13 16:12",
         null,
         null,
         "2023-03-30 00:00"
        ],
        [
         "2029",
         "8d4c637f1accf7a88a4555f02741e606",
         "b1dd715db389a2077f43174e7a675d07",
         "canceled",
         "2024-08-29 16:27",
         null,
         null,
         null,
         "2024-09-13 00:00"
        ],
        [
         "2161",
         "7a9d4c7f9b068337875b95465330f2fc",
         "7f71ae48074c0cfec9195f88fcbfac55",
         "canceled",
         "2023-05-01 16:12",
         null,
         null,
         null,
         "2023-05-30 00:00"
        ],
        [
         "2197",
         "375f80ffc05feb35ce2680f1fa490575",
         "8f6e5911262a8742393596bee2c09eac",
         "canceled",
         "2023-06-13 21:10",
         "2023-06-13 21:22",
         null,
         null,
         "2023-07-06 00:00"
        ],
        [
         "2278",
         "6bfa92d3952f762df12752e4937cd63e",
         "6ccb997c97b0734228b454ba220ed00e",
         "canceled",
         "2024-04-27 21:28",
         "2024-04-27 21:52",
         null,
         null,
         "2024-05-10 00:00"
        ],
        [
         "2697",
         "2eb5ba20812f78127f6243fa27fb40e5",
         "d5420a7dc4c5c1f95b7912368419f59f",
         "canceled",
         "2023-05-29 18:10",
         "2023-05-31 07:02",
         null,
         null,
         "2023-06-20 00:00"
        ],
        [
         "2921",
         "1950d777989f6a877539f53795b4c3c3",
         "1bccb206de9f0f25adc6871a1bcf77b2",
         "canceled",
         "2024-02-19 19:48",
         "2024-02-19 20:56",
         "2024-02-20 19:57",
         "2024-03-21 22:03",
         "2024-03-09 00:00"
        ],
        [
         "3056",
         "ddaec6fff982b13e7e048b627a11d6da",
         "68f4ad79cc0c2ad06e19088f5c00e9fa",
         "canceled",
         "2022-10-04 19:41",
         null,
         null,
         null,
         "2022-11-16 00:00"
        ],
        [
         "3094",
         "5290c34bd38a8a095b885f13958db1e1",
         "92af427e290117f39d9ff908566072e0",
         "canceled",
         "2024-08-21 10:25",
         null,
         null,
         null,
         "2024-09-06 00:00"
        ],
        [
         "3352",
         "6261f3240a8778c656bd28aeb2ba9985",
         "59c0ac147fb499a0f14577f508a3657d",
         "canceled",
         "2023-05-31 13:21",
         "2023-06-01 13:35",
         null,
         null,
         "2023-07-04 00:00"
        ],
        [
         "3397",
         "5ad5a1ef522da1732ab963ea1fb6165b",
         "a76e74100709762a48e683a177dc86b0",
         "canceled",
         "2023-06-22 19:53",
         "2023-06-22 20:05",
         null,
         null,
         "2023-07-05 00:00"
        ],
        [
         "3684",
         "03310aa823a66056268a3bab36e827fb",
         "25dbbf0c477fd4ae0880aaffbb12e8b3",
         "canceled",
         "2024-08-07 16:33",
         null,
         null,
         null,
         "2024-09-04 00:00"
        ],
        [
         "4312",
         "96ae30a2357a999e6010b2f1401af374",
         "44ea012b92b665f5f4c775f3f0a63d7b",
         "canceled",
         "2023-07-31 16:37",
         "2023-07-31 16:50",
         null,
         null,
         "2023-08-18 00:00"
        ],
        [
         "4345",
         "73c182f8914a0064d6c64ad65e4c6942",
         "f51c6d9e24e077d5755ac7abdb209b1e",
         "canceled",
         "2023-02-08 00:53",
         "2023-02-08 01:05",
         null,
         null,
         "2023-03-15 00:00"
        ],
        [
         "4373",
         "4c8b9947280829d0a8b7e81cc249b875",
         "403c35c4d8813bf67b3d396b91ca1619",
         "canceled",
         "2024-08-09 14:54",
         null,
         null,
         null,
         "2024-08-21 00:00"
        ],
        [
         "4396",
         "e5fa5a7210941f7d56d0208e4e071d35",
         "683c54fc24d40ee9f8a6fc179fd9856c",
         "canceled",
         "2022-09-05 00:15",
         "2022-10-07 13:17",
         null,
         null,
         "2022-10-28 00:00"
        ],
        [
         "4939",
         "b13ea375fe9c728832688264638f84cf",
         "0dc5884bc5ffba283678229f27e07ff9",
         "canceled",
         "2024-08-22 18:52",
         null,
         null,
         null,
         "2024-09-19 00:00"
        ],
        [
         "5127",
         "8a9cce19aa49e055f2babb81d5a71c40",
         "f2676ef361959c938b35ecd32321adce",
         "canceled",
         "2024-02-01 10:04",
         "2024-02-03 02:52",
         "2024-02-05 20:41",
         null,
         "2024-02-23 00:00"
        ],
        [
         "5149",
         "ea844c92cf978ea23321fa7fe5871761",
         "6ddc45ad08e6a2c885ca2255fc52d6df",
         "canceled",
         "2024-09-13 09:56",
         null,
         null,
         null,
         "2024-09-27 00:00"
        ],
        [
         "5432",
         "85e05c3c9aa9834518f35d4f286014be",
         "1d07a80a15700b40cb15ff5870ee8b48",
         "canceled",
         "2024-08-28 08:18",
         null,
         null,
         null,
         "2024-10-10 00:00"
        ],
        [
         "5449",
         "c1049eef89915c6beb3604bf3d6588d7",
         "ed16865bcadcea1a00a928bf418a74bf",
         "canceled",
         "2024-02-05 23:08",
         "2024-02-05 23:29",
         "2024-02-09 22:13",
         null,
         "2024-03-07 00:00"
        ],
        [
         "5457",
         "168823ad1b77477540db78ab357f18b5",
         "d0b3bccd5ab7d4920b0a8318ce9d997b",
         "canceled",
         "2024-07-17 11:16",
         "2024-07-17 11:30",
         null,
         null,
         "2024-08-17 00:00"
        ],
        [
         "5509",
         "885935156ba43094f3ae95f3c14e0381",
         "3885c59916b2b261205c303fe0a10abf",
         "canceled",
         "2024-02-02 16:06",
         "2024-02-06 04:32",
         "2024-02-07 20:48",
         null,
         "2024-03-08 00:00"
        ],
        [
         "5518",
         "38a86eb53c2309d6234fc9bad96331ac",
         "82d98198f7fb1687858e03a5322e1621",
         "canceled",
         "2024-08-18 12:39",
         null,
         null,
         null,
         "2024-08-29 00:00"
        ],
        [
         "5523",
         "c504f1f5fd54cc8398d57dc0da49de01",
         "f5294fd3bc349e076861698912675c2e",
         "canceled",
         "2023-07-09 09:18",
         "2023-07-09 09:30",
         null,
         null,
         "2023-08-10 00:00"
        ],
        [
         "5642",
         "c5a468ae781ffb0ec6d36ae89fe512b0",
         "ed7ef682569428c1afaf73b39a2f602b",
         "canceled",
         "2023-01-13 11:06",
         null,
         null,
         null,
         "2023-02-13 00:00"
        ],
        [
         "5754",
         "d1b4fc9a8c1207433519a8ec52e2d03f",
         "f9a6bf8bc89af704ecd48975eff11800",
         "canceled",
         "2024-05-08 10:05",
         "2024-05-08 10:31",
         null,
         null,
         "2024-05-16 00:00"
        ],
        [
         "6129",
         "bcdad86f44c780bf1aaf24b66dd97753",
         "f3f955ae1cc137ab2ec810ee255b2662",
         "canceled",
         "2024-08-05 03:49",
         "2024-08-05 04:04",
         null,
         null,
         "2024-08-20 00:00"
        ],
        [
         "6356",
         "2bb02fdf5637a68cd5d13c78c37c3376",
         "8c468917b274857623298a1627369866",
         "canceled",
         "2024-08-09 10:55",
         null,
         null,
         null,
         "2024-08-17 00:00"
        ],
        [
         "6647",
         "5b4858f2dcf69731f2285a38829bfa7c",
         "c8223f76047e09bea798462f2f46ffa9",
         "canceled",
         "2024-02-15 20:53",
         "2024-02-15 21:06",
         "2024-02-16 16:52",
         null,
         "2024-03-16 00:00"
        ],
        [
         "6691",
         "5b0ee19a3125fc083348baa76d816ed0",
         "97e5ea711c00ba54392bf866a7d5f1e0",
         "canceled",
         "2024-03-05 13:56",
         "2024-03-05 14:40",
         null,
         null,
         "2024-03-15 00:00"
        ],
        [
         "6730",
         "12e1495369c542f003eb3ca480f924e3",
         "6dd345003a66b6fb3f18301af8c6cd0c",
         "canceled",
         "2023-09-12 19:17",
         "2023-09-12 19:30",
         null,
         null,
         "2023-09-25 00:00"
        ],
        [
         "6845",
         "03a8aa5d0860898d421c46247011c686",
         "36be0c3653ce387a9c5918cfdae9b053",
         "canceled",
         "2023-05-31 19:02",
         "2023-05-31 19:15",
         null,
         null,
         "2023-06-21 00:00"
        ],
        [
         "7244",
         "5226f1a731e8a1215da5e1bea64e2130",
         "3489fb03bfa99335c385df8b863a701b",
         "canceled",
         "2022-10-10 09:51",
         "2022-10-18 15:19",
         null,
         null,
         "2022-11-18 00:00"
        ],
        [
         "7457",
         "9380c59012c11f49c549ef8dffef1367",
         "07838708499d3eb9da748cb10b8ddf0a",
         "canceled",
         "2024-08-15 11:05",
         null,
         null,
         null,
         "2024-09-21 00:00"
        ],
        [
         "7955",
         "bef875448d5a4f703555d2dd5f8382b5",
         "4a6f6cd7b3fa8d3f9a370adfdad0fa97",
         "canceled",
         "2024-01-23 09:48",
         "2024-01-23 10:20",
         "2024-01-24 21:04",
         null,
         "2024-02-22 00:00"
        ],
        [
         "8207",
         "013e9c654a339d80b53513da3c1ea437",
         "9391729f79cd9e5fd7ca884ca030f579",
         "canceled",
         "2023-06-18 13:48",
         "2023-06-18 13:55",
         null,
         null,
         "2023-07-07 00:00"
        ],
        [
         "8289",
         "672ab3776d5b25e586521469609ae774",
         "8c8b3a28c07f67148f86f297604b9875",
         "canceled",
         "2023-05-10 11:52",
         null,
         null,
         null,
         "2023-05-26 00:00"
        ],
        [
         "8309",
         "676e40056867189a1b3599f3e646f421",
         "1f9d7eb9953ad379f11be30ae9dda416",
         "canceled",
         "2023-04-07 21:12",
         "2023-04-07 21:25",
         null,
         null,
         "2023-05-03 00:00"
        ],
        [
         "8341",
         "61792c6272346d7f4b7c5b1747df7b1a",
         "6d6221343635319264386c8f977b01de",
         "canceled",
         "2023-03-08 11:51",
         "2023-03-08 12:33",
         null,
         null,
         "2023-04-10 00:00"
        ],
        [
         "8436",
         "94bde44a48f191d7175f67eb93b9ed67",
         "7e8eda96b7924f789c4b65855af3e187",
         "canceled",
         "2023-02-01 17:31",
         "2023-02-09 14:43",
         null,
         null,
         "2023-03-16 00:00"
        ],
        [
         "8542",
         "7142b298b22a79a285d2ce792dc533a2",
         "d2fac3a405031b2adb1739b20cae646a",
         "canceled",
         "2023-02-10 00:58",
         "2023-02-10 01:05",
         null,
         null,
         "2023-03-13 00:00"
        ]
       ],
       "shape": {
        "columns": 8,
        "rows": 625
       }
      },
      "text/html": [
       "<div>\n",
       "<style scoped>\n",
       "    .dataframe tbody tr th:only-of-type {\n",
       "        vertical-align: middle;\n",
       "    }\n",
       "\n",
       "    .dataframe tbody tr th {\n",
       "        vertical-align: top;\n",
       "    }\n",
       "\n",
       "    .dataframe thead th {\n",
       "        text-align: right;\n",
       "    }\n",
       "</style>\n",
       "<table border=\"1\" class=\"dataframe\">\n",
       "  <thead>\n",
       "    <tr style=\"text-align: right;\">\n",
       "      <th></th>\n",
       "      <th>Order_ID</th>\n",
       "      <th>Customer_Trx_ID</th>\n",
       "      <th>Order_Status</th>\n",
       "      <th>Order_Purchase_Timestamp</th>\n",
       "      <th>Order_Approved_At</th>\n",
       "      <th>Order_Delivered_Carrier_Date</th>\n",
       "      <th>Order_Delivered_Customer_Date</th>\n",
       "      <th>Order_Estimated_Delivery_Date</th>\n",
       "    </tr>\n",
       "  </thead>\n",
       "  <tbody>\n",
       "    <tr>\n",
       "      <th>397</th>\n",
       "      <td>1b9ecfe83cdc259250e1a8aca174f0ad</td>\n",
       "      <td>6d6b50b66d79f80827b6d96751528d30</td>\n",
       "      <td>canceled</td>\n",
       "      <td>2024-08-04 14:29</td>\n",
       "      <td>2024-08-07 04:10</td>\n",
       "      <td>NaN</td>\n",
       "      <td>NaN</td>\n",
       "      <td>2024-08-14 00:00</td>\n",
       "    </tr>\n",
       "    <tr>\n",
       "      <th>613</th>\n",
       "      <td>714fb133a6730ab81fa1d3c1b2007291</td>\n",
       "      <td>e3fe72696c4713d64d3c10afe71e75ed</td>\n",
       "      <td>canceled</td>\n",
       "      <td>2024-01-26 21:34</td>\n",
       "      <td>2024-01-26 21:58</td>\n",
       "      <td>2024-01-29 22:33</td>\n",
       "      <td>NaN</td>\n",
       "      <td>2024-02-22 00:00</td>\n",
       "    </tr>\n",
       "    <tr>\n",
       "      <th>1058</th>\n",
       "      <td>3a129877493c8189c59c60eb71d97c29</td>\n",
       "      <td>0913cdce793684e52bbfac69d87e91fd</td>\n",
       "      <td>canceled</td>\n",
       "      <td>2024-01-25 13:34</td>\n",
       "      <td>2024-01-25 13:50</td>\n",
       "      <td>2024-01-26 21:42</td>\n",
       "      <td>NaN</td>\n",
       "      <td>2024-02-23 00:00</td>\n",
       "    </tr>\n",
       "    <tr>\n",
       "      <th>1130</th>\n",
       "      <td>00b1cb0320190ca0daa2c88b35206009</td>\n",
       "      <td>3532ba38a3fd242259a514ac2b6ae6b6</td>\n",
       "      <td>canceled</td>\n",
       "      <td>2024-08-28 15:26</td>\n",
       "      <td>NaN</td>\n",
       "      <td>NaN</td>\n",
       "      <td>NaN</td>\n",
       "      <td>2024-09-12 00:00</td>\n",
       "    </tr>\n",
       "    <tr>\n",
       "      <th>1801</th>\n",
       "      <td>ed3efbd3a87bea76c2812c66a0b32219</td>\n",
       "      <td>191984a8ba4cbb2145acb4fe35b69664</td>\n",
       "      <td>canceled</td>\n",
       "      <td>2024-09-20 13:54</td>\n",
       "      <td>NaN</td>\n",
       "      <td>NaN</td>\n",
       "      <td>NaN</td>\n",
       "      <td>2024-10-17 00:00</td>\n",
       "    </tr>\n",
       "    <tr>\n",
       "      <th>...</th>\n",
       "      <td>...</td>\n",
       "      <td>...</td>\n",
       "      <td>...</td>\n",
       "      <td>...</td>\n",
       "      <td>...</td>\n",
       "      <td>...</td>\n",
       "      <td>...</td>\n",
       "      <td>...</td>\n",
       "    </tr>\n",
       "    <tr>\n",
       "      <th>98791</th>\n",
       "      <td>b159d0ce7cd881052da94fa165617b05</td>\n",
       "      <td>e0c3bc5ce0836b975d6b2a8ce7bb0e3e</td>\n",
       "      <td>canceled</td>\n",
       "      <td>2023-03-11 19:51</td>\n",
       "      <td>2023-03-11 19:51</td>\n",
       "      <td>NaN</td>\n",
       "      <td>NaN</td>\n",
       "      <td>2023-03-30 00:00</td>\n",
       "    </tr>\n",
       "    <tr>\n",
       "      <th>98909</th>\n",
       "      <td>e49e7ce1471b4693482d40c2bd3ad196</td>\n",
       "      <td>e4e7ab3f449aeb401f0216f86c2104db</td>\n",
       "      <td>canceled</td>\n",
       "      <td>2024-08-07 11:16</td>\n",
       "      <td>NaN</td>\n",
       "      <td>NaN</td>\n",
       "      <td>NaN</td>\n",
       "      <td>2024-08-10 00:00</td>\n",
       "    </tr>\n",
       "    <tr>\n",
       "      <th>99143</th>\n",
       "      <td>6560fb10610771449cb0463c5ba12199</td>\n",
       "      <td>0d07d0a588caf93cc66b7a8aff86d2fe</td>\n",
       "      <td>canceled</td>\n",
       "      <td>2023-10-01 22:26</td>\n",
       "      <td>2023-10-01 22:35</td>\n",
       "      <td>NaN</td>\n",
       "      <td>NaN</td>\n",
       "      <td>2023-10-27 00:00</td>\n",
       "    </tr>\n",
       "    <tr>\n",
       "      <th>99283</th>\n",
       "      <td>3a3cddda5a7c27851bd96c3313412840</td>\n",
       "      <td>0b0d6095c5555fe083844281f6b093bb</td>\n",
       "      <td>canceled</td>\n",
       "      <td>2024-08-31 16:13</td>\n",
       "      <td>NaN</td>\n",
       "      <td>NaN</td>\n",
       "      <td>NaN</td>\n",
       "      <td>2024-10-01 00:00</td>\n",
       "    </tr>\n",
       "    <tr>\n",
       "      <th>99347</th>\n",
       "      <td>a89abace0dcc01eeb267a9660b5ac126</td>\n",
       "      <td>2f0524a7b1b3845a1a57fcf3910c4333</td>\n",
       "      <td>canceled</td>\n",
       "      <td>2024-09-06 18:45</td>\n",
       "      <td>NaN</td>\n",
       "      <td>NaN</td>\n",
       "      <td>NaN</td>\n",
       "      <td>2024-09-27 00:00</td>\n",
       "    </tr>\n",
       "  </tbody>\n",
       "</table>\n",
       "<p>625 rows × 8 columns</p>\n",
       "</div>"
      ],
      "text/plain": [
       "                               Order_ID                   Customer_Trx_ID  \\\n",
       "397    1b9ecfe83cdc259250e1a8aca174f0ad  6d6b50b66d79f80827b6d96751528d30   \n",
       "613    714fb133a6730ab81fa1d3c1b2007291  e3fe72696c4713d64d3c10afe71e75ed   \n",
       "1058   3a129877493c8189c59c60eb71d97c29  0913cdce793684e52bbfac69d87e91fd   \n",
       "1130   00b1cb0320190ca0daa2c88b35206009  3532ba38a3fd242259a514ac2b6ae6b6   \n",
       "1801   ed3efbd3a87bea76c2812c66a0b32219  191984a8ba4cbb2145acb4fe35b69664   \n",
       "...                                 ...                               ...   \n",
       "98791  b159d0ce7cd881052da94fa165617b05  e0c3bc5ce0836b975d6b2a8ce7bb0e3e   \n",
       "98909  e49e7ce1471b4693482d40c2bd3ad196  e4e7ab3f449aeb401f0216f86c2104db   \n",
       "99143  6560fb10610771449cb0463c5ba12199  0d07d0a588caf93cc66b7a8aff86d2fe   \n",
       "99283  3a3cddda5a7c27851bd96c3313412840  0b0d6095c5555fe083844281f6b093bb   \n",
       "99347  a89abace0dcc01eeb267a9660b5ac126  2f0524a7b1b3845a1a57fcf3910c4333   \n",
       "\n",
       "      Order_Status Order_Purchase_Timestamp Order_Approved_At  \\\n",
       "397       canceled         2024-08-04 14:29  2024-08-07 04:10   \n",
       "613       canceled         2024-01-26 21:34  2024-01-26 21:58   \n",
       "1058      canceled         2024-01-25 13:34  2024-01-25 13:50   \n",
       "1130      canceled         2024-08-28 15:26               NaN   \n",
       "1801      canceled         2024-09-20 13:54               NaN   \n",
       "...            ...                      ...               ...   \n",
       "98791     canceled         2023-03-11 19:51  2023-03-11 19:51   \n",
       "98909     canceled         2024-08-07 11:16               NaN   \n",
       "99143     canceled         2023-10-01 22:26  2023-10-01 22:35   \n",
       "99283     canceled         2024-08-31 16:13               NaN   \n",
       "99347     canceled         2024-09-06 18:45               NaN   \n",
       "\n",
       "      Order_Delivered_Carrier_Date Order_Delivered_Customer_Date  \\\n",
       "397                            NaN                           NaN   \n",
       "613               2024-01-29 22:33                           NaN   \n",
       "1058              2024-01-26 21:42                           NaN   \n",
       "1130                           NaN                           NaN   \n",
       "1801                           NaN                           NaN   \n",
       "...                            ...                           ...   \n",
       "98791                          NaN                           NaN   \n",
       "98909                          NaN                           NaN   \n",
       "99143                          NaN                           NaN   \n",
       "99283                          NaN                           NaN   \n",
       "99347                          NaN                           NaN   \n",
       "\n",
       "      Order_Estimated_Delivery_Date  \n",
       "397                2024-08-14 00:00  \n",
       "613                2024-02-22 00:00  \n",
       "1058               2024-02-23 00:00  \n",
       "1130               2024-09-12 00:00  \n",
       "1801               2024-10-17 00:00  \n",
       "...                             ...  \n",
       "98791              2023-03-30 00:00  \n",
       "98909              2024-08-10 00:00  \n",
       "99143              2023-10-27 00:00  \n",
       "99283              2024-10-01 00:00  \n",
       "99347              2024-09-27 00:00  \n",
       "\n",
       "[625 rows x 8 columns]"
      ]
     },
     "execution_count": 46,
     "metadata": {},
     "output_type": "execute_result"
    }
   ],
   "source": [
    "orders_canceled = orders[orders['Order_Status'] == 'canceled']\n",
    "orders_canceled"
   ]
  },
  {
   "cell_type": "code",
   "execution_count": 47,
   "id": "ea583aed",
   "metadata": {},
   "outputs": [],
   "source": [
    "# Definir la fecha bandera\n",
    "date_flag = pd.Timestamp(\"1900-01-01\")\n",
    "\n",
    "# Reemplazar nulos en las tres columnas de fecha\n",
    "orders = orders.fillna({\n",
    "    'Order_Approved_At': date_flag,\n",
    "    'Order_Delivered_Carrier_Date': date_flag,\n",
    "    'Order_Delivered_Customer_Date': date_flag\n",
    "})\n"
   ]
  },
  {
   "cell_type": "code",
   "execution_count": 48,
   "id": "836c48e4",
   "metadata": {},
   "outputs": [
    {
     "data": {
      "application/vnd.microsoft.datawrangler.viewer.v0+json": {
       "columns": [
        {
         "name": "index",
         "rawType": "int64",
         "type": "integer"
        },
        {
         "name": "Order_ID",
         "rawType": "object",
         "type": "string"
        },
        {
         "name": "Customer_Trx_ID",
         "rawType": "object",
         "type": "string"
        },
        {
         "name": "Order_Status",
         "rawType": "object",
         "type": "string"
        },
        {
         "name": "Order_Purchase_Timestamp",
         "rawType": "object",
         "type": "string"
        },
        {
         "name": "Order_Approved_At",
         "rawType": "object",
         "type": "unknown"
        },
        {
         "name": "Order_Delivered_Carrier_Date",
         "rawType": "object",
         "type": "unknown"
        },
        {
         "name": "Order_Delivered_Customer_Date",
         "rawType": "object",
         "type": "unknown"
        },
        {
         "name": "Order_Estimated_Delivery_Date",
         "rawType": "object",
         "type": "string"
        }
       ],
       "ref": "6b73578d-7e62-4f8b-8043-83b67073379a",
       "rows": [
        [
         "397",
         "1b9ecfe83cdc259250e1a8aca174f0ad",
         "6d6b50b66d79f80827b6d96751528d30",
         "canceled",
         "2024-08-04 14:29",
         "2024-08-07 04:10",
         "1900-01-01 00:00:00",
         "1900-01-01 00:00:00",
         "2024-08-14 00:00"
        ],
        [
         "613",
         "714fb133a6730ab81fa1d3c1b2007291",
         "e3fe72696c4713d64d3c10afe71e75ed",
         "canceled",
         "2024-01-26 21:34",
         "2024-01-26 21:58",
         "2024-01-29 22:33",
         "1900-01-01 00:00:00",
         "2024-02-22 00:00"
        ],
        [
         "1058",
         "3a129877493c8189c59c60eb71d97c29",
         "0913cdce793684e52bbfac69d87e91fd",
         "canceled",
         "2024-01-25 13:34",
         "2024-01-25 13:50",
         "2024-01-26 21:42",
         "1900-01-01 00:00:00",
         "2024-02-23 00:00"
        ],
        [
         "1130",
         "00b1cb0320190ca0daa2c88b35206009",
         "3532ba38a3fd242259a514ac2b6ae6b6",
         "canceled",
         "2024-08-28 15:26",
         "1900-01-01 00:00:00",
         "1900-01-01 00:00:00",
         "1900-01-01 00:00:00",
         "2024-09-12 00:00"
        ],
        [
         "1801",
         "ed3efbd3a87bea76c2812c66a0b32219",
         "191984a8ba4cbb2145acb4fe35b69664",
         "canceled",
         "2024-09-20 13:54",
         "1900-01-01 00:00:00",
         "1900-01-01 00:00:00",
         "1900-01-01 00:00:00",
         "2024-10-17 00:00"
        ],
        [
         "1811",
         "0966b61e30c4a07edbd7523f59b3f3e4",
         "2fcc597b8934d99715dbfff7909dd27f",
         "canceled",
         "2024-05-22 18:50",
         "2024-05-22 19:17",
         "1900-01-01 00:00:00",
         "1900-01-01 00:00:00",
         "2024-07-03 00:00"
        ],
        [
         "1819",
         "9021cf1919f615a121410790dcce848f",
         "7acf55df0298e1d2c31200fb4f6fb93b",
         "canceled",
         "2024-07-04 16:05",
         "2024-07-06 02:55",
         "1900-01-01 00:00:00",
         "1900-01-01 00:00:00",
         "2024-08-22 00:00"
        ],
        [
         "1868",
         "df8282afe61008dc26c6c31011474d02",
         "aa797b187b5466bc6925aaaa4bb3bed1",
         "canceled",
         "2023-03-04 12:14",
         "1900-01-01 00:00:00",
         "1900-01-01 00:00:00",
         "1900-01-01 00:00:00",
         "2023-04-10 00:00"
        ],
        [
         "1971",
         "a39d3db795a5cf4c8b6c9dd050f0d326",
         "ec66df2cb66dfda07c03050470e21f69",
         "canceled",
         "2023-03-13 16:12",
         "2023-03-13 16:12",
         "1900-01-01 00:00:00",
         "1900-01-01 00:00:00",
         "2023-03-30 00:00"
        ],
        [
         "2029",
         "8d4c637f1accf7a88a4555f02741e606",
         "b1dd715db389a2077f43174e7a675d07",
         "canceled",
         "2024-08-29 16:27",
         "1900-01-01 00:00:00",
         "1900-01-01 00:00:00",
         "1900-01-01 00:00:00",
         "2024-09-13 00:00"
        ],
        [
         "2161",
         "7a9d4c7f9b068337875b95465330f2fc",
         "7f71ae48074c0cfec9195f88fcbfac55",
         "canceled",
         "2023-05-01 16:12",
         "1900-01-01 00:00:00",
         "1900-01-01 00:00:00",
         "1900-01-01 00:00:00",
         "2023-05-30 00:00"
        ],
        [
         "2197",
         "375f80ffc05feb35ce2680f1fa490575",
         "8f6e5911262a8742393596bee2c09eac",
         "canceled",
         "2023-06-13 21:10",
         "2023-06-13 21:22",
         "1900-01-01 00:00:00",
         "1900-01-01 00:00:00",
         "2023-07-06 00:00"
        ],
        [
         "2278",
         "6bfa92d3952f762df12752e4937cd63e",
         "6ccb997c97b0734228b454ba220ed00e",
         "canceled",
         "2024-04-27 21:28",
         "2024-04-27 21:52",
         "1900-01-01 00:00:00",
         "1900-01-01 00:00:00",
         "2024-05-10 00:00"
        ],
        [
         "2697",
         "2eb5ba20812f78127f6243fa27fb40e5",
         "d5420a7dc4c5c1f95b7912368419f59f",
         "canceled",
         "2023-05-29 18:10",
         "2023-05-31 07:02",
         "1900-01-01 00:00:00",
         "1900-01-01 00:00:00",
         "2023-06-20 00:00"
        ],
        [
         "2921",
         "1950d777989f6a877539f53795b4c3c3",
         "1bccb206de9f0f25adc6871a1bcf77b2",
         "canceled",
         "2024-02-19 19:48",
         "2024-02-19 20:56",
         "2024-02-20 19:57",
         "2024-03-21 22:03",
         "2024-03-09 00:00"
        ],
        [
         "3056",
         "ddaec6fff982b13e7e048b627a11d6da",
         "68f4ad79cc0c2ad06e19088f5c00e9fa",
         "canceled",
         "2022-10-04 19:41",
         "1900-01-01 00:00:00",
         "1900-01-01 00:00:00",
         "1900-01-01 00:00:00",
         "2022-11-16 00:00"
        ],
        [
         "3094",
         "5290c34bd38a8a095b885f13958db1e1",
         "92af427e290117f39d9ff908566072e0",
         "canceled",
         "2024-08-21 10:25",
         "1900-01-01 00:00:00",
         "1900-01-01 00:00:00",
         "1900-01-01 00:00:00",
         "2024-09-06 00:00"
        ],
        [
         "3352",
         "6261f3240a8778c656bd28aeb2ba9985",
         "59c0ac147fb499a0f14577f508a3657d",
         "canceled",
         "2023-05-31 13:21",
         "2023-06-01 13:35",
         "1900-01-01 00:00:00",
         "1900-01-01 00:00:00",
         "2023-07-04 00:00"
        ],
        [
         "3397",
         "5ad5a1ef522da1732ab963ea1fb6165b",
         "a76e74100709762a48e683a177dc86b0",
         "canceled",
         "2023-06-22 19:53",
         "2023-06-22 20:05",
         "1900-01-01 00:00:00",
         "1900-01-01 00:00:00",
         "2023-07-05 00:00"
        ],
        [
         "3684",
         "03310aa823a66056268a3bab36e827fb",
         "25dbbf0c477fd4ae0880aaffbb12e8b3",
         "canceled",
         "2024-08-07 16:33",
         "1900-01-01 00:00:00",
         "1900-01-01 00:00:00",
         "1900-01-01 00:00:00",
         "2024-09-04 00:00"
        ],
        [
         "4312",
         "96ae30a2357a999e6010b2f1401af374",
         "44ea012b92b665f5f4c775f3f0a63d7b",
         "canceled",
         "2023-07-31 16:37",
         "2023-07-31 16:50",
         "1900-01-01 00:00:00",
         "1900-01-01 00:00:00",
         "2023-08-18 00:00"
        ],
        [
         "4345",
         "73c182f8914a0064d6c64ad65e4c6942",
         "f51c6d9e24e077d5755ac7abdb209b1e",
         "canceled",
         "2023-02-08 00:53",
         "2023-02-08 01:05",
         "1900-01-01 00:00:00",
         "1900-01-01 00:00:00",
         "2023-03-15 00:00"
        ],
        [
         "4373",
         "4c8b9947280829d0a8b7e81cc249b875",
         "403c35c4d8813bf67b3d396b91ca1619",
         "canceled",
         "2024-08-09 14:54",
         "1900-01-01 00:00:00",
         "1900-01-01 00:00:00",
         "1900-01-01 00:00:00",
         "2024-08-21 00:00"
        ],
        [
         "4396",
         "e5fa5a7210941f7d56d0208e4e071d35",
         "683c54fc24d40ee9f8a6fc179fd9856c",
         "canceled",
         "2022-09-05 00:15",
         "2022-10-07 13:17",
         "1900-01-01 00:00:00",
         "1900-01-01 00:00:00",
         "2022-10-28 00:00"
        ],
        [
         "4939",
         "b13ea375fe9c728832688264638f84cf",
         "0dc5884bc5ffba283678229f27e07ff9",
         "canceled",
         "2024-08-22 18:52",
         "1900-01-01 00:00:00",
         "1900-01-01 00:00:00",
         "1900-01-01 00:00:00",
         "2024-09-19 00:00"
        ],
        [
         "5127",
         "8a9cce19aa49e055f2babb81d5a71c40",
         "f2676ef361959c938b35ecd32321adce",
         "canceled",
         "2024-02-01 10:04",
         "2024-02-03 02:52",
         "2024-02-05 20:41",
         "1900-01-01 00:00:00",
         "2024-02-23 00:00"
        ],
        [
         "5149",
         "ea844c92cf978ea23321fa7fe5871761",
         "6ddc45ad08e6a2c885ca2255fc52d6df",
         "canceled",
         "2024-09-13 09:56",
         "1900-01-01 00:00:00",
         "1900-01-01 00:00:00",
         "1900-01-01 00:00:00",
         "2024-09-27 00:00"
        ],
        [
         "5432",
         "85e05c3c9aa9834518f35d4f286014be",
         "1d07a80a15700b40cb15ff5870ee8b48",
         "canceled",
         "2024-08-28 08:18",
         "1900-01-01 00:00:00",
         "1900-01-01 00:00:00",
         "1900-01-01 00:00:00",
         "2024-10-10 00:00"
        ],
        [
         "5449",
         "c1049eef89915c6beb3604bf3d6588d7",
         "ed16865bcadcea1a00a928bf418a74bf",
         "canceled",
         "2024-02-05 23:08",
         "2024-02-05 23:29",
         "2024-02-09 22:13",
         "1900-01-01 00:00:00",
         "2024-03-07 00:00"
        ],
        [
         "5457",
         "168823ad1b77477540db78ab357f18b5",
         "d0b3bccd5ab7d4920b0a8318ce9d997b",
         "canceled",
         "2024-07-17 11:16",
         "2024-07-17 11:30",
         "1900-01-01 00:00:00",
         "1900-01-01 00:00:00",
         "2024-08-17 00:00"
        ],
        [
         "5509",
         "885935156ba43094f3ae95f3c14e0381",
         "3885c59916b2b261205c303fe0a10abf",
         "canceled",
         "2024-02-02 16:06",
         "2024-02-06 04:32",
         "2024-02-07 20:48",
         "1900-01-01 00:00:00",
         "2024-03-08 00:00"
        ],
        [
         "5518",
         "38a86eb53c2309d6234fc9bad96331ac",
         "82d98198f7fb1687858e03a5322e1621",
         "canceled",
         "2024-08-18 12:39",
         "1900-01-01 00:00:00",
         "1900-01-01 00:00:00",
         "1900-01-01 00:00:00",
         "2024-08-29 00:00"
        ],
        [
         "5523",
         "c504f1f5fd54cc8398d57dc0da49de01",
         "f5294fd3bc349e076861698912675c2e",
         "canceled",
         "2023-07-09 09:18",
         "2023-07-09 09:30",
         "1900-01-01 00:00:00",
         "1900-01-01 00:00:00",
         "2023-08-10 00:00"
        ],
        [
         "5642",
         "c5a468ae781ffb0ec6d36ae89fe512b0",
         "ed7ef682569428c1afaf73b39a2f602b",
         "canceled",
         "2023-01-13 11:06",
         "1900-01-01 00:00:00",
         "1900-01-01 00:00:00",
         "1900-01-01 00:00:00",
         "2023-02-13 00:00"
        ],
        [
         "5754",
         "d1b4fc9a8c1207433519a8ec52e2d03f",
         "f9a6bf8bc89af704ecd48975eff11800",
         "canceled",
         "2024-05-08 10:05",
         "2024-05-08 10:31",
         "1900-01-01 00:00:00",
         "1900-01-01 00:00:00",
         "2024-05-16 00:00"
        ],
        [
         "6129",
         "bcdad86f44c780bf1aaf24b66dd97753",
         "f3f955ae1cc137ab2ec810ee255b2662",
         "canceled",
         "2024-08-05 03:49",
         "2024-08-05 04:04",
         "1900-01-01 00:00:00",
         "1900-01-01 00:00:00",
         "2024-08-20 00:00"
        ],
        [
         "6356",
         "2bb02fdf5637a68cd5d13c78c37c3376",
         "8c468917b274857623298a1627369866",
         "canceled",
         "2024-08-09 10:55",
         "1900-01-01 00:00:00",
         "1900-01-01 00:00:00",
         "1900-01-01 00:00:00",
         "2024-08-17 00:00"
        ],
        [
         "6647",
         "5b4858f2dcf69731f2285a38829bfa7c",
         "c8223f76047e09bea798462f2f46ffa9",
         "canceled",
         "2024-02-15 20:53",
         "2024-02-15 21:06",
         "2024-02-16 16:52",
         "1900-01-01 00:00:00",
         "2024-03-16 00:00"
        ],
        [
         "6691",
         "5b0ee19a3125fc083348baa76d816ed0",
         "97e5ea711c00ba54392bf866a7d5f1e0",
         "canceled",
         "2024-03-05 13:56",
         "2024-03-05 14:40",
         "1900-01-01 00:00:00",
         "1900-01-01 00:00:00",
         "2024-03-15 00:00"
        ],
        [
         "6730",
         "12e1495369c542f003eb3ca480f924e3",
         "6dd345003a66b6fb3f18301af8c6cd0c",
         "canceled",
         "2023-09-12 19:17",
         "2023-09-12 19:30",
         "1900-01-01 00:00:00",
         "1900-01-01 00:00:00",
         "2023-09-25 00:00"
        ],
        [
         "6845",
         "03a8aa5d0860898d421c46247011c686",
         "36be0c3653ce387a9c5918cfdae9b053",
         "canceled",
         "2023-05-31 19:02",
         "2023-05-31 19:15",
         "1900-01-01 00:00:00",
         "1900-01-01 00:00:00",
         "2023-06-21 00:00"
        ],
        [
         "7244",
         "5226f1a731e8a1215da5e1bea64e2130",
         "3489fb03bfa99335c385df8b863a701b",
         "canceled",
         "2022-10-10 09:51",
         "2022-10-18 15:19",
         "1900-01-01 00:00:00",
         "1900-01-01 00:00:00",
         "2022-11-18 00:00"
        ],
        [
         "7457",
         "9380c59012c11f49c549ef8dffef1367",
         "07838708499d3eb9da748cb10b8ddf0a",
         "canceled",
         "2024-08-15 11:05",
         "1900-01-01 00:00:00",
         "1900-01-01 00:00:00",
         "1900-01-01 00:00:00",
         "2024-09-21 00:00"
        ],
        [
         "7955",
         "bef875448d5a4f703555d2dd5f8382b5",
         "4a6f6cd7b3fa8d3f9a370adfdad0fa97",
         "canceled",
         "2024-01-23 09:48",
         "2024-01-23 10:20",
         "2024-01-24 21:04",
         "1900-01-01 00:00:00",
         "2024-02-22 00:00"
        ],
        [
         "8207",
         "013e9c654a339d80b53513da3c1ea437",
         "9391729f79cd9e5fd7ca884ca030f579",
         "canceled",
         "2023-06-18 13:48",
         "2023-06-18 13:55",
         "1900-01-01 00:00:00",
         "1900-01-01 00:00:00",
         "2023-07-07 00:00"
        ],
        [
         "8289",
         "672ab3776d5b25e586521469609ae774",
         "8c8b3a28c07f67148f86f297604b9875",
         "canceled",
         "2023-05-10 11:52",
         "1900-01-01 00:00:00",
         "1900-01-01 00:00:00",
         "1900-01-01 00:00:00",
         "2023-05-26 00:00"
        ],
        [
         "8309",
         "676e40056867189a1b3599f3e646f421",
         "1f9d7eb9953ad379f11be30ae9dda416",
         "canceled",
         "2023-04-07 21:12",
         "2023-04-07 21:25",
         "1900-01-01 00:00:00",
         "1900-01-01 00:00:00",
         "2023-05-03 00:00"
        ],
        [
         "8341",
         "61792c6272346d7f4b7c5b1747df7b1a",
         "6d6221343635319264386c8f977b01de",
         "canceled",
         "2023-03-08 11:51",
         "2023-03-08 12:33",
         "1900-01-01 00:00:00",
         "1900-01-01 00:00:00",
         "2023-04-10 00:00"
        ],
        [
         "8436",
         "94bde44a48f191d7175f67eb93b9ed67",
         "7e8eda96b7924f789c4b65855af3e187",
         "canceled",
         "2023-02-01 17:31",
         "2023-02-09 14:43",
         "1900-01-01 00:00:00",
         "1900-01-01 00:00:00",
         "2023-03-16 00:00"
        ],
        [
         "8542",
         "7142b298b22a79a285d2ce792dc533a2",
         "d2fac3a405031b2adb1739b20cae646a",
         "canceled",
         "2023-02-10 00:58",
         "2023-02-10 01:05",
         "1900-01-01 00:00:00",
         "1900-01-01 00:00:00",
         "2023-03-13 00:00"
        ]
       ],
       "shape": {
        "columns": 8,
        "rows": 625
       }
      },
      "text/html": [
       "<div>\n",
       "<style scoped>\n",
       "    .dataframe tbody tr th:only-of-type {\n",
       "        vertical-align: middle;\n",
       "    }\n",
       "\n",
       "    .dataframe tbody tr th {\n",
       "        vertical-align: top;\n",
       "    }\n",
       "\n",
       "    .dataframe thead th {\n",
       "        text-align: right;\n",
       "    }\n",
       "</style>\n",
       "<table border=\"1\" class=\"dataframe\">\n",
       "  <thead>\n",
       "    <tr style=\"text-align: right;\">\n",
       "      <th></th>\n",
       "      <th>Order_ID</th>\n",
       "      <th>Customer_Trx_ID</th>\n",
       "      <th>Order_Status</th>\n",
       "      <th>Order_Purchase_Timestamp</th>\n",
       "      <th>Order_Approved_At</th>\n",
       "      <th>Order_Delivered_Carrier_Date</th>\n",
       "      <th>Order_Delivered_Customer_Date</th>\n",
       "      <th>Order_Estimated_Delivery_Date</th>\n",
       "    </tr>\n",
       "  </thead>\n",
       "  <tbody>\n",
       "    <tr>\n",
       "      <th>397</th>\n",
       "      <td>1b9ecfe83cdc259250e1a8aca174f0ad</td>\n",
       "      <td>6d6b50b66d79f80827b6d96751528d30</td>\n",
       "      <td>canceled</td>\n",
       "      <td>2024-08-04 14:29</td>\n",
       "      <td>2024-08-07 04:10</td>\n",
       "      <td>1900-01-01 00:00:00</td>\n",
       "      <td>1900-01-01 00:00:00</td>\n",
       "      <td>2024-08-14 00:00</td>\n",
       "    </tr>\n",
       "    <tr>\n",
       "      <th>613</th>\n",
       "      <td>714fb133a6730ab81fa1d3c1b2007291</td>\n",
       "      <td>e3fe72696c4713d64d3c10afe71e75ed</td>\n",
       "      <td>canceled</td>\n",
       "      <td>2024-01-26 21:34</td>\n",
       "      <td>2024-01-26 21:58</td>\n",
       "      <td>2024-01-29 22:33</td>\n",
       "      <td>1900-01-01 00:00:00</td>\n",
       "      <td>2024-02-22 00:00</td>\n",
       "    </tr>\n",
       "    <tr>\n",
       "      <th>1058</th>\n",
       "      <td>3a129877493c8189c59c60eb71d97c29</td>\n",
       "      <td>0913cdce793684e52bbfac69d87e91fd</td>\n",
       "      <td>canceled</td>\n",
       "      <td>2024-01-25 13:34</td>\n",
       "      <td>2024-01-25 13:50</td>\n",
       "      <td>2024-01-26 21:42</td>\n",
       "      <td>1900-01-01 00:00:00</td>\n",
       "      <td>2024-02-23 00:00</td>\n",
       "    </tr>\n",
       "    <tr>\n",
       "      <th>1130</th>\n",
       "      <td>00b1cb0320190ca0daa2c88b35206009</td>\n",
       "      <td>3532ba38a3fd242259a514ac2b6ae6b6</td>\n",
       "      <td>canceled</td>\n",
       "      <td>2024-08-28 15:26</td>\n",
       "      <td>1900-01-01 00:00:00</td>\n",
       "      <td>1900-01-01 00:00:00</td>\n",
       "      <td>1900-01-01 00:00:00</td>\n",
       "      <td>2024-09-12 00:00</td>\n",
       "    </tr>\n",
       "    <tr>\n",
       "      <th>1801</th>\n",
       "      <td>ed3efbd3a87bea76c2812c66a0b32219</td>\n",
       "      <td>191984a8ba4cbb2145acb4fe35b69664</td>\n",
       "      <td>canceled</td>\n",
       "      <td>2024-09-20 13:54</td>\n",
       "      <td>1900-01-01 00:00:00</td>\n",
       "      <td>1900-01-01 00:00:00</td>\n",
       "      <td>1900-01-01 00:00:00</td>\n",
       "      <td>2024-10-17 00:00</td>\n",
       "    </tr>\n",
       "    <tr>\n",
       "      <th>...</th>\n",
       "      <td>...</td>\n",
       "      <td>...</td>\n",
       "      <td>...</td>\n",
       "      <td>...</td>\n",
       "      <td>...</td>\n",
       "      <td>...</td>\n",
       "      <td>...</td>\n",
       "      <td>...</td>\n",
       "    </tr>\n",
       "    <tr>\n",
       "      <th>98791</th>\n",
       "      <td>b159d0ce7cd881052da94fa165617b05</td>\n",
       "      <td>e0c3bc5ce0836b975d6b2a8ce7bb0e3e</td>\n",
       "      <td>canceled</td>\n",
       "      <td>2023-03-11 19:51</td>\n",
       "      <td>2023-03-11 19:51</td>\n",
       "      <td>1900-01-01 00:00:00</td>\n",
       "      <td>1900-01-01 00:00:00</td>\n",
       "      <td>2023-03-30 00:00</td>\n",
       "    </tr>\n",
       "    <tr>\n",
       "      <th>98909</th>\n",
       "      <td>e49e7ce1471b4693482d40c2bd3ad196</td>\n",
       "      <td>e4e7ab3f449aeb401f0216f86c2104db</td>\n",
       "      <td>canceled</td>\n",
       "      <td>2024-08-07 11:16</td>\n",
       "      <td>1900-01-01 00:00:00</td>\n",
       "      <td>1900-01-01 00:00:00</td>\n",
       "      <td>1900-01-01 00:00:00</td>\n",
       "      <td>2024-08-10 00:00</td>\n",
       "    </tr>\n",
       "    <tr>\n",
       "      <th>99143</th>\n",
       "      <td>6560fb10610771449cb0463c5ba12199</td>\n",
       "      <td>0d07d0a588caf93cc66b7a8aff86d2fe</td>\n",
       "      <td>canceled</td>\n",
       "      <td>2023-10-01 22:26</td>\n",
       "      <td>2023-10-01 22:35</td>\n",
       "      <td>1900-01-01 00:00:00</td>\n",
       "      <td>1900-01-01 00:00:00</td>\n",
       "      <td>2023-10-27 00:00</td>\n",
       "    </tr>\n",
       "    <tr>\n",
       "      <th>99283</th>\n",
       "      <td>3a3cddda5a7c27851bd96c3313412840</td>\n",
       "      <td>0b0d6095c5555fe083844281f6b093bb</td>\n",
       "      <td>canceled</td>\n",
       "      <td>2024-08-31 16:13</td>\n",
       "      <td>1900-01-01 00:00:00</td>\n",
       "      <td>1900-01-01 00:00:00</td>\n",
       "      <td>1900-01-01 00:00:00</td>\n",
       "      <td>2024-10-01 00:00</td>\n",
       "    </tr>\n",
       "    <tr>\n",
       "      <th>99347</th>\n",
       "      <td>a89abace0dcc01eeb267a9660b5ac126</td>\n",
       "      <td>2f0524a7b1b3845a1a57fcf3910c4333</td>\n",
       "      <td>canceled</td>\n",
       "      <td>2024-09-06 18:45</td>\n",
       "      <td>1900-01-01 00:00:00</td>\n",
       "      <td>1900-01-01 00:00:00</td>\n",
       "      <td>1900-01-01 00:00:00</td>\n",
       "      <td>2024-09-27 00:00</td>\n",
       "    </tr>\n",
       "  </tbody>\n",
       "</table>\n",
       "<p>625 rows × 8 columns</p>\n",
       "</div>"
      ],
      "text/plain": [
       "                               Order_ID                   Customer_Trx_ID  \\\n",
       "397    1b9ecfe83cdc259250e1a8aca174f0ad  6d6b50b66d79f80827b6d96751528d30   \n",
       "613    714fb133a6730ab81fa1d3c1b2007291  e3fe72696c4713d64d3c10afe71e75ed   \n",
       "1058   3a129877493c8189c59c60eb71d97c29  0913cdce793684e52bbfac69d87e91fd   \n",
       "1130   00b1cb0320190ca0daa2c88b35206009  3532ba38a3fd242259a514ac2b6ae6b6   \n",
       "1801   ed3efbd3a87bea76c2812c66a0b32219  191984a8ba4cbb2145acb4fe35b69664   \n",
       "...                                 ...                               ...   \n",
       "98791  b159d0ce7cd881052da94fa165617b05  e0c3bc5ce0836b975d6b2a8ce7bb0e3e   \n",
       "98909  e49e7ce1471b4693482d40c2bd3ad196  e4e7ab3f449aeb401f0216f86c2104db   \n",
       "99143  6560fb10610771449cb0463c5ba12199  0d07d0a588caf93cc66b7a8aff86d2fe   \n",
       "99283  3a3cddda5a7c27851bd96c3313412840  0b0d6095c5555fe083844281f6b093bb   \n",
       "99347  a89abace0dcc01eeb267a9660b5ac126  2f0524a7b1b3845a1a57fcf3910c4333   \n",
       "\n",
       "      Order_Status Order_Purchase_Timestamp    Order_Approved_At  \\\n",
       "397       canceled         2024-08-04 14:29     2024-08-07 04:10   \n",
       "613       canceled         2024-01-26 21:34     2024-01-26 21:58   \n",
       "1058      canceled         2024-01-25 13:34     2024-01-25 13:50   \n",
       "1130      canceled         2024-08-28 15:26  1900-01-01 00:00:00   \n",
       "1801      canceled         2024-09-20 13:54  1900-01-01 00:00:00   \n",
       "...            ...                      ...                  ...   \n",
       "98791     canceled         2023-03-11 19:51     2023-03-11 19:51   \n",
       "98909     canceled         2024-08-07 11:16  1900-01-01 00:00:00   \n",
       "99143     canceled         2023-10-01 22:26     2023-10-01 22:35   \n",
       "99283     canceled         2024-08-31 16:13  1900-01-01 00:00:00   \n",
       "99347     canceled         2024-09-06 18:45  1900-01-01 00:00:00   \n",
       "\n",
       "      Order_Delivered_Carrier_Date Order_Delivered_Customer_Date  \\\n",
       "397            1900-01-01 00:00:00           1900-01-01 00:00:00   \n",
       "613               2024-01-29 22:33           1900-01-01 00:00:00   \n",
       "1058              2024-01-26 21:42           1900-01-01 00:00:00   \n",
       "1130           1900-01-01 00:00:00           1900-01-01 00:00:00   \n",
       "1801           1900-01-01 00:00:00           1900-01-01 00:00:00   \n",
       "...                            ...                           ...   \n",
       "98791          1900-01-01 00:00:00           1900-01-01 00:00:00   \n",
       "98909          1900-01-01 00:00:00           1900-01-01 00:00:00   \n",
       "99143          1900-01-01 00:00:00           1900-01-01 00:00:00   \n",
       "99283          1900-01-01 00:00:00           1900-01-01 00:00:00   \n",
       "99347          1900-01-01 00:00:00           1900-01-01 00:00:00   \n",
       "\n",
       "      Order_Estimated_Delivery_Date  \n",
       "397                2024-08-14 00:00  \n",
       "613                2024-02-22 00:00  \n",
       "1058               2024-02-23 00:00  \n",
       "1130               2024-09-12 00:00  \n",
       "1801               2024-10-17 00:00  \n",
       "...                             ...  \n",
       "98791              2023-03-30 00:00  \n",
       "98909              2024-08-10 00:00  \n",
       "99143              2023-10-27 00:00  \n",
       "99283              2024-10-01 00:00  \n",
       "99347              2024-09-27 00:00  \n",
       "\n",
       "[625 rows x 8 columns]"
      ]
     },
     "execution_count": 48,
     "metadata": {},
     "output_type": "execute_result"
    }
   ],
   "source": [
    "orders_canceled = orders[orders['Order_Status'] == 'canceled']\n",
    "orders_canceled"
   ]
  },
  {
   "cell_type": "code",
   "execution_count": 49,
   "id": "fdba0809",
   "metadata": {},
   "outputs": [
    {
     "data": {
      "application/vnd.microsoft.datawrangler.viewer.v0+json": {
       "columns": [
        {
         "name": "index",
         "rawType": "object",
         "type": "string"
        },
        {
         "name": "0",
         "rawType": "int64",
         "type": "integer"
        }
       ],
       "ref": "bbca1356-d3d4-4051-bebf-d01c602c3a1c",
       "rows": [
        [
         "Order_ID",
         "0"
        ],
        [
         "Customer_Trx_ID",
         "0"
        ],
        [
         "Order_Status",
         "0"
        ],
        [
         "Order_Purchase_Timestamp",
         "0"
        ],
        [
         "Order_Approved_At",
         "0"
        ],
        [
         "Order_Delivered_Carrier_Date",
         "0"
        ],
        [
         "Order_Delivered_Customer_Date",
         "0"
        ],
        [
         "Order_Estimated_Delivery_Date",
         "0"
        ]
       ],
       "shape": {
        "columns": 1,
        "rows": 8
       }
      },
      "text/plain": [
       "Order_ID                         0\n",
       "Customer_Trx_ID                  0\n",
       "Order_Status                     0\n",
       "Order_Purchase_Timestamp         0\n",
       "Order_Approved_At                0\n",
       "Order_Delivered_Carrier_Date     0\n",
       "Order_Delivered_Customer_Date    0\n",
       "Order_Estimated_Delivery_Date    0\n",
       "dtype: int64"
      ]
     },
     "execution_count": 49,
     "metadata": {},
     "output_type": "execute_result"
    }
   ],
   "source": [
    "orders.isnull().sum()"
   ]
  },
  {
   "cell_type": "code",
   "execution_count": 71,
   "id": "cec0f705",
   "metadata": {},
   "outputs": [
    {
     "data": {
      "application/vnd.microsoft.datawrangler.viewer.v0+json": {
       "columns": [
        {
         "name": "index",
         "rawType": "int64",
         "type": "integer"
        },
        {
         "name": "Order_ID",
         "rawType": "object",
         "type": "string"
        },
        {
         "name": "Customer_Trx_ID",
         "rawType": "object",
         "type": "string"
        },
        {
         "name": "Order_Status",
         "rawType": "object",
         "type": "string"
        },
        {
         "name": "Order_Purchase_Timestamp",
         "rawType": "object",
         "type": "string"
        },
        {
         "name": "Order_Approved_At",
         "rawType": "object",
         "type": "string"
        },
        {
         "name": "Order_Delivered_Carrier_Date",
         "rawType": "object",
         "type": "string"
        },
        {
         "name": "Order_Delivered_Customer_Date",
         "rawType": "object",
         "type": "string"
        },
        {
         "name": "Order_Estimated_Delivery_Date",
         "rawType": "object",
         "type": "string"
        }
       ],
       "ref": "46b5a0c8-1af3-4b78-ae4c-906ba2b7d89d",
       "rows": [
        [
         "0",
         "e481f51cbdc54678b7cc49136f2d6af7",
         "9ef432eb6251297304e76186b10a928d",
         "delivered",
         "2023-10-02 10:56",
         "2023-10-02 11:07",
         "2023-10-04 19:55",
         "2023-10-10 21:25",
         "2023-10-18 00:00"
        ]
       ],
       "shape": {
        "columns": 8,
        "rows": 1
       }
      },
      "text/html": [
       "<div>\n",
       "<style scoped>\n",
       "    .dataframe tbody tr th:only-of-type {\n",
       "        vertical-align: middle;\n",
       "    }\n",
       "\n",
       "    .dataframe tbody tr th {\n",
       "        vertical-align: top;\n",
       "    }\n",
       "\n",
       "    .dataframe thead th {\n",
       "        text-align: right;\n",
       "    }\n",
       "</style>\n",
       "<table border=\"1\" class=\"dataframe\">\n",
       "  <thead>\n",
       "    <tr style=\"text-align: right;\">\n",
       "      <th></th>\n",
       "      <th>Order_ID</th>\n",
       "      <th>Customer_Trx_ID</th>\n",
       "      <th>Order_Status</th>\n",
       "      <th>Order_Purchase_Timestamp</th>\n",
       "      <th>Order_Approved_At</th>\n",
       "      <th>Order_Delivered_Carrier_Date</th>\n",
       "      <th>Order_Delivered_Customer_Date</th>\n",
       "      <th>Order_Estimated_Delivery_Date</th>\n",
       "    </tr>\n",
       "  </thead>\n",
       "  <tbody>\n",
       "    <tr>\n",
       "      <th>0</th>\n",
       "      <td>e481f51cbdc54678b7cc49136f2d6af7</td>\n",
       "      <td>9ef432eb6251297304e76186b10a928d</td>\n",
       "      <td>delivered</td>\n",
       "      <td>2023-10-02 10:56</td>\n",
       "      <td>2023-10-02 11:07</td>\n",
       "      <td>2023-10-04 19:55</td>\n",
       "      <td>2023-10-10 21:25</td>\n",
       "      <td>2023-10-18 00:00</td>\n",
       "    </tr>\n",
       "  </tbody>\n",
       "</table>\n",
       "</div>"
      ],
      "text/plain": [
       "                           Order_ID                   Customer_Trx_ID  \\\n",
       "0  e481f51cbdc54678b7cc49136f2d6af7  9ef432eb6251297304e76186b10a928d   \n",
       "\n",
       "  Order_Status Order_Purchase_Timestamp Order_Approved_At  \\\n",
       "0    delivered         2023-10-02 10:56  2023-10-02 11:07   \n",
       "\n",
       "  Order_Delivered_Carrier_Date Order_Delivered_Customer_Date  \\\n",
       "0             2023-10-04 19:55              2023-10-10 21:25   \n",
       "\n",
       "  Order_Estimated_Delivery_Date  \n",
       "0              2023-10-18 00:00  "
      ]
     },
     "execution_count": 71,
     "metadata": {},
     "output_type": "execute_result"
    }
   ],
   "source": [
    "orders[orders['Customer_Trx_ID'] == '9ef432eb6251297304e76186b10a928d']\n"
   ]
  },
  {
   "cell_type": "code",
   "execution_count": 75,
   "id": "0e5ad1d8",
   "metadata": {},
   "outputs": [
    {
     "data": {
      "text/plain": [
       "array(['9ef432eb6251297304e76186b10a928d',\n",
       "       '3b6828a50ffe546942b7a473d70ac0fc',\n",
       "       'caded193e8e47b8362864762a83db3c5', ...,\n",
       "       'e6f5f771cdbc5d09c994f16c9af6523d',\n",
       "       '2f0524a7b1b3845a1a57fcf3910c4333',\n",
       "       'ce5efd1b1d8a2fa290a871edd5c26cd6'], shape=(3345,), dtype=object)"
      ]
     },
     "execution_count": 75,
     "metadata": {},
     "output_type": "execute_result"
    }
   ],
   "source": [
    "merged = orders.merge(customer, on=\"Customer_Trx_ID\", how=\"left\", indicator=True)\n",
    "merged[merged[\"_merge\"] == \"left_only\"][\"Customer_Trx_ID\"].unique()\n"
   ]
  },
  {
   "cell_type": "markdown",
   "id": "d55290cf",
   "metadata": {},
   "source": [
    "### Descubrimientos clave:\n",
    "- Se identificaron valores faltantes en las columnas de fechas:  \n",
    "  - `Order_Approved_At`  \n",
    "  - `Order_Delivered_Carrier_Date`  \n",
    "  - `Order_Delivered_Customer_Date`  \n",
    "- Existían registros con `Customer_Trx_ID` no presentes en la tabla de clientes (`customer`).  \n",
    "\n",
    "### Transformaciones aplicadas:\n",
    "- **Imputación de fechas faltantes:**  \n",
    "  Los valores nulos en las columnas de fechas se reemplazaron con una fecha bandera `1900-01-01` para mantener la consistencia temporal en el dataset.  \n",
    "\n",
    "- **Filtrado de registros por cliente válido:**  \n",
    "  Se conservaron únicamente las órdenes cuyo `Customer_Trx_ID` se encuentra en la tabla `customer`, asegurando integridad referencial entre ambas tablas.  \n",
    "\n",
    "\n",
    "---\n",
    "\n",
    "## Producsts"
   ]
  },
  {
   "cell_type": "code",
   "execution_count": 50,
   "id": "e590a4d8",
   "metadata": {},
   "outputs": [
    {
     "data": {
      "application/vnd.microsoft.datawrangler.viewer.v0+json": {
       "columns": [
        {
         "name": "index",
         "rawType": "int64",
         "type": "integer"
        },
        {
         "name": "Product_ID",
         "rawType": "object",
         "type": "string"
        },
        {
         "name": "Product_Category_Name",
         "rawType": "object",
         "type": "string"
        },
        {
         "name": "Product_Weight_Gr",
         "rawType": "float64",
         "type": "float"
        },
        {
         "name": "Product_Length_Cm",
         "rawType": "float64",
         "type": "float"
        },
        {
         "name": "Product_Height_Cm",
         "rawType": "float64",
         "type": "float"
        },
        {
         "name": "Product_Width_Cm",
         "rawType": "float64",
         "type": "float"
        }
       ],
       "ref": "ac85e1d8-ff8e-4c52-811a-1efe4d4fed4e",
       "rows": [
        [
         "0",
         "1e9e8ef04dbcff4541ed26657ea517e5",
         "Perfumery",
         "225.0",
         "16.0",
         "10.0",
         "14.0"
        ],
        [
         "1",
         "3aa071139cb16b67ca9e5dea641aaa2f",
         "Art",
         "1000.0",
         "30.0",
         "18.0",
         "20.0"
        ],
        [
         "2",
         "96bd76ec8810374ed1b65e291975717f",
         "Sports_Leisure",
         "154.0",
         "18.0",
         "9.0",
         "15.0"
        ],
        [
         "3",
         "cef67bcfe19066a932b7673e239eb23d",
         "Baby",
         "371.0",
         "26.0",
         "4.0",
         "26.0"
        ],
        [
         "4",
         "9dc1a7de274444849c219cff195d0b71",
         "Housewares",
         "625.0",
         "20.0",
         "17.0",
         "13.0"
        ]
       ],
       "shape": {
        "columns": 6,
        "rows": 5
       }
      },
      "text/html": [
       "<div>\n",
       "<style scoped>\n",
       "    .dataframe tbody tr th:only-of-type {\n",
       "        vertical-align: middle;\n",
       "    }\n",
       "\n",
       "    .dataframe tbody tr th {\n",
       "        vertical-align: top;\n",
       "    }\n",
       "\n",
       "    .dataframe thead th {\n",
       "        text-align: right;\n",
       "    }\n",
       "</style>\n",
       "<table border=\"1\" class=\"dataframe\">\n",
       "  <thead>\n",
       "    <tr style=\"text-align: right;\">\n",
       "      <th></th>\n",
       "      <th>Product_ID</th>\n",
       "      <th>Product_Category_Name</th>\n",
       "      <th>Product_Weight_Gr</th>\n",
       "      <th>Product_Length_Cm</th>\n",
       "      <th>Product_Height_Cm</th>\n",
       "      <th>Product_Width_Cm</th>\n",
       "    </tr>\n",
       "  </thead>\n",
       "  <tbody>\n",
       "    <tr>\n",
       "      <th>0</th>\n",
       "      <td>1e9e8ef04dbcff4541ed26657ea517e5</td>\n",
       "      <td>Perfumery</td>\n",
       "      <td>225.0</td>\n",
       "      <td>16.0</td>\n",
       "      <td>10.0</td>\n",
       "      <td>14.0</td>\n",
       "    </tr>\n",
       "    <tr>\n",
       "      <th>1</th>\n",
       "      <td>3aa071139cb16b67ca9e5dea641aaa2f</td>\n",
       "      <td>Art</td>\n",
       "      <td>1000.0</td>\n",
       "      <td>30.0</td>\n",
       "      <td>18.0</td>\n",
       "      <td>20.0</td>\n",
       "    </tr>\n",
       "    <tr>\n",
       "      <th>2</th>\n",
       "      <td>96bd76ec8810374ed1b65e291975717f</td>\n",
       "      <td>Sports_Leisure</td>\n",
       "      <td>154.0</td>\n",
       "      <td>18.0</td>\n",
       "      <td>9.0</td>\n",
       "      <td>15.0</td>\n",
       "    </tr>\n",
       "    <tr>\n",
       "      <th>3</th>\n",
       "      <td>cef67bcfe19066a932b7673e239eb23d</td>\n",
       "      <td>Baby</td>\n",
       "      <td>371.0</td>\n",
       "      <td>26.0</td>\n",
       "      <td>4.0</td>\n",
       "      <td>26.0</td>\n",
       "    </tr>\n",
       "    <tr>\n",
       "      <th>4</th>\n",
       "      <td>9dc1a7de274444849c219cff195d0b71</td>\n",
       "      <td>Housewares</td>\n",
       "      <td>625.0</td>\n",
       "      <td>20.0</td>\n",
       "      <td>17.0</td>\n",
       "      <td>13.0</td>\n",
       "    </tr>\n",
       "  </tbody>\n",
       "</table>\n",
       "</div>"
      ],
      "text/plain": [
       "                         Product_ID Product_Category_Name  Product_Weight_Gr  \\\n",
       "0  1e9e8ef04dbcff4541ed26657ea517e5             Perfumery              225.0   \n",
       "1  3aa071139cb16b67ca9e5dea641aaa2f                   Art             1000.0   \n",
       "2  96bd76ec8810374ed1b65e291975717f        Sports_Leisure              154.0   \n",
       "3  cef67bcfe19066a932b7673e239eb23d                  Baby              371.0   \n",
       "4  9dc1a7de274444849c219cff195d0b71            Housewares              625.0   \n",
       "\n",
       "   Product_Length_Cm  Product_Height_Cm  Product_Width_Cm  \n",
       "0               16.0               10.0              14.0  \n",
       "1               30.0               18.0              20.0  \n",
       "2               18.0                9.0              15.0  \n",
       "3               26.0                4.0              26.0  \n",
       "4               20.0               17.0              13.0  "
      ]
     },
     "execution_count": 50,
     "metadata": {},
     "output_type": "execute_result"
    }
   ],
   "source": [
    "products = pd.read_csv(\"../data/Fecom Inc Products.csv\", sep=';')\n",
    "products.head(5)"
   ]
  },
  {
   "cell_type": "code",
   "execution_count": 51,
   "id": "4347208a",
   "metadata": {},
   "outputs": [
    {
     "data": {
      "application/vnd.microsoft.datawrangler.viewer.v0+json": {
       "columns": [
        {
         "name": "index",
         "rawType": "object",
         "type": "string"
        },
        {
         "name": "0",
         "rawType": "int64",
         "type": "integer"
        }
       ],
       "ref": "0962da70-aefd-473e-8f3c-2d0d65fd8531",
       "rows": [
        [
         "Product_ID",
         "0"
        ],
        [
         "Product_Category_Name",
         "623"
        ],
        [
         "Product_Weight_Gr",
         "2"
        ],
        [
         "Product_Length_Cm",
         "2"
        ],
        [
         "Product_Height_Cm",
         "2"
        ],
        [
         "Product_Width_Cm",
         "2"
        ]
       ],
       "shape": {
        "columns": 1,
        "rows": 6
       }
      },
      "text/plain": [
       "Product_ID                 0\n",
       "Product_Category_Name    623\n",
       "Product_Weight_Gr          2\n",
       "Product_Length_Cm          2\n",
       "Product_Height_Cm          2\n",
       "Product_Width_Cm           2\n",
       "dtype: int64"
      ]
     },
     "execution_count": 51,
     "metadata": {},
     "output_type": "execute_result"
    }
   ],
   "source": [
    "products.isnull().sum()"
   ]
  },
  {
   "cell_type": "code",
   "execution_count": 52,
   "id": "9c176583",
   "metadata": {},
   "outputs": [
    {
     "data": {
      "application/vnd.microsoft.datawrangler.viewer.v0+json": {
       "columns": [
        {
         "name": "index",
         "rawType": "int64",
         "type": "integer"
        },
        {
         "name": "Product_ID",
         "rawType": "object",
         "type": "string"
        },
        {
         "name": "Product_Category_Name",
         "rawType": "object",
         "type": "string"
        },
        {
         "name": "Product_Weight_Gr",
         "rawType": "float64",
         "type": "float"
        },
        {
         "name": "Product_Length_Cm",
         "rawType": "float64",
         "type": "float"
        },
        {
         "name": "Product_Height_Cm",
         "rawType": "float64",
         "type": "float"
        },
        {
         "name": "Product_Width_Cm",
         "rawType": "float64",
         "type": "float"
        }
       ],
       "ref": "d44ce2ac-3a36-4db3-82e0-25725e8fa56c",
       "rows": [],
       "shape": {
        "columns": 6,
        "rows": 0
       }
      },
      "text/html": [
       "<div>\n",
       "<style scoped>\n",
       "    .dataframe tbody tr th:only-of-type {\n",
       "        vertical-align: middle;\n",
       "    }\n",
       "\n",
       "    .dataframe tbody tr th {\n",
       "        vertical-align: top;\n",
       "    }\n",
       "\n",
       "    .dataframe thead th {\n",
       "        text-align: right;\n",
       "    }\n",
       "</style>\n",
       "<table border=\"1\" class=\"dataframe\">\n",
       "  <thead>\n",
       "    <tr style=\"text-align: right;\">\n",
       "      <th></th>\n",
       "      <th>Product_ID</th>\n",
       "      <th>Product_Category_Name</th>\n",
       "      <th>Product_Weight_Gr</th>\n",
       "      <th>Product_Length_Cm</th>\n",
       "      <th>Product_Height_Cm</th>\n",
       "      <th>Product_Width_Cm</th>\n",
       "    </tr>\n",
       "  </thead>\n",
       "  <tbody>\n",
       "  </tbody>\n",
       "</table>\n",
       "</div>"
      ],
      "text/plain": [
       "Empty DataFrame\n",
       "Columns: [Product_ID, Product_Category_Name, Product_Weight_Gr, Product_Length_Cm, Product_Height_Cm, Product_Width_Cm]\n",
       "Index: []"
      ]
     },
     "execution_count": 52,
     "metadata": {},
     "output_type": "execute_result"
    }
   ],
   "source": [
    "products_duplicates = products[products.duplicated(subset=['Product_ID'], keep=False)]\n",
    "products_duplicates"
   ]
  },
  {
   "cell_type": "code",
   "execution_count": 53,
   "id": "b4a7cd72",
   "metadata": {},
   "outputs": [
    {
     "data": {
      "application/vnd.microsoft.datawrangler.viewer.v0+json": {
       "columns": [
        {
         "name": "index",
         "rawType": "int64",
         "type": "integer"
        },
        {
         "name": "Product_ID",
         "rawType": "object",
         "type": "string"
        },
        {
         "name": "Product_Category_Name",
         "rawType": "object",
         "type": "unknown"
        },
        {
         "name": "Product_Weight_Gr",
         "rawType": "float64",
         "type": "float"
        },
        {
         "name": "Product_Length_Cm",
         "rawType": "float64",
         "type": "float"
        },
        {
         "name": "Product_Height_Cm",
         "rawType": "float64",
         "type": "float"
        },
        {
         "name": "Product_Width_Cm",
         "rawType": "float64",
         "type": "float"
        }
       ],
       "ref": "b984239e-345f-4c17-968e-1ed40cd29db6",
       "rows": [
        [
         "105",
         "a41e356c76fab66334f36de622ecbd3a",
         null,
         "650.0",
         "17.0",
         "14.0",
         "12.0"
        ],
        [
         "128",
         "d8dee61c2034d6d075997acef1870e9b",
         null,
         "300.0",
         "16.0",
         "7.0",
         "20.0"
        ],
        [
         "145",
         "56139431d72cd51f19eb9f7dae4d1617",
         null,
         "200.0",
         "20.0",
         "20.0",
         "20.0"
        ],
        [
         "154",
         "46b48281eb6d663ced748f324108c733",
         null,
         "18500.0",
         "41.0",
         "30.0",
         "41.0"
        ],
        [
         "197",
         "5fb61f482620cb672f5e586bb132eae9",
         null,
         "300.0",
         "35.0",
         "7.0",
         "12.0"
        ],
        [
         "244",
         "e10758160da97891c2fdcbc35f0f031d",
         null,
         "2200.0",
         "16.0",
         "2.0",
         "11.0"
        ],
        [
         "294",
         "39e3b9b12cd0bf8ee681bbc1c130feb5",
         null,
         "300.0",
         "16.0",
         "7.0",
         "11.0"
        ],
        [
         "299",
         "794de06c32a626a5692ff50e4985d36f",
         null,
         "300.0",
         "18.0",
         "8.0",
         "14.0"
        ],
        [
         "347",
         "7af3e2da474486a3519b0cba9dea8ad9",
         null,
         "200.0",
         "22.0",
         "14.0",
         "14.0"
        ],
        [
         "428",
         "629beb8e7317703dcc5f35b5463fd20e",
         null,
         "1400.0",
         "25.0",
         "25.0",
         "25.0"
        ],
        [
         "436",
         "3a78f64aac654298e4b9aff32fc21818",
         null,
         "4300.0",
         "30.0",
         "10.0",
         "48.0"
        ],
        [
         "459",
         "bcb815bba008d89458e428078c0b9211",
         null,
         "150.0",
         "16.0",
         "2.0",
         "11.0"
        ],
        [
         "504",
         "6b82874c6b51b92913dcdb364eaaae0f",
         null,
         "21450.0",
         "70.0",
         "34.0",
         "50.0"
        ],
        [
         "514",
         "c68b419d9c6038271b85bac98adb0fc9",
         null,
         "1000.0",
         "16.0",
         "14.0",
         "30.0"
        ],
        [
         "552",
         "1dcd65bb5dd967d7b4c6b0223cefb838",
         null,
         "9150.0",
         "33.0",
         "30.0",
         "44.0"
        ],
        [
         "616",
         "671446e8e3aa3df1eca47b6c354a2921",
         null,
         "5500.0",
         "33.0",
         "22.0",
         "33.0"
        ],
        [
         "627",
         "f0ea71b6e2ab4cb3bd8f5ba522a25a56",
         null,
         "1300.0",
         "30.0",
         "20.0",
         "30.0"
        ],
        [
         "628",
         "fedccbd5e370e8ddb7aae6fb4cb70347",
         null,
         "1200.0",
         "20.0",
         "20.0",
         "20.0"
        ],
        [
         "696",
         "212cc0fa7359ab242a697a03a574f719",
         null,
         "200.0",
         "16.0",
         "2.0",
         "11.0"
        ],
        [
         "700",
         "6b7879a37ac2dbe5289a16706e859870",
         null,
         "950.0",
         "45.0",
         "12.0",
         "30.0"
        ],
        [
         "721",
         "44e8945e17aef03daaecbc4bbab7f730",
         null,
         "200.0",
         "16.0",
         "2.0",
         "11.0"
        ],
        [
         "736",
         "3abf2d4698bf245577543ea01d9c7f16",
         null,
         "200.0",
         "22.0",
         "14.0",
         "14.0"
        ],
        [
         "748",
         "ca26080d8f0fa848c329fe732f5e34e8",
         null,
         "1800.0",
         "25.0",
         "25.0",
         "25.0"
        ],
        [
         "751",
         "1a2ece70966710dec441aa587993b5b4",
         null,
         "300.0",
         "27.0",
         "5.0",
         "18.0"
        ],
        [
         "761",
         "5f4bceafafc1903556735cb7f2842e78",
         null,
         "200.0",
         "16.0",
         "2.0",
         "11.0"
        ],
        [
         "893",
         "b61d1388a17e3f547d2bc218df02335b",
         null,
         "350.0",
         "16.0",
         "6.0",
         "11.0"
        ],
        [
         "910",
         "b9adb2d8377c195da59e75743dbb7133",
         null,
         "200.0",
         "16.0",
         "2.0",
         "11.0"
        ],
        [
         "955",
         "ceeba7d5636e59173cc5f484e913db3d",
         null,
         "30000.0",
         "65.0",
         "65.0",
         "65.0"
        ],
        [
         "992",
         "7ce49c8945602088c4c4ca3e0ceb8244",
         null,
         "1400.0",
         "35.0",
         "3.0",
         "35.0"
        ],
        [
         "1059",
         "0533c5ec3a042521493cfb6e12d6befd",
         null,
         "1550.0",
         "38.0",
         "4.0",
         "23.0"
        ],
        [
         "1066",
         "9f69acd4da62618a3f6365b732d00ccd",
         null,
         "850.0",
         "27.0",
         "13.0",
         "21.0"
        ],
        [
         "1112",
         "19f3b74026e6ec6c83fc25e21baf454e",
         null,
         "1300.0",
         "52.0",
         "10.0",
         "38.0"
        ],
        [
         "1192",
         "0fa699aaa0a38aa5d1de8e7fe04d2204",
         null,
         "17900.0",
         "48.0",
         "32.0",
         "28.0"
        ],
        [
         "1227",
         "94c07760f470ab9997f27d0129682eb3",
         null,
         "450.0",
         "16.0",
         "20.0",
         "11.0"
        ],
        [
         "1257",
         "3f6f946481fd39f4eda986012f6e0447",
         null,
         "1600.0",
         "38.0",
         "28.0",
         "40.0"
        ],
        [
         "1285",
         "a9d8f831888820cd641dcd5ca9fea4e8",
         null,
         "50.0",
         "16.0",
         "2.0",
         "11.0"
        ],
        [
         "1286",
         "48270bcc7097939dcf14a537d7128054",
         null,
         "1000.0",
         "30.0",
         "30.0",
         "30.0"
        ],
        [
         "1289",
         "b5778c55de68777a0a3565e03b2e2817",
         null,
         "2500.0",
         "26.0",
         "25.0",
         "47.0"
        ],
        [
         "1358",
         "51fe26bc4bb0f89f07096d8c96b35476",
         null,
         "200.0",
         "16.0",
         "2.0",
         "11.0"
        ],
        [
         "1384",
         "9ce62e73b4ea1a6c74b68ba57aa1333b",
         null,
         "1000.0",
         "31.0",
         "21.0",
         "24.0"
        ],
        [
         "1405",
         "fbd2a9aa1f115244e2ce115ad8eacfca",
         null,
         "1200.0",
         "33.0",
         "2.0",
         "27.0"
        ],
        [
         "1453",
         "ab1741a86f20ab3aca7dd2c347d5a9e3",
         null,
         "3600.0",
         "39.0",
         "10.0",
         "35.0"
        ],
        [
         "1480",
         "fa7fc74ae3858461908b3503b355fd5e",
         null,
         "17100.0",
         "42.0",
         "80.0",
         "30.0"
        ],
        [
         "1531",
         "014fcf6bd5cd4c7ee29fb3bb618c445e",
         null,
         "7000.0",
         "55.0",
         "30.0",
         "45.0"
        ],
        [
         "1535",
         "be59f0b9bd1d08d096188f98168fc987",
         null,
         "3550.0",
         "40.0",
         "10.0",
         "40.0"
        ],
        [
         "1557",
         "9f6e8441548dd40516cdb98f1b29c3d5",
         null,
         "2700.0",
         "44.0",
         "13.0",
         "44.0"
        ],
        [
         "1595",
         "d73f1e4ad0322d8442fc9591505381aa",
         null,
         "500.0",
         "35.0",
         "25.0",
         "35.0"
        ],
        [
         "1628",
         "0105b5323d24fc655f73052694dbbb3a",
         null,
         "2839.0",
         "19.0",
         "16.0",
         "18.0"
        ],
        [
         "1675",
         "b17a4e7b997ea645dd323bb1bed802ac",
         null,
         "600.0",
         "24.0",
         "4.0",
         "15.0"
        ],
        [
         "1816",
         "8d39a63db6a98e40571f486e0c711cf7",
         null,
         "450.0",
         "16.0",
         "7.0",
         "11.0"
        ]
       ],
       "shape": {
        "columns": 6,
        "rows": 624
       }
      },
      "text/html": [
       "<div>\n",
       "<style scoped>\n",
       "    .dataframe tbody tr th:only-of-type {\n",
       "        vertical-align: middle;\n",
       "    }\n",
       "\n",
       "    .dataframe tbody tr th {\n",
       "        vertical-align: top;\n",
       "    }\n",
       "\n",
       "    .dataframe thead th {\n",
       "        text-align: right;\n",
       "    }\n",
       "</style>\n",
       "<table border=\"1\" class=\"dataframe\">\n",
       "  <thead>\n",
       "    <tr style=\"text-align: right;\">\n",
       "      <th></th>\n",
       "      <th>Product_ID</th>\n",
       "      <th>Product_Category_Name</th>\n",
       "      <th>Product_Weight_Gr</th>\n",
       "      <th>Product_Length_Cm</th>\n",
       "      <th>Product_Height_Cm</th>\n",
       "      <th>Product_Width_Cm</th>\n",
       "    </tr>\n",
       "  </thead>\n",
       "  <tbody>\n",
       "    <tr>\n",
       "      <th>105</th>\n",
       "      <td>a41e356c76fab66334f36de622ecbd3a</td>\n",
       "      <td>NaN</td>\n",
       "      <td>650.0</td>\n",
       "      <td>17.0</td>\n",
       "      <td>14.0</td>\n",
       "      <td>12.0</td>\n",
       "    </tr>\n",
       "    <tr>\n",
       "      <th>128</th>\n",
       "      <td>d8dee61c2034d6d075997acef1870e9b</td>\n",
       "      <td>NaN</td>\n",
       "      <td>300.0</td>\n",
       "      <td>16.0</td>\n",
       "      <td>7.0</td>\n",
       "      <td>20.0</td>\n",
       "    </tr>\n",
       "    <tr>\n",
       "      <th>145</th>\n",
       "      <td>56139431d72cd51f19eb9f7dae4d1617</td>\n",
       "      <td>NaN</td>\n",
       "      <td>200.0</td>\n",
       "      <td>20.0</td>\n",
       "      <td>20.0</td>\n",
       "      <td>20.0</td>\n",
       "    </tr>\n",
       "    <tr>\n",
       "      <th>154</th>\n",
       "      <td>46b48281eb6d663ced748f324108c733</td>\n",
       "      <td>NaN</td>\n",
       "      <td>18500.0</td>\n",
       "      <td>41.0</td>\n",
       "      <td>30.0</td>\n",
       "      <td>41.0</td>\n",
       "    </tr>\n",
       "    <tr>\n",
       "      <th>197</th>\n",
       "      <td>5fb61f482620cb672f5e586bb132eae9</td>\n",
       "      <td>NaN</td>\n",
       "      <td>300.0</td>\n",
       "      <td>35.0</td>\n",
       "      <td>7.0</td>\n",
       "      <td>12.0</td>\n",
       "    </tr>\n",
       "    <tr>\n",
       "      <th>...</th>\n",
       "      <td>...</td>\n",
       "      <td>...</td>\n",
       "      <td>...</td>\n",
       "      <td>...</td>\n",
       "      <td>...</td>\n",
       "      <td>...</td>\n",
       "    </tr>\n",
       "    <tr>\n",
       "      <th>32515</th>\n",
       "      <td>b0a0c5dd78e644373b199380612c350a</td>\n",
       "      <td>NaN</td>\n",
       "      <td>1800.0</td>\n",
       "      <td>30.0</td>\n",
       "      <td>20.0</td>\n",
       "      <td>70.0</td>\n",
       "    </tr>\n",
       "    <tr>\n",
       "      <th>32589</th>\n",
       "      <td>10dbe0fbaa2c505123c17fdc34a63c56</td>\n",
       "      <td>NaN</td>\n",
       "      <td>800.0</td>\n",
       "      <td>30.0</td>\n",
       "      <td>10.0</td>\n",
       "      <td>23.0</td>\n",
       "    </tr>\n",
       "    <tr>\n",
       "      <th>32616</th>\n",
       "      <td>bd2ada37b58ae94cc838b9c0569fecd8</td>\n",
       "      <td>NaN</td>\n",
       "      <td>200.0</td>\n",
       "      <td>21.0</td>\n",
       "      <td>8.0</td>\n",
       "      <td>16.0</td>\n",
       "    </tr>\n",
       "    <tr>\n",
       "      <th>32772</th>\n",
       "      <td>fa51e914046aab32764c41356b9d4ea4</td>\n",
       "      <td>NaN</td>\n",
       "      <td>1300.0</td>\n",
       "      <td>45.0</td>\n",
       "      <td>16.0</td>\n",
       "      <td>45.0</td>\n",
       "    </tr>\n",
       "    <tr>\n",
       "      <th>32852</th>\n",
       "      <td>c4ceee876c82b8328e9c293fa0e1989b</td>\n",
       "      <td>NaN</td>\n",
       "      <td>700.0</td>\n",
       "      <td>28.0</td>\n",
       "      <td>3.0</td>\n",
       "      <td>43.0</td>\n",
       "    </tr>\n",
       "  </tbody>\n",
       "</table>\n",
       "<p>624 rows × 6 columns</p>\n",
       "</div>"
      ],
      "text/plain": [
       "                             Product_ID Product_Category_Name  \\\n",
       "105    a41e356c76fab66334f36de622ecbd3a                   NaN   \n",
       "128    d8dee61c2034d6d075997acef1870e9b                   NaN   \n",
       "145    56139431d72cd51f19eb9f7dae4d1617                   NaN   \n",
       "154    46b48281eb6d663ced748f324108c733                   NaN   \n",
       "197    5fb61f482620cb672f5e586bb132eae9                   NaN   \n",
       "...                                 ...                   ...   \n",
       "32515  b0a0c5dd78e644373b199380612c350a                   NaN   \n",
       "32589  10dbe0fbaa2c505123c17fdc34a63c56                   NaN   \n",
       "32616  bd2ada37b58ae94cc838b9c0569fecd8                   NaN   \n",
       "32772  fa51e914046aab32764c41356b9d4ea4                   NaN   \n",
       "32852  c4ceee876c82b8328e9c293fa0e1989b                   NaN   \n",
       "\n",
       "       Product_Weight_Gr  Product_Length_Cm  Product_Height_Cm  \\\n",
       "105                650.0               17.0               14.0   \n",
       "128                300.0               16.0                7.0   \n",
       "145                200.0               20.0               20.0   \n",
       "154              18500.0               41.0               30.0   \n",
       "197                300.0               35.0                7.0   \n",
       "...                  ...                ...                ...   \n",
       "32515             1800.0               30.0               20.0   \n",
       "32589              800.0               30.0               10.0   \n",
       "32616              200.0               21.0                8.0   \n",
       "32772             1300.0               45.0               16.0   \n",
       "32852              700.0               28.0                3.0   \n",
       "\n",
       "       Product_Width_Cm  \n",
       "105                12.0  \n",
       "128                20.0  \n",
       "145                20.0  \n",
       "154                41.0  \n",
       "197                12.0  \n",
       "...                 ...  \n",
       "32515              70.0  \n",
       "32589              23.0  \n",
       "32616              16.0  \n",
       "32772              45.0  \n",
       "32852              43.0  \n",
       "\n",
       "[624 rows x 6 columns]"
      ]
     },
     "execution_count": 53,
     "metadata": {},
     "output_type": "execute_result"
    }
   ],
   "source": [
    "products_null = products[products.isnull().any(axis=1)]\n",
    "products_null"
   ]
  },
  {
   "cell_type": "code",
   "execution_count": 54,
   "id": "fc4ea405",
   "metadata": {},
   "outputs": [],
   "source": [
    "products['Product_Category_Name'] = products['Product_Category_Name'].fillna('unknown')\n"
   ]
  },
  {
   "cell_type": "code",
   "execution_count": 55,
   "id": "69e8ef68",
   "metadata": {},
   "outputs": [
    {
     "data": {
      "application/vnd.microsoft.datawrangler.viewer.v0+json": {
       "columns": [
        {
         "name": "index",
         "rawType": "object",
         "type": "string"
        },
        {
         "name": "0",
         "rawType": "int64",
         "type": "integer"
        }
       ],
       "ref": "f5a7deea-4882-4048-a532-919963519f4e",
       "rows": [
        [
         "Product_ID",
         "0"
        ],
        [
         "Product_Category_Name",
         "0"
        ],
        [
         "Product_Weight_Gr",
         "2"
        ],
        [
         "Product_Length_Cm",
         "2"
        ],
        [
         "Product_Height_Cm",
         "2"
        ],
        [
         "Product_Width_Cm",
         "2"
        ]
       ],
       "shape": {
        "columns": 1,
        "rows": 6
       }
      },
      "text/plain": [
       "Product_ID               0\n",
       "Product_Category_Name    0\n",
       "Product_Weight_Gr        2\n",
       "Product_Length_Cm        2\n",
       "Product_Height_Cm        2\n",
       "Product_Width_Cm         2\n",
       "dtype: int64"
      ]
     },
     "execution_count": 55,
     "metadata": {},
     "output_type": "execute_result"
    }
   ],
   "source": [
    "products.isnull().sum()"
   ]
  },
  {
   "cell_type": "code",
   "execution_count": 56,
   "id": "30fb75dd",
   "metadata": {},
   "outputs": [
    {
     "data": {
      "application/vnd.microsoft.datawrangler.viewer.v0+json": {
       "columns": [
        {
         "name": "index",
         "rawType": "int64",
         "type": "integer"
        },
        {
         "name": "Product_ID",
         "rawType": "object",
         "type": "string"
        },
        {
         "name": "Product_Category_Name",
         "rawType": "object",
         "type": "string"
        },
        {
         "name": "Product_Weight_Gr",
         "rawType": "float64",
         "type": "float"
        },
        {
         "name": "Product_Length_Cm",
         "rawType": "float64",
         "type": "float"
        },
        {
         "name": "Product_Height_Cm",
         "rawType": "float64",
         "type": "float"
        },
        {
         "name": "Product_Width_Cm",
         "rawType": "float64",
         "type": "float"
        }
       ],
       "ref": "fcf5f1c6-ea24-4615-b3ff-1f1b95d727c9",
       "rows": [
        [
         "8578",
         "09ff539a621711667c43eba6a3bd8466",
         "Baby",
         null,
         null,
         null,
         null
        ],
        [
         "18851",
         "5eb564652db742ff8f28759cd8d2652a",
         "unknown",
         null,
         null,
         null,
         null
        ]
       ],
       "shape": {
        "columns": 6,
        "rows": 2
       }
      },
      "text/html": [
       "<div>\n",
       "<style scoped>\n",
       "    .dataframe tbody tr th:only-of-type {\n",
       "        vertical-align: middle;\n",
       "    }\n",
       "\n",
       "    .dataframe tbody tr th {\n",
       "        vertical-align: top;\n",
       "    }\n",
       "\n",
       "    .dataframe thead th {\n",
       "        text-align: right;\n",
       "    }\n",
       "</style>\n",
       "<table border=\"1\" class=\"dataframe\">\n",
       "  <thead>\n",
       "    <tr style=\"text-align: right;\">\n",
       "      <th></th>\n",
       "      <th>Product_ID</th>\n",
       "      <th>Product_Category_Name</th>\n",
       "      <th>Product_Weight_Gr</th>\n",
       "      <th>Product_Length_Cm</th>\n",
       "      <th>Product_Height_Cm</th>\n",
       "      <th>Product_Width_Cm</th>\n",
       "    </tr>\n",
       "  </thead>\n",
       "  <tbody>\n",
       "    <tr>\n",
       "      <th>8578</th>\n",
       "      <td>09ff539a621711667c43eba6a3bd8466</td>\n",
       "      <td>Baby</td>\n",
       "      <td>NaN</td>\n",
       "      <td>NaN</td>\n",
       "      <td>NaN</td>\n",
       "      <td>NaN</td>\n",
       "    </tr>\n",
       "    <tr>\n",
       "      <th>18851</th>\n",
       "      <td>5eb564652db742ff8f28759cd8d2652a</td>\n",
       "      <td>unknown</td>\n",
       "      <td>NaN</td>\n",
       "      <td>NaN</td>\n",
       "      <td>NaN</td>\n",
       "      <td>NaN</td>\n",
       "    </tr>\n",
       "  </tbody>\n",
       "</table>\n",
       "</div>"
      ],
      "text/plain": [
       "                             Product_ID Product_Category_Name  \\\n",
       "8578   09ff539a621711667c43eba6a3bd8466                  Baby   \n",
       "18851  5eb564652db742ff8f28759cd8d2652a               unknown   \n",
       "\n",
       "       Product_Weight_Gr  Product_Length_Cm  Product_Height_Cm  \\\n",
       "8578                 NaN                NaN                NaN   \n",
       "18851                NaN                NaN                NaN   \n",
       "\n",
       "       Product_Width_Cm  \n",
       "8578                NaN  \n",
       "18851               NaN  "
      ]
     },
     "execution_count": 56,
     "metadata": {},
     "output_type": "execute_result"
    }
   ],
   "source": [
    "products_null = products[products.isnull().any(axis=1)]\n",
    "products_null"
   ]
  },
  {
   "cell_type": "code",
   "execution_count": 57,
   "id": "d29ac6cf",
   "metadata": {},
   "outputs": [],
   "source": [
    "for col in ['Product_Weight_Gr', 'Product_Length_Cm', 'Product_Height_Cm', 'Product_Width_Cm']:\n",
    "    median_val = products[col].median()\n",
    "    products[col] = products[col].fillna(median_val)\n"
   ]
  },
  {
   "cell_type": "markdown",
   "id": "cd2abacc",
   "metadata": {},
   "source": [
    "### Descubrimientos clave:\n",
    "- La columna `Product_Category_Name` contenía valores faltantes.  \n",
    "- Las columnas de medidas físicas del producto (`Product_Weight_Gr`, `Product_Length_Cm`, `Product_Height_Cm`, `Product_Width_Cm`) tenían valores nulos en algunos registros.  \n",
    "\n",
    "### Transformaciones aplicadas:\n",
    "- **Imputación en categorías de producto:**  \n",
    "  Los valores faltantes en `Product_Category_Name` fueron reemplazados por la etiqueta `\"unknown\"`, evitando pérdida de registros y manteniendo la trazabilidad.  \n",
    "\n",
    "- **Imputación en medidas físicas del producto:**  \n",
    "  Los valores nulos en las columnas de peso y dimensiones (`Product_Weight_Gr`, `Product_Length_Cm`, `Product_Height_Cm`, `Product_Width_Cm`) se imputaron con la **mediana** de cada variable, garantizando consistencia sin sesgar los datos por valores extremos.  \n",
    "\n",
    "---\n",
    "\n",
    "## Sellers List"
   ]
  },
  {
   "cell_type": "code",
   "execution_count": 58,
   "id": "a17edd8d",
   "metadata": {},
   "outputs": [
    {
     "data": {
      "application/vnd.microsoft.datawrangler.viewer.v0+json": {
       "columns": [
        {
         "name": "index",
         "rawType": "int64",
         "type": "integer"
        },
        {
         "name": "Seller_ID",
         "rawType": "object",
         "type": "string"
        },
        {
         "name": "Seller_Name",
         "rawType": "object",
         "type": "string"
        },
        {
         "name": "Seller_Postal_Code",
         "rawType": "object",
         "type": "string"
        },
        {
         "name": "Seller_City",
         "rawType": "object",
         "type": "string"
        },
        {
         "name": "Country_Code",
         "rawType": "object",
         "type": "string"
        },
        {
         "name": "Seller_Country",
         "rawType": "object",
         "type": "string"
        }
       ],
       "ref": "2aa427e4-72c7-46b6-b241-58fdbd416044",
       "rows": [
        [
         "0",
         "d1b65fc7debc3361ea86b5f14c68d2e2",
         "NeuroLabsX",
         "DE-14469",
         "Potsdam",
         "DE",
         "Germany"
        ],
        [
         "1",
         "51a04a8a6bdcb23deccc82b0b80742cf",
         "SwiftLabs",
         "DE-6108",
         "Halle (Saale)",
         "DE",
         "Germany"
        ],
        [
         "2",
         "e49c26c3edfa46d227d5121a6b6e4d37",
         "EcoFutures",
         "ES-33003",
         "Oviedo",
         "ES",
         "Spain"
        ],
        [
         "3",
         "1b938a7ec6ac5061a66a3766e0e75f90",
         "HyperHub",
         "DE-6112",
         "Halle (Saale)",
         "DE",
         "Germany"
        ],
        [
         "4",
         "a7a9b880c49781da66651ccf4ba9ac38",
         "EliteAI",
         "DE-18069",
         "Rostock",
         "DE",
         "Germany"
        ]
       ],
       "shape": {
        "columns": 6,
        "rows": 5
       }
      },
      "text/html": [
       "<div>\n",
       "<style scoped>\n",
       "    .dataframe tbody tr th:only-of-type {\n",
       "        vertical-align: middle;\n",
       "    }\n",
       "\n",
       "    .dataframe tbody tr th {\n",
       "        vertical-align: top;\n",
       "    }\n",
       "\n",
       "    .dataframe thead th {\n",
       "        text-align: right;\n",
       "    }\n",
       "</style>\n",
       "<table border=\"1\" class=\"dataframe\">\n",
       "  <thead>\n",
       "    <tr style=\"text-align: right;\">\n",
       "      <th></th>\n",
       "      <th>Seller_ID</th>\n",
       "      <th>Seller_Name</th>\n",
       "      <th>Seller_Postal_Code</th>\n",
       "      <th>Seller_City</th>\n",
       "      <th>Country_Code</th>\n",
       "      <th>Seller_Country</th>\n",
       "    </tr>\n",
       "  </thead>\n",
       "  <tbody>\n",
       "    <tr>\n",
       "      <th>0</th>\n",
       "      <td>d1b65fc7debc3361ea86b5f14c68d2e2</td>\n",
       "      <td>NeuroLabsX</td>\n",
       "      <td>DE-14469</td>\n",
       "      <td>Potsdam</td>\n",
       "      <td>DE</td>\n",
       "      <td>Germany</td>\n",
       "    </tr>\n",
       "    <tr>\n",
       "      <th>1</th>\n",
       "      <td>51a04a8a6bdcb23deccc82b0b80742cf</td>\n",
       "      <td>SwiftLabs</td>\n",
       "      <td>DE-6108</td>\n",
       "      <td>Halle (Saale)</td>\n",
       "      <td>DE</td>\n",
       "      <td>Germany</td>\n",
       "    </tr>\n",
       "    <tr>\n",
       "      <th>2</th>\n",
       "      <td>e49c26c3edfa46d227d5121a6b6e4d37</td>\n",
       "      <td>EcoFutures</td>\n",
       "      <td>ES-33003</td>\n",
       "      <td>Oviedo</td>\n",
       "      <td>ES</td>\n",
       "      <td>Spain</td>\n",
       "    </tr>\n",
       "    <tr>\n",
       "      <th>3</th>\n",
       "      <td>1b938a7ec6ac5061a66a3766e0e75f90</td>\n",
       "      <td>HyperHub</td>\n",
       "      <td>DE-6112</td>\n",
       "      <td>Halle (Saale)</td>\n",
       "      <td>DE</td>\n",
       "      <td>Germany</td>\n",
       "    </tr>\n",
       "    <tr>\n",
       "      <th>4</th>\n",
       "      <td>a7a9b880c49781da66651ccf4ba9ac38</td>\n",
       "      <td>EliteAI</td>\n",
       "      <td>DE-18069</td>\n",
       "      <td>Rostock</td>\n",
       "      <td>DE</td>\n",
       "      <td>Germany</td>\n",
       "    </tr>\n",
       "  </tbody>\n",
       "</table>\n",
       "</div>"
      ],
      "text/plain": [
       "                          Seller_ID Seller_Name Seller_Postal_Code  \\\n",
       "0  d1b65fc7debc3361ea86b5f14c68d2e2  NeuroLabsX           DE-14469   \n",
       "1  51a04a8a6bdcb23deccc82b0b80742cf   SwiftLabs            DE-6108   \n",
       "2  e49c26c3edfa46d227d5121a6b6e4d37  EcoFutures           ES-33003   \n",
       "3  1b938a7ec6ac5061a66a3766e0e75f90    HyperHub            DE-6112   \n",
       "4  a7a9b880c49781da66651ccf4ba9ac38     EliteAI           DE-18069   \n",
       "\n",
       "     Seller_City Country_Code Seller_Country  \n",
       "0        Potsdam           DE        Germany  \n",
       "1  Halle (Saale)           DE        Germany  \n",
       "2         Oviedo           ES          Spain  \n",
       "3  Halle (Saale)           DE        Germany  \n",
       "4        Rostock           DE        Germany  "
      ]
     },
     "execution_count": 58,
     "metadata": {},
     "output_type": "execute_result"
    }
   ],
   "source": [
    "sellers = pd.read_csv(\"../data/Fecom Inc Sellers List.csv\", sep=';')\n",
    "sellers.head(5)"
   ]
  },
  {
   "cell_type": "code",
   "execution_count": 59,
   "id": "a115dd6c",
   "metadata": {},
   "outputs": [
    {
     "data": {
      "application/vnd.microsoft.datawrangler.viewer.v0+json": {
       "columns": [
        {
         "name": "index",
         "rawType": "object",
         "type": "string"
        },
        {
         "name": "0",
         "rawType": "int64",
         "type": "integer"
        }
       ],
       "ref": "30f35330-cb45-4b7b-b51a-f98e8a6f0748",
       "rows": [
        [
         "Seller_ID",
         "0"
        ],
        [
         "Seller_Name",
         "0"
        ],
        [
         "Seller_Postal_Code",
         "0"
        ],
        [
         "Seller_City",
         "0"
        ],
        [
         "Country_Code",
         "0"
        ],
        [
         "Seller_Country",
         "0"
        ]
       ],
       "shape": {
        "columns": 1,
        "rows": 6
       }
      },
      "text/plain": [
       "Seller_ID             0\n",
       "Seller_Name           0\n",
       "Seller_Postal_Code    0\n",
       "Seller_City           0\n",
       "Country_Code          0\n",
       "Seller_Country        0\n",
       "dtype: int64"
      ]
     },
     "execution_count": 59,
     "metadata": {},
     "output_type": "execute_result"
    }
   ],
   "source": [
    "sellers.isnull().sum()"
   ]
  },
  {
   "cell_type": "code",
   "execution_count": 60,
   "id": "404a519e",
   "metadata": {},
   "outputs": [
    {
     "data": {
      "application/vnd.microsoft.datawrangler.viewer.v0+json": {
       "columns": [
        {
         "name": "index",
         "rawType": "int64",
         "type": "integer"
        },
        {
         "name": "Seller_ID",
         "rawType": "object",
         "type": "string"
        },
        {
         "name": "Seller_Name",
         "rawType": "object",
         "type": "string"
        },
        {
         "name": "Seller_Postal_Code",
         "rawType": "object",
         "type": "string"
        },
        {
         "name": "Seller_City",
         "rawType": "object",
         "type": "string"
        },
        {
         "name": "Country_Code",
         "rawType": "object",
         "type": "string"
        },
        {
         "name": "Seller_Country",
         "rawType": "object",
         "type": "string"
        }
       ],
       "ref": "93120f08-cbbb-48a7-a9b8-76dded1d511b",
       "rows": [],
       "shape": {
        "columns": 6,
        "rows": 0
       }
      },
      "text/html": [
       "<div>\n",
       "<style scoped>\n",
       "    .dataframe tbody tr th:only-of-type {\n",
       "        vertical-align: middle;\n",
       "    }\n",
       "\n",
       "    .dataframe tbody tr th {\n",
       "        vertical-align: top;\n",
       "    }\n",
       "\n",
       "    .dataframe thead th {\n",
       "        text-align: right;\n",
       "    }\n",
       "</style>\n",
       "<table border=\"1\" class=\"dataframe\">\n",
       "  <thead>\n",
       "    <tr style=\"text-align: right;\">\n",
       "      <th></th>\n",
       "      <th>Seller_ID</th>\n",
       "      <th>Seller_Name</th>\n",
       "      <th>Seller_Postal_Code</th>\n",
       "      <th>Seller_City</th>\n",
       "      <th>Country_Code</th>\n",
       "      <th>Seller_Country</th>\n",
       "    </tr>\n",
       "  </thead>\n",
       "  <tbody>\n",
       "  </tbody>\n",
       "</table>\n",
       "</div>"
      ],
      "text/plain": [
       "Empty DataFrame\n",
       "Columns: [Seller_ID, Seller_Name, Seller_Postal_Code, Seller_City, Country_Code, Seller_Country]\n",
       "Index: []"
      ]
     },
     "execution_count": 60,
     "metadata": {},
     "output_type": "execute_result"
    }
   ],
   "source": [
    "sellers_duplicates = sellers[sellers.duplicated(subset=['Seller_ID'], keep=False)]\n",
    "sellers_duplicates"
   ]
  },
  {
   "cell_type": "markdown",
   "id": "3f49403d",
   "metadata": {},
   "source": [
    "### Descubrimientos clave:\n",
    "- El dataset `sellers` no presentó valores faltantes, duplicados ni inconsistencias relevantes.  \n",
    "- La calidad y estructura de los datos era adecuada desde el inicio.  \n",
    "\n",
    "### Transformaciones aplicadas:\n",
    "- No se realizaron transformaciones, ya que el dataset se encontraba **limpio y consistente**.  \n",
    "\n",
    "\n",
    "---\n",
    "\n",
    "## Orders Review"
   ]
  },
  {
   "cell_type": "code",
   "execution_count": 61,
   "id": "30d33fd8",
   "metadata": {},
   "outputs": [
    {
     "data": {
      "application/vnd.microsoft.datawrangler.viewer.v0+json": {
       "columns": [
        {
         "name": "index",
         "rawType": "int64",
         "type": "integer"
        },
        {
         "name": "Review_ID",
         "rawType": "object",
         "type": "string"
        },
        {
         "name": "Order_ID",
         "rawType": "object",
         "type": "string"
        },
        {
         "name": "Review_Score",
         "rawType": "int64",
         "type": "integer"
        },
        {
         "name": "Review_Comment_Title_En",
         "rawType": "object",
         "type": "unknown"
        },
        {
         "name": "Review_Comment_Message_En",
         "rawType": "object",
         "type": "unknown"
        },
        {
         "name": "Review_Creation_Date",
         "rawType": "object",
         "type": "string"
        },
        {
         "name": "Review_Answer_Timestamp",
         "rawType": "object",
         "type": "string"
        }
       ],
       "ref": "aa2c22a1-5a5a-4e68-a1f3-4cc23732caea",
       "rows": [
        [
         "0",
         "7bc2406110b926393aa56f80a40eba40",
         "73fc7af87114b39712e6da79b0a377eb",
         "4",
         null,
         null,
         "2024-01-18 00:00",
         "2024-01-18 21:46"
        ],
        [
         "1",
         "80e641a11e56f04c1ad469d5645fdfde",
         "a548910a1c6147796b98fdf73dbeba33",
         "5",
         null,
         null,
         "2024-03-10 00:00",
         "2024-03-11 03:05"
        ],
        [
         "2",
         "228ce5500dc1d8e020d8d1322874b6f0",
         "f9e4b658b201a9f2ecdecbb34bed034b",
         "5",
         null,
         null,
         "2024-02-17 00:00",
         "2024-02-18 14:36"
        ],
        [
         "3",
         "e64fb393e7b32834bb789ff8bb30750e",
         "658677c97b385a9be170737859d3511b",
         "5",
         null,
         "I received it well before the stipulated deadline.",
         "2023-04-21 00:00",
         "2023-04-21 22:02"
        ],
        [
         "4",
         "f7c4243c7fe1938f181bec41a392bdeb",
         "8e6bfb81e283fa7e4f11123a3fb894f1",
         "5",
         null,
         "Congratulations lannister stores, I loved shopping online, safe and practical. Congratulations to everyone, happy Easter",
         "2024-03-01 00:00",
         "2024-03-02 10:26"
        ]
       ],
       "shape": {
        "columns": 7,
        "rows": 5
       }
      },
      "text/html": [
       "<div>\n",
       "<style scoped>\n",
       "    .dataframe tbody tr th:only-of-type {\n",
       "        vertical-align: middle;\n",
       "    }\n",
       "\n",
       "    .dataframe tbody tr th {\n",
       "        vertical-align: top;\n",
       "    }\n",
       "\n",
       "    .dataframe thead th {\n",
       "        text-align: right;\n",
       "    }\n",
       "</style>\n",
       "<table border=\"1\" class=\"dataframe\">\n",
       "  <thead>\n",
       "    <tr style=\"text-align: right;\">\n",
       "      <th></th>\n",
       "      <th>Review_ID</th>\n",
       "      <th>Order_ID</th>\n",
       "      <th>Review_Score</th>\n",
       "      <th>Review_Comment_Title_En</th>\n",
       "      <th>Review_Comment_Message_En</th>\n",
       "      <th>Review_Creation_Date</th>\n",
       "      <th>Review_Answer_Timestamp</th>\n",
       "    </tr>\n",
       "  </thead>\n",
       "  <tbody>\n",
       "    <tr>\n",
       "      <th>0</th>\n",
       "      <td>7bc2406110b926393aa56f80a40eba40</td>\n",
       "      <td>73fc7af87114b39712e6da79b0a377eb</td>\n",
       "      <td>4</td>\n",
       "      <td>NaN</td>\n",
       "      <td>NaN</td>\n",
       "      <td>2024-01-18 00:00</td>\n",
       "      <td>2024-01-18 21:46</td>\n",
       "    </tr>\n",
       "    <tr>\n",
       "      <th>1</th>\n",
       "      <td>80e641a11e56f04c1ad469d5645fdfde</td>\n",
       "      <td>a548910a1c6147796b98fdf73dbeba33</td>\n",
       "      <td>5</td>\n",
       "      <td>NaN</td>\n",
       "      <td>NaN</td>\n",
       "      <td>2024-03-10 00:00</td>\n",
       "      <td>2024-03-11 03:05</td>\n",
       "    </tr>\n",
       "    <tr>\n",
       "      <th>2</th>\n",
       "      <td>228ce5500dc1d8e020d8d1322874b6f0</td>\n",
       "      <td>f9e4b658b201a9f2ecdecbb34bed034b</td>\n",
       "      <td>5</td>\n",
       "      <td>NaN</td>\n",
       "      <td>NaN</td>\n",
       "      <td>2024-02-17 00:00</td>\n",
       "      <td>2024-02-18 14:36</td>\n",
       "    </tr>\n",
       "    <tr>\n",
       "      <th>3</th>\n",
       "      <td>e64fb393e7b32834bb789ff8bb30750e</td>\n",
       "      <td>658677c97b385a9be170737859d3511b</td>\n",
       "      <td>5</td>\n",
       "      <td>NaN</td>\n",
       "      <td>I received it well before the stipulated deadl...</td>\n",
       "      <td>2023-04-21 00:00</td>\n",
       "      <td>2023-04-21 22:02</td>\n",
       "    </tr>\n",
       "    <tr>\n",
       "      <th>4</th>\n",
       "      <td>f7c4243c7fe1938f181bec41a392bdeb</td>\n",
       "      <td>8e6bfb81e283fa7e4f11123a3fb894f1</td>\n",
       "      <td>5</td>\n",
       "      <td>NaN</td>\n",
       "      <td>Congratulations lannister stores, I loved shop...</td>\n",
       "      <td>2024-03-01 00:00</td>\n",
       "      <td>2024-03-02 10:26</td>\n",
       "    </tr>\n",
       "  </tbody>\n",
       "</table>\n",
       "</div>"
      ],
      "text/plain": [
       "                          Review_ID                          Order_ID  \\\n",
       "0  7bc2406110b926393aa56f80a40eba40  73fc7af87114b39712e6da79b0a377eb   \n",
       "1  80e641a11e56f04c1ad469d5645fdfde  a548910a1c6147796b98fdf73dbeba33   \n",
       "2  228ce5500dc1d8e020d8d1322874b6f0  f9e4b658b201a9f2ecdecbb34bed034b   \n",
       "3  e64fb393e7b32834bb789ff8bb30750e  658677c97b385a9be170737859d3511b   \n",
       "4  f7c4243c7fe1938f181bec41a392bdeb  8e6bfb81e283fa7e4f11123a3fb894f1   \n",
       "\n",
       "   Review_Score Review_Comment_Title_En  \\\n",
       "0             4                     NaN   \n",
       "1             5                     NaN   \n",
       "2             5                     NaN   \n",
       "3             5                     NaN   \n",
       "4             5                     NaN   \n",
       "\n",
       "                           Review_Comment_Message_En Review_Creation_Date  \\\n",
       "0                                                NaN     2024-01-18 00:00   \n",
       "1                                                NaN     2024-03-10 00:00   \n",
       "2                                                NaN     2024-02-17 00:00   \n",
       "3  I received it well before the stipulated deadl...     2023-04-21 00:00   \n",
       "4  Congratulations lannister stores, I loved shop...     2024-03-01 00:00   \n",
       "\n",
       "  Review_Answer_Timestamp  \n",
       "0        2024-01-18 21:46  \n",
       "1        2024-03-11 03:05  \n",
       "2        2024-02-18 14:36  \n",
       "3        2023-04-21 22:02  \n",
       "4        2024-03-02 10:26  "
      ]
     },
     "execution_count": 61,
     "metadata": {},
     "output_type": "execute_result"
    }
   ],
   "source": [
    "orders_reviews_no_emojis = pd.read_csv(\"../data/Fecom_Inc_Order_Reviews_No_Emojis.csv\", sep=';')\n",
    "orders_reviews_no_emojis.head(5)"
   ]
  },
  {
   "cell_type": "code",
   "execution_count": 62,
   "id": "715976d1",
   "metadata": {},
   "outputs": [
    {
     "data": {
      "application/vnd.microsoft.datawrangler.viewer.v0+json": {
       "columns": [
        {
         "name": "index",
         "rawType": "object",
         "type": "string"
        },
        {
         "name": "0",
         "rawType": "int64",
         "type": "integer"
        }
       ],
       "ref": "888065e4-07d9-44e7-88b8-1e3c2b7f5838",
       "rows": [
        [
         "Review_ID",
         "0"
        ],
        [
         "Order_ID",
         "0"
        ],
        [
         "Review_Score",
         "0"
        ],
        [
         "Review_Comment_Title_En",
         "87682"
        ],
        [
         "Review_Comment_Message_En",
         "58347"
        ],
        [
         "Review_Creation_Date",
         "0"
        ],
        [
         "Review_Answer_Timestamp",
         "0"
        ]
       ],
       "shape": {
        "columns": 1,
        "rows": 7
       }
      },
      "text/plain": [
       "Review_ID                        0\n",
       "Order_ID                         0\n",
       "Review_Score                     0\n",
       "Review_Comment_Title_En      87682\n",
       "Review_Comment_Message_En    58347\n",
       "Review_Creation_Date             0\n",
       "Review_Answer_Timestamp          0\n",
       "dtype: int64"
      ]
     },
     "execution_count": 62,
     "metadata": {},
     "output_type": "execute_result"
    }
   ],
   "source": [
    "orders_reviews_no_emojis.isnull().sum()"
   ]
  },
  {
   "cell_type": "code",
   "execution_count": 63,
   "id": "00d0ec77",
   "metadata": {},
   "outputs": [
    {
     "data": {
      "application/vnd.microsoft.datawrangler.viewer.v0+json": {
       "columns": [
        {
         "name": "index",
         "rawType": "int64",
         "type": "integer"
        },
        {
         "name": "Review_ID",
         "rawType": "object",
         "type": "string"
        },
        {
         "name": "Order_ID",
         "rawType": "object",
         "type": "string"
        },
        {
         "name": "Review_Score",
         "rawType": "int64",
         "type": "integer"
        },
        {
         "name": "Review_Comment_Title_En",
         "rawType": "object",
         "type": "string"
        },
        {
         "name": "Review_Comment_Message_En",
         "rawType": "object",
         "type": "string"
        },
        {
         "name": "Review_Creation_Date",
         "rawType": "object",
         "type": "string"
        },
        {
         "name": "Review_Answer_Timestamp",
         "rawType": "object",
         "type": "string"
        }
       ],
       "ref": "252cc855-a04b-4cc2-bac3-b5c9cba67e21",
       "rows": [
        [
         "9",
         "8670d52e15e00043ae7de4c01cc2fe06",
         "b9bf720beb4ab3728760088589c62129",
         "4",
         "recommend",
         "efficient device. On the website the brand of the device is printed as 3disinfector and when it arrives it has a different name...update with the correct brand as it is the same device",
         "2024-05-22 00:00",
         "2024-05-23 16:45"
        ],
        [
         "15",
         "3948b09f7c818e2d86c9a546758b2335",
         "e51478e7e277a83743b6f9991dbfa3fb",
         "5",
         "I highly recommend",
         "Reliable seller, ok product and delivery on time.",
         "2024-05-23 00:00",
         "2024-05-24 03:00"
        ],
        [
         "19",
         "373cbeecea8286a2b66c97b1b157ec46",
         "583174fbe37d3d5f0d6661be3aad1786",
         "1",
         "My product didn't arrive ",
         "Terrible",
         "2024-08-15 00:00",
         "2024-08-15 04:10"
        ],
        [
         "22",
         "d21bbc789670eab777d27372ab9094cc",
         "4fc44d78867142c627497b60a7e0228a",
         "5",
         "Excellent",
         "Store note 10",
         "2024-07-10 00:00",
         "2024-07-11 14:10"
        ],
        [
         "34",
         "c92cdd7dd544a01aa35137f901669cdf",
         "37e7875cdce5a9e5b3a692971f370151",
         "4",
         "Very good.",
         "I received exactly what I expected. Other orders from other sellers were delayed, but this one arrived on time.",
         "2024-06-07 00:00",
         "2024-06-09 18:44"
        ],
        [
         "36",
         "08c9d79ec0eba1d252e3f52f14b8e6a9",
         "e029f708df3cc108b3264558771605c6",
         "5",
         "Good",
         "I recommend,",
         "2024-06-13 00:00",
         "2024-06-13 22:54"
        ],
        [
         "38",
         "b193ff3c9f32a01f3a0d9ae26b94d244",
         "e2e6ee1ed2d7f2f36b05d234983bd7a0",
         "5",
         "Wonderful!",
         "I'm completely in love, super responsible and reliable store!",
         "2024-08-10 00:00",
         "2024-08-11 00:22"
        ],
        [
         "43",
         "86c5cfa7fcbde303f704b60a78ced7d6",
         "a6456e781cb962cc3f412b04de4fed7b",
         "5",
         "Perfect delivery",
         "Very good. very fragrant.",
         "2024-06-13 00:00",
         "2024-06-14 17:29"
        ],
        [
         "59",
         "500c05500aa275953129f49799ee5c73",
         "8a9424899aac432d80d8e580932b5ee9",
         "5",
         "so beautiful",
         "so beautiful",
         "2024-07-25 00:00",
         "2024-07-25 21:37"
        ],
        [
         "67",
         "109b5ce2dd11bb8460eff3b86da6fefc",
         "25362fbf6aac4b01a28dee1e076acc26",
         "5",
         "Great Product! ",
         "I recommend the seller... ",
         "2024-08-17 00:00",
         "2024-08-17 21:47"
        ],
        [
         "79",
         "c45811d9f90e22a81155b3a1e4a5c2e8",
         "491f193fc52075598871cfe6f19976d4",
         "5",
         "I ALWAYS RECOMMEND!!",
         "The canine patrol backpack kit is beautiful!! My grandson will love it!! Thanks!!",
         "2024-06-19 00:00",
         "2024-06-19 17:44"
        ],
        [
         "90",
         "50a1eaa2f96d6f3e02d0cd68d92bab75",
         "4a7cf245701068d38d441791b735e4bd",
         "5",
         "***** I recommend",
         "Super fast.",
         "2024-05-10 00:00",
         "2024-05-11 03:08"
        ],
        [
         "108",
         "1692078634b63c7f25aa90ee746ec498",
         "5bc4e94aef2841f392fb6fe7ceef69b6",
         "5",
         "EXCELLENT",
         "OK I RECOMMEND",
         "2024-05-23 00:00",
         "2024-05-28 12:48"
        ],
        [
         "131",
         "46d8249ea59101c7288936c3e6f155d7",
         "f25ddb6cd62d720a5d91fff80467930a",
         "3",
         "Delivery delayed",
         "The delivery was divided into two. There was no communication from the store. I thought they had only sent part of the product. ",
         "2024-01-20 00:00",
         "2024-05-15 00:45"
        ],
        [
         "163",
         "79927442ebcbf70b2021e1339bb9a51b",
         "1c8898140458c37fbbf0be37d47193b9",
         "5",
         "very good",
         "I liked the attention to delivery",
         "2024-04-27 00:00",
         "2024-04-30 08:04"
        ],
        [
         "166",
         "14613df954694f243dedeaa2c8a3a5c2",
         "1e91914c9706a5d4665b8c5a6294b107",
         "4",
         "4",
         " If it had been glass it would have broken; It came in the box without any protection inside, the box was very dented. Sorry... but I like buying from you.",
         "2024-05-15 00:00",
         "2024-05-16 23:41"
        ],
        [
         "167",
         "5f938e5f5f2e9a75710b54feeb9ea610",
         "d9ff0185a300435402f043124f530274",
         "1",
         "Average",
         "The item did not fit",
         "2024-05-11 00:00",
         "2024-05-14 14:08"
        ],
        [
         "170",
         "0c9b6ca9b3beaf0fd5d621f63844ea01",
         "cadd4c5765abf658117f2cc7e2a639c2",
         "5",
         "delivery time",
         "I hope to receive it this week, which wouldn't be so extravagant, however... any more delay than that would make me give up on baratheon.",
         "2024-08-26 00:00",
         "2024-08-29 02:48"
        ],
        [
         "185",
         "59d95e0b5b52d038dc3a022b7c912969",
         "fc8c2e8bc069aea361c41c313464993c",
         "5",
         "Super product ",
         "Very good high quality!",
         "2024-07-04 00:00",
         "2024-07-05 00:56"
        ],
        [
         "190",
         "c40a6b6e0181e5ec0d12cbc2e12c49d3",
         "f3468d6a2c7586711e9952242898aad4",
         "1",
         "lack of product and breakage",
         "1 product was missing and 1 of the ones I received was broken",
         "2024-05-23 00:00",
         "2024-05-23 22:23"
        ],
        [
         "191",
         "5241fcad10d7b45a1761f1e1e1536faa",
         "0bcbcc3e0a09b3f6a9495de35f452616",
         "5",
         "I highly recommend",
         "It arrived on time and the product is of excellent quality! My back pain is gone, I'm sleeping great!",
         "2024-07-07 00:00",
         "2024-07-09 18:12"
        ],
        [
         "197",
         "06f47dacd0575e592bf6a17e922ce6cd",
         "82348f1b5f24ac795fa9320e02c49553",
         "1",
         "I haven't received it yet",
         "here it is described as delivered but so far I have not received it",
         "2024-06-28 00:00",
         "2024-06-29 16:34"
        ],
        [
         "201",
         "4656b8ed41c17f6be05e911e211ecd8f",
         "7bdfa70c4049e7319a3182997e27cb95",
         "3",
         "recommend",
         "I started using it now ",
         "2024-05-08 00:00",
         "2024-05-10 13:57"
        ],
        [
         "207",
         "6b341682ab39af9fa00d72d7388c903b",
         "fd65651f855608ad1aa52ff4a741c31a",
         "3",
         "Note3",
         "Buy a product that is correct on the cover but the inside is different.???????",
         "2024-05-10 00:00",
         "2024-05-11 01:15"
        ],
        [
         "212",
         "557ae9c16a8ea3909db2fc5a01bc5151",
         "287b045cfe9ba0ed08308efc06c366ae",
         "3",
         "Suspense",
         "I placed an order for 4 bottles of olive oil. 2 arrived in one day and the other 2 almost 48 hours later. Contact with the store was very difficult, both via email and by phone. The suspense is over but I won't buy there anymore",
         "2024-05-24 00:00",
         "2024-05-25 12:23"
        ],
        [
         "228",
         "7914fa319f12631679d1704d7dcd17df",
         "06ecfa8dfae87263e05d953aa561603d",
         "5",
         "Top",
         "I recommend",
         "2024-08-22 00:00",
         "2024-08-23 01:51"
        ],
        [
         "244",
         "3528296df9092b7a7b88bd036e3f8a8e",
         "dae4fcb62b78ccf2ff3ac4d49113a8f5",
         "5",
         "product show",
         "I highly recommend a quality, professional product",
         "2024-07-14 00:00",
         "2024-07-17 14:28"
        ],
        [
         "249",
         "c7475b2c4448321756b6136327f1394e",
         "e11c61aa2d539f826865ea728496f6d4",
         "5",
         "I highly recommend",
         "very good and fast when I saw it it had already arrived",
         "2024-08-23 00:00",
         "2024-08-24 18:42"
        ],
        [
         "253",
         "65b934c20d632fc2df0fd4723464fa78",
         "824d9780d0313771024a0c70fe9dd9a7",
         "3",
         "They made a mistake on the speaker",
         "Even though it was delivered quickly, they replaced the METEORO box with the BORNE box. When I tried to complain to Lannister, the system was down. The guitar and accessories were correct.",
         "2024-06-12 00:00",
         "2024-06-12 22:36"
        ],
        [
         "257",
         "8023f946d9b261cb0ecb604703427917",
         "f23c71439ab24ac853522e783dd7dec2",
         "5",
         "Great purchase",
         "Delivered on time, and with a good validity period.",
         "2024-05-05 00:00",
         "2024-05-06 00:28"
        ],
        [
         "276",
         "f7eb8792e67d53e01a224bfa9b6802b2",
         "a0f2f8b0523207a13f02225bc812ed23",
         "1",
         "Horrible",
         "They canceled my purchase the day before delivery, I called Lannister and the attendants didn't know what was happening, it was a mess, now I'm waiting to see if I will be charged",
         "2024-08-05 00:00",
         "2024-08-05 09:27"
        ],
        [
         "279",
         "4940d39efaa50e020312724f6a6e5efa",
         "1a1ef8dc595adbce0e5d75d806d69286",
         "5",
         "I highly recommend",
         "quality product and delivery efficiency. I received it much earlier than agreed. recommend",
         "2024-06-08 00:00",
         "2024-06-08 20:47"
        ],
        [
         "281",
         "7bd303edd3865abe8addb98d2a2e6577",
         "d66d818e0e5486b4382bdaad63390b53",
         "5",
         "Very good. ",
         "Good product arrived on time, arrived in 8 days, congratulations. ",
         "2024-08-01 00:00",
         "2024-08-01 18:52"
        ],
        [
         "298",
         "3fb929ba2924ff0a47858efb007ceee1",
         "df8e5e994bcc820fcf403f9a875201e6",
         "5",
         "excellent",
         "fast delivery",
         "2024-08-07 00:00",
         "2024-08-08 12:05"
        ],
        [
         "314",
         "382d855ffdd4f5e66594dbfb1566e96f",
         "f506fd1443d94ad16f25a94426fb8805",
         "5",
         "10",
         "Every time I buy more I am satisfied, congratulations on your honesty with your customers ?",
         "2024-06-03 00:00",
         "2024-06-04 00:38"
        ],
        [
         "324",
         "6aba6ff5d6b3f6762a2ad9a9f1fbdfcf",
         "bfaea68f958681ec9d22aa2114b45721",
         "4",
         "recommend",
         "Everything fast and efficient.",
         "2024-08-12 00:00",
         "2024-08-14 12:49"
        ],
        [
         "327",
         "8f9aa50ee40780ba3f79614530a34ebe",
         "729c445f5f350f88d5c9a3911d6e9bc0",
         "5",
         "Very good ",
         "Wonderful cream and super fast delivery",
         "2024-05-10 00:00",
         "2024-05-10 16:21"
        ],
        [
         "332",
         "b396ba75350276a6cc1993b6627dceea",
         "43050a51a257b17d51295e07650cb654",
         "1",
         "Regrettable...",
         "Good evening, this store is regrettable, I have made so many purchases and today it doesn't even give me the satisfaction of a watch worth 50,00 reais... a defective product and until now it hasn't given me a response",
         "2024-08-23 00:00",
         "2024-08-30 03:02"
        ],
        [
         "336",
         "f3401a1de0c152923ba58cf7b7d2b84a",
         "a848ecb46fe108b35dd5bd7bf4fdddca",
         "2",
         "Bad quality!",
         "The protective cover is not exactly what I expected, it leaves something to be desired in terms of material and quality.",
         "2024-05-19 00:00",
         "2024-05-20 13:07"
        ],
        [
         "341",
         "ef9ef383ff6625e8e118db388ad3420d",
         "67274e3826cb110f3d0cb45f33c2275e",
         "3",
         "Dissatisfied",
         "On the website the product appears to have better quality of material and finish.",
         "2024-07-06 00:00",
         "2024-07-09 19:07"
        ],
        [
         "345",
         "5d6f9cddc8335878d8bf20c3bd4602e8",
         "38fc895ea0a2aa253a46a6fdbb65aaf5",
         "5",
         "highly recommend",
         "I received my product correctly and on time, checking the box everything is correct, but I haven't assembled it yet. Beautiful product, perfect color, we love it. HIGHLY RECOMMEND.",
         "2024-08-10 00:00",
         "2024-08-11 12:59"
        ],
        [
         "347",
         "3a336941a21a96535c9b70e3d28be499",
         "b630c986ea5c14749196132407a05589",
         "5",
         "EXCELLENT PRODUCT",
         "Congratulations. Product delivered well ahead of schedule. Met my needs.",
         "2024-07-04 00:00",
         "2024-07-04 22:24"
        ],
        [
         "391",
         "8a310b56e4d05a7786d23986a1a49ae9",
         "c5a47daec61dfde191baca4e5c10668f",
         "4",
         "I recommend",
         "The order arrived earlier than expected, very good.",
         "2024-05-08 00:00",
         "2024-05-10 17:19"
        ],
        [
         "394",
         "5c1ba09de5c746017d406bd2cfefeca3",
         "327eb42fa668b532239f44713415a37a",
         "3",
         "not delivering the product",
         "You only receive 1 piece of the product! I need the remaining 2 pieces! ",
         "2024-04-26 00:00",
         "2024-04-26 13:36"
        ],
        [
         "404",
         "d6c0b888949f0c3f236d67f588913930",
         "4cd9478b63edacb631dcf780b036b157",
         "4",
         "recommend",
         "I work with professionalism from Lannister stores. I definitely recommend",
         "2024-07-01 00:00",
         "2024-07-03 22:47"
        ],
        [
         "414",
         "949127f36b466d3e93a6f3688062cd77",
         "6d2fbf76787b9f35b1f3c3835a8a6a01",
         "5",
         "Presys Blend pickup",
         "Everything ok!",
         "2024-08-04 00:00",
         "2024-08-06 12:54"
        ],
        [
         "426",
         "320ae91d4c5cb8164c168fc68392a5fb",
         "934e266bc66e8ed5bba8266dfde60175",
         "1",
         "Pirate product!",
         "When I installed the ink cartridge, my printer indicated that it was empty, and displayed the error message \"!\" on top of the paint level marker. I have already requested an exchange. ",
         "2024-05-22 00:00",
         "2024-05-23 01:03"
        ],
        [
         "430",
         "6d7d0a5e33c92adf782b137720eeefa6",
         "d9aefa5d4ccd369c783f5121e069a470",
         "5",
         "weak product ",
         "As for the website, I have nothing to question! They always do what they agreed on... I always recommend them! but the product is weak.. ",
         "2024-05-11 00:00",
         "2024-05-14 12:04"
        ],
        [
         "455",
         "f922b9d00a755863556181c1a366193d",
         "af168723acee7d4de0144ad5361f547d",
         "3",
         "Note 8",
         "I was happy with. The fabric, but I think the top sheet was missing to be complete, I hope they release it soon.",
         "2024-07-07 00:00",
         "2024-07-09 21:54"
        ],
        [
         "479",
         "032cfb72d792d30b6181b482d85f8d1a",
         "c1ba0776bb79a0826691352f8d6ea4e0",
         "5",
         "All very well!",
         "The purchase went as expected, from placing the order to receiving the product. Everything's fine. ",
         "2024-07-12 00:00",
         "2024-07-13 02:40"
        ]
       ],
       "shape": {
        "columns": 7,
        "rows": 7785
       }
      },
      "text/html": [
       "<div>\n",
       "<style scoped>\n",
       "    .dataframe tbody tr th:only-of-type {\n",
       "        vertical-align: middle;\n",
       "    }\n",
       "\n",
       "    .dataframe tbody tr th {\n",
       "        vertical-align: top;\n",
       "    }\n",
       "\n",
       "    .dataframe thead th {\n",
       "        text-align: right;\n",
       "    }\n",
       "</style>\n",
       "<table border=\"1\" class=\"dataframe\">\n",
       "  <thead>\n",
       "    <tr style=\"text-align: right;\">\n",
       "      <th></th>\n",
       "      <th>Review_ID</th>\n",
       "      <th>Order_ID</th>\n",
       "      <th>Review_Score</th>\n",
       "      <th>Review_Comment_Title_En</th>\n",
       "      <th>Review_Comment_Message_En</th>\n",
       "      <th>Review_Creation_Date</th>\n",
       "      <th>Review_Answer_Timestamp</th>\n",
       "    </tr>\n",
       "  </thead>\n",
       "  <tbody>\n",
       "    <tr>\n",
       "      <th>9</th>\n",
       "      <td>8670d52e15e00043ae7de4c01cc2fe06</td>\n",
       "      <td>b9bf720beb4ab3728760088589c62129</td>\n",
       "      <td>4</td>\n",
       "      <td>recommend</td>\n",
       "      <td>efficient device. On the website the brand of ...</td>\n",
       "      <td>2024-05-22 00:00</td>\n",
       "      <td>2024-05-23 16:45</td>\n",
       "    </tr>\n",
       "    <tr>\n",
       "      <th>15</th>\n",
       "      <td>3948b09f7c818e2d86c9a546758b2335</td>\n",
       "      <td>e51478e7e277a83743b6f9991dbfa3fb</td>\n",
       "      <td>5</td>\n",
       "      <td>I highly recommend</td>\n",
       "      <td>Reliable seller, ok product and delivery on time.</td>\n",
       "      <td>2024-05-23 00:00</td>\n",
       "      <td>2024-05-24 03:00</td>\n",
       "    </tr>\n",
       "    <tr>\n",
       "      <th>19</th>\n",
       "      <td>373cbeecea8286a2b66c97b1b157ec46</td>\n",
       "      <td>583174fbe37d3d5f0d6661be3aad1786</td>\n",
       "      <td>1</td>\n",
       "      <td>My product didn't arrive</td>\n",
       "      <td>Terrible</td>\n",
       "      <td>2024-08-15 00:00</td>\n",
       "      <td>2024-08-15 04:10</td>\n",
       "    </tr>\n",
       "    <tr>\n",
       "      <th>22</th>\n",
       "      <td>d21bbc789670eab777d27372ab9094cc</td>\n",
       "      <td>4fc44d78867142c627497b60a7e0228a</td>\n",
       "      <td>5</td>\n",
       "      <td>Excellent</td>\n",
       "      <td>Store note 10</td>\n",
       "      <td>2024-07-10 00:00</td>\n",
       "      <td>2024-07-11 14:10</td>\n",
       "    </tr>\n",
       "    <tr>\n",
       "      <th>34</th>\n",
       "      <td>c92cdd7dd544a01aa35137f901669cdf</td>\n",
       "      <td>37e7875cdce5a9e5b3a692971f370151</td>\n",
       "      <td>4</td>\n",
       "      <td>Very good.</td>\n",
       "      <td>I received exactly what I expected. Other orde...</td>\n",
       "      <td>2024-06-07 00:00</td>\n",
       "      <td>2024-06-09 18:44</td>\n",
       "    </tr>\n",
       "    <tr>\n",
       "      <th>...</th>\n",
       "      <td>...</td>\n",
       "      <td>...</td>\n",
       "      <td>...</td>\n",
       "      <td>...</td>\n",
       "      <td>...</td>\n",
       "      <td>...</td>\n",
       "      <td>...</td>\n",
       "    </tr>\n",
       "    <tr>\n",
       "      <th>99062</th>\n",
       "      <td>adef34681a3f1d05bfb438f6e617d3ee</td>\n",
       "      <td>20914c76989e5eac4e2675de44f7275a</td>\n",
       "      <td>5</td>\n",
       "      <td>I definitely recommend</td>\n",
       "      <td>Good afternoon. I don't receive all the produc...</td>\n",
       "      <td>2024-08-28 00:00</td>\n",
       "      <td>2024-08-28 22:20</td>\n",
       "    </tr>\n",
       "    <tr>\n",
       "      <th>99085</th>\n",
       "      <td>7b85c6acaddb354af9aa840528838d9f</td>\n",
       "      <td>33a3edb84b9df4cb49546859b990ac6d</td>\n",
       "      <td>1</td>\n",
       "      <td>Unreliable company</td>\n",
       "      <td>Approved!</td>\n",
       "      <td>2024-03-21 00:00</td>\n",
       "      <td>2024-10-11 13:34</td>\n",
       "    </tr>\n",
       "    <tr>\n",
       "      <th>99095</th>\n",
       "      <td>dd8304dfce7be4ef6afdee5de01ebe8e</td>\n",
       "      <td>be1f74dd8c9f6ab6066aa38f00c87d99</td>\n",
       "      <td>5</td>\n",
       "      <td>perfect</td>\n",
       "      <td>Original product, fast delivery time. Super sa...</td>\n",
       "      <td>2024-06-08 00:00</td>\n",
       "      <td>2024-06-08 16:41</td>\n",
       "    </tr>\n",
       "    <tr>\n",
       "      <th>99108</th>\n",
       "      <td>b01ab0ba0ad74ab16c994956e5cf20e6</td>\n",
       "      <td>f1bc2e9a22c1bd86a33e5f04595f1bdd</td>\n",
       "      <td>3</td>\n",
       "      <td>I highly recommend</td>\n",
       "      <td>The product was not sent with an NF, there is ...</td>\n",
       "      <td>2024-07-04 00:00</td>\n",
       "      <td>2024-07-05 11:23</td>\n",
       "    </tr>\n",
       "    <tr>\n",
       "      <th>99116</th>\n",
       "      <td>61249dd0992d25082ab94464a2a47668</td>\n",
       "      <td>2437dfd68fb453ad27e1898c8b1fe868</td>\n",
       "      <td>2</td>\n",
       "      <td>Fast but not good</td>\n",
       "      <td>My product arrived and I already have to retur...</td>\n",
       "      <td>2024-07-28 00:00</td>\n",
       "      <td>2024-07-29 02:14</td>\n",
       "    </tr>\n",
       "  </tbody>\n",
       "</table>\n",
       "<p>7785 rows × 7 columns</p>\n",
       "</div>"
      ],
      "text/plain": [
       "                              Review_ID                          Order_ID  \\\n",
       "9      8670d52e15e00043ae7de4c01cc2fe06  b9bf720beb4ab3728760088589c62129   \n",
       "15     3948b09f7c818e2d86c9a546758b2335  e51478e7e277a83743b6f9991dbfa3fb   \n",
       "19     373cbeecea8286a2b66c97b1b157ec46  583174fbe37d3d5f0d6661be3aad1786   \n",
       "22     d21bbc789670eab777d27372ab9094cc  4fc44d78867142c627497b60a7e0228a   \n",
       "34     c92cdd7dd544a01aa35137f901669cdf  37e7875cdce5a9e5b3a692971f370151   \n",
       "...                                 ...                               ...   \n",
       "99062  adef34681a3f1d05bfb438f6e617d3ee  20914c76989e5eac4e2675de44f7275a   \n",
       "99085  7b85c6acaddb354af9aa840528838d9f  33a3edb84b9df4cb49546859b990ac6d   \n",
       "99095  dd8304dfce7be4ef6afdee5de01ebe8e  be1f74dd8c9f6ab6066aa38f00c87d99   \n",
       "99108  b01ab0ba0ad74ab16c994956e5cf20e6  f1bc2e9a22c1bd86a33e5f04595f1bdd   \n",
       "99116  61249dd0992d25082ab94464a2a47668  2437dfd68fb453ad27e1898c8b1fe868   \n",
       "\n",
       "       Review_Score    Review_Comment_Title_En  \\\n",
       "9                 4                  recommend   \n",
       "15                5         I highly recommend   \n",
       "19                1  My product didn't arrive    \n",
       "22                5                  Excellent   \n",
       "34                4                 Very good.   \n",
       "...             ...                        ...   \n",
       "99062             5     I definitely recommend   \n",
       "99085             1        Unreliable company    \n",
       "99095             5                    perfect   \n",
       "99108             3         I highly recommend   \n",
       "99116             2          Fast but not good   \n",
       "\n",
       "                               Review_Comment_Message_En Review_Creation_Date  \\\n",
       "9      efficient device. On the website the brand of ...     2024-05-22 00:00   \n",
       "15     Reliable seller, ok product and delivery on time.     2024-05-23 00:00   \n",
       "19                                              Terrible     2024-08-15 00:00   \n",
       "22                                         Store note 10     2024-07-10 00:00   \n",
       "34     I received exactly what I expected. Other orde...     2024-06-07 00:00   \n",
       "...                                                  ...                  ...   \n",
       "99062  Good afternoon. I don't receive all the produc...     2024-08-28 00:00   \n",
       "99085                                          Approved!     2024-03-21 00:00   \n",
       "99095  Original product, fast delivery time. Super sa...     2024-06-08 00:00   \n",
       "99108  The product was not sent with an NF, there is ...     2024-07-04 00:00   \n",
       "99116  My product arrived and I already have to retur...     2024-07-28 00:00   \n",
       "\n",
       "      Review_Answer_Timestamp  \n",
       "9            2024-05-23 16:45  \n",
       "15           2024-05-24 03:00  \n",
       "19           2024-08-15 04:10  \n",
       "22           2024-07-11 14:10  \n",
       "34           2024-06-09 18:44  \n",
       "...                       ...  \n",
       "99062        2024-08-28 22:20  \n",
       "99085        2024-10-11 13:34  \n",
       "99095        2024-06-08 16:41  \n",
       "99108        2024-07-05 11:23  \n",
       "99116        2024-07-29 02:14  \n",
       "\n",
       "[7785 rows x 7 columns]"
      ]
     },
     "execution_count": 63,
     "metadata": {},
     "output_type": "execute_result"
    }
   ],
   "source": [
    "orders_reviews_no_emojis_no_null = orders_reviews_no_emojis[orders_reviews_no_emojis.notnull().all(axis=1)]\n",
    "orders_reviews_no_emojis_no_null"
   ]
  },
  {
   "cell_type": "code",
   "execution_count": 64,
   "id": "132a6102",
   "metadata": {},
   "outputs": [],
   "source": [
    "def fill_message(row):\n",
    "    if pd.isna(row['Review_Comment_Message_En']):\n",
    "        if row['Review_Score'] >= 4:\n",
    "            return 'Positive review without comment'\n",
    "        elif row['Review_Score'] == 3:\n",
    "            return 'Neutral review without comment'\n",
    "        else:\n",
    "            return 'Negative review without comment'\n",
    "    return row['Review_Comment_Message_En']\n",
    "\n",
    "orders_reviews_no_emojis['Review_Comment_Message_En'] = orders_reviews_no_emojis.apply(fill_message, axis=1)\n",
    "\n",
    "orders_reviews_no_emojis['Review_Comment_Title_En'] = orders_reviews_no_emojis['Review_Comment_Title_En'].fillna('No title')\n"
   ]
  },
  {
   "cell_type": "code",
   "execution_count": 65,
   "id": "48bf2e87",
   "metadata": {},
   "outputs": [
    {
     "data": {
      "application/vnd.microsoft.datawrangler.viewer.v0+json": {
       "columns": [
        {
         "name": "index",
         "rawType": "object",
         "type": "string"
        },
        {
         "name": "0",
         "rawType": "int64",
         "type": "integer"
        }
       ],
       "ref": "b48baddc-409a-410c-afc5-4c497d3c3573",
       "rows": [
        [
         "Review_ID",
         "0"
        ],
        [
         "Order_ID",
         "0"
        ],
        [
         "Review_Score",
         "0"
        ],
        [
         "Review_Comment_Title_En",
         "0"
        ],
        [
         "Review_Comment_Message_En",
         "0"
        ],
        [
         "Review_Creation_Date",
         "0"
        ],
        [
         "Review_Answer_Timestamp",
         "0"
        ]
       ],
       "shape": {
        "columns": 1,
        "rows": 7
       }
      },
      "text/plain": [
       "Review_ID                    0\n",
       "Order_ID                     0\n",
       "Review_Score                 0\n",
       "Review_Comment_Title_En      0\n",
       "Review_Comment_Message_En    0\n",
       "Review_Creation_Date         0\n",
       "Review_Answer_Timestamp      0\n",
       "dtype: int64"
      ]
     },
     "execution_count": 65,
     "metadata": {},
     "output_type": "execute_result"
    }
   ],
   "source": [
    "orders_reviews_no_emojis.isnull().sum()"
   ]
  },
  {
   "cell_type": "code",
   "execution_count": 66,
   "id": "682be0fd",
   "metadata": {},
   "outputs": [
    {
     "data": {
      "application/vnd.microsoft.datawrangler.viewer.v0+json": {
       "columns": [
        {
         "name": "index",
         "rawType": "int64",
         "type": "integer"
        },
        {
         "name": "Review_ID",
         "rawType": "object",
         "type": "string"
        },
        {
         "name": "Order_ID",
         "rawType": "object",
         "type": "string"
        },
        {
         "name": "Review_Score",
         "rawType": "int64",
         "type": "integer"
        },
        {
         "name": "Review_Comment_Title_En",
         "rawType": "object",
         "type": "string"
        },
        {
         "name": "Review_Comment_Message_En",
         "rawType": "object",
         "type": "string"
        },
        {
         "name": "Review_Creation_Date",
         "rawType": "object",
         "type": "string"
        },
        {
         "name": "Review_Answer_Timestamp",
         "rawType": "object",
         "type": "string"
        }
       ],
       "ref": "e7edf8e7-98d9-4d35-81a3-be347f434370",
       "rows": [
        [
         "200",
         "28642ce6250b94cc72bc85960aec6c62",
         "e239d280236cdd3c40cb2c033f681d1c",
         "5",
         "No title",
         "Positive review without comment",
         "2024-03-25 00:00",
         "2024-03-25 21:03"
        ],
        [
         "344",
         "a0a641414ff718ca079b3967ef5c2495",
         "169d7e0fd71d624d306f132acd791cbe",
         "5",
         "No title",
         "Positive review without comment",
         "2024-03-04 00:00",
         "2024-03-06 20:12"
        ],
        [
         "346",
         "f4d74b17cd63ee35efa82cd2567de911",
         "f269e83a82f64baa3de97c2ebf3358f6",
         "3",
         "No title",
         "The packaging left a lot to be desired, the product was almost damaged, the box was all crushed.",
         "2024-01-12 00:00",
         "2024-01-13 18:46"
        ],
        [
         "360",
         "ecbaf1fce7d2c09bfab46f89065afeaf",
         "2451b9756f310d4cff5c7987b393870d",
         "5",
         "No title",
         "Positive review without comment",
         "2023-07-27 00:00",
         "2023-07-28 16:57"
        ],
        [
         "393",
         "6b1de94de0f4bd84dfc4136818242faa",
         "92acf87839903a94aeca0e5040d99acb",
         "5",
         "No title",
         "Positive review without comment",
         "2024-02-16 00:00",
         "2024-02-19 19:04"
        ],
        [
         "433",
         "957011305e7a4b6c8a266eeeb8e0316d",
         "54b4da510fed5dc3cf3e7a8e50a5f224",
         "4",
         "No title",
         "Positive review without comment",
         "2024-03-10 00:00",
         "2024-03-10 23:35"
        ],
        [
         "508",
         "b34f4a786bf00b7c8486141ba482783b",
         "b2501eb5c292d415f52576b3d4b5de74",
         "3",
         "No title",
         "Neutral review without comment",
         "2023-05-04 00:00",
         "2023-05-22 12:02"
        ],
        [
         "661",
         "d433c252647c51309432ca0b763f969b",
         "448795135b904d057254f5fd0d5a6a4c",
         "1",
         "No title",
         "Negative review without comment",
         "2023-09-03 00:00",
         "2023-09-06 16:11"
        ],
        [
         "723",
         "5f35bbde2b32b8617aab15b7a9a0ae24",
         "ba568688e2f462d7c44a3fdc62e6456f",
         "4",
         "No title",
         "Positive review without comment",
         "2023-11-26 00:00",
         "2023-11-27 21:00"
        ],
        [
         "764",
         "c5976a5a98e854fb23d7e03c6754ae60",
         "2002ea16e75277eaa0b5d78632048540",
         "5",
         "No title",
         "Positive review without comment",
         "2023-08-08 00:00",
         "2023-08-10 11:11"
        ],
        [
         "778",
         "62c7722239b976d943ec0d430cfe890e",
         "1d297b4800ed1a3c5b0944d84c01ee99",
         "3",
         "No title",
         "Neutral review without comment",
         "2023-10-22 00:00",
         "2023-10-31 15:33"
        ],
        [
         "795",
         "ca8e5e40f55fbffaa631de686b627dde",
         "bce7047b261dd5116e87384f4fe9afc1",
         "5",
         "No title",
         "Positive review without comment",
         "2024-02-22 00:00",
         "2024-02-23 17:32"
        ],
        [
         "834",
         "6ec93e77f444e0b1703740a69122e35d",
         "d8cbc79d1dd84f3c87cb2ca7663c930e",
         "5",
         "No title",
         "Seller's commitment to the customer",
         "2023-10-07 00:00",
         "2023-10-07 19:47"
        ],
        [
         "841",
         "ee9bde038f146b5ece0d9a859cc2a795",
         "afb67c04593c89865f383745e2993cef",
         "4",
         "No title",
         "Positive review without comment",
         "2023-12-21 00:00",
         "2023-12-23 19:19"
        ],
        [
         "854",
         "830636803620cdf8b6ffaf1b2f6e92b2",
         "0176a6846bcb3b0d3aa3116a9a768597",
         "5",
         "No title",
         "Positive review without comment",
         "2023-12-30 00:00",
         "2024-01-02 10:54"
        ],
        [
         "911",
         "43e5286eb9f62cabe4471ec1dff7142a",
         "2de2a81f489e7ac7cc08d8e49dbd6c13",
         "5",
         "No title",
         "Positive review without comment",
         "2023-11-04 00:00",
         "2023-11-05 00:21"
        ],
        [
         "986",
         "1f5aa5d7c3ee7895e4d223797b5a5f2d",
         "c79bdf061e22288609201ec60deb42fb",
         "5",
         "No title",
         "Everything happened efficiently",
         "2023-05-10 00:00",
         "2023-05-12 00:58"
        ],
        [
         "1009",
         "3242cc306a9218d0377831e175d62fbf",
         "711246846695fa895c1776f0ddc30b20",
         "5",
         "No title",
         "Excellent ",
         "2023-07-21 00:00",
         "2023-07-22 01:06"
        ],
        [
         "1153",
         "1258a603cc9e4897f7955ab218c83b8c",
         "4a4c3e1ff92b16c0ecf770b504693a88",
         "3",
         "No title",
         "Neutral review without comment",
         "2024-02-03 00:00",
         "2024-02-03 23:43"
        ],
        [
         "1163",
         "771654d19b26b9108952856b225ad105",
         "4703440eb9289d3769819920e98ec061",
         "5",
         "No title",
         "Positive review without comment",
         "2024-02-15 00:00",
         "2024-02-16 01:50"
        ],
        [
         "1479",
         "b703764760e6e5d534a8940a12fca101",
         "2b49d60af10ea7e2443376987ec8a184",
         "1",
         "No title",
         "Only one cover came, I bought 3 and then I paid. More than 100 reais for a cover",
         "2023-04-11 00:00",
         "2023-04-14 11:02"
        ],
        [
         "1500",
         "87c13a40ddb9333c0818f8f6745af183",
         "c8eab0ccabe8cdfc2afce66c1c554ae2",
         "4",
         "No title",
         "Positive review without comment",
         "2023-06-27 00:00",
         "2023-06-28 00:06"
        ],
        [
         "1601",
         "b06f6882b1c0bc82ddf057b58b86fe50",
         "2daee070f2042c8b7a8e9fdde778a31a",
         "5",
         "Very good ",
         "Great, excellent product I recommend it to everyone ",
         "2024-07-12 00:00",
         "2024-07-13 10:49"
        ],
        [
         "1720",
         "dbcd48d3ff3e8bc81c542ba3e20049cf",
         "072e34b42ad90d7472e9a798f19a6bdb",
         "5",
         "No title",
         "Positive review without comment",
         "2023-02-10 00:00",
         "2023-02-14 15:03"
        ],
        [
         "1740",
         "48f315adb0fcfc986321083d894884a6",
         "076d991923ee938761994a4255f5c5da",
         "5",
         "No title",
         "Positive review without comment",
         "2023-12-30 00:00",
         "2023-12-31 12:26"
        ],
        [
         "1792",
         "5d1f78d752c653e019bd07cc48106300",
         "c2cd6ce44609af75d061dfab2f67179c",
         "5",
         "No title",
         "great to buy ",
         "2023-05-16 00:00",
         "2023-05-19 11:41"
        ],
        [
         "1835",
         "5fbdc041e0938773613c1a6fbbf7b62a",
         "6c6803a80161b45ad151601b21ba647f",
         "5",
         "No title",
         "Original product, fast delivery and good price!!!",
         "2023-12-19 00:00",
         "2023-12-20 14:20"
        ],
        [
         "1887",
         "fb962e0e8c73e6e359ce7d34de8571ed",
         "8f872e715d0dc90d10e7315809cdd49a",
         "5",
         "No title",
         "Positive review without comment",
         "2023-08-26 00:00",
         "2023-08-29 22:57"
        ],
        [
         "1926",
         "a20c24976e5130fdc8ac993ecd6b649b",
         "2d7112fbe786c9c56050866c853e3a7f",
         "2",
         "No title",
         "The product arrived torn ",
         "2023-12-11 00:00",
         "2023-12-13 20:39"
        ],
        [
         "1931",
         "e74f725def896ab2694ac05b8af4f78e",
         "7d52cc13ad48508237527a8681689106",
         "5",
         "No title",
         "Positive review without comment",
         "2024-02-24 00:00",
         "2024-02-27 23:09"
        ],
        [
         "1985",
         "ffb8cff872a625632ac983eb1f88843c",
         "c88b1d1b157a9999ce368f218a407141",
         "3",
         "No title",
         "Neutral review without comment",
         "2023-07-22 00:00",
         "2023-07-26 13:41"
        ],
        [
         "1988",
         "03a6a25db577d0689440933055111897",
         "2acfdc5131ff2cf4433e668454c9784c",
         "5",
         "No title",
         "Very good! I liked it a lot! Great fabric! Met my expectations!  I highly recommend it! ",
         "2023-12-15 00:00",
         "2023-12-16 01:32"
        ],
        [
         "2063",
         "7f7241edd813156265f1fc98b45c1a34",
         "e832fe7f7808b5f981ee02746681d40e",
         "5",
         "No title",
         "Positive review without comment",
         "2024-03-06 00:00",
         "2024-03-08 23:03"
        ],
        [
         "2190",
         "e40c15ccebf9821ea0f3fe18cfb5fcfe",
         "7f6bab6f94c44a7f4ffb9377bc3b82fa",
         "5",
         "No title",
         "Positive review without comment",
         "2024-03-08 00:00",
         "2024-03-09 02:09"
        ],
        [
         "2291",
         "50159be3324818783d2662534eb31484",
         "627dd35dbc686a525aa1224e523d82f8",
         "3",
         "good",
         "The product is good, delivery is fast, but shipping is very expensive.",
         "2024-08-04 00:00",
         "2024-08-05 02:26"
        ],
        [
         "2320",
         "54daab04440b00f318d2c9a0854aafc0",
         "cc1b834e8d019a8c71e3c3b1a23edc61",
         "4",
         "No title",
         "Positive review without comment",
         "2024-01-24 00:00",
         "2024-01-24 21:32"
        ],
        [
         "2396",
         "91e35f707b1826ab431e01cdbf99c499",
         "2683346722c6565c6c79e08c8264f25f",
         "3",
         "No title",
         "Neutral review without comment",
         "2023-09-17 00:00",
         "2023-09-19 14:49"
        ],
        [
         "2455",
         "f655b6e860fd2fca8dc258549c5d2a7c",
         "dff84ff9aec9a566fa61a67661110009",
         "5",
         "No title",
         "Positive review without comment",
         "2023-12-11 00:00",
         "2023-12-18 11:42"
        ],
        [
         "2645",
         "c880f17947402374c0312bea411a7e18",
         "c79387fbdb009010c07a17127bd21f0d",
         "3",
         "No title",
         "Neutral review without comment",
         "2023-12-12 00:00",
         "2023-12-12 22:29"
        ],
        [
         "2854",
         "e7525e7024b45b94e8717a443bca7c80",
         "ba7243ecb3b63c80579ba1d4c34e277c",
         "4",
         "No title",
         "Positive review without comment",
         "2024-07-05 00:00",
         "2024-07-06 17:25"
        ],
        [
         "2864",
         "4994fe478b3f3ebda4db5988f417b6a4",
         "b7bb38752b1d8e0b56a6a0633907e66f",
         "1",
         "No title",
         "They didn't deliver on time, it's been over 30 days, a miserable pair of scissors. I had to buy one here. Because the company didn't commit or send me an email to reassure me. ",
         "2023-05-25 00:00",
         "2023-05-30 20:22"
        ],
        [
         "2887",
         "ea88898e75d153da5b7656e8e0d48fb8",
         "aa9f47b4e7c06b6c495bf26fff85bb17",
         "3",
         "No title",
         "Neutral review without comment",
         "2023-03-10 00:00",
         "2023-03-11 10:54"
        ],
        [
         "2952",
         "c444278834184f72b1484dfe47de7f97",
         "df56136b8031ecd28e200bb18e6ddb2e",
         "5",
         "No title",
         "Positive review without comment",
         "2023-02-08 00:00",
         "2023-02-14 13:58"
        ],
        [
         "2960",
         "eb2e7f397d9e41b7d911fd73e92f3d0c",
         "310a0d29a24aac9be0dfee5e0fa45204",
         "1",
         "No title",
         "Negative review without comment",
         "2024-02-10 00:00",
         "2024-02-12 09:59"
        ],
        [
         "3109",
         "aa193e76d35950c4ae988237bb36ed2b",
         "cf73e2cb1f4a9480ed70c154da3d954a",
         "5",
         "No title",
         "Positive review without comment",
         "2024-01-18 00:00",
         "2024-01-18 17:36"
        ],
        [
         "3132",
         "7828e22ec7f3dd35459e18424c08e4ae",
         "4e724c7d98c212ac0bbca82b6d274f76",
         "1",
         "No title",
         "Negative review without comment",
         "2024-03-15 00:00",
         "2024-03-19 12:49"
        ],
        [
         "3237",
         "bfed2e1c78028675ccb4a4dfbb8d5335",
         "fe492b94021fc809f9fd371ca4162c51",
         "1",
         "No title",
         "Negative review without comment",
         "2023-09-01 00:00",
         "2023-09-02 12:11"
        ],
        [
         "3317",
         "3242cc306a9218d0377831e175d62fbf",
         "9c5bfba7de6a4abbb6ba0baab78d1622",
         "5",
         "No title",
         "Excellent ",
         "2023-07-21 00:00",
         "2023-07-22 01:06"
        ],
        [
         "3347",
         "724539bf8668b7cf318df67996dc8718",
         "7c70f1c05b2c170358a1765511517175",
         "1",
         "No title",
         "It's been almost a month since I placed the order and the product still hasn't arrived.",
         "2023-10-13 00:00",
         "2023-10-13 12:22"
        ],
        [
         "3369",
         "47ce9f3f6c89ce50db02a897ebb7148a",
         "d07ea9203ae0a6ea15a2eacc87b4c0f7",
         "5",
         "No title",
         "Positive review without comment",
         "2024-03-12 00:00",
         "2024-03-13 01:30"
        ]
       ],
       "shape": {
        "columns": 7,
        "rows": 1603
       }
      },
      "text/html": [
       "<div>\n",
       "<style scoped>\n",
       "    .dataframe tbody tr th:only-of-type {\n",
       "        vertical-align: middle;\n",
       "    }\n",
       "\n",
       "    .dataframe tbody tr th {\n",
       "        vertical-align: top;\n",
       "    }\n",
       "\n",
       "    .dataframe thead th {\n",
       "        text-align: right;\n",
       "    }\n",
       "</style>\n",
       "<table border=\"1\" class=\"dataframe\">\n",
       "  <thead>\n",
       "    <tr style=\"text-align: right;\">\n",
       "      <th></th>\n",
       "      <th>Review_ID</th>\n",
       "      <th>Order_ID</th>\n",
       "      <th>Review_Score</th>\n",
       "      <th>Review_Comment_Title_En</th>\n",
       "      <th>Review_Comment_Message_En</th>\n",
       "      <th>Review_Creation_Date</th>\n",
       "      <th>Review_Answer_Timestamp</th>\n",
       "    </tr>\n",
       "  </thead>\n",
       "  <tbody>\n",
       "    <tr>\n",
       "      <th>200</th>\n",
       "      <td>28642ce6250b94cc72bc85960aec6c62</td>\n",
       "      <td>e239d280236cdd3c40cb2c033f681d1c</td>\n",
       "      <td>5</td>\n",
       "      <td>No title</td>\n",
       "      <td>Positive review without comment</td>\n",
       "      <td>2024-03-25 00:00</td>\n",
       "      <td>2024-03-25 21:03</td>\n",
       "    </tr>\n",
       "    <tr>\n",
       "      <th>344</th>\n",
       "      <td>a0a641414ff718ca079b3967ef5c2495</td>\n",
       "      <td>169d7e0fd71d624d306f132acd791cbe</td>\n",
       "      <td>5</td>\n",
       "      <td>No title</td>\n",
       "      <td>Positive review without comment</td>\n",
       "      <td>2024-03-04 00:00</td>\n",
       "      <td>2024-03-06 20:12</td>\n",
       "    </tr>\n",
       "    <tr>\n",
       "      <th>346</th>\n",
       "      <td>f4d74b17cd63ee35efa82cd2567de911</td>\n",
       "      <td>f269e83a82f64baa3de97c2ebf3358f6</td>\n",
       "      <td>3</td>\n",
       "      <td>No title</td>\n",
       "      <td>The packaging left a lot to be desired, the pr...</td>\n",
       "      <td>2024-01-12 00:00</td>\n",
       "      <td>2024-01-13 18:46</td>\n",
       "    </tr>\n",
       "    <tr>\n",
       "      <th>360</th>\n",
       "      <td>ecbaf1fce7d2c09bfab46f89065afeaf</td>\n",
       "      <td>2451b9756f310d4cff5c7987b393870d</td>\n",
       "      <td>5</td>\n",
       "      <td>No title</td>\n",
       "      <td>Positive review without comment</td>\n",
       "      <td>2023-07-27 00:00</td>\n",
       "      <td>2023-07-28 16:57</td>\n",
       "    </tr>\n",
       "    <tr>\n",
       "      <th>393</th>\n",
       "      <td>6b1de94de0f4bd84dfc4136818242faa</td>\n",
       "      <td>92acf87839903a94aeca0e5040d99acb</td>\n",
       "      <td>5</td>\n",
       "      <td>No title</td>\n",
       "      <td>Positive review without comment</td>\n",
       "      <td>2024-02-16 00:00</td>\n",
       "      <td>2024-02-19 19:04</td>\n",
       "    </tr>\n",
       "    <tr>\n",
       "      <th>...</th>\n",
       "      <td>...</td>\n",
       "      <td>...</td>\n",
       "      <td>...</td>\n",
       "      <td>...</td>\n",
       "      <td>...</td>\n",
       "      <td>...</td>\n",
       "      <td>...</td>\n",
       "    </tr>\n",
       "    <tr>\n",
       "      <th>99107</th>\n",
       "      <td>2c6c08892b83ba4c1be33037c2842294</td>\n",
       "      <td>42ae1967f68c90bb325783ac55d761ce</td>\n",
       "      <td>4</td>\n",
       "      <td>No title</td>\n",
       "      <td>Positive review without comment</td>\n",
       "      <td>2023-07-03 00:00</td>\n",
       "      <td>2023-07-05 19:06</td>\n",
       "    </tr>\n",
       "    <tr>\n",
       "      <th>99123</th>\n",
       "      <td>6ec93e77f444e0b1703740a69122e35d</td>\n",
       "      <td>e1fdc6e9d1ca132377e862593a7c0bd4</td>\n",
       "      <td>5</td>\n",
       "      <td>No title</td>\n",
       "      <td>Positive review without comment</td>\n",
       "      <td>2023-10-07 00:00</td>\n",
       "      <td>2023-10-07 19:47</td>\n",
       "    </tr>\n",
       "    <tr>\n",
       "      <th>99163</th>\n",
       "      <td>2afe63a67dfd99b3038f568fb47ee761</td>\n",
       "      <td>c5334d330e36d2a810a7a13c72e135ee</td>\n",
       "      <td>5</td>\n",
       "      <td>No title</td>\n",
       "      <td>Positive review without comment</td>\n",
       "      <td>2024-03-03 00:00</td>\n",
       "      <td>2024-03-04 22:56</td>\n",
       "    </tr>\n",
       "    <tr>\n",
       "      <th>99166</th>\n",
       "      <td>017808d29fd1f942d97e50184dfb4c13</td>\n",
       "      <td>b1461c8882153b5fe68307c46a506e39</td>\n",
       "      <td>5</td>\n",
       "      <td>No title</td>\n",
       "      <td>Positive review without comment</td>\n",
       "      <td>2024-03-02 00:00</td>\n",
       "      <td>2024-03-05 01:43</td>\n",
       "    </tr>\n",
       "    <tr>\n",
       "      <th>99177</th>\n",
       "      <td>44d1e9165ec54b1d89d33594856af859</td>\n",
       "      <td>a7dbcf5043158d6fa72859eead2f3d10</td>\n",
       "      <td>4</td>\n",
       "      <td>No title</td>\n",
       "      <td>Positive review without comment</td>\n",
       "      <td>2023-05-24 00:00</td>\n",
       "      <td>2023-05-24 23:15</td>\n",
       "    </tr>\n",
       "  </tbody>\n",
       "</table>\n",
       "<p>1603 rows × 7 columns</p>\n",
       "</div>"
      ],
      "text/plain": [
       "                              Review_ID                          Order_ID  \\\n",
       "200    28642ce6250b94cc72bc85960aec6c62  e239d280236cdd3c40cb2c033f681d1c   \n",
       "344    a0a641414ff718ca079b3967ef5c2495  169d7e0fd71d624d306f132acd791cbe   \n",
       "346    f4d74b17cd63ee35efa82cd2567de911  f269e83a82f64baa3de97c2ebf3358f6   \n",
       "360    ecbaf1fce7d2c09bfab46f89065afeaf  2451b9756f310d4cff5c7987b393870d   \n",
       "393    6b1de94de0f4bd84dfc4136818242faa  92acf87839903a94aeca0e5040d99acb   \n",
       "...                                 ...                               ...   \n",
       "99107  2c6c08892b83ba4c1be33037c2842294  42ae1967f68c90bb325783ac55d761ce   \n",
       "99123  6ec93e77f444e0b1703740a69122e35d  e1fdc6e9d1ca132377e862593a7c0bd4   \n",
       "99163  2afe63a67dfd99b3038f568fb47ee761  c5334d330e36d2a810a7a13c72e135ee   \n",
       "99166  017808d29fd1f942d97e50184dfb4c13  b1461c8882153b5fe68307c46a506e39   \n",
       "99177  44d1e9165ec54b1d89d33594856af859  a7dbcf5043158d6fa72859eead2f3d10   \n",
       "\n",
       "       Review_Score Review_Comment_Title_En  \\\n",
       "200               5                No title   \n",
       "344               5                No title   \n",
       "346               3                No title   \n",
       "360               5                No title   \n",
       "393               5                No title   \n",
       "...             ...                     ...   \n",
       "99107             4                No title   \n",
       "99123             5                No title   \n",
       "99163             5                No title   \n",
       "99166             5                No title   \n",
       "99177             4                No title   \n",
       "\n",
       "                               Review_Comment_Message_En Review_Creation_Date  \\\n",
       "200                      Positive review without comment     2024-03-25 00:00   \n",
       "344                      Positive review without comment     2024-03-04 00:00   \n",
       "346    The packaging left a lot to be desired, the pr...     2024-01-12 00:00   \n",
       "360                      Positive review without comment     2023-07-27 00:00   \n",
       "393                      Positive review without comment     2024-02-16 00:00   \n",
       "...                                                  ...                  ...   \n",
       "99107                    Positive review without comment     2023-07-03 00:00   \n",
       "99123                    Positive review without comment     2023-10-07 00:00   \n",
       "99163                    Positive review without comment     2024-03-03 00:00   \n",
       "99166                    Positive review without comment     2024-03-02 00:00   \n",
       "99177                    Positive review without comment     2023-05-24 00:00   \n",
       "\n",
       "      Review_Answer_Timestamp  \n",
       "200          2024-03-25 21:03  \n",
       "344          2024-03-06 20:12  \n",
       "346          2024-01-13 18:46  \n",
       "360          2023-07-28 16:57  \n",
       "393          2024-02-19 19:04  \n",
       "...                       ...  \n",
       "99107        2023-07-05 19:06  \n",
       "99123        2023-10-07 19:47  \n",
       "99163        2024-03-04 22:56  \n",
       "99166        2024-03-05 01:43  \n",
       "99177        2023-05-24 23:15  \n",
       "\n",
       "[1603 rows x 7 columns]"
      ]
     },
     "execution_count": 66,
     "metadata": {},
     "output_type": "execute_result"
    }
   ],
   "source": [
    "orders_reviews_no_emojis_duplicates = orders_reviews_no_emojis[orders_reviews_no_emojis.duplicated(subset=['Review_ID'], keep=False)]\n",
    "orders_reviews_no_emojis_duplicates"
   ]
  },
  {
   "cell_type": "code",
   "execution_count": 67,
   "id": "e88a3c03",
   "metadata": {},
   "outputs": [
    {
     "data": {
      "application/vnd.microsoft.datawrangler.viewer.v0+json": {
       "columns": [
        {
         "name": "index",
         "rawType": "int64",
         "type": "integer"
        },
        {
         "name": "Review_ID",
         "rawType": "object",
         "type": "string"
        },
        {
         "name": "Order_ID",
         "rawType": "object",
         "type": "string"
        },
        {
         "name": "Review_Score",
         "rawType": "int64",
         "type": "integer"
        },
        {
         "name": "Review_Comment_Title_En",
         "rawType": "object",
         "type": "string"
        },
        {
         "name": "Review_Comment_Message_En",
         "rawType": "object",
         "type": "string"
        },
        {
         "name": "Review_Creation_Date",
         "rawType": "object",
         "type": "string"
        },
        {
         "name": "Review_Answer_Timestamp",
         "rawType": "object",
         "type": "string"
        }
       ],
       "ref": "407ac329-e843-4812-a3e5-75090a512b61",
       "rows": [
        [
         "72812",
         "44d1e9165ec54b1d89d33594856af859",
         "a1d50a1883814a31c8629adf354c1013",
         "4",
         "No title",
         "I haven't installed it yet, I received it yesterday",
         "2023-05-24 00:00",
         "2023-05-24 23:15"
        ],
        [
         "99177",
         "44d1e9165ec54b1d89d33594856af859",
         "a7dbcf5043158d6fa72859eead2f3d10",
         "4",
         "No title",
         "Positive review without comment",
         "2023-05-24 00:00",
         "2023-05-24 23:15"
        ]
       ],
       "shape": {
        "columns": 7,
        "rows": 2
       }
      },
      "text/html": [
       "<div>\n",
       "<style scoped>\n",
       "    .dataframe tbody tr th:only-of-type {\n",
       "        vertical-align: middle;\n",
       "    }\n",
       "\n",
       "    .dataframe tbody tr th {\n",
       "        vertical-align: top;\n",
       "    }\n",
       "\n",
       "    .dataframe thead th {\n",
       "        text-align: right;\n",
       "    }\n",
       "</style>\n",
       "<table border=\"1\" class=\"dataframe\">\n",
       "  <thead>\n",
       "    <tr style=\"text-align: right;\">\n",
       "      <th></th>\n",
       "      <th>Review_ID</th>\n",
       "      <th>Order_ID</th>\n",
       "      <th>Review_Score</th>\n",
       "      <th>Review_Comment_Title_En</th>\n",
       "      <th>Review_Comment_Message_En</th>\n",
       "      <th>Review_Creation_Date</th>\n",
       "      <th>Review_Answer_Timestamp</th>\n",
       "    </tr>\n",
       "  </thead>\n",
       "  <tbody>\n",
       "    <tr>\n",
       "      <th>72812</th>\n",
       "      <td>44d1e9165ec54b1d89d33594856af859</td>\n",
       "      <td>a1d50a1883814a31c8629adf354c1013</td>\n",
       "      <td>4</td>\n",
       "      <td>No title</td>\n",
       "      <td>I haven't installed it yet, I received it yest...</td>\n",
       "      <td>2023-05-24 00:00</td>\n",
       "      <td>2023-05-24 23:15</td>\n",
       "    </tr>\n",
       "    <tr>\n",
       "      <th>99177</th>\n",
       "      <td>44d1e9165ec54b1d89d33594856af859</td>\n",
       "      <td>a7dbcf5043158d6fa72859eead2f3d10</td>\n",
       "      <td>4</td>\n",
       "      <td>No title</td>\n",
       "      <td>Positive review without comment</td>\n",
       "      <td>2023-05-24 00:00</td>\n",
       "      <td>2023-05-24 23:15</td>\n",
       "    </tr>\n",
       "  </tbody>\n",
       "</table>\n",
       "</div>"
      ],
      "text/plain": [
       "                              Review_ID                          Order_ID  \\\n",
       "72812  44d1e9165ec54b1d89d33594856af859  a1d50a1883814a31c8629adf354c1013   \n",
       "99177  44d1e9165ec54b1d89d33594856af859  a7dbcf5043158d6fa72859eead2f3d10   \n",
       "\n",
       "       Review_Score Review_Comment_Title_En  \\\n",
       "72812             4                No title   \n",
       "99177             4                No title   \n",
       "\n",
       "                               Review_Comment_Message_En Review_Creation_Date  \\\n",
       "72812  I haven't installed it yet, I received it yest...     2023-05-24 00:00   \n",
       "99177                    Positive review without comment     2023-05-24 00:00   \n",
       "\n",
       "      Review_Answer_Timestamp  \n",
       "72812        2023-05-24 23:15  \n",
       "99177        2023-05-24 23:15  "
      ]
     },
     "execution_count": 67,
     "metadata": {},
     "output_type": "execute_result"
    }
   ],
   "source": [
    "review_filtered = orders_reviews_no_emojis[orders_reviews_no_emojis['Review_ID'] == '44d1e9165ec54b1d89d33594856af859']\n",
    "review_filtered"
   ]
  },
  {
   "cell_type": "code",
   "execution_count": 68,
   "id": "e0e7a49b",
   "metadata": {},
   "outputs": [],
   "source": [
    "orders_reviews_no_emojis = orders_reviews_no_emojis.drop_duplicates(subset=['Review_ID'], keep='first')"
   ]
  },
  {
   "cell_type": "code",
   "execution_count": 69,
   "id": "5359eec2",
   "metadata": {},
   "outputs": [
    {
     "data": {
      "application/vnd.microsoft.datawrangler.viewer.v0+json": {
       "columns": [
        {
         "name": "index",
         "rawType": "int64",
         "type": "integer"
        },
        {
         "name": "Review_ID",
         "rawType": "object",
         "type": "string"
        },
        {
         "name": "Order_ID",
         "rawType": "object",
         "type": "string"
        },
        {
         "name": "Review_Score",
         "rawType": "int64",
         "type": "integer"
        },
        {
         "name": "Review_Comment_Title_En",
         "rawType": "object",
         "type": "string"
        },
        {
         "name": "Review_Comment_Message_En",
         "rawType": "object",
         "type": "string"
        },
        {
         "name": "Review_Creation_Date",
         "rawType": "object",
         "type": "string"
        },
        {
         "name": "Review_Answer_Timestamp",
         "rawType": "object",
         "type": "string"
        }
       ],
       "ref": "bbf475ce-be92-4603-90e1-f039a1bd9d7d",
       "rows": [],
       "shape": {
        "columns": 7,
        "rows": 0
       }
      },
      "text/html": [
       "<div>\n",
       "<style scoped>\n",
       "    .dataframe tbody tr th:only-of-type {\n",
       "        vertical-align: middle;\n",
       "    }\n",
       "\n",
       "    .dataframe tbody tr th {\n",
       "        vertical-align: top;\n",
       "    }\n",
       "\n",
       "    .dataframe thead th {\n",
       "        text-align: right;\n",
       "    }\n",
       "</style>\n",
       "<table border=\"1\" class=\"dataframe\">\n",
       "  <thead>\n",
       "    <tr style=\"text-align: right;\">\n",
       "      <th></th>\n",
       "      <th>Review_ID</th>\n",
       "      <th>Order_ID</th>\n",
       "      <th>Review_Score</th>\n",
       "      <th>Review_Comment_Title_En</th>\n",
       "      <th>Review_Comment_Message_En</th>\n",
       "      <th>Review_Creation_Date</th>\n",
       "      <th>Review_Answer_Timestamp</th>\n",
       "    </tr>\n",
       "  </thead>\n",
       "  <tbody>\n",
       "  </tbody>\n",
       "</table>\n",
       "</div>"
      ],
      "text/plain": [
       "Empty DataFrame\n",
       "Columns: [Review_ID, Order_ID, Review_Score, Review_Comment_Title_En, Review_Comment_Message_En, Review_Creation_Date, Review_Answer_Timestamp]\n",
       "Index: []"
      ]
     },
     "execution_count": 69,
     "metadata": {},
     "output_type": "execute_result"
    }
   ],
   "source": [
    "orders_reviews_no_emojis_duplicates = orders_reviews_no_emojis[orders_reviews_no_emojis.duplicated(subset=['Review_ID'], keep=False)]\n",
    "orders_reviews_no_emojis_duplicates"
   ]
  },
  {
   "cell_type": "markdown",
   "id": "667ca0bf",
   "metadata": {},
   "source": [
    "### Descubrimientos clave:\n",
    "- La columna `Review_Comment_Message_En` presentaba valores faltantes.  \n",
    "- La columna `Review_Comment_Title_En` también contenía valores nulos.  \n",
    "- Se detectaron posibles duplicados en `Review_ID`.  \n",
    "- Existían reseñas asociadas a órdenes que no estaban en la tabla `orders`.  \n",
    "\n",
    "### Transformaciones aplicadas:\n",
    "- **Imputación de comentarios faltantes:**  \n",
    "  En los casos donde `Review_Comment_Message_En` estaba vacío, se imputó un mensaje genérico dependiendo del puntaje de la reseña (`Review_Score`):  \n",
    "  - `>= 4`: *\"Positive review without comment\"*  \n",
    "  - `= 3`: *\"Neutral review without comment\"*  \n",
    "  - `< 3`: *\"Negative review without comment\"*  \n",
    "\n",
    "- **Imputación de títulos faltantes:**  \n",
    "  Los valores nulos en `Review_Comment_Title_En` se reemplazaron con `\"No title\"`.  \n",
    "\n",
    "- **Eliminación de duplicados:**  \n",
    "  Se eliminaron reseñas duplicadas, conservando la primera ocurrencia por `Review_ID`.  \n",
    "\n",
    "- **Filtrado de reseñas válidas:**  \n",
    "  Solo se conservaron las reseñas asociadas a órdenes presentes en la tabla `orders`, garantizando la integridad referencial.  \n"
   ]
  }
 ],
 "metadata": {
  "kernelspec": {
   "display_name": "venv",
   "language": "python",
   "name": "python3"
  },
  "language_info": {
   "codemirror_mode": {
    "name": "ipython",
    "version": 3
   },
   "file_extension": ".py",
   "mimetype": "text/x-python",
   "name": "python",
   "nbconvert_exporter": "python",
   "pygments_lexer": "ipython3",
   "version": "3.12.10"
  }
 },
 "nbformat": 4,
 "nbformat_minor": 5
}
